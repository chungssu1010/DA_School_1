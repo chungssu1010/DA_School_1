{
  "nbformat": 4,
  "nbformat_minor": 0,
  "metadata": {
    "colab": {
      "provenance": []
    },
    "kernelspec": {
      "name": "python3",
      "display_name": "Python 3"
    },
    "language_info": {
      "name": "python"
    }
  },
  "cells": [
    {
      "cell_type": "markdown",
      "source": [
        "#1. 함수_복습"
      ],
      "metadata": {
        "id": "h7wrSNOJMwbb"
      }
    },
    {
      "cell_type": "code",
      "source": [
        "# 함수 정의\n",
        "\n",
        "def add(x, y):\n",
        "\tvalue = x + y\n",
        "\treturn value\n",
        "\n",
        "add(3,4)"
      ],
      "metadata": {
        "colab": {
          "base_uri": "https://localhost:8080/"
        },
        "id": "0fG32qeaMy3F",
        "outputId": "552c0853-6560-4117-9b6f-dcd932608842"
      },
      "execution_count": null,
      "outputs": [
        {
          "output_type": "execute_result",
          "data": {
            "text/plain": [
              "7"
            ]
          },
          "metadata": {},
          "execution_count": 1
        }
      ]
    },
    {
      "cell_type": "code",
      "source": [
        "# 가장 선호\n",
        "x = add(3,4)\n",
        "print(x)"
      ],
      "metadata": {
        "colab": {
          "base_uri": "https://localhost:8080/"
        },
        "id": "4UJTflOXNfBk",
        "outputId": "8b4e6f66-7393-4172-f631-e0ebd175cd79"
      },
      "execution_count": null,
      "outputs": [
        {
          "output_type": "stream",
          "name": "stdout",
          "text": [
            "7\n"
          ]
        }
      ]
    },
    {
      "cell_type": "code",
      "source": [
        "print(add(3,4))"
      ],
      "metadata": {
        "colab": {
          "base_uri": "https://localhost:8080/"
        },
        "id": "HZvAGwwbNnzH",
        "outputId": "be94778f-5f11-47db-ff3b-a15f23a89e11"
      },
      "execution_count": null,
      "outputs": [
        {
          "output_type": "stream",
          "name": "stdout",
          "text": [
            "7\n"
          ]
        }
      ]
    },
    {
      "cell_type": "code",
      "source": [
        "# 위치 인수의 예시\n",
        "\n",
        "def sum_tax(price, unit, fee, tax_rate):\n",
        "  return price * unit + fee + tax_rate\n",
        "\n",
        "x = sum_tax(1000,2000,3000,4000)\n",
        "\n",
        "print(x)"
      ],
      "metadata": {
        "colab": {
          "base_uri": "https://localhost:8080/"
        },
        "id": "W2Pu7XtKNowx",
        "outputId": "ea0c871b-fe2f-43b9-887d-d772b654d4d0"
      },
      "execution_count": null,
      "outputs": [
        {
          "output_type": "stream",
          "name": "stdout",
          "text": [
            "2007000\n"
          ]
        }
      ]
    },
    {
      "cell_type": "code",
      "source": [
        "def sum_tax(price, unit, fee, tax_rate):\n",
        "  return price * unit + fee + tax_rate\n",
        "\n",
        "x = sum_tax(3000,1000,2000,4000)\n",
        "\n",
        "print(x)"
      ],
      "metadata": {
        "colab": {
          "base_uri": "https://localhost:8080/"
        },
        "id": "hKQtZSq8OkOP",
        "outputId": "021a731e-2e2c-4db5-850b-1e76201b6932"
      },
      "execution_count": null,
      "outputs": [
        {
          "output_type": "stream",
          "name": "stdout",
          "text": [
            "3006000\n"
          ]
        }
      ]
    },
    {
      "cell_type": "code",
      "source": [
        "# 키워드 인수 예제 \n",
        "x = sum_tax(price = 1000, unit = 2000,fee = 3000,tax_rate = 4000)\n",
        "\n",
        "print(x)"
      ],
      "metadata": {
        "colab": {
          "base_uri": "https://localhost:8080/"
        },
        "id": "HWQ3GEOfOoK4",
        "outputId": "f18727b5-9b10-402d-e68d-3598a39c76b1"
      },
      "execution_count": null,
      "outputs": [
        {
          "output_type": "stream",
          "name": "stdout",
          "text": [
            "2007000\n"
          ]
        }
      ]
    },
    {
      "cell_type": "code",
      "source": [
        "# 키워드 인수 + 위치 인수 예제 \n",
        "x = sum_tax(1000, 200, fee = 3000, 4000)\n",
        "\n",
        "print(x)"
      ],
      "metadata": {
        "colab": {
          "base_uri": "https://localhost:8080/",
          "height": 134
        },
        "id": "AQpWjl3_OvpX",
        "outputId": "5e22e3f8-5fcc-4f91-ed30-755e26906b48"
      },
      "execution_count": null,
      "outputs": [
        {
          "output_type": "error",
          "ename": "SyntaxError",
          "evalue": "ignored",
          "traceback": [
            "\u001b[0;36m  File \u001b[0;32m\"<ipython-input-9-18683a94770c>\"\u001b[0;36m, line \u001b[0;32m2\u001b[0m\n\u001b[0;31m    x = sum_tax(1000, 200, fee = 3000, 4000)\u001b[0m\n\u001b[0m                                           ^\u001b[0m\n\u001b[0;31mSyntaxError\u001b[0m\u001b[0;31m:\u001b[0m positional argument follows keyword argument\n"
          ]
        }
      ]
    },
    {
      "cell_type": "code",
      "source": [
        "# * arg의 예시\n",
        "\n",
        "def func(x, y , *args):\n",
        "  print(x)\n",
        "  print(y)\n",
        "  if args:\n",
        "    print(args)\n",
        "\n",
        "func(1, 2)\n",
        "\n",
        "# *args를 사용하면 3,4,5에 대해서 패킹한다.\n",
        "func(1,2,3,4,5)"
      ],
      "metadata": {
        "colab": {
          "base_uri": "https://localhost:8080/"
        },
        "id": "R62_i2XgOyTd",
        "outputId": "22bd366e-d234-40f5-abc9-ca87d9199816"
      },
      "execution_count": null,
      "outputs": [
        {
          "output_type": "stream",
          "name": "stdout",
          "text": [
            "1\n",
            "2\n",
            "1\n",
            "2\n",
            "(3, 4, 5)\n"
          ]
        }
      ]
    },
    {
      "cell_type": "code",
      "source": [
        "## **kwargs 예제 \n",
        "\n",
        "def func(x, y , **kwargs):\n",
        "  print(x)\n",
        "  print(y)\n",
        "  if kwargs:\n",
        "    print(kwargs)\n",
        "\n",
        "func(x = 1, y = 2, z = 3)\n",
        "print()\n",
        "# 딕셔너리 형태로 패킹\n",
        "func(x = 1,y = 2,z = 3,w = 4,r = 5)"
      ],
      "metadata": {
        "colab": {
          "base_uri": "https://localhost:8080/"
        },
        "id": "8v7N1o8pQBMp",
        "outputId": "a8fc2f5e-bdf5-4bbb-85a4-b85c5bc0b45e"
      },
      "execution_count": null,
      "outputs": [
        {
          "output_type": "stream",
          "name": "stdout",
          "text": [
            "1\n",
            "2\n",
            "{'z': 3}\n",
            "\n",
            "1\n",
            "2\n",
            "{'z': 3, 'w': 4, 'r': 5}\n"
          ]
        }
      ]
    },
    {
      "cell_type": "code",
      "source": [
        "# *과 **의 조합\n",
        "\n",
        "def func(a, *args, **kwargs):\n",
        "  print(a)\n",
        "  print(args)\n",
        "  print(kwargs)\n",
        "\n",
        "func(1, 100, 200 ,x = 1, y = 2)\n",
        "print()\n",
        "func(1, 100, 200, x = 1,y = 2,z = 3,w = 4,r = 5)"
      ],
      "metadata": {
        "colab": {
          "base_uri": "https://localhost:8080/"
        },
        "id": "HDve8Eh7Q4dj",
        "outputId": "328e4f51-f3ca-44b8-8772-05fb6c4d453d"
      },
      "execution_count": null,
      "outputs": [
        {
          "output_type": "stream",
          "name": "stdout",
          "text": [
            "1\n",
            "(100, 200)\n",
            "{'x': 1, 'y': 2}\n",
            "\n",
            "1\n",
            "(100, 200)\n",
            "{'x': 1, 'y': 2, 'z': 3, 'w': 4, 'r': 5}\n"
          ]
        }
      ]
    },
    {
      "cell_type": "code",
      "source": [
        "# 함수 바깥에서의 *와 **는 언패킹이 된다.\n",
        "\n",
        "# [리스트, 튜플 언패킹]\n",
        "\n",
        "def func(x, y, z):\n",
        "  print(x, y, z)\n",
        "  return x + y + z\n",
        "\n",
        "params = [1,2,3] # -> func(1,2,3)\n",
        "\n",
        "w = func(*params)\n",
        "print(w)"
      ],
      "metadata": {
        "colab": {
          "base_uri": "https://localhost:8080/"
        },
        "id": "5wVq_hqHR1aV",
        "outputId": "922422d3-cbfd-4269-8880-aef39d1e872d"
      },
      "execution_count": null,
      "outputs": [
        {
          "output_type": "stream",
          "name": "stdout",
          "text": [
            "1 2 3\n",
            "6\n"
          ]
        }
      ]
    },
    {
      "cell_type": "code",
      "source": [
        "# 딕셔너리 언패킹\n",
        "\n",
        "def func(x,y,z):\n",
        "  print(x,y,z)\n",
        "  return x + y+ z\n",
        "\n",
        "params = {\"x\" : 1, \"y\" : 2, \"z\" : 3} # -> func(1,2,3)\n",
        "w = func(**params)\n",
        "print(w)"
      ],
      "metadata": {
        "colab": {
          "base_uri": "https://localhost:8080/"
        },
        "id": "VuVIAynjSnP3",
        "outputId": "23bcbf5d-f606-4c45-ca2c-4169f124ac99"
      },
      "execution_count": null,
      "outputs": [
        {
          "output_type": "stream",
          "name": "stdout",
          "text": [
            "1 2 3\n",
            "6\n"
          ]
        }
      ]
    },
    {
      "cell_type": "code",
      "source": [
        "# 언패킹 결합\n",
        "\n",
        "def func(x,y,z,a,b):\n",
        "  print(x,y,z,a,b)\n",
        "  return x+y+z+a+b\n",
        "\n",
        "params1 = [1,2,3]\n",
        "params2 = {\"a\" : 4, \"b\" : 5}\n",
        "w = func(*params1, **params2)\n",
        "print(w)"
      ],
      "metadata": {
        "colab": {
          "base_uri": "https://localhost:8080/"
        },
        "id": "xReRnanETLeH",
        "outputId": "e1cba40d-1d83-481f-e9d5-f5d476a2785f"
      },
      "execution_count": null,
      "outputs": [
        {
          "output_type": "stream",
          "name": "stdout",
          "text": [
            "1 2 3 4 5\n",
            "15\n"
          ]
        }
      ]
    },
    {
      "cell_type": "code",
      "source": [
        "# 함수의 변수화\n",
        "\n",
        "def add_num(x,y):\n",
        "  return x+y\n",
        "\n",
        "f = add_num\n",
        "\n",
        "y = add_num(100,200)\n",
        "print(y)\n",
        "\n",
        "x = f(100,200)\n",
        "print(x)"
      ],
      "metadata": {
        "colab": {
          "base_uri": "https://localhost:8080/"
        },
        "id": "DtcX-zHFTRR5",
        "outputId": "4700716f-b582-4ecf-ce0a-ca827065448b"
      },
      "execution_count": null,
      "outputs": [
        {
          "output_type": "stream",
          "name": "stdout",
          "text": [
            "300\n",
            "300\n"
          ]
        }
      ]
    },
    {
      "cell_type": "code",
      "source": [
        "# 데코레이터\n",
        "def uppercase_decorator(func):\n",
        "    def wrapper():\n",
        "        result = func().upper()\n",
        "        return result\n",
        "    return wrapper\n",
        "\n",
        "def say_hello():\n",
        "    return \"hello\"\n",
        "\n",
        "print(say_hello())  # 출력: HELLO"
      ],
      "metadata": {
        "colab": {
          "base_uri": "https://localhost:8080/"
        },
        "id": "zPg3-WbQTnU3",
        "outputId": "fcd1e181-68f1-4144-c335-4e526a433377"
      },
      "execution_count": null,
      "outputs": [
        {
          "output_type": "stream",
          "name": "stdout",
          "text": [
            "hello\n"
          ]
        }
      ]
    },
    {
      "cell_type": "code",
      "source": [
        "def uppercase_decorator(func):\n",
        "    def wrapper():\n",
        "        result = func().upper()\n",
        "        return result\n",
        "    return wrapper\n",
        "\n",
        "@uppercase_decorator\n",
        "def say_hello():\n",
        "    return \"hello\"\n",
        "\n",
        "print(say_hello())  # 출력: HELLO"
      ],
      "metadata": {
        "colab": {
          "base_uri": "https://localhost:8080/"
        },
        "id": "1zLFMEfuUZcN",
        "outputId": "4d6f8931-d70c-4dd8-9905-4f3d239dc736"
      },
      "execution_count": null,
      "outputs": [
        {
          "output_type": "stream",
          "name": "stdout",
          "text": [
            "HELLO\n"
          ]
        }
      ]
    },
    {
      "cell_type": "code",
      "source": [
        "# 제너레이터 예시\n",
        "\n",
        "# 파이썬에서는 제너레이터라는 기능도 제공합니다. \n",
        "# 제너레이터를 사용하면 함수를 처리하는 도중에 잠시 중단하고, \n",
        "# 값을 반환할 수 있으며, 이를 yield라고도 부릅니다. \n",
        "# 이후 필요에 따라 처리를 할 수도 있습니다.\n",
        "\n",
        "# 제너레이터 함수의 반환값은 generator 타입 변수입니다. \n",
        "# 제너레이터 객체는 next함수를 이용해 다음 값을 반환할 수 있습니다."
      ],
      "metadata": {
        "id": "7mjEBWgmYqwD"
      },
      "execution_count": null,
      "outputs": []
    },
    {
      "cell_type": "code",
      "source": [
        "def sample_generator():\n",
        "  \"\"\"제너레이터 함수\"\"\"\n",
        "  print(\"처리 시작\")\n",
        "  print(\"처리 재개\")\n",
        "  print(\"처리 재개\")\n",
        "\n",
        "gen_obj = sample_generator() #제너레이터 객체 생성"
      ],
      "metadata": {
        "colab": {
          "base_uri": "https://localhost:8080/"
        },
        "id": "M2mORpPgZqwf",
        "outputId": "8cdec820-646d-4f15-b5df-3437ac35050b"
      },
      "execution_count": null,
      "outputs": [
        {
          "output_type": "stream",
          "name": "stdout",
          "text": [
            "처리 시작\n",
            "처리 재개\n",
            "처리 재개\n"
          ]
        }
      ]
    },
    {
      "cell_type": "code",
      "source": [
        "def sample_generator():\n",
        "  \"\"\"제너레이터 함수\"\"\"\n",
        "  print(\"처리 시작\")\n",
        "  yield \"아침 먹자\"\n",
        "  print(\"처리 재개\")\n",
        "  yield \"점심 먹자\"\n",
        "  print(\"처리 재개\")\n",
        "  yield \"저녁 먹자\"\n",
        "\n",
        "gen_obj = sample_generator() #제너레이터 객체 생성\n",
        "print(next(gen_obj))"
      ],
      "metadata": {
        "colab": {
          "base_uri": "https://localhost:8080/"
        },
        "id": "XmlBTX3cZjPC",
        "outputId": "b7720a39-8460-47fd-f8a9-b69e333a7e36"
      },
      "execution_count": null,
      "outputs": [
        {
          "output_type": "stream",
          "name": "stdout",
          "text": [
            "처리 시작\n",
            "아침 먹자\n"
          ]
        }
      ]
    },
    {
      "cell_type": "code",
      "source": [
        "print(next(gen_obj))"
      ],
      "metadata": {
        "colab": {
          "base_uri": "https://localhost:8080/"
        },
        "id": "Hla0g4fnZx6e",
        "outputId": "8f847bbc-6022-4ff8-f360-f70e9db498aa"
      },
      "execution_count": null,
      "outputs": [
        {
          "output_type": "stream",
          "name": "stdout",
          "text": [
            "처리 재개\n",
            "점심 먹자\n"
          ]
        }
      ]
    },
    {
      "cell_type": "code",
      "source": [
        "print(next(gen_obj))"
      ],
      "metadata": {
        "colab": {
          "base_uri": "https://localhost:8080/"
        },
        "id": "gh1CxTN0Z0Km",
        "outputId": "adfb2750-71bd-4a51-81a2-de090eec8dfa"
      },
      "execution_count": null,
      "outputs": [
        {
          "output_type": "stream",
          "name": "stdout",
          "text": [
            "처리 재개\n",
            "저녁 먹자\n"
          ]
        }
      ]
    },
    {
      "cell_type": "code",
      "source": [
        "# next로 호출될때까지 실행이 중단되는것을 볼 수 있습니다. \n",
        "# 그리고 다시 next로 실행하면 yield가 실행되는것까지 재개되는것을 볼 수 있습니다. "
      ],
      "metadata": {
        "id": "5ZetWtwQZ1aX"
      },
      "execution_count": null,
      "outputs": []
    },
    {
      "cell_type": "markdown",
      "source": [
        "# 클래스 복습"
      ],
      "metadata": {
        "id": "NaMKXdWaapzR"
      }
    },
    {
      "cell_type": "code",
      "source": [
        "class 클래스명:\n",
        "  def __init__(self, 인수):\n",
        "    self.인수 = 인수\n",
        "    self.인수1 = 인수1\n",
        "\n",
        "  def 메서드명(self,인수):\n",
        "    메서드 행동"
      ],
      "metadata": {
        "id": "pKQREiMSargs"
      },
      "execution_count": null,
      "outputs": []
    },
    {
      "cell_type": "code",
      "source": [
        "# 객체 = 클래스명(인수) - 객체 생성\n",
        "# 객체.인스턴스변수 인스턴스변수에 접근\n",
        "# 객체.메서드명(인수) 메서드 호출"
      ],
      "metadata": {
        "id": "OHVkX_5Jb3sW"
      },
      "execution_count": null,
      "outputs": []
    },
    {
      "cell_type": "code",
      "source": [
        "# 클래스 예시\n",
        "class User:\n",
        "\n",
        "  def __init__(self, name, mail):\n",
        "    \"\"\" 초기화 처리\"\"\"\n",
        "    self.name = name\n",
        "    self.mail = mail\n",
        "\n",
        "  def print_user_info(self):\n",
        "    \"\"\" 사용자 정보를 Print로 출력\"\"\"\n",
        "    print(self.name) \n",
        "    print(self.mail)"
      ],
      "metadata": {
        "id": "Iqo0tAg5cDfY"
      },
      "execution_count": null,
      "outputs": []
    },
    {
      "cell_type": "code",
      "source": [
        "# 객체 생성\n",
        "# 객체 = 클래스명(인수) - 객체 생성\n",
        "user = User(\"User1\", \"222@naver.com\")"
      ],
      "metadata": {
        "id": "7raieCHIcgcl"
      },
      "execution_count": null,
      "outputs": []
    },
    {
      "cell_type": "code",
      "source": [
        "# 인스턴스 변수 호출\n",
        "user.mail"
      ],
      "metadata": {
        "colab": {
          "base_uri": "https://localhost:8080/",
          "height": 36
        },
        "id": "Up7svtXXcy0-",
        "outputId": "92e4b16e-9722-4f1d-aab9-2a019aedfa5c"
      },
      "execution_count": null,
      "outputs": [
        {
          "output_type": "execute_result",
          "data": {
            "text/plain": [
              "'222@naver.com'"
            ],
            "application/vnd.google.colaboratory.intrinsic+json": {
              "type": "string"
            }
          },
          "metadata": {},
          "execution_count": 43
        }
      ]
    },
    {
      "cell_type": "code",
      "source": [
        "#메서드 호출\n",
        "user.print_user_info()"
      ],
      "metadata": {
        "colab": {
          "base_uri": "https://localhost:8080/"
        },
        "id": "fYAa7Z3zc5td",
        "outputId": "8e2047f0-3ca2-4375-9881-2a48544099b9"
      },
      "execution_count": null,
      "outputs": [
        {
          "output_type": "stream",
          "name": "stdout",
          "text": [
            "User1\n",
            "222@naver.com\n"
          ]
        }
      ]
    },
    {
      "cell_type": "code",
      "source": [
        "#인스턴스 변수 갱신\n",
        "user.name = \"User2\"\n",
        "#메서드 재호출 - 갱신 확인\n",
        "user.print_user_info()"
      ],
      "metadata": {
        "colab": {
          "base_uri": "https://localhost:8080/"
        },
        "id": "hoScNp9bdQ-Y",
        "outputId": "ac7f676f-a631-4b5d-db89-812dfc7d74ff"
      },
      "execution_count": null,
      "outputs": [
        {
          "output_type": "stream",
          "name": "stdout",
          "text": [
            "User2\n",
            "222@naver.com\n"
          ]
        }
      ]
    },
    {
      "cell_type": "code",
      "source": [
        "# 클래스 예시\n",
        "class User:\n",
        "\n",
        "  def __init__(self, name, mail):\n",
        "    \"\"\" 초기화 처리\"\"\"\n",
        "    self.name = name\n",
        "    self.mail = mail\n",
        "\n",
        "  def print_user_info(self, address):\n",
        "    \"\"\" 사용자 정보를 Print로 출력\"\"\"\n",
        "    print(self.name) \n",
        "    print(self.mail)\n",
        "    print(address)"
      ],
      "metadata": {
        "id": "RmBb-kZ6dVA3"
      },
      "execution_count": null,
      "outputs": []
    },
    {
      "cell_type": "code",
      "source": [
        "# 객체 생성\n",
        "# 객체 = 클래스명(인수) - 객체 생성\n",
        "user = User(\"User1\", \"222@naver.com\")"
      ],
      "metadata": {
        "id": "wCc9vTgEdZyh"
      },
      "execution_count": null,
      "outputs": []
    },
    {
      "cell_type": "code",
      "source": [
        "user.print_user_info('서울특별시')"
      ],
      "metadata": {
        "colab": {
          "base_uri": "https://localhost:8080/"
        },
        "id": "bXCGmhAxdbNs",
        "outputId": "4c8d6ea6-6350-470c-e4f1-8daf425f91bf"
      },
      "execution_count": null,
      "outputs": [
        {
          "output_type": "stream",
          "name": "stdout",
          "text": [
            "User1\n",
            "222@naver.com\n",
            "서울특별시\n"
          ]
        }
      ]
    },
    {
      "cell_type": "code",
      "source": [
        "# 클래스 상속\n",
        "\n",
        "class 클래스명(상속할 클래스)\n",
        "  def __init__(self, 인수):\n",
        "    super().__init__(인수)\n",
        "    상속받은 클래스에서의 초기화처리"
      ],
      "metadata": {
        "id": "WbRKDZoTdcwo"
      },
      "execution_count": null,
      "outputs": []
    },
    {
      "cell_type": "code",
      "source": [
        "# 부모 클래스\n",
        "class User:\n",
        "\n",
        "  def __init__(self, name, mail):\n",
        "    \"\"\" 초기화 처리\"\"\"\n",
        "    self.name = name\n",
        "    self.mail = mail\n",
        "\n",
        "  def print_user_info(self):\n",
        "    \"\"\" 사용자 정보를 Print로 출력\"\"\"\n",
        "    print(self.name)\n",
        "    print(self.mail)"
      ],
      "metadata": {
        "id": "N6vWB0LteVTJ"
      },
      "execution_count": null,
      "outputs": []
    },
    {
      "cell_type": "code",
      "source": [
        "# 상속 받을 자녀 클래스\n",
        "class StudentUser(User): # StudentUser가 상속 받음\n",
        "\n",
        "  def __init__(self, name, mail, grade):\n",
        "    # 자녀클래스에서도 __init__을 통해서 초기화 메서드를 생성하려면\n",
        "    # super().__init__(인자)\n",
        "    super().__init__(name, mail)\n",
        "    self.grade = grade\n",
        "\n",
        "  def answer_question(self):\n",
        "    print(\"문제에 대답합니다.\")\n",
        "\n",
        "  def print_grade(self):\n",
        "    print(self.grade, self.name, self.mail)"
      ],
      "metadata": {
        "id": "f8gFqhuFecIg"
      },
      "execution_count": null,
      "outputs": []
    },
    {
      "cell_type": "code",
      "source": [
        "student = StudentUser(\"Student1\", \"Student1@1.1\", 3)"
      ],
      "metadata": {
        "id": "WMOPhQ8ffOlT"
      },
      "execution_count": null,
      "outputs": []
    },
    {
      "cell_type": "code",
      "source": [
        "#상속받은 User메서드 실행\n",
        "student.print_user_info()"
      ],
      "metadata": {
        "colab": {
          "base_uri": "https://localhost:8080/"
        },
        "id": "IMYQqUzZfQ8K",
        "outputId": "41b19019-ee09-4c69-f0a7-26164d990cdd"
      },
      "execution_count": null,
      "outputs": [
        {
          "output_type": "stream",
          "name": "stdout",
          "text": [
            "Student1\n",
            "Student1@1.1\n"
          ]
        }
      ]
    },
    {
      "cell_type": "code",
      "source": [
        "#StudentUser메서드 실행\n",
        "student.answer_question()\n",
        "student.print_grade()"
      ],
      "metadata": {
        "colab": {
          "base_uri": "https://localhost:8080/"
        },
        "id": "6YmS-m_4fU-7",
        "outputId": "8d81fd75-9974-440a-8487-c8593d5a9deb"
      },
      "execution_count": null,
      "outputs": [
        {
          "output_type": "stream",
          "name": "stdout",
          "text": [
            "문제에 대답합니다.\n",
            "3 Student1 Student1@1.1\n"
          ]
        }
      ]
    },
    {
      "cell_type": "code",
      "source": [
        "# 메서드 종류"
      ],
      "metadata": {
        "id": "hf1ZX77XfjVX"
      },
      "execution_count": null,
      "outputs": []
    },
    {
      "cell_type": "markdown",
      "source": [
        "인스턴스 메서드 - self로 설정한 클래스 기본 메서드 인스턴스 변수와 클래스변수에 접근가능\n",
        "\n",
        "클래스 메서드 - 인스턴스를 생성하지 않고 접근할 수 있는 메서드로 클래스 변수에 접근할 수 있지만 인스턴스 변수에는 접근할 수 없다. \n",
        "\n",
        "클래스 메서드를 정의할때는 @classmethod 데커레이터를 추가합니다. 그리고 첫번째 인수에 클래스 객체가 자동으로 설정됩니다.\n",
        "\n",
        "정적 메서드 - 클래스 메서드와 동일하게 인스턴스를 생성하지 않고 접근할 수 있지만 인스턴스 변수와 클래스변수 모두에 접근할 수 없습니다. @staticmethod 데커레이터를 추가하며, 실질적으로 함수와 같은것이라고 보면되는데, 함수를 적절한 클래스에 포함시키는 편이 설계상으로 바람직할때 사용합니다."
      ],
      "metadata": {
        "id": "ePIeKEILf3io"
      }
    },
    {
      "cell_type": "code",
      "source": [
        "# 비공개 메서드\n",
        "\n",
        "# 팀 단위의 개발에서 객체 지향 방식으로 구현할때는 \n",
        "# 변수 및 메서드를 외부에서 조작하지 못하도록 해야할때가 있다. \n",
        "# 변수나 메서드 앞에 __를 2개 사용해서 접근을 막을 수 있다.\n",
        "\n",
        "class Sample():\n",
        "  def __init__(self, val1):\n",
        "    self.instance_val1 = val1\n",
        "\n",
        "  def private_method(self):\n",
        "    print(self.instance_val1)\n",
        "\n",
        "s = Sample(10)"
      ],
      "metadata": {
        "id": "5fTedJjDf3C6"
      },
      "execution_count": null,
      "outputs": []
    },
    {
      "cell_type": "code",
      "source": [
        "# 특수 메서드"
      ],
      "metadata": {
        "id": "oVWnLlavh2Sl"
      },
      "execution_count": null,
      "outputs": []
    },
    {
      "cell_type": "code",
      "source": [
        "# str 메서드 - 객체 표시용 문자열\n",
        "# repr 메서드 - 객체 정보를 나타내는 문자열"
      ],
      "metadata": {
        "id": "AjNn4uYniFRq"
      },
      "execution_count": null,
      "outputs": []
    },
    {
      "cell_type": "code",
      "source": [
        "class User:\n",
        "  def __init__(self, name, mail):\n",
        "    self.name = name\n",
        "    self.mail = mail\n",
        "\n",
        "  def __str__(self):\n",
        "    return self.name + self.mail\n",
        "\n",
        "  def __repr__(self):\n",
        "    return str({'name' : self.name, 'mail' : self.mail})\n",
        "\n",
        "user = User(\"홍길동\", \"happy@naever.com\")\n",
        "print(user)\n",
        "print(repr(user))"
      ],
      "metadata": {
        "colab": {
          "base_uri": "https://localhost:8080/"
        },
        "id": "4GKCZQKEiIvl",
        "outputId": "a9261354-fdd2-41ff-c818-66af2b3dc7b5"
      },
      "execution_count": null,
      "outputs": [
        {
          "output_type": "stream",
          "name": "stdout",
          "text": [
            "홍길동happy@naever.com\n",
            "{'name': '홍길동', 'mail': 'happy@naever.com'}\n"
          ]
        }
      ]
    },
    {
      "cell_type": "markdown",
      "source": [
        "# 정규표현식"
      ],
      "metadata": {
        "id": "reTq5nXvnZQt"
      }
    },
    {
      "cell_type": "code",
      "source": [
        "# 정규표현식 기본\n",
        "\n",
        "# re -> 모듈을 불러와야 수행가능\n",
        "import re\n",
        "\n",
        "# [raw 문자열 사용]\n",
        "\n",
        "# 파이썬에서는 정규표현식 문자열을 사용할때 이스케이프가 필요한 메타문자가 있다. \n",
        "# 그래서 raw문자 사용을 권한다.\n",
        "\n",
        "# 만약 \\my-host\\라는 문자가 있는 경우\\\n",
        "# raw문자열이 없으면 \\\\\\\\my-host\\\\\\\\가 되지만\n",
        "# raw문자열을 사용하면 \\\\my-host\\\\가 된다.  앞에 r을 붙이면 된다."
      ],
      "metadata": {
        "id": "BIy6ONIXiRFj"
      },
      "execution_count": null,
      "outputs": []
    },
    {
      "cell_type": "code",
      "source": [
        "# findall\n",
        "\n",
        "# 지정한 정규표현식에 일치하는 문자열을 리스트로 반환\n",
        "# findall 함수를 사용하면 지정한 조건에 일치하는 문자열을 리스트로 얻을 수 있습니다."
      ],
      "metadata": {
        "id": "eXZhVCmVoK5R"
      },
      "execution_count": null,
      "outputs": []
    },
    {
      "cell_type": "code",
      "source": [
        "import re\n",
        "\n",
        "text1 = \"In the face of ambiguity, refuse the temptation to guess\"\n",
        "match_list = re.findall(r\"t.\", text1)\n",
        "#2글자를 찾되 첫글자가 t\n",
        "\n",
        "print(match_list)"
      ],
      "metadata": {
        "colab": {
          "base_uri": "https://localhost:8080/"
        },
        "id": "3vJ5QbETopsV",
        "outputId": "11b02fae-1491-4c04-dbd9-7e613896d152"
      },
      "execution_count": null,
      "outputs": [
        {
          "output_type": "stream",
          "name": "stdout",
          "text": [
            "['th', 'ty', 'th', 'te', 'ta', 'ti', 'to']\n"
          ]
        }
      ]
    },
    {
      "cell_type": "code",
      "source": [
        "# sub\n",
        "\n",
        "# 정규표현식으로 치환한 값을 반영하여 문자열을 반환\n",
        "\n",
        "import re\n",
        "\n",
        "text = \"Beautiful is better than ugly\"\n",
        "#sub(대체 해야할 문자 / 대체 할 문자 / 데이터)\n",
        "replaced = re.sub(r\" \", \"_\", text) #공백문자는 \\s로도 쓰입니다.\n",
        "print(replaced)"
      ],
      "metadata": {
        "colab": {
          "base_uri": "https://localhost:8080/"
        },
        "id": "PH0diX0Koz6n",
        "outputId": "e31e0cc0-e67e-4ad9-ad66-5d7735ab30f3"
      },
      "execution_count": null,
      "outputs": [
        {
          "output_type": "stream",
          "name": "stdout",
          "text": [
            "Beautiful_is_better_than_ugly\n"
          ]
        }
      ]
    },
    {
      "cell_type": "code",
      "source": [
        "# split\n",
        "\n",
        "# 정규 표현식에 일치한 위치에서 분할한 문자열 리스트를 반환"
      ],
      "metadata": {
        "id": "XMwKXrsGpZ7Q"
      },
      "execution_count": null,
      "outputs": []
    },
    {
      "cell_type": "code",
      "source": [
        "# 정규표현식으로 텍스트 분할하기\n",
        "\n",
        "# split함수를 사용하면 정규 표현식에 일치한 위치에서 분할한 문자열 리스트를 얻을 수 있습니다.\n",
        "\n",
        "text = 'Simple is Best'\n",
        "# ^ -> 문자의 시작 \n",
        "# + 직전 정규표현식을 1회이상 반복\n",
        "replaced = re.split((r\"[^a-zA-Z]+\"), text)\n",
        "print(replaced)\n",
        "\n",
        "#[^a-zA-Z0-9]+는 정규 표현식(regular expression)에서 사용되는 특수한 패턴으로, \n",
        "#알파벳 대소문자와 숫자가 아닌 문자들이 하나 이상 연속해서 나타나는 경우를 의미합니다.\n",
        "# 결국 공백을 구분자로 해서 분리"
      ],
      "metadata": {
        "colab": {
          "base_uri": "https://localhost:8080/"
        },
        "id": "2NkUqC_kpw6W",
        "outputId": "5a7ca2d8-09ff-4aad-9f12-285575cf2219"
      },
      "execution_count": null,
      "outputs": [
        {
          "output_type": "stream",
          "name": "stdout",
          "text": [
            "['Simple', 'is', 'Best']\n"
          ]
        }
      ]
    },
    {
      "cell_type": "code",
      "source": [],
      "metadata": {
        "id": "0lDa6GTiry2C"
      },
      "execution_count": null,
      "outputs": []
    },
    {
      "cell_type": "code",
      "source": [
        "# 정규표현식으로 텍스트 분할하기\n",
        "\n",
        "# split함수를 사용하면 정규 표현식에 일치한 위치에서 분할한 문자열 리스트를 얻을 수 있습니다.\n",
        "\n",
        "text = 'Simple is Best'\n",
        "# ^ -> 문자의 시작 \n",
        "# + 직전 정규표현식을 1회이상 반복\n",
        "replaced = re.split((r\"[^a-zA-Z]+\"), text)\n",
        "print(replaced)\n",
        "\n",
        "#[^a-zA-Z0-9]+는 정규 표현식(regular expression)에서 사용되는 특수한 패턴으로, \n",
        "#알파벳 대소문자와 숫자가 아닌 문자들이 하나 이상 연속해서 나타나는 경우를 의미합니다.\n",
        "# 결국 공백을 구분자로 해서 분리"
      ],
      "metadata": {
        "id": "qEm71cC_qLrO"
      },
      "execution_count": null,
      "outputs": []
    },
    {
      "cell_type": "code",
      "source": [],
      "metadata": {
        "id": "5uCCKusSsHtf"
      },
      "execution_count": null,
      "outputs": []
    },
    {
      "cell_type": "code",
      "source": [
        "# 정규표현식의 그룹은 데이터 분석 할때 자주 사용하는 기능으로\n",
        "# 원하는 객체를 그루핑할 수 있다라는 장점이 있습니다.\n",
        "\n",
        "# 제품 -> [0-9]+\n",
        "# 카탈로그 코드 [0-9A-Z]+\n",
        "# 제품명 .*\n",
        "# 구분 문자 공백\n",
        "\n",
        "# ([0-9]+) +([ 0-9 A-Z]+) +(.*)\n",
        "\n",
        "#홈쇼핑#\n",
        "text = \"\"\"\n",
        "101 CF001 커피 \n",
        "102 CF002 커피(대용량)\n",
        "201 TE01 홍차\n",
        "202 TE02 홍차(대용량)\n",
        "\"\"\"\n",
        "#group 1 \n",
        "#group 2\n",
        "#group 3\n",
        "items = re.findall(r'([0-9]+) +([ 0-9 A-Z]+) +(.*)', text)\n",
        "print(items)"
      ],
      "metadata": {
        "colab": {
          "base_uri": "https://localhost:8080/"
        },
        "id": "ucruCV4tsHnh",
        "outputId": "ac21192a-79ad-404e-b7a6-8785ed63ab52"
      },
      "execution_count": null,
      "outputs": [
        {
          "output_type": "stream",
          "name": "stdout",
          "text": [
            "[('101', 'CF001', '커피 '), ('102', 'CF002', '커피(대용량)'), ('201', 'TE01', '홍차'), ('202', 'TE02', '홍차(대용량)')]\n"
          ]
        }
      ]
    },
    {
      "cell_type": "code",
      "source": [
        "# 정규표현식 일치하는 부분 확인\n",
        "\n",
        "# search함수 - 정규표현식과 일치하는 첫번째 위치정보가 저장된 Match객체를 반환"
      ],
      "metadata": {
        "id": "8NXGgaLksnkG"
      },
      "execution_count": null,
      "outputs": []
    },
    {
      "cell_type": "code",
      "source": [
        "# 정규표현식과 일치하는 부분 확인\n",
        "\n",
        "# re 모듈의 serach함수는 정규표현식과 일치하는 첫 번째 위치 정보가 저장된 Match 객체를 반환\n",
        "# Match 객체를 사용하면 일치하는 위치의 문자열과 함께 시작 및 종료 위치 정보 확보 가능\n",
        "\n",
        "# match객체\n",
        "# start , end , group, groups 튜플 그룹\n",
        "\n",
        "import re\n",
        "\n",
        "text = 'Error should never pass silently'\n",
        "\n",
        "m_obj = re.search(r\"p...\", text)\n",
        "\n",
        "print(m_obj.group()) # 일치 문자열 ()로 묶인 것인 없음\n",
        "print(m_obj.start()) # 시작 인덱스\n",
        "print(m_obj.end()) # 끝 인덱스"
      ],
      "metadata": {
        "colab": {
          "base_uri": "https://localhost:8080/"
        },
        "id": "OJ1qo2yxs3n5",
        "outputId": "0bb0feb9-1ffe-4bf9-fd82-60a077987ae2"
      },
      "execution_count": null,
      "outputs": [
        {
          "output_type": "stream",
          "name": "stdout",
          "text": [
            "pass\n",
            "19\n",
            "23\n"
          ]
        }
      ]
    },
    {
      "cell_type": "code",
      "source": [
        "import re\n",
        "\n",
        "text = 'Errors should never pass silently'\n",
        "# 1번 그룹 - n.... n다음에 4글자가 아무거나\n",
        "# 2번 그룹 - P... n다음에 3글자가 아무거나\n",
        "\n",
        "m_obj = re.search(r\"(n....) (p...)\", text)\n",
        "print(m_obj.group())\n",
        "print(m_obj.groups())\n",
        "\n",
        "print(m_obj.start()) # 시작 인덱스\n",
        "print(m_obj.end()) # 끝 인덱스"
      ],
      "metadata": {
        "colab": {
          "base_uri": "https://localhost:8080/"
        },
        "id": "JegKZ5iztEv7",
        "outputId": "71b3476f-3a2e-4a13-845d-2139d6d442c3"
      },
      "execution_count": null,
      "outputs": [
        {
          "output_type": "stream",
          "name": "stdout",
          "text": [
            "never pass\n",
            "('never', 'pass')\n",
            "14\n",
            "24\n"
          ]
        }
      ]
    },
    {
      "cell_type": "code",
      "source": [
        "# Greedy Lazy"
      ],
      "metadata": {
        "id": "G1wGoDWztZbn"
      },
      "execution_count": null,
      "outputs": []
    },
    {
      "cell_type": "code",
      "source": [
        "# Greedy, Lazy 사용하기\n",
        "# 정규표현식이 패턴에 일치하는 문자열을 추출할때\n",
        "# 일치하는 최대한의 범위를 추출하는 상태를 greedy(탐욕)이라고 한다.\n",
        "\n",
        "# 최소한은  Lazy라고 하는데 파이썬은 기본적으로 greedy하지만\n",
        "# ?를 붙이는 순간 Lazy해진다. \n",
        "\n",
        "import re\n",
        "\n",
        "text = 'In the face of ambiguity, refuse the temptation to guess'\n",
        "\n",
        "match_list = re.findall(r\"t.*\\s\", text) # t에서 아무문자나 해서 직전까지 0번 반복되어 공백까지\n",
        "print(match_list)\n",
        "\n",
        "# ?를 붙이면 t에서 가장 가까운 공백까지만 일치하는 것을 찾는 것을 볼 수 있음"
      ],
      "metadata": {
        "colab": {
          "base_uri": "https://localhost:8080/"
        },
        "id": "ViMuk6_mtm-K",
        "outputId": "fa68aa67-41f4-4647-9a09-0109803c8d93"
      },
      "execution_count": null,
      "outputs": [
        {
          "output_type": "stream",
          "name": "stdout",
          "text": [
            "['the face of ambiguity, refuse the temptation to ']\n"
          ]
        }
      ]
    },
    {
      "cell_type": "code",
      "source": [
        "import re\n",
        "\n",
        "text = 'In the face of ambiguity, refuse the temptation to guess'\n",
        "\n",
        "match_list = re.findall(r\"t.*?\\s\", text) # t에서 아무문자나 해서 직전까지 0번 반복되어 공백까지\n",
        "print(match_list)"
      ],
      "metadata": {
        "colab": {
          "base_uri": "https://localhost:8080/"
        },
        "id": "Ohqkfl67t1y8",
        "outputId": "228d74c1-9b5a-453b-fa04-1bc276e7ee49"
      },
      "execution_count": null,
      "outputs": [
        {
          "output_type": "stream",
          "name": "stdout",
          "text": [
            "['the ', 'ty, ', 'the ', 'temptation ', 'to ']\n"
          ]
        }
      ]
    },
    {
      "cell_type": "code",
      "source": [],
      "metadata": {
        "id": "dMJsSlcJuJre"
      },
      "execution_count": null,
      "outputs": []
    },
    {
      "cell_type": "code",
      "execution_count": null,
      "metadata": {
        "id": "vRM3rxPgv5Aj"
      },
      "outputs": [],
      "source": [
        "[모듈이란?]\n",
        "\n",
        "파이썬에서 이미 작성된 프로그램을 모듈이라고 생각하면 쉬움\n",
        "그 프로그램의 묶음은 패키지이다.\n",
        "\n",
        "쉬운 예로 레고블럭 하나하나가 모듈이라고 생각하면 되고 그것이 모여 하나의 큰 모듈 및 패키지 완성품을 만들 수 있고, \n",
        "이러한 개념은 스마트폰이나 자동차등 생활 곳곳에서 볼 수 있음\n",
        "\n",
        "그러면 프로그래밍에서의 모듈은 무엇일까? -> 작은 프로그램의 조각을 뜻한다. 각 모듈은 저마다의 역할이 있다.\n",
        "\n",
        "우리는 이미 많은 모듈을 사용했었다. random 모듈 time 모듈 등 import를 해서 사용이 가능하고 기본적으로 파이썬에 내장되어있는 모듈을 위주로 사용했었다."
      ]
    },
    {
      "cell_type": "code",
      "source": [
        "[패키지란?]\n",
        "\n",
        "# 패키지란?\n",
        "\n",
        "패키지는 쉽게 모듈의 묶음이다. from을 통해 모듈을 호출하는 경우가 있었는데\n",
        "이는 패키지는 출력하기 위한 수단이다.\n",
        "\n",
        "하나의 패키지 안에는 보통 여러 모듈이 있다.\n",
        "\n",
        "여러분들도 좋은 패키지가 많이 구현이 되어있기 때문에 앞으로 그런 패키지를 공부할것이고 데이터 분석에 활용할것임\n",
        "\n",
        "여러분들도 그러한 패키지를 만들어서 사회에 공헌했으면 하는 바램도 있음\n",
        "\n",
        "그러면 일단 우리가 사용했던 모듈과 더 살펴봐야할 모듈을 배워보고, 모듈을 직접 만들어 보자!!"
      ],
      "metadata": {
        "id": "DLLJYR-LDqIl"
      },
      "execution_count": null,
      "outputs": []
    },
    {
      "cell_type": "markdown",
      "source": [
        "## 1.1 모듈과 패키지 사용하는 법\n",
        "\n",
        "지금까지 파이썬 코드를 작성하면서 input, print 등의 내장 함수(built-in function)를 주로 사용했는데, 내장 함수만으로는 할 수 있는게 별로 없습니다. 그래서 좀 더 복잡한 프로그램을 만들려면 파이썬의 모듈과 패키지를 사용해야 합니다. 우리가 책 중간 중간에 사용했던 random, turtle, pickle 등이 바로 모듈과 패키지입니다.\n",
        "\n",
        "모듈(module)은 각종 변수, 함수, 클래스를 담고 있는 파일이고, 패키지(package)는 여러 모듈을 묶은 것입니다. 파이썬을 설치할 때 다양한 모듈과 패키지가 기본으로 설치됩니다. 만약 기본 모듈과 패키지로 부족하다면 다른 사람이 만든 유명 모듈과 패키지를 설치해서 쓸 수도 있습니다."
      ],
      "metadata": {
        "id": "1SJvCKkaD6Jv"
      }
    },
    {
      "cell_type": "code",
      "source": [
        "# 모듈 예시 - 1\n",
        "import math \n",
        "\n",
        "math.pi"
      ],
      "metadata": {
        "colab": {
          "base_uri": "https://localhost:8080/"
        },
        "id": "6B8tzcyjD6oT",
        "outputId": "7d9f4154-ce4c-4695-dae7-eebfddbe32b6"
      },
      "execution_count": null,
      "outputs": [
        {
          "output_type": "execute_result",
          "data": {
            "text/plain": [
              "3.141592653589793"
            ]
          },
          "metadata": {},
          "execution_count": 1
        }
      ]
    },
    {
      "cell_type": "code",
      "source": [
        "math.sqrt(4)"
      ],
      "metadata": {
        "colab": {
          "base_uri": "https://localhost:8080/"
        },
        "id": "Q-Kb4xPzEZQM",
        "outputId": "41851b1e-42b1-494e-b1cb-b5b77dbd3326"
      },
      "execution_count": null,
      "outputs": [
        {
          "output_type": "execute_result",
          "data": {
            "text/plain": [
              "2.0"
            ]
          },
          "metadata": {},
          "execution_count": 3
        }
      ]
    },
    {
      "cell_type": "code",
      "source": [
        "# 모듈의 에러\n",
        "\n",
        "ModuleNotFoundError: No module named ...: \n",
        "모듈의 이름이 잘못되었을 때 발생하는 에러입니다. 모듈 이름이 맞는지 확인해주세요.\n",
        "\n",
        "AttributeError: module ... has no attribute ...: \n",
        "모듈의 변수나 함수의 이름을 잘못되었을 때 발생하는 에러입니다. 변수, 함수의 이름이 맞는지 확인해주세요."
      ],
      "metadata": {
        "id": "cEhgTyUpEhgn"
      },
      "execution_count": null,
      "outputs": []
    },
    {
      "cell_type": "code",
      "source": [
        "# Import as로 모듈 이름을 정할 수 있다.\n",
        "\n",
        "import 모듈 as 이름"
      ],
      "metadata": {
        "id": "tANaWL_jE5jn"
      },
      "execution_count": null,
      "outputs": []
    },
    {
      "cell_type": "code",
      "source": [
        "import math as ma"
      ],
      "metadata": {
        "id": "SH_vWzugE5eb"
      },
      "execution_count": null,
      "outputs": []
    },
    {
      "cell_type": "code",
      "source": [
        "ma.sqrt(4.0)"
      ],
      "metadata": {
        "colab": {
          "base_uri": "https://localhost:8080/"
        },
        "id": "2wV5joXfFE1S",
        "outputId": "3897a7ea-4be6-44aa-9c20-9378816ed3b6"
      },
      "execution_count": null,
      "outputs": [
        {
          "output_type": "execute_result",
          "data": {
            "text/plain": [
              "2.0"
            ]
          },
          "metadata": {},
          "execution_count": 5
        }
      ]
    },
    {
      "cell_type": "code",
      "source": [
        "# 모듈의 일부만 가져오는 \n",
        "\n",
        "from 모듈 import 함수\n",
        "from 모듈 import 클래스"
      ],
      "metadata": {
        "id": "RxeDmGnZFGhr"
      },
      "execution_count": null,
      "outputs": []
    },
    {
      "cell_type": "code",
      "source": [
        "from math import sqrt"
      ],
      "metadata": {
        "id": "CSlH3tYMFWX8"
      },
      "execution_count": null,
      "outputs": []
    },
    {
      "cell_type": "code",
      "source": [
        "sqrt(4.0)"
      ],
      "metadata": {
        "colab": {
          "base_uri": "https://localhost:8080/"
        },
        "id": "U5fzQDSrFYH7",
        "outputId": "104f4af2-566a-4144-d33d-142de9c9a333"
      },
      "execution_count": null,
      "outputs": [
        {
          "output_type": "execute_result",
          "data": {
            "text/plain": [
              "2.0"
            ]
          },
          "metadata": {},
          "execution_count": 7
        }
      ]
    },
    {
      "cell_type": "code",
      "source": [
        "# 이름을 지정할 수 있다.\n",
        "from math import sqrt "
      ],
      "metadata": {
        "id": "Bnd53DkFFaXl"
      },
      "execution_count": null,
      "outputs": []
    },
    {
      "cell_type": "markdown",
      "source": [
        "#1.2 패키지 가져오기"
      ],
      "metadata": {
        "id": "tfKRf9h_JBPm"
      }
    },
    {
      "cell_type": "code",
      "source": [
        "import urllib.request"
      ],
      "metadata": {
        "id": "AkSYd09dJCXM"
      },
      "execution_count": null,
      "outputs": []
    },
    {
      "cell_type": "code",
      "source": [
        "response = urllib.request.urlopen('http://www.google.co.kr')"
      ],
      "metadata": {
        "id": "Pf6rVpj2JGmz"
      },
      "execution_count": null,
      "outputs": []
    },
    {
      "cell_type": "code",
      "source": [
        "response.status"
      ],
      "metadata": {
        "colab": {
          "base_uri": "https://localhost:8080/"
        },
        "id": "WNBqolG_JICv",
        "outputId": "61685dbe-b8f3-48d4-ed81-7b82201860d9"
      },
      "execution_count": null,
      "outputs": [
        {
          "output_type": "execute_result",
          "data": {
            "text/plain": [
              "200"
            ]
          },
          "metadata": {},
          "execution_count": 10
        }
      ]
    },
    {
      "cell_type": "code",
      "source": [
        "import urllib.request as r"
      ],
      "metadata": {
        "id": "OAJ9l7ZaJLLJ"
      },
      "execution_count": null,
      "outputs": []
    },
    {
      "cell_type": "code",
      "source": [
        "from urllib.request import Request, urlopen"
      ],
      "metadata": {
        "id": "1U-IKnkKJTuo"
      },
      "execution_count": null,
      "outputs": []
    },
    {
      "cell_type": "code",
      "source": [
        "from urllib.request import *"
      ],
      "metadata": {
        "id": "93Z_rBG7JVLU"
      },
      "execution_count": null,
      "outputs": []
    },
    {
      "cell_type": "code",
      "source": [
        "from 패키지.모듈 import 변수 as 이름, 함수 as 이름, 클래스 as 이름"
      ],
      "metadata": {
        "id": "8wAFGK8rJdyp"
      },
      "execution_count": null,
      "outputs": []
    },
    {
      "cell_type": "code",
      "source": [
        "!pip install Faker"
      ],
      "metadata": {
        "colab": {
          "base_uri": "https://localhost:8080/"
        },
        "id": "3PoR0k1XJlFp",
        "outputId": "4b596fb8-849b-4cca-c200-79e1b9dea5ab"
      },
      "execution_count": null,
      "outputs": [
        {
          "output_type": "stream",
          "name": "stdout",
          "text": [
            "Looking in indexes: https://pypi.org/simple, https://us-python.pkg.dev/colab-wheels/public/simple/\n",
            "Collecting Faker\n",
            "  Downloading Faker-18.9.0-py3-none-any.whl (1.7 MB)\n",
            "\u001b[2K     \u001b[90m━━━━━━━━━━━━━━━━━━━━━━━━━━━━━━━━━━━━━━━━\u001b[0m \u001b[32m1.7/1.7 MB\u001b[0m \u001b[31m25.6 MB/s\u001b[0m eta \u001b[36m0:00:00\u001b[0m\n",
            "\u001b[?25hRequirement already satisfied: python-dateutil>=2.4 in /usr/local/lib/python3.10/dist-packages (from Faker) (2.8.2)\n",
            "Requirement already satisfied: six>=1.5 in /usr/local/lib/python3.10/dist-packages (from python-dateutil>=2.4->Faker) (1.16.0)\n",
            "Installing collected packages: Faker\n",
            "Successfully installed Faker-18.9.0\n"
          ]
        }
      ]
    },
    {
      "cell_type": "code",
      "source": [
        "# 이번에는 pip을 사용하여 유용한 외부 라이브러리중 하나인 faker를 설치하고 사용해 보자. \n",
        "# faker는 테스트용 가짜 데이터를 생성할 때 사용하는 라이브러리이다.\n",
        "\n",
        "# 만약 다음과 같은 형식의 테스트 데이터 30건이 필요하다고 가정해 보자. \n",
        "# 직접 데이터를 작성하지 말고 좀 더 편리한 방법으로 테스트 데이터를 만들려면 어떻게 해야 할까?"
      ],
      "metadata": {
        "id": "dznNrYGeJrP1"
      },
      "execution_count": null,
      "outputs": []
    },
    {
      "cell_type": "code",
      "source": [
        "[(이름1, 주소1), (이름2, 주소2), ..., (이름30, 주소30)]"
      ],
      "metadata": {
        "id": "WzYOxzQ9KA_9"
      },
      "execution_count": null,
      "outputs": []
    },
    {
      "cell_type": "code",
      "source": [
        "from faker import Faker\n",
        "fake = Faker()\n",
        "fake.name()"
      ],
      "metadata": {
        "colab": {
          "base_uri": "https://localhost:8080/",
          "height": 36
        },
        "id": "45x0qMLCKJsg",
        "outputId": "4974885f-e6ab-40cf-aea9-3b3a24d9fe45"
      },
      "execution_count": null,
      "outputs": [
        {
          "output_type": "execute_result",
          "data": {
            "text/plain": [
              "'David Bass PhD'"
            ],
            "application/vnd.google.colaboratory.intrinsic+json": {
              "type": "string"
            }
          },
          "metadata": {},
          "execution_count": 15
        }
      ]
    },
    {
      "cell_type": "code",
      "source": [
        "fake = Faker('ko-KR')\n",
        "fake.name()"
      ],
      "metadata": {
        "colab": {
          "base_uri": "https://localhost:8080/",
          "height": 36
        },
        "id": "Zl2GXfAlKRCC",
        "outputId": "2b24d4d4-05ab-4897-be16-05d9bc404084"
      },
      "execution_count": null,
      "outputs": [
        {
          "output_type": "execute_result",
          "data": {
            "text/plain": [
              "'박성진'"
            ],
            "application/vnd.google.colaboratory.intrinsic+json": {
              "type": "string"
            }
          },
          "metadata": {},
          "execution_count": 16
        }
      ]
    },
    {
      "cell_type": "code",
      "source": [
        "fake.address()"
      ],
      "metadata": {
        "colab": {
          "base_uri": "https://localhost:8080/",
          "height": 36
        },
        "id": "G9p6_f1IKdU3",
        "outputId": "79c7addd-8a77-4c75-f1eb-6917b2598ee3"
      },
      "execution_count": null,
      "outputs": [
        {
          "output_type": "execute_result",
          "data": {
            "text/plain": [
              "'충청남도 옥천군 역삼로'"
            ],
            "application/vnd.google.colaboratory.intrinsic+json": {
              "type": "string"
            }
          },
          "metadata": {},
          "execution_count": 17
        }
      ]
    },
    {
      "cell_type": "code",
      "source": [
        "test_data = [(fake.name(), fake.address()) for i in range(30)]"
      ],
      "metadata": {
        "id": "7yTZteBEKf6F"
      },
      "execution_count": null,
      "outputs": []
    },
    {
      "cell_type": "code",
      "source": [
        "test_data"
      ],
      "metadata": {
        "colab": {
          "base_uri": "https://localhost:8080/"
        },
        "id": "U3BWZASsKnMH",
        "outputId": "aa2468f2-528e-4a4f-8edc-aafed9ed0708"
      },
      "execution_count": null,
      "outputs": [
        {
          "output_type": "execute_result",
          "data": {
            "text/plain": [
              "[('이영일', '대전광역시 영등포구 역삼로 (정순주면)'),\n",
              " ('김현우', '광주광역시 용산구 잠실1거리 (예은강마을)'),\n",
              " ('서종수', '인천광역시 서대문구 역삼길'),\n",
              " ('김상철', '경상북도 천안시 동남구 테헤란로 (보람김지마을)'),\n",
              " ('이종수', '경기도 수원시 팔달구 서초중앙0로 (영미조면)'),\n",
              " ('최선영', '세종특별자치시 광진구 서초대길'),\n",
              " ('김서현', '강원도 옥천군 학동409거리'),\n",
              " ('김옥자', '광주광역시 영등포구 삼성로'),\n",
              " ('유명자', '충청남도 부천시 학동995거리'),\n",
              " ('윤윤서', '세종특별자치시 성동구 영동대1거리 (승현김동)'),\n",
              " ('권지혜', '제주특별자치도 진천군 영동대30거리 (하윤이김마을)'),\n",
              " ('이영일', '제주특별자치도 성남시 수정구 잠실길 (현정최마을)'),\n",
              " ('김지현', '대전광역시 강북구 반포대6가'),\n",
              " ('김수빈', '울산광역시 관악구 강남대로 (영철장김읍)'),\n",
              " ('민성진', '경기도 단양군 테헤란20길'),\n",
              " ('장숙자', '경상남도 이천시 반포대134가 (민석김이면)'),\n",
              " ('민서영', '전라남도 청주시 청원구 삼성거리 (상현송김읍)'),\n",
              " ('이정웅', '광주광역시 남구 가락로 (지혜장리)'),\n",
              " ('김미경', '인천광역시 강동구 논현가 (상현노동)'),\n",
              " ('이정식', '대구광역시 동대문구 도산대5가 (민준김동)'),\n",
              " ('최준혁', '전라북도 김포시 석촌호수9거리'),\n",
              " ('강현준', '경기도 용인시 처인구 논현거리'),\n",
              " ('주현숙', '세종특별자치시 관악구 잠실로'),\n",
              " ('박주원', '제주특별자치도 태안군 석촌호수가'),\n",
              " ('손영숙', '대전광역시 송파구 삼성88길 (시우이김리)'),\n",
              " ('김은정', '서울특별시 양천구 영동대로 (경자이면)'),\n",
              " ('진영길', '경상북도 용인시 수지구 서초중앙로 (하은이한읍)'),\n",
              " ('이성훈', '강원도 정선군 석촌호수5길 (은주박임리)'),\n",
              " ('김영식', '제주특별자치도 파주시 논현5가 (명숙김정리)'),\n",
              " ('박지후', '강원도 고성군 논현로 (은정이동)')]"
            ]
          },
          "metadata": {},
          "execution_count": 19
        }
      ]
    },
    {
      "cell_type": "code",
      "source": [
        "항목\t설명\n",
        "fake.name()\t이름\n",
        "fake.address()\t주소\n",
        "fake.postcode()\t우편 번호\n",
        "fake.country()\t국가명\n",
        "fake.company()\t회사명\n",
        "fake.job()\t직업명\n",
        "fake.phone_number()\t휴대 전화 번호\n",
        "fake.email()\t이메일 주소\n",
        "fake.user_name()\t사용자명\n",
        "fake.pyint(min_value=0, max_value=100)\t0부터 100 사이의 임의의 숫자\n",
        "fake.ipv4_private()\tIP 주소\n",
        "fake.text()\t임의의 문장 (한글 임의의 문장은 fake.catch_phrase() 사용)\n",
        "fake.color_name()\t색상명"
      ],
      "metadata": {
        "id": "QfnwDFFEKoEO"
      },
      "execution_count": null,
      "outputs": []
    },
    {
      "cell_type": "code",
      "source": [
        "# [모듈 만들기]\n",
        "\n",
        "theater_module.py 라는 파이썬 파일을 만들어서 이 파일에 사람수에 따른 영화표 가격을 계산하는 함수 3개를 정의하려고한다.\n",
        "코드는 다음과 같다. \n",
        "이 파일은 사람 수에 따른 영화표 가격을 계산하는 함수 3개입니다.\n",
        "첫번째 price는 1인당 영화표 1만원, 두번째는 학생할인으로 20% 할인, 세번째는 VIP석으로 1.5만원으로 출력합니다."
      ],
      "metadata": {
        "id": "RFPgq2RfQzUp"
      },
      "execution_count": null,
      "outputs": []
    },
    {
      "cell_type": "code",
      "source": [
        "#경로설정\n",
        "import os\n",
        "os.chdir(\"/content/\")"
      ],
      "metadata": {
        "id": "ztarmz75QzMB"
      },
      "execution_count": null,
      "outputs": []
    },
    {
      "cell_type": "code",
      "source": [
        "import theater_module_test as tmt"
      ],
      "metadata": {
        "id": "NweDSL2yQzDx"
      },
      "execution_count": null,
      "outputs": []
    },
    {
      "cell_type": "code",
      "source": [
        "tmt.price(1)"
      ],
      "metadata": {
        "colab": {
          "base_uri": "https://localhost:8080/"
        },
        "id": "D-Y9vmqRQy5Q",
        "outputId": "2bfed88c-1b50-450d-ceb1-2155c5e9323a"
      },
      "execution_count": null,
      "outputs": [
        {
          "output_type": "stream",
          "name": "stdout",
          "text": [
            "영화표 가격은 10000 입니다.\n"
          ]
        }
      ]
    },
    {
      "cell_type": "code",
      "source": [
        "from theater_module_test import *"
      ],
      "metadata": {
        "id": "3bkOduC1R91N"
      },
      "execution_count": null,
      "outputs": []
    },
    {
      "cell_type": "code",
      "source": [
        "price(2)"
      ],
      "metadata": {
        "colab": {
          "base_uri": "https://localhost:8080/"
        },
        "id": "0dOhs6NVSTlx",
        "outputId": "d5631ec3-e485-4dba-8bae-34852ebfb38a"
      },
      "execution_count": null,
      "outputs": [
        {
          "output_type": "stream",
          "name": "stdout",
          "text": [
            "영화표 가격은 20000 입니다.\n"
          ]
        }
      ]
    },
    {
      "cell_type": "code",
      "source": [
        "# 패키지 만들기"
      ],
      "metadata": {
        "id": "iaUHGUnkSUnM"
      },
      "execution_count": null,
      "outputs": []
    },
    {
      "cell_type": "code",
      "source": [
        "import os\n",
        "os.chdir(\"/content/\")"
      ],
      "metadata": {
        "id": "CAjD8F_rUt-M"
      },
      "execution_count": null,
      "outputs": []
    },
    {
      "cell_type": "code",
      "source": [
        "import pkg_ex.seoul"
      ],
      "metadata": {
        "id": "QIhsjoPzUujC"
      },
      "execution_count": null,
      "outputs": []
    },
    {
      "cell_type": "code",
      "source": [
        "trip = pkg_ex.seoul.SeoulPkg()\n",
        "trip.detail()"
      ],
      "metadata": {
        "colab": {
          "base_uri": "https://localhost:8080/"
        },
        "id": "JLlky243U1Dc",
        "outputId": "ae8f1903-8f54-4036-e2fd-53c29da52f21"
      },
      "execution_count": null,
      "outputs": [
        {
          "output_type": "stream",
          "name": "stdout",
          "text": [
            "[서울 도심 패키지] 호캉스 100만원\n"
          ]
        }
      ]
    },
    {
      "cell_type": "code",
      "source": [
        "trip = pkg_ex.seoul.SeoulPkg()\n",
        "trip.detail()"
      ],
      "metadata": {
        "id": "A-yeiXEOU3nF"
      },
      "execution_count": null,
      "outputs": []
    },
    {
      "cell_type": "code",
      "source": [
        "# 주의 import문을 사용할때는 대상이 모듈이나 패키지여야하고, 클래스나 함수는 가져올수 없음\n",
        "import pkg_ex.seoul.SeoulPkg"
      ],
      "metadata": {
        "colab": {
          "base_uri": "https://localhost:8080/",
          "height": 331
        },
        "id": "oILEKveHVDH2",
        "outputId": "082f8c67-0dfa-4df3-eab9-4904855c84ac"
      },
      "execution_count": null,
      "outputs": [
        {
          "output_type": "error",
          "ename": "ModuleNotFoundError",
          "evalue": "ignored",
          "traceback": [
            "\u001b[0;31m---------------------------------------------------------------------------\u001b[0m",
            "\u001b[0;31mModuleNotFoundError\u001b[0m                       Traceback (most recent call last)",
            "\u001b[0;32m<ipython-input-30-5a8943ae791d>\u001b[0m in \u001b[0;36m<cell line: 2>\u001b[0;34m()\u001b[0m\n\u001b[1;32m      1\u001b[0m \u001b[0;31m# 주의 import문을 사용할때는 대상이 모듈이나 패키지여야하고, 클래스나 함수는 가져올수 없음\u001b[0m\u001b[0;34m\u001b[0m\u001b[0;34m\u001b[0m\u001b[0m\n\u001b[0;32m----> 2\u001b[0;31m \u001b[0;32mimport\u001b[0m \u001b[0mpkg_ex\u001b[0m\u001b[0;34m.\u001b[0m\u001b[0mseoul\u001b[0m\u001b[0;34m.\u001b[0m\u001b[0mSeoulPkg\u001b[0m\u001b[0;34m\u001b[0m\u001b[0;34m\u001b[0m\u001b[0m\n\u001b[0m",
            "\u001b[0;31mModuleNotFoundError\u001b[0m: No module named 'pkg_ex.seoul.SeoulPkg'; 'pkg_ex.seoul' is not a package",
            "",
            "\u001b[0;31m---------------------------------------------------------------------------\u001b[0;32m\nNOTE: If your import is failing due to a missing package, you can\nmanually install dependencies using either !pip or !apt.\n\nTo view examples of installing some common dependencies, click the\n\"Open Examples\" button below.\n\u001b[0;31m---------------------------------------------------------------------------\u001b[0m\n"
          ],
          "errorDetails": {
            "actions": [
              {
                "action": "open_url",
                "actionText": "Open Examples",
                "url": "/notebooks/snippets/importing_libraries.ipynb"
              }
            ]
          }
        }
      ]
    },
    {
      "cell_type": "code",
      "source": [
        "# 만약 from import 문을 사용하면 함수, 클래스, 모듈, 패키지 모두 가져올수 있음\n",
        "from pkg_ex.seoul import SeoulPkg \n",
        "\n",
        "trip_n = SeoulPkg()\n",
        "trip_n.detail()"
      ],
      "metadata": {
        "colab": {
          "base_uri": "https://localhost:8080/"
        },
        "id": "dVe9Fed9VFxg",
        "outputId": "2b59828c-fe92-4cfa-cbf8-956c3b7f5962"
      },
      "execution_count": null,
      "outputs": [
        {
          "output_type": "stream",
          "name": "stdout",
          "text": [
            "[서울 도심 패키지] 호캉스 100만원\n"
          ]
        }
      ]
    },
    {
      "cell_type": "code",
      "source": [
        "from pkg_ex import japan\n",
        "trip_n2 = japan.OsakaPkg()\n",
        "trip_n2.detail()"
      ],
      "metadata": {
        "colab": {
          "base_uri": "https://localhost:8080/"
        },
        "id": "KT6yQjgyVPZZ",
        "outputId": "f8220e7f-c321-4f42-a852-da2e14a433cc"
      },
      "execution_count": null,
      "outputs": [
        {
          "output_type": "stream",
          "name": "stdout",
          "text": [
            "[오사카] 유니버셜 패키지 100만원\n"
          ]
        }
      ]
    },
    {
      "cell_type": "code",
      "source": [],
      "metadata": {
        "id": "ioCtq6IiVUsJ"
      },
      "execution_count": null,
      "outputs": []
    },
    {
      "cell_type": "markdown",
      "source": [
        "#모듈 공개 설정"
      ],
      "metadata": {
        "id": "mamc-HSeVwvB"
      }
    },
    {
      "cell_type": "code",
      "source": [
        "# 우리는 보통 모든 패키지를 불러올때 다음과 같이 사용하죠\n",
        "from random import *"
      ],
      "metadata": {
        "id": "xk1SadA7VyAk"
      },
      "execution_count": null,
      "outputs": []
    },
    {
      "cell_type": "code",
      "source": [
        "from pkg_ex import * #seoul, japan"
      ],
      "metadata": {
        "id": "INqp2LVFV1aH"
      },
      "execution_count": null,
      "outputs": []
    },
    {
      "cell_type": "code",
      "source": [
        "trip_ex = seoul.SeoulPkg() #서울의 서울 패키지\n",
        "trip_ex.detail()"
      ],
      "metadata": {
        "colab": {
          "base_uri": "https://localhost:8080/"
        },
        "id": "zSH7bThiV8Kj",
        "outputId": "56cbfbb6-c8d7-41b2-fc7e-bf857d892593"
      },
      "execution_count": null,
      "outputs": [
        {
          "output_type": "stream",
          "name": "stdout",
          "text": [
            "[서울 도심 패키지] 호캉스 100만원\n"
          ]
        }
      ]
    },
    {
      "cell_type": "code",
      "source": [
        "# 아까와 같이 실행했는데 다음과 같이 오류가 뜨게 됩니다. import 할때 *로 표시한다는 것은\n",
        "# pkg_ex에 있는 모든 기능을 가져다 쓴다는 뜻인데 왜 실행이 안됐을까요?\n",
        "\n",
        "# 아직 공개설정이 안되서 그렇습니다.\n",
        "# 패키지는 공개범위를 설정할 수 있습니다.\n",
        "# 여러분께서도 공개하고 싶지 않은 것에 대해서는 사용할 수 없게 비공개로 둘수도 있어요\n",
        "\n",
        "# 앞서 아무 기능을 하지 않았던 __init__.py를 기억할텐데 다음과 같이 설정하면 공개설정을 할 수 있어요"
      ],
      "metadata": {
        "id": "wMmU0Ir2WK9h"
      },
      "execution_count": null,
      "outputs": []
    },
    {
      "cell_type": "code",
      "source": [
        "# 재정의 후 다시 실행\n",
        "\n",
        "from pkg_ex import *\n",
        "\n",
        "trip_ex2 = japan.OsakaPkg() #일본의 오사카 패키지\n",
        "trip_ex2.detail()"
      ],
      "metadata": {
        "colab": {
          "base_uri": "https://localhost:8080/"
        },
        "id": "BB4-0VPEXAUJ",
        "outputId": "224a7ec1-2d42-4b1c-d0c0-9e783a810b52"
      },
      "execution_count": null,
      "outputs": [
        {
          "output_type": "stream",
          "name": "stdout",
          "text": [
            "[오사카] 유니버셜 패키지 100만원\n"
          ]
        }
      ]
    },
    {
      "cell_type": "code",
      "source": [
        "if __name__ == \"__main__\":\n",
        "  pass\n",
        "else:\n",
        "  pass"
      ],
      "metadata": {
        "id": "J9eIpA8BXCtH"
      },
      "execution_count": null,
      "outputs": []
    },
    {
      "cell_type": "code",
      "source": [
        "__name__은 현재 모듈의 이름을 값으로 가지는 내장 변수입니다. \n",
        "그래서 앞의 코드와 같이 작성하면 파일이 실행될때 if문이 실행되게 되고, \n",
        "__main__이 아닌 그 모듈의 이름을 가져오게 됩니다."
      ],
      "metadata": {
        "id": "iY_Qc2T9XXvA"
      },
      "execution_count": null,
      "outputs": []
    },
    {
      "cell_type": "code",
      "source": [
        "# pkg_ex 패키지의 seoul.py에서 SeoulPkg() 클래스 정의 아래에 다음과 같이 코드를 쓰면\n",
        "# __name__변수가 __main__일때 \n",
        "# 모듈을 직접 실행하는 경우에는 if문에서 출력문과 함께 detail() 메서드를 호출하고\n",
        "# 그렇지 않으면 else문으로 호출 안내 문구를 넣어봅시다."
      ],
      "metadata": {
        "id": "pkwIGJJdXgWt"
      },
      "execution_count": null,
      "outputs": []
    },
    {
      "cell_type": "code",
      "source": [
        "# 다음과 같이 실행하면 else문이 출력될것입니다.\n",
        "# 런타임 초기화\n",
        "\n",
        "import pkg_ex.seoul_new"
      ],
      "metadata": {
        "colab": {
          "base_uri": "https://localhost:8080/"
        },
        "id": "-nqdFVyHYdT9",
        "outputId": "e0590512-5517-4393-f1fb-b2b4436b687b"
      },
      "execution_count": null,
      "outputs": [
        {
          "output_type": "stream",
          "name": "stdout",
          "text": [
            "외부에서 seoul 모듈 실행되었습니다.\n"
          ]
        }
      ]
    },
    {
      "cell_type": "code",
      "source": [
        "#파일명 seoul_new.py\n",
        "\n",
        "class SeoulPkg:\n",
        "  def detail(self):\n",
        "    print(\"[서울 도심 패키지] 호캉스 100만원\")\n",
        "\n",
        "if __name__ == \"__main__\":\n",
        "  print(\"seoul 모듈 직접 실행되었습니다.\")\n",
        "  trip_seoul = SeoulPkg()\n",
        "  trip_seoul.detail()\n",
        "else:\n",
        "  print(\"외부에서 seoul 모듈 실행되었습니다.\")"
      ],
      "metadata": {
        "id": "gtH_Z5jkXtdb"
      },
      "execution_count": null,
      "outputs": []
    }
  ]
}