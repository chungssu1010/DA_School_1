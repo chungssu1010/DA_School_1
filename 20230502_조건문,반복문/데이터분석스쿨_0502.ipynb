{
 "cells": [
  {
   "cell_type": "markdown",
   "metadata": {
    "id": "wmKyC_bB-lBO"
   },
   "source": [
    "#1.1 조건문을 만들때 주의사항\n",
    "\n",
    "* 어떤 조건을 설정할것인가?\n",
    "* 어떤 예외가 발생할것인가?(테스트, 검증)\n",
    "* (조건문이 작성된 뒤에는) 최소 5~10번정도는 테스트 해봐라\n"
   ]
  },
  {
   "cell_type": "markdown",
   "metadata": {
    "id": "gHe1gyN7-1qB"
   },
   "source": [
    "#1.2 조건문 복습\n",
    "\n",
    "조건문은 다음과 같이 복습하려고 합니다.\n",
    "\n",
    "1. 단일 조건문\n",
    "2. If - else 조건문\n",
    "3. If - elif - else 조건문\n",
    "4. 다중 중첩 조건문\n",
    "5. input과 함께 사용하는 조건문\n",
    "\n",
    "[기억해야할것]\n",
    "\n",
    "1. if 뒤에는 참과 거짓을 판단하는 조건이 와야함\n",
    "2. 조건문이 끝나면 반드시 콜론으로 끝나야함\n",
    "3. if 다음 문장은 들여쓰기를 사용해야함\n",
    "4. if 조건에 부합하지 않으면 elif나 else를 사용한다. 보통 조건에 모두 부합하지 않을때 else를 사용한다.\n",
    "\n",
    "[연산자]\n",
    "\n",
    "* x < x가 작다\n",
    "* x > x가 크다\n",
    "* x == y 같다\n",
    "* x != y 다르다\n",
    "* x >= y 크거나 같다\n",
    "* x <= y 작거나 같다\n",
    "\n",
    "[논리연산자]\n",
    "2개이상의 조건을 사용하고 싶을때 사용\n",
    "\n",
    "* and\n",
    "* or\n",
    "* not"
   ]
  },
  {
   "cell_type": "code",
   "execution_count": null,
   "metadata": {
    "colab": {
     "base_uri": "https://localhost:8080/"
    },
    "executionInfo": {
     "elapsed": 4,
     "status": "ok",
     "timestamp": 1682922416616,
     "user": {
      "displayName": "김진환",
      "userId": "05184196515878785546"
     },
     "user_tz": -540
    },
    "id": "Hu3nGQkQ-wB_",
    "outputId": "ae8b90dc-6ef6-498d-d047-a0a136738c70"
   },
   "outputs": [
    {
     "name": "stdout",
     "output_type": "stream",
     "text": [
      "True\n"
     ]
    }
   ],
   "source": [
    "# if문 예제\n",
    "\n",
    "x = 2\n",
    "if x > 1 and x < 10:  # 2가지 조건이 모두 충족할 경우\n",
    "  print('True')"
   ]
  },
  {
   "cell_type": "code",
   "execution_count": null,
   "metadata": {
    "id": "iUWDmHQz_aJ2"
   },
   "outputs": [],
   "source": [
    "if True:\n",
    "  print('True')"
   ]
  },
  {
   "cell_type": "code",
   "execution_count": null,
   "metadata": {
    "id": "vySdVAj5_qTi"
   },
   "outputs": [],
   "source": [
    "# 1) if는 참이기 때문에 Hello가 출력\n",
    "if True:\n",
    "  print('hello') \n",
    "\n",
    "# if문과 상관 없음\n",
    "print('one')\n",
    "\n",
    "# if는 거짓이기 때문에 아무것도 출력되지 않음\n",
    "if False:\n",
    "  print('world')\n",
    "\n",
    "# if문과 상관 없음\n",
    "print('two')"
   ]
  },
  {
   "cell_type": "code",
   "execution_count": null,
   "metadata": {
    "colab": {
     "base_uri": "https://localhost:8080/"
    },
    "executionInfo": {
     "elapsed": 383,
     "status": "ok",
     "timestamp": 1682922895951,
     "user": {
      "displayName": "김진환",
      "userId": "05184196515878785546"
     },
     "user_tz": -540
    },
    "id": "0_bwgF9tBL6r",
    "outputId": "235295ee-652f-4d2d-b629-6f006f00680c"
   },
   "outputs": [
    {
     "name": "stdout",
     "output_type": "stream",
     "text": [
      "hello\n"
     ]
    }
   ],
   "source": [
    "if True:\n",
    "  print('hello') "
   ]
  },
  {
   "cell_type": "code",
   "execution_count": null,
   "metadata": {
    "colab": {
     "base_uri": "https://localhost:8080/"
    },
    "executionInfo": {
     "elapsed": 412,
     "status": "ok",
     "timestamp": 1682922898159,
     "user": {
      "displayName": "김진환",
      "userId": "05184196515878785546"
     },
     "user_tz": -540
    },
    "id": "GqoxHPLXBL3o",
    "outputId": "62dd5bb5-7ca8-4626-fa7f-0c87aa36bed5"
   },
   "outputs": [
    {
     "name": "stdout",
     "output_type": "stream",
     "text": [
      "one\n"
     ]
    }
   ],
   "source": [
    "print('one')"
   ]
  },
  {
   "cell_type": "code",
   "execution_count": null,
   "metadata": {
    "id": "N-5bStNtBL00"
   },
   "outputs": [],
   "source": [
    "if False:\n",
    "  print('world')"
   ]
  },
  {
   "cell_type": "code",
   "execution_count": null,
   "metadata": {
    "colab": {
     "base_uri": "https://localhost:8080/"
    },
    "executionInfo": {
     "elapsed": 897,
     "status": "ok",
     "timestamp": 1682922902289,
     "user": {
      "displayName": "김진환",
      "userId": "05184196515878785546"
     },
     "user_tz": -540
    },
    "id": "H5URwrktBHLZ",
    "outputId": "19ebb059-4c1d-48fa-a49b-a8612de2c0af"
   },
   "outputs": [
    {
     "name": "stdout",
     "output_type": "stream",
     "text": [
      "two\n"
     ]
    }
   ],
   "source": [
    "print('two')"
   ]
  },
  {
   "cell_type": "code",
   "execution_count": null,
   "metadata": {
    "colab": {
     "base_uri": "https://localhost:8080/"
    },
    "executionInfo": {
     "elapsed": 382,
     "status": "ok",
     "timestamp": 1682923060177,
     "user": {
      "displayName": "김진환",
      "userId": "05184196515878785546"
     },
     "user_tz": -540
    },
    "id": "ZTnDOT25BY0w",
    "outputId": "f5059113-8bd9-4798-acf1-08ed2ca955b7"
   },
   "outputs": [
    {
     "name": "stdout",
     "output_type": "stream",
     "text": [
      "hello\n",
      "end\n",
      "hello\n"
     ]
    }
   ],
   "source": [
    "x = 10\n",
    "\n",
    "if x > 5:\n",
    "  print('hello')\n",
    "print('end')\n",
    "\n",
    "if x != 5:\n",
    "  print('hello')"
   ]
  },
  {
   "cell_type": "code",
   "execution_count": null,
   "metadata": {
    "colab": {
     "base_uri": "https://localhost:8080/"
    },
    "executionInfo": {
     "elapsed": 2,
     "status": "ok",
     "timestamp": 1682923079323,
     "user": {
      "displayName": "김진환",
      "userId": "05184196515878785546"
     },
     "user_tz": -540
    },
    "id": "7UkyvPKVB_gq",
    "outputId": "fe1190b4-9ef8-497a-925e-c36edb14c44a"
   },
   "outputs": [
    {
     "name": "stdout",
     "output_type": "stream",
     "text": [
      "hello\n",
      "end\n"
     ]
    }
   ],
   "source": [
    "if 1: # 1 = True\n",
    "  print('hello')\n",
    "print('end')"
   ]
  },
  {
   "cell_type": "code",
   "execution_count": null,
   "metadata": {
    "colab": {
     "base_uri": "https://localhost:8080/"
    },
    "executionInfo": {
     "elapsed": 2,
     "status": "ok",
     "timestamp": 1682923102104,
     "user": {
      "displayName": "김진환",
      "userId": "05184196515878785546"
     },
     "user_tz": -540
    },
    "id": "ZhqRUMAkCEHT",
    "outputId": "2463a7ad-fa68-45f5-fe69-f25b2cf81c40"
   },
   "outputs": [
    {
     "name": "stdout",
     "output_type": "stream",
     "text": [
      "end\n"
     ]
    }
   ],
   "source": [
    "if 0:\n",
    "  print('hello')\n",
    "print('end')"
   ]
  },
  {
   "cell_type": "code",
   "execution_count": null,
   "metadata": {
    "colab": {
     "base_uri": "https://localhost:8080/"
    },
    "executionInfo": {
     "elapsed": 321,
     "status": "ok",
     "timestamp": 1682923118566,
     "user": {
      "displayName": "김진환",
      "userId": "05184196515878785546"
     },
     "user_tz": -540
    },
    "id": "TaRZQ4NKCJs9",
    "outputId": "ce79ff5e-e2b7-4d45-92e5-eb1bb69ec634"
   },
   "outputs": [
    {
     "name": "stdout",
     "output_type": "stream",
     "text": [
      "hello\n",
      "end\n"
     ]
    }
   ],
   "source": [
    "if -1:\n",
    "  print('hello')\n",
    "print('end')"
   ]
  },
  {
   "cell_type": "code",
   "execution_count": null,
   "metadata": {
    "colab": {
     "base_uri": "https://localhost:8080/"
    },
    "executionInfo": {
     "elapsed": 2,
     "status": "ok",
     "timestamp": 1682923146720,
     "user": {
      "displayName": "김진환",
      "userId": "05184196515878785546"
     },
     "user_tz": -540
    },
    "id": "lq4IGBGNCNnS",
    "outputId": "9f73f7a3-8c0a-4a4b-8358-4762b24fa816"
   },
   "outputs": [
    {
     "name": "stdout",
     "output_type": "stream",
     "text": [
      "hello\n",
      "end\n"
     ]
    }
   ],
   "source": [
    "#공백이 있는 문자열\n",
    "if  ' ':\n",
    "  print('hello')\n",
    "print('end')"
   ]
  },
  {
   "cell_type": "code",
   "execution_count": null,
   "metadata": {
    "colab": {
     "base_uri": "https://localhost:8080/"
    },
    "executionInfo": {
     "elapsed": 3,
     "status": "ok",
     "timestamp": 1682923159920,
     "user": {
      "displayName": "김진환",
      "userId": "05184196515878785546"
     },
     "user_tz": -540
    },
    "id": "ZChZLf43CUol",
    "outputId": "afe7b5bd-1fb9-438a-ee19-3aba339ace08"
   },
   "outputs": [
    {
     "name": "stdout",
     "output_type": "stream",
     "text": [
      "end\n"
     ]
    }
   ],
   "source": [
    "#공백이 없는 문자열\n",
    "if  '':\n",
    "  print('hello')\n",
    "print('end')"
   ]
  },
  {
   "cell_type": "code",
   "execution_count": null,
   "metadata": {
    "colab": {
     "base_uri": "https://localhost:8080/"
    },
    "executionInfo": {
     "elapsed": 2,
     "status": "ok",
     "timestamp": 1682923184796,
     "user": {
      "displayName": "김진환",
      "userId": "05184196515878785546"
     },
     "user_tz": -540
    },
    "id": "EL0dqrSxCWOO",
    "outputId": "a384795a-2c1d-4656-c333-ce7db576f30f"
   },
   "outputs": [
    {
     "name": "stdout",
     "output_type": "stream",
     "text": [
      "hello\n",
      "end\n"
     ]
    }
   ],
   "source": [
    "if not '':\n",
    "    print('hello')\n",
    "print('end')"
   ]
  },
  {
   "cell_type": "code",
   "execution_count": null,
   "metadata": {
    "colab": {
     "base_uri": "https://localhost:8080/"
    },
    "executionInfo": {
     "elapsed": 1,
     "status": "ok",
     "timestamp": 1682923195580,
     "user": {
      "displayName": "김진환",
      "userId": "05184196515878785546"
     },
     "user_tz": -540
    },
    "id": "0qlYEUtHCd5s",
    "outputId": "38643733-f15d-4635-a115-76dc458fb8c9"
   },
   "outputs": [
    {
     "name": "stdout",
     "output_type": "stream",
     "text": [
      "hello\n",
      "end\n"
     ]
    }
   ],
   "source": [
    "if not None: #None은 False와 같은의미라고 생각하시면 됩니다.\n",
    "    print('hello')\n",
    "print('end')"
   ]
  },
  {
   "cell_type": "code",
   "execution_count": null,
   "metadata": {
    "colab": {
     "base_uri": "https://localhost:8080/"
    },
    "executionInfo": {
     "elapsed": 3,
     "status": "ok",
     "timestamp": 1682923207737,
     "user": {
      "displayName": "김진환",
      "userId": "05184196515878785546"
     },
     "user_tz": -540
    },
    "id": "-undZEyKCgiT",
    "outputId": "bc0e3ab8-ed78-4fd8-a217-bdaeebf70aeb"
   },
   "outputs": [
    {
     "name": "stdout",
     "output_type": "stream",
     "text": [
      "end\n"
     ]
    }
   ],
   "source": [
    "if None: \n",
    "    print('hello')\n",
    "print('end')"
   ]
  },
  {
   "cell_type": "code",
   "execution_count": null,
   "metadata": {
    "colab": {
     "base_uri": "https://localhost:8080/"
    },
    "executionInfo": {
     "elapsed": 6020,
     "status": "ok",
     "timestamp": 1682923370202,
     "user": {
      "displayName": "김진환",
      "userId": "05184196515878785546"
     },
     "user_tz": -540
    },
    "id": "UOPAq6peCjc1",
    "outputId": "47949e5f-83d2-459e-bdcd-9398b6ad6388"
   },
   "outputs": [
    {
     "name": "stdout",
     "output_type": "stream",
     "text": [
      "비교할 수를 입력하세요 : 3\n",
      "비교할 수를 입력하세요 : 5\n",
      "x가 y보다 작거나 같습니다 \n"
     ]
    }
   ],
   "source": [
    "# if, else 문\n",
    "\n",
    "x = int(input('비교할 수를 입력하세요 : '))\n",
    "y = int(input('비교할 수를 입력하세요 : '))\n",
    "\n",
    "if x > y: # False\n",
    "  print(\"x가 y보다 큽니다\")\n",
    "else: # True\n",
    "  print(\"x가 y보다 작거나 같습니다 \") "
   ]
  },
  {
   "cell_type": "code",
   "execution_count": null,
   "metadata": {
    "id": "eYGnDagsDJiZ"
   },
   "outputs": [],
   "source": [
    "# if, elif, else \n",
    "if 조건문:\n",
    "  수행문장1\n",
    "elif 조건문:\n",
    "  수행문장2\n",
    "else:\n",
    "  수행문장3\n"
   ]
  },
  {
   "cell_type": "code",
   "execution_count": null,
   "metadata": {
    "colab": {
     "base_uri": "https://localhost:8080/"
    },
    "executionInfo": {
     "elapsed": 519,
     "status": "ok",
     "timestamp": 1682923566136,
     "user": {
      "displayName": "김진환",
      "userId": "05184196515878785546"
     },
     "user_tz": -540
    },
    "id": "Z4VsbbRZDqwo",
    "outputId": "3f8a4fc4-3670-48f9-ba05-28b01d4608ed"
   },
   "outputs": [
    {
     "name": "stdout",
     "output_type": "stream",
     "text": [
      "x가 y보다 작습니다.\n"
     ]
    }
   ],
   "source": [
    "if x > y: # False\n",
    "  print(\"x가 y보다 큽니다\")\n",
    "elif x < y: #True\n",
    "  print(\"x가 y보다 작습니다.\")\n",
    "else: # 실행 x\n",
    "  print(\"같습니다\") "
   ]
  },
  {
   "cell_type": "code",
   "execution_count": null,
   "metadata": {
    "colab": {
     "base_uri": "https://localhost:8080/"
    },
    "executionInfo": {
     "elapsed": 5,
     "status": "ok",
     "timestamp": 1682923652962,
     "user": {
      "displayName": "김진환",
      "userId": "05184196515878785546"
     },
     "user_tz": -540
    },
    "id": "DnfOzN-WDqrK",
    "outputId": "0b8e202a-5dd0-4adb-d657-573f34c1866b"
   },
   "outputs": [
    {
     "name": "stdout",
     "output_type": "stream",
     "text": [
      "mom : i'm happy!\n",
      "100000\n"
     ]
    }
   ],
   "source": [
    "score = 81\n",
    "money = 0\n",
    "\n",
    "if score >= 90:\n",
    "    print('mom : i\\'m so happy!')\n",
    "    money += 1000000\n",
    "elif score >= 80:\n",
    "    print('mom : i\\'m happy!')\n",
    "    money += 100000\n",
    "elif score >= 70 and score < 80:\n",
    "    print('mom : i\\'m so...!')\n",
    "    money += 10000\n",
    "elif score >= 60 and score < 70:\n",
    "    print('mom : i\\'m so...!')\n",
    "    money += 1000\n",
    "else:\n",
    "    print('mom : i\\'m...!')\n",
    "print(money)"
   ]
  },
  {
   "cell_type": "code",
   "execution_count": null,
   "metadata": {
    "colab": {
     "base_uri": "https://localhost:8080/"
    },
    "executionInfo": {
     "elapsed": 5,
     "status": "ok",
     "timestamp": 1682923757164,
     "user": {
      "displayName": "김진환",
      "userId": "05184196515878785546"
     },
     "user_tz": -540
    },
    "id": "6FjCaQQvEQNS",
    "outputId": "04e806a5-2aa9-4f30-e066-d700131980db"
   },
   "outputs": [
    {
     "name": "stdout",
     "output_type": "stream",
     "text": [
      "mom : i'm so happy!\n",
      "hello world\n",
      "hello!!!\n"
     ]
    }
   ],
   "source": [
    "# 중첩 조건문\n",
    "\n",
    "#if를 중첩해서 사용하기\n",
    "score = 98\n",
    "\n",
    "if score >= 90:\n",
    "    print('mom : i\\'m so happy!')\n",
    "    money += 1000000\n",
    "    \n",
    "    if score > 95:\n",
    "        print('hello world')\n",
    "\n",
    "        if score > 97:\n",
    "            print('hello!!!')\n",
    "            \n",
    "elif score >= 80:\n",
    "    print('mom : i\\'m happy!')\n",
    "    money += 100000"
   ]
  },
  {
   "cell_type": "markdown",
   "metadata": {
    "id": "IBCFdUAyspl4"
   },
   "source": [
    "# 조건문"
   ]
  },
  {
   "cell_type": "markdown",
   "metadata": {
    "id": "CaC9Rquxz_q3"
   },
   "source": [
    "## 1.0 조건문을 만들때 고려사항\n",
    "\n",
    "* 어떤 조건을 설정할것인가?\n",
    "* 어떤 예외가 발생하는가?\n",
    "* (조건문을 작성한 후에) 최소 5번정도 테스트를 해봐라\n",
    "\n",
    "이 조건을 미리 생각하지 않으면 길을 잃을수도 있다."
   ]
  },
  {
   "cell_type": "markdown",
   "metadata": {
    "id": "aYD5EsKo0FWG"
   },
   "source": [
    "#1.1 조건문 복습\n",
    "\n",
    "조건문은 다음과 같이 복습하려고 합니다.\n",
    "\n",
    "1. 단일 조건문\n",
    "2. If - else 조건문\n",
    "3. If - elif - else 조건문\n",
    "4. 다중 중첩 조건문\n",
    "5. input과 함께 사용하는 조건문\n",
    "\n",
    "[기억해야할것]\n",
    "\n",
    "1. if 뒤에는 참과 거짓을 판단하는 조건이 와야함\n",
    "2. 조건문이 끝나면 반드시 콜론으로 끝나야함\n",
    "3. if 다음 문장은 들여쓰기를 사용해야함\n",
    "4. if 조건에 부합하지 않으면 elif나 else를 사용한다. 보통 조건에 모두 부합하지 않을때 else를 사용한다.\n",
    "\n",
    "[연산자]\n",
    "\n",
    "* x < x가 작다\n",
    "* x > x가 크다\n",
    "* x == y 같다\n",
    "* x != y 다르다\n",
    "* x >= y 크거나 같다\n",
    "* x <= y 작거나 같다\n",
    "\n",
    "[논리연산자]\n",
    "2개이상의 조건을 사용하고 싶을때 사용\n",
    "\n",
    "* and\n",
    "* or\n",
    "* not"
   ]
  },
  {
   "cell_type": "markdown",
   "metadata": {
    "id": "qC9xMkwB0UtI"
   },
   "source": [
    "#1.1.1 단일 조건문\n",
    "\n",
    "* 조건이 하나일때 사용하는 조건문"
   ]
  },
  {
   "cell_type": "code",
   "execution_count": null,
   "metadata": {
    "colab": {
     "base_uri": "https://localhost:8080/"
    },
    "executionInfo": {
     "elapsed": 7,
     "status": "ok",
     "timestamp": 1682986704065,
     "user": {
      "displayName": "김진환",
      "userId": "05184196515878785546"
     },
     "user_tz": -540
    },
    "id": "DGAMNtvXEppO",
    "outputId": "4a410e53-3fcf-4693-fb79-35aa5a8a5183"
   },
   "outputs": [
    {
     "name": "stdout",
     "output_type": "stream",
     "text": [
      "5 인이 입장하였습니다.\n"
     ]
    }
   ],
   "source": [
    "# 1.1.1 단일 조건문 예시\n",
    "# if 조건:\n",
    "#   실행할 명령\n",
    "\n",
    "# 예제1. 숫자열 입력할 경우\n",
    "\n",
    "total = 5\n",
    "\n",
    "if total > 0:\n",
    "  print(f'{total} 인이 입장하였습니다.')"
   ]
  },
  {
   "cell_type": "code",
   "execution_count": null,
   "metadata": {
    "colab": {
     "base_uri": "https://localhost:8080/",
     "height": 243
    },
    "executionInfo": {
     "elapsed": 38749,
     "status": "error",
     "timestamp": 1682986807172,
     "user": {
      "displayName": "김진환",
      "userId": "05184196515878785546"
     },
     "user_tz": -540
    },
    "id": "8ZtkcLFW0v0O",
    "outputId": "80a2e35e-eb3c-41a0-c519-23d5306f0309"
   },
   "outputs": [
    {
     "name": "stdout",
     "output_type": "stream",
     "text": [
      "몇명이 들어왔나요?5\n"
     ]
    },
    {
     "ename": "TypeError",
     "evalue": "ignored",
     "output_type": "error",
     "traceback": [
      "\u001b[0;31m---------------------------------------------------------------------------\u001b[0m",
      "\u001b[0;31mTypeError\u001b[0m                                 Traceback (most recent call last)",
      "\u001b[0;32m<ipython-input-2-63f9c7915e62>\u001b[0m in \u001b[0;36m<cell line: 5>\u001b[0;34m()\u001b[0m\n\u001b[1;32m      3\u001b[0m \u001b[0mtotal\u001b[0m \u001b[0;34m=\u001b[0m \u001b[0minput\u001b[0m\u001b[0;34m(\u001b[0m\u001b[0;34m'몇명이 들어왔나요?'\u001b[0m\u001b[0;34m)\u001b[0m\u001b[0;34m\u001b[0m\u001b[0;34m\u001b[0m\u001b[0m\n\u001b[1;32m      4\u001b[0m \u001b[0;34m\u001b[0m\u001b[0m\n\u001b[0;32m----> 5\u001b[0;31m \u001b[0;32mif\u001b[0m \u001b[0mtotal\u001b[0m \u001b[0;34m>\u001b[0m \u001b[0;36m0\u001b[0m\u001b[0;34m:\u001b[0m\u001b[0;34m\u001b[0m\u001b[0;34m\u001b[0m\u001b[0m\n\u001b[0m\u001b[1;32m      6\u001b[0m   \u001b[0mprint\u001b[0m\u001b[0;34m(\u001b[0m\u001b[0;34mf'{total} 인이 입장하였습니다.'\u001b[0m\u001b[0;34m)\u001b[0m\u001b[0;34m\u001b[0m\u001b[0;34m\u001b[0m\u001b[0m\n",
      "\u001b[0;31mTypeError\u001b[0m: '>' not supported between instances of 'str' and 'int'"
     ]
    }
   ],
   "source": [
    "# 예제2. 숫자열 입력시 오류\n",
    "\n",
    "total = input('몇명이 들어왔나요?')\n",
    "\n",
    "if total > 0:\n",
    "  print(f'{total} 인이 입장하였습니다.')"
   ]
  },
  {
   "cell_type": "code",
   "execution_count": null,
   "metadata": {
    "colab": {
     "base_uri": "https://localhost:8080/"
    },
    "executionInfo": {
     "elapsed": 5344,
     "status": "ok",
     "timestamp": 1682986917533,
     "user": {
      "displayName": "김진환",
      "userId": "05184196515878785546"
     },
     "user_tz": -540
    },
    "id": "mvKek39M1BPK",
    "outputId": "adf6e02f-ddd1-4251-fd77-1b84b947b929"
   },
   "outputs": [
    {
     "name": "stdout",
     "output_type": "stream",
     "text": [
      "오늘 날씨는 어떤가요?맑음\n",
      "오늘 날씨는 맑음입니다.\n"
     ]
    }
   ],
   "source": [
    "# 예제3. 문자열 입력할때\n",
    "\n",
    "whether = input(\"오늘 날씨는 어떤가요?\")\n",
    "\n",
    "if whether != \"\":\n",
    "  print(f\"오늘 날씨는 {whether}입니다.\")"
   ]
  },
  {
   "cell_type": "code",
   "execution_count": null,
   "metadata": {
    "colab": {
     "base_uri": "https://localhost:8080/"
    },
    "executionInfo": {
     "elapsed": 3318,
     "status": "ok",
     "timestamp": 1682987257722,
     "user": {
      "displayName": "김진환",
      "userId": "05184196515878785546"
     },
     "user_tz": -540
    },
    "id": "NsBgWSv_1fkP",
    "outputId": "e1f4dfa1-6e05-4397-9ecb-b8eae439a54d"
   },
   "outputs": [
    {
     "name": "stdout",
     "output_type": "stream",
     "text": [
      "오늘 날씨는 어떤가요?맑음\n",
      "오늘 기온은 어떤가요?20\n",
      "오늘 날씨는 맑음입니다. 오늘 기온은 20입니다\n"
     ]
    }
   ],
   "source": [
    "# 예제4. 2개 이상 조건일때? and\n",
    "\n",
    "# if 조건1 and 조건2\n",
    "\n",
    "# 1. 오늘 날씨가 어떤가요? \"\"이 아닐때\n",
    "# 2. 오늘 기온이 어떤가요? 0도 이상일때 따뜻합니다.\n",
    "\n",
    "whether1 = input(\"오늘 날씨는 어떤가요?\")\n",
    "whether2 = int(input(\"오늘 기온은 어떤가요?\"))\n",
    "\n",
    "if whether1 != \"\" and whether2 > 0:\n",
    "  print(f\"오늘 날씨는 {whether1}입니다. 오늘 기온은 {whether2}입니다\")\n"
   ]
  },
  {
   "cell_type": "code",
   "execution_count": null,
   "metadata": {
    "colab": {
     "base_uri": "https://localhost:8080/"
    },
    "executionInfo": {
     "elapsed": 3370,
     "status": "ok",
     "timestamp": 1682987382736,
     "user": {
      "displayName": "김진환",
      "userId": "05184196515878785546"
     },
     "user_tz": -540
    },
    "id": "LqnTtkYn21nD",
    "outputId": "b606e1f0-8d8f-4271-8087-174cb8210681"
   },
   "outputs": [
    {
     "name": "stdout",
     "output_type": "stream",
     "text": [
      "직업이 있나요?예\n",
      "직업이 있습니다.\n"
     ]
    }
   ],
   "source": [
    "# 예제5. if문을 쓸때 헷갈리는 것\n",
    "\n",
    "job = input(\"직업이 있나요?\")\n",
    "\n",
    "if job == \"예\":\n",
    "  print(\"직업이 있습니다.\")"
   ]
  },
  {
   "cell_type": "code",
   "execution_count": null,
   "metadata": {
    "id": "p_qh8sn03Uwo"
   },
   "outputs": [],
   "source": [
    "# 연습문제 1\n",
    "# 몇번이 답일까요?\n",
    "\n",
    "1) if (x == 10)\n",
    "    print('10입니다.')\n",
    "2) if x == 10\n",
    "    print('10입니다.')\n",
    "3) if x == 10:\n",
    "    print('10입니다.')\n",
    "4) if x == 10:\n",
    "print('10입니다')\n",
    "5) if x = 10:\n",
    "    print('10입니다')"
   ]
  },
  {
   "cell_type": "code",
   "execution_count": null,
   "metadata": {
    "colab": {
     "base_uri": "https://localhost:8080/",
     "height": 134
    },
    "executionInfo": {
     "elapsed": 337,
     "status": "error",
     "timestamp": 1682987561747,
     "user": {
      "displayName": "김진환",
      "userId": "05184196515878785546"
     },
     "user_tz": -540
    },
    "id": "f8I5nL3Y3yqT",
    "outputId": "66c92737-ab51-467b-bf96-32dd9e3a54f2"
   },
   "outputs": [
    {
     "ename": "SyntaxError",
     "evalue": "ignored",
     "output_type": "error",
     "traceback": [
      "\u001b[0;36m  File \u001b[0;32m\"<ipython-input-13-a05c755799c3>\"\u001b[0;36m, line \u001b[0;32m1\u001b[0m\n\u001b[0;31m    if x = 10:\u001b[0m\n\u001b[0m       ^\u001b[0m\n\u001b[0;31mSyntaxError\u001b[0m\u001b[0;31m:\u001b[0m invalid syntax. Maybe you meant '==' or ':=' instead of '='?\n"
     ]
    }
   ],
   "source": [
    "if x = 10:\n",
    "  print('10입니다')"
   ]
  },
  {
   "cell_type": "markdown",
   "metadata": {
    "id": "OAid3sKg4HV5"
   },
   "source": [
    "### 1.1.2 다중 조건문 - if else문\n",
    "\n",
    "조건이 2개인 경우에는 보통 if else사용하지만 if elif사용하기도 합니다.\n",
    "\n",
    "[주의]\n",
    "* else사용할때는 누락되는 조건이 없는지 확인해봐야한다."
   ]
  },
  {
   "cell_type": "code",
   "execution_count": null,
   "metadata": {
    "colab": {
     "base_uri": "https://localhost:8080/"
    },
    "executionInfo": {
     "elapsed": 3612,
     "status": "ok",
     "timestamp": 1682987765631,
     "user": {
      "displayName": "김진환",
      "userId": "05184196515878785546"
     },
     "user_tz": -540
    },
    "id": "tNrxZVYK308g",
    "outputId": "34466391-cec1-4cb1-d1fa-50b40cb63d66"
   },
   "outputs": [
    {
     "name": "stdout",
     "output_type": "stream",
     "text": [
      "몇명이 들어왔나요?0\n",
      "잘못된 정보를 입력하였습니다.\n"
     ]
    }
   ],
   "source": [
    "# if 조건1:\n",
    "#   실행 문장 1\n",
    "# else:\n",
    "#   실행 문장 2\n",
    "\n",
    "total = int(input(\"몇명이 들어왔나요?\"))\n",
    "\n",
    "if total > 0:\n",
    "  print(f'{total} 명이 들어왔습니다.')\n",
    "else:\n",
    "  print(\"잘못된 정보를 입력하였습니다.\")"
   ]
  },
  {
   "cell_type": "code",
   "execution_count": null,
   "metadata": {
    "colab": {
     "base_uri": "https://localhost:8080/"
    },
    "executionInfo": {
     "elapsed": 2769,
     "status": "ok",
     "timestamp": 1682987870991,
     "user": {
      "displayName": "김진환",
      "userId": "05184196515878785546"
     },
     "user_tz": -540
    },
    "id": "r98UUnDB4uWR",
    "outputId": "a9ff3f5c-8d2f-4218-e06f-6e138bd9f513"
   },
   "outputs": [
    {
     "name": "stdout",
     "output_type": "stream",
     "text": [
      "오늘 날씨는 어떤가요?\n",
      "날씨가 입력되지 않았습니다.\n"
     ]
    }
   ],
   "source": [
    "#예제2. 문자열 입력시\n",
    "\n",
    "whether = input(\"오늘 날씨는 어떤가요?\")\n",
    "\n",
    "if whether != \"\":\n",
    "  print(f'오늘 날씨는 {whether} 입니다')\n",
    "else:\n",
    "  print(\"날씨가 입력되지 않았습니다.\")"
   ]
  },
  {
   "cell_type": "code",
   "execution_count": null,
   "metadata": {
    "colab": {
     "base_uri": "https://localhost:8080/"
    },
    "executionInfo": {
     "elapsed": 1182,
     "status": "ok",
     "timestamp": 1682987877255,
     "user": {
      "displayName": "김진환",
      "userId": "05184196515878785546"
     },
     "user_tz": -540
    },
    "id": "Tf4_9j-d4wXn",
    "outputId": "d10b89fd-aa66-4fb6-fdc6-435bc7d1d229"
   },
   "outputs": [
    {
     "name": "stdout",
     "output_type": "stream",
     "text": [
      "오늘 날씨는 어떤가요?\n"
     ]
    }
   ],
   "source": [
    "whether = input(\"오늘 날씨는 어떤가요?\")\n",
    "\n",
    "if whether != \"\":\n",
    "  print(f'오늘 날씨는 {whether} 입니다')"
   ]
  },
  {
   "cell_type": "markdown",
   "metadata": {
    "id": "py2qhhAE5Uf3"
   },
   "source": [
    "### 1.1.3 다중 조건문 - if elif else문\n",
    "\n",
    "조건이 3개 이상인 경우 사용이 되고, else대신에 elif 마무리는 else하는 것을 추천"
   ]
  },
  {
   "cell_type": "code",
   "execution_count": null,
   "metadata": {
    "colab": {
     "base_uri": "https://localhost:8080/"
    },
    "executionInfo": {
     "elapsed": 4088,
     "status": "ok",
     "timestamp": 1682988125239,
     "user": {
      "displayName": "김진환",
      "userId": "05184196515878785546"
     },
     "user_tz": -540
    },
    "id": "Gl7O0y5B5PoU",
    "outputId": "438acd27-5249-4f42-b872-74aa809589b3"
   },
   "outputs": [
    {
     "name": "stdout",
     "output_type": "stream",
     "text": [
      "몇명이 들어왔나요?0\n",
      "잘못된 정보를 입력하였습니다.\n"
     ]
    }
   ],
   "source": [
    "# 조건 1 100 이상 조건 2는 50~100사이 \n",
    "\n",
    "# if 조건1:\n",
    "#   실행 문장 1\n",
    "#   문장\n",
    "# elif 조건2:\n",
    "#   실행 문장 2\n",
    "#   문장\n",
    "# else:\n",
    "#   실행 문장 3\n",
    "\n",
    "total = int(input(\"몇명이 들어왔나요?\"))\n",
    "\n",
    "if total > 5:\n",
    "  print(f'{total} 명이 들어왔습니다. 많이 들어왔어요')\n",
    "elif total > 0 and total <= 5:\n",
    "  print(f'{total} 명이 들어왔습니다. 적게 들어왔어요')\n",
    "else:\n",
    "  print(\"잘못된 정보를 입력하였습니다.\")"
   ]
  },
  {
   "cell_type": "code",
   "execution_count": null,
   "metadata": {
    "colab": {
     "base_uri": "https://localhost:8080/"
    },
    "executionInfo": {
     "elapsed": 2474,
     "status": "ok",
     "timestamp": 1682988326637,
     "user": {
      "displayName": "김진환",
      "userId": "05184196515878785546"
     },
     "user_tz": -540
    },
    "id": "7d3Xs9Nc6IbJ",
    "outputId": "f49790dc-2d75-45b7-e971-7dbac743db45"
   },
   "outputs": [
    {
     "name": "stdout",
     "output_type": "stream",
     "text": [
      "오늘 날씨는 어떤가요?미세먼지\n",
      "오늘 날씨는 미세먼지 입니다 옷을 얇게 입고 가세요\n"
     ]
    }
   ],
   "source": [
    "#예제2. 문자열 입력시\n",
    "\n",
    "whether = input(\"오늘 날씨는 어떤가요?\")\n",
    "\n",
    "if whether == \"맑음\":\n",
    "  print(f'오늘 날씨는 {whether} 입니다 옷을 얇게 입고 가세요')\n",
    "elif whether == \"미세먼지\":\n",
    "  print(f'오늘 날씨는 {whether} 입니다 옷을 얇게 입고 가세요')\n",
    "else:\n",
    "  print(\"날씨가 입력되지 않았습니다.\")"
   ]
  },
  {
   "cell_type": "code",
   "execution_count": null,
   "metadata": {
    "id": "QkK07KvL6f99"
   },
   "outputs": [],
   "source": [
    "#예제3. 코드를 짜다가 생각이 나지 않아서.. \n",
    "\n",
    "# 코드\n",
    "\n",
    "# 역할 무언가있다 \n",
    "number = 0\n",
    "\n",
    "if number > 0:\n",
    "  pass\n",
    "else:\n",
    "  pass\n",
    "\n",
    "# 코드"
   ]
  },
  {
   "cell_type": "code",
   "execution_count": null,
   "metadata": {
    "colab": {
     "base_uri": "https://localhost:8080/",
     "height": 207
    },
    "executionInfo": {
     "elapsed": 3,
     "status": "error",
     "timestamp": 1682988518357,
     "user": {
      "displayName": "김진환",
      "userId": "05184196515878785546"
     },
     "user_tz": -540
    },
    "id": "vT3IrBJX7Mkx",
    "outputId": "3e72aa32-0980-47f9-9e6c-7ab40c42ff7f"
   },
   "outputs": [
    {
     "ename": "NotImplementedError",
     "evalue": "ignored",
     "output_type": "error",
     "traceback": [
      "\u001b[0;31m---------------------------------------------------------------------------\u001b[0m",
      "\u001b[0;31mNotImplementedError\u001b[0m                       Traceback (most recent call last)",
      "\u001b[0;32m<ipython-input-32-172a24a31f9d>\u001b[0m in \u001b[0;36m<cell line: 3>\u001b[0;34m()\u001b[0m\n\u001b[1;32m      4\u001b[0m   \u001b[0;32mraise\u001b[0m \u001b[0mNotImplementedError\u001b[0m\u001b[0;34m\u001b[0m\u001b[0;34m\u001b[0m\u001b[0m\n\u001b[1;32m      5\u001b[0m \u001b[0;32melse\u001b[0m\u001b[0;34m:\u001b[0m\u001b[0;34m\u001b[0m\u001b[0;34m\u001b[0m\u001b[0m\n\u001b[0;32m----> 6\u001b[0;31m   \u001b[0;32mraise\u001b[0m \u001b[0mNotImplementedError\u001b[0m\u001b[0;34m\u001b[0m\u001b[0;34m\u001b[0m\u001b[0m\n\u001b[0m",
      "\u001b[0;31mNotImplementedError\u001b[0m: "
     ]
    }
   ],
   "source": [
    "number = 0\n",
    "\n",
    "if number > 0:\n",
    "  raise NotImplementedError\n",
    "else:\n",
    "  raise NotImplementedError"
   ]
  },
  {
   "cell_type": "markdown",
   "metadata": {
    "id": "6ZOYZKSMAdsD"
   },
   "source": [
    "### 1.1.4 삼항 연산자\n",
    "\n",
    "[사용방법]\n",
    "* 참일때의 값 / if / 조건식 / else / 거짓일때 값\n",
    "* 변수로 바로 할당할 수 있음 "
   ]
  },
  {
   "cell_type": "code",
   "execution_count": null,
   "metadata": {
    "colab": {
     "base_uri": "https://localhost:8080/"
    },
    "executionInfo": {
     "elapsed": 4,
     "status": "ok",
     "timestamp": 1682989924369,
     "user": {
      "displayName": "김진환",
      "userId": "05184196515878785546"
     },
     "user_tz": -540
    },
    "id": "dq8besKT7sdX",
    "outputId": "d02bb3c7-304d-49d7-d368-70f31b472f77"
   },
   "outputs": [
    {
     "name": "stdout",
     "output_type": "stream",
     "text": [
      "성인입니다.\n"
     ]
    }
   ],
   "source": [
    "# 삼항 연산자 예시\n",
    "\n",
    "age = 21\n",
    "\n",
    "# 참일때의 값 / if / 조건식 / else / 거짓일때 값\n",
    "is_adult = \"성인입니다.\" if age > 20 else \"미성년자입니다.\"\n",
    "\n",
    "print(is_adult)"
   ]
  },
  {
   "cell_type": "markdown",
   "metadata": {
    "id": "B8uHPyNZBJUT"
   },
   "source": [
    "#1.1.5 중첩 조건문\n",
    "\n",
    "* if안에 또 다른 if를 넣어서 다양한 Case를 만족 시키는 방법"
   ]
  },
  {
   "cell_type": "code",
   "execution_count": null,
   "metadata": {
    "colab": {
     "base_uri": "https://localhost:8080/"
    },
    "executionInfo": {
     "elapsed": 2482,
     "status": "ok",
     "timestamp": 1682990306644,
     "user": {
      "displayName": "김진환",
      "userId": "05184196515878785546"
     },
     "user_tz": -540
    },
    "id": "mt285HpdBI0a",
    "outputId": "2f0072f0-62ea-484d-b093-36bdc131dc29"
   },
   "outputs": [
    {
     "name": "stdout",
     "output_type": "stream",
     "text": [
      "사과의 상태를 입력하세요(좋음, 나쁨)나쁨\n",
      "사과를 안산다\n"
     ]
    }
   ],
   "source": [
    "# 중첩 조건문 예시\n",
    "\n",
    "apple = input(\"사과의 상태를 입력하세요(좋음, 나쁨)\")\n",
    "\n",
    "if apple == \"좋음\":\n",
    "  appleprice = int(input(\"사과 한개당 가격 입력\"))\n",
    "  if appleprice < 1000:\n",
    "    print(\"10개를 산다.\")\n",
    "    print(f\"사과 가격은 {appleprice * 10} 원 입니다.\")\n",
    "  else:\n",
    "    print(\"5개를 산다\")\n",
    "    print(f\"사과 가격은 {appleprice * 5}원 입니다.\")\n",
    "else:\n",
    "  print(\"사과를 안산다\")"
   ]
  },
  {
   "cell_type": "code",
   "execution_count": null,
   "metadata": {
    "colab": {
     "base_uri": "https://localhost:8080/"
    },
    "executionInfo": {
     "elapsed": 3,
     "status": "ok",
     "timestamp": 1682990422771,
     "user": {
      "displayName": "김진환",
      "userId": "05184196515878785546"
     },
     "user_tz": -540
    },
    "id": "dre-wk0NBBTb",
    "outputId": "23f1fedc-64fd-49f9-bff4-469f75ab58bd"
   },
   "outputs": [
    {
     "name": "stdout",
     "output_type": "stream",
     "text": [
      "0은 False로 변환합니다.\n"
     ]
    }
   ],
   "source": [
    "# (True False)\n",
    "# True = 1 False 0\n",
    "\n",
    "if 0:\n",
    "  print(\"0은 True로 변환합니다.\")\n",
    "else:\n",
    "  print(\"0은 False로 변환합니다.\")"
   ]
  },
  {
   "cell_type": "code",
   "execution_count": null,
   "metadata": {
    "colab": {
     "base_uri": "https://localhost:8080/"
    },
    "executionInfo": {
     "elapsed": 4,
     "status": "ok",
     "timestamp": 1682990442712,
     "user": {
      "displayName": "김진환",
      "userId": "05184196515878785546"
     },
     "user_tz": -540
    },
    "id": "ChDQvidtC9bR",
    "outputId": "757dfa7c-e29a-4b55-f838-9adbe0e76870"
   },
   "outputs": [
    {
     "name": "stdout",
     "output_type": "stream",
     "text": [
      "0은 False로 변환합니다.\n"
     ]
    }
   ],
   "source": [
    "if \"\":\n",
    "  print(\"0은 True로 변환합니다.\")\n",
    "else:\n",
    "  print(\"0은 False로 변환합니다.\")"
   ]
  },
  {
   "cell_type": "code",
   "execution_count": null,
   "metadata": {
    "id": "HJocUZaNDCWd"
   },
   "outputs": [],
   "source": [
    "# 조건문 문제 1. 맞는 것을 선택해주세요\n",
    "\n",
    "# 1. 하나의 조건문에서 if는 한번만 사용할 수 있다.\n",
    "# 2. 하나의 조건문에서 elif는 여러번 사용할 수 있다.\n",
    "# 3. else문은 모든 조건을 만족하지 않을때 사용된다.\n",
    "# 4. else문은 생략할 수 없다."
   ]
  },
  {
   "cell_type": "code",
   "execution_count": null,
   "metadata": {
    "id": "8y8mxhp3DrsB"
   },
   "outputs": [],
   "source": [
    "# 조건문 문제 2. 어떤게 답일지 적어주세요.\n",
    "if 4 == '4':\n",
    "  print(True)\n",
    "else:\n",
    "  print(False)\n",
    "\n",
    "# A. True\n",
    "# B. False\n",
    "# C. SyntaxError\n",
    "# D. ValueError\n",
    "# E. None"
   ]
  },
  {
   "cell_type": "code",
   "execution_count": null,
   "metadata": {
    "colab": {
     "base_uri": "https://localhost:8080/"
    },
    "executionInfo": {
     "elapsed": 4,
     "status": "ok",
     "timestamp": 1682990755203,
     "user": {
      "displayName": "김진환",
      "userId": "05184196515878785546"
     },
     "user_tz": -540
    },
    "id": "l__v1-zmEOOj",
    "outputId": "6c3dd13c-a879-4bc5-b8f3-e1b9aad5db4a"
   },
   "outputs": [
    {
     "name": "stdout",
     "output_type": "stream",
     "text": [
      "False\n"
     ]
    }
   ],
   "source": [
    "if 4 == '4':\n",
    "  print(True)\n",
    "else:\n",
    "  print(False)"
   ]
  },
  {
   "cell_type": "code",
   "execution_count": null,
   "metadata": {
    "colab": {
     "base_uri": "https://localhost:8080/"
    },
    "executionInfo": {
     "elapsed": 3,
     "status": "ok",
     "timestamp": 1682990893382,
     "user": {
      "displayName": "김진환",
      "userId": "05184196515878785546"
     },
     "user_tz": -540
    },
    "id": "Bq7tZVxmEOi2",
    "outputId": "ab59fa3e-bdf8-415c-a552-852b13b1db00"
   },
   "outputs": [
    {
     "name": "stdout",
     "output_type": "stream",
     "text": [
      "숙소비용 10만원\n",
      "이용해 주셔서 감사합니다.\n"
     ]
    }
   ],
   "source": [
    "# 문제3. 테킷 숙소에는 객실당 4인에 10만원을 내야하고,\n",
    "# 1인이 추가 될때마다 추가비용이 발생되는데 실행결과로 올바른것은?\n",
    "\n",
    "total = 2 # 총인원\n",
    "if total <= 4:\n",
    "  print(\"숙소비용 10만원\")\n",
    "else:\n",
    "  print(\"추가 비용 발생\")\n",
    "print(\"이용해 주셔서 감사합니다.\")\n",
    "\n",
    "# 1. 숙소비용 10만원\n",
    "#    추가비용 발생\n",
    "#    이용해 주셔서 감사합니다.\n",
    "\n",
    "# 2. 추가 비용 발생\n",
    "#    이용해주셔서 감사합니다. \n",
    "\n",
    "# 3. 추가 비용 발생\n",
    "#     \n",
    "\n",
    "# 4. 숙소비용 10만원\n",
    "#    이용해주셔서 감사합니다.   "
   ]
  },
  {
   "cell_type": "code",
   "execution_count": null,
   "metadata": {
    "id": "LHrORMP-EwSl"
   },
   "outputs": [],
   "source": [
    "#문제 4. 다음 코드의 실행결과로 맞는 것은?\n",
    "# 입력된 나이에 따라 학교를 구분하는 조건문\n",
    "# 나이로 7을 입력했을때의 결과는?\n",
    "\n",
    "year = input('나이를 입력하세요')\n",
    "\n",
    "if 1 <= year <= 7:\n",
    "  print(\"미취학 아동입니다.\")\n",
    "elif 8 <= year <= 13:\n",
    "  print(\"초등학생입니다.\")\n",
    "elif 14 <= year <= 16:\n",
    "  print(\"중학생입니다.\")\n",
    "elif 17 <= year <= 19:\n",
    "  print(\"고등학생입니다.\")\n",
    "elif 20 <= year <= 26:\n",
    "  print(\"대학생입니다.\")\n",
    "else:\n",
    "  print(\"정수를 입력해주세요\")\n",
    "\n",
    "# 1. 정수를 입력해주세요\n",
    "# 2. 대학생입니다.\n",
    "# 3. 중학생입니다.\n",
    "# 4. 미취학 아동입니다.\n",
    "# 5. error 발생"
   ]
  },
  {
   "cell_type": "code",
   "execution_count": null,
   "metadata": {
    "id": "rdrZ39r8FN57"
   },
   "outputs": [],
   "source": [
    "# 문제 5번. 문자열로 ABC\n",
    "\n",
    "year = int(input('나이를 입력하세요'))\n",
    "\n",
    "if 1 <= year <= 7:\n",
    "  print(\"미취학 아동입니다.\")\n",
    "elif 8 <= year <= 13:\n",
    "  print(\"초등학생입니다.\")\n",
    "elif 14 <= year <= 16:\n",
    "  print(\"중학생입니다.\")\n",
    "elif 17 <= year <= 19:\n",
    "  print(\"고등학생입니다.\")\n",
    "elif 20 <= year <= 26:\n",
    "  print(\"대학생입니다.\")\n",
    "else:\n",
    "  print(\"정수를 입력해주세요\")\n",
    "\n",
    "# 1. 정수를 입력해주세요\n",
    "# 2. 대학생입니다.\n",
    "# 3. 중학생입니다.\n",
    "# 4. 미취학 아동입니다.\n",
    "# 5. error 발생"
   ]
  },
  {
   "cell_type": "code",
   "execution_count": null,
   "metadata": {
    "colab": {
     "base_uri": "https://localhost:8080/",
     "height": 261
    },
    "executionInfo": {
     "elapsed": 2890,
     "status": "error",
     "timestamp": 1682991185650,
     "user": {
      "displayName": "김진환",
      "userId": "05184196515878785546"
     },
     "user_tz": -540
    },
    "id": "ohyOoHUMF20w",
    "outputId": "2b0aead1-09e2-4369-e1e5-943661042075"
   },
   "outputs": [
    {
     "name": "stdout",
     "output_type": "stream",
     "text": [
      "나이를 입력하세요ABC\n"
     ]
    },
    {
     "ename": "ValueError",
     "evalue": "ignored",
     "output_type": "error",
     "traceback": [
      "\u001b[0;31m---------------------------------------------------------------------------\u001b[0m",
      "\u001b[0;31mValueError\u001b[0m                                Traceback (most recent call last)",
      "\u001b[0;32m<ipython-input-47-681c0871e96b>\u001b[0m in \u001b[0;36m<cell line: 1>\u001b[0;34m()\u001b[0m\n\u001b[0;32m----> 1\u001b[0;31m \u001b[0myear\u001b[0m \u001b[0;34m=\u001b[0m \u001b[0mint\u001b[0m\u001b[0;34m(\u001b[0m\u001b[0minput\u001b[0m\u001b[0;34m(\u001b[0m\u001b[0;34m'나이를 입력하세요'\u001b[0m\u001b[0;34m)\u001b[0m\u001b[0;34m)\u001b[0m\u001b[0;34m\u001b[0m\u001b[0;34m\u001b[0m\u001b[0m\n\u001b[0m\u001b[1;32m      2\u001b[0m \u001b[0;34m\u001b[0m\u001b[0m\n\u001b[1;32m      3\u001b[0m \u001b[0;32mif\u001b[0m \u001b[0;36m1\u001b[0m \u001b[0;34m<=\u001b[0m \u001b[0myear\u001b[0m \u001b[0;34m<=\u001b[0m \u001b[0;36m7\u001b[0m\u001b[0;34m:\u001b[0m\u001b[0;34m\u001b[0m\u001b[0;34m\u001b[0m\u001b[0m\n\u001b[1;32m      4\u001b[0m   \u001b[0mprint\u001b[0m\u001b[0;34m(\u001b[0m\u001b[0;34m\"미취학 아동입니다.\"\u001b[0m\u001b[0;34m)\u001b[0m\u001b[0;34m\u001b[0m\u001b[0;34m\u001b[0m\u001b[0m\n\u001b[1;32m      5\u001b[0m \u001b[0;32melif\u001b[0m \u001b[0;36m8\u001b[0m \u001b[0;34m<=\u001b[0m \u001b[0myear\u001b[0m \u001b[0;34m<=\u001b[0m \u001b[0;36m13\u001b[0m\u001b[0;34m:\u001b[0m\u001b[0;34m\u001b[0m\u001b[0;34m\u001b[0m\u001b[0m\n",
      "\u001b[0;31mValueError\u001b[0m: invalid literal for int() with base 10: 'ABC'"
     ]
    }
   ],
   "source": [
    "year = int(input('나이를 입력하세요'))\n",
    "\n",
    "if 1 <= year <= 7:\n",
    "  print(\"미취학 아동입니다.\")\n",
    "elif 8 <= year <= 13:\n",
    "  print(\"초등학생입니다.\")\n",
    "elif 14 <= year <= 16:\n",
    "  print(\"중학생입니다.\")\n",
    "elif 17 <= year <= 19:\n",
    "  print(\"고등학생입니다.\")\n",
    "elif 20 <= year <= 26:\n",
    "  print(\"대학생입니다.\")\n",
    "else:\n",
    "  print(\"정수를 입력해주세요\")"
   ]
  },
  {
   "cell_type": "code",
   "execution_count": null,
   "metadata": {
    "colab": {
     "base_uri": "https://localhost:8080/"
    },
    "executionInfo": {
     "elapsed": 2578,
     "status": "ok",
     "timestamp": 1682991246410,
     "user": {
      "displayName": "김진환",
      "userId": "05184196515878785546"
     },
     "user_tz": -540
    },
    "id": "gCErWn14F3FC",
    "outputId": "2c181790-321e-4365-d99d-a6baabd4c8e0"
   },
   "outputs": [
    {
     "name": "stdout",
     "output_type": "stream",
     "text": [
      "나이를 입력하세요-1\n",
      "정수를 입력해주세요\n"
     ]
    }
   ],
   "source": [
    "year = int(input('나이를 입력하세요'))\n",
    "\n",
    "if 1 <= year <= 7:\n",
    "  print(\"미취학 아동입니다.\")\n",
    "elif 8 <= year <= 13:\n",
    "  print(\"초등학생입니다.\")\n",
    "elif 14 <= year <= 16:\n",
    "  print(\"중학생입니다.\")\n",
    "elif 17 <= year <= 19:\n",
    "  print(\"고등학생입니다.\")\n",
    "elif 20 <= year <= 26:\n",
    "  print(\"대학생입니다.\")\n",
    "else:\n",
    "  print(\"정수를 입력해주세요\")\n"
   ]
  },
  {
   "cell_type": "code",
   "execution_count": null,
   "metadata": {
    "colab": {
     "base_uri": "https://localhost:8080/"
    },
    "executionInfo": {
     "elapsed": 1683,
     "status": "ok",
     "timestamp": 1682991527105,
     "user": {
      "displayName": "김진환",
      "userId": "05184196515878785546"
     },
     "user_tz": -540
    },
    "id": "f2o1pgLsGFoC",
    "outputId": "3278f30e-8477-435c-d98f-e1a03c837983"
   },
   "outputs": [
    {
     "name": "stdout",
     "output_type": "stream",
     "text": [
      "30\n",
      "30입니다.\n"
     ]
    }
   ],
   "source": [
    "# 문제 6번. 입력값과 결과값이 동일하게 나오려면 어떤 값을 입력해야 할까요?\n",
    "\n",
    "x = int(input())\n",
    "if 15 < x < 20:\n",
    "  print(x + 3)\n",
    "elif 21 < x < 30:\n",
    "  print(x - 5)\n",
    "else:\n",
    "  print(f'{x}입니다.')\n",
    "\n",
    "# 1. 26\n",
    "# 2. 17\n",
    "# 3. 10\n",
    "# 4. 20\n",
    "# 5. 30"
   ]
  },
  {
   "cell_type": "code",
   "execution_count": null,
   "metadata": {
    "colab": {
     "base_uri": "https://localhost:8080/"
    },
    "executionInfo": {
     "elapsed": 5,
     "status": "ok",
     "timestamp": 1682991840370,
     "user": {
      "displayName": "김진환",
      "userId": "05184196515878785546"
     },
     "user_tz": -540
    },
    "id": "d1XCbRRvHFG1",
    "outputId": "c3348f12-bc51-4e62-b63b-c68298f8ce10"
   },
   "outputs": [
    {
     "name": "stdout",
     "output_type": "stream",
     "text": [
      "[['i', 'to', 'python']]\n"
     ]
    }
   ],
   "source": [
    "# 문제 7번. 다음과 같이 코드를 작성했을때, 실행결과로 알맞은 것은?\n",
    "\n",
    "my_list = ['i','like','to','study','python']\n",
    "new_list = []\n",
    "\n",
    "i = len(my_list)\n",
    "if i == 5:\n",
    "  new_list.append(my_list[ : :2])\n",
    "print(new_list)\n",
    "\n",
    "# 1. [['i','to','python']]\n",
    "# 2. [['like','study']]\n",
    "# 3. ['i','to','python']\n",
    "# 4. ['like','study']\n",
    "# 5. ['i','like']\n",
    "# 6. [['i', 'like']]\n",
    "# 7. None"
   ]
  },
  {
   "cell_type": "code",
   "execution_count": null,
   "metadata": {
    "colab": {
     "base_uri": "https://localhost:8080/"
    },
    "executionInfo": {
     "elapsed": 327,
     "status": "ok",
     "timestamp": 1682991962692,
     "user": {
      "displayName": "김진환",
      "userId": "05184196515878785546"
     },
     "user_tz": -540
    },
    "id": "rp85piNWIXgY",
    "outputId": "2816880e-bebf-4390-98b0-af0c2dae35e3"
   },
   "outputs": [
    {
     "name": "stdout",
     "output_type": "stream",
     "text": [
      "[['i', 'like']]\n"
     ]
    }
   ],
   "source": [
    "# 문제 8번. 다음과 같이 코드를 작성했을때, 실행결과로 알맞은 것은?\n",
    "\n",
    "my_list = ['i','like','to','study','python']\n",
    "new_list = []\n",
    "\n",
    "i = len(my_list)\n",
    "if i == 5:\n",
    "  new_list.append(my_list[0:2])\n",
    "print(new_list)\n",
    "\n",
    "# 1. [['i','to','python']]\n",
    "# 2. [['like','study']]\n",
    "# 3. ['i','to','python']\n",
    "# 4. ['like','study']\n",
    "# 5. ['i','like']\n",
    "# 6. [['i', 'like']]\n",
    "# 7. None"
   ]
  },
  {
   "cell_type": "code",
   "execution_count": null,
   "metadata": {
    "colab": {
     "base_uri": "https://localhost:8080/"
    },
    "executionInfo": {
     "elapsed": 3,
     "status": "ok",
     "timestamp": 1682992043368,
     "user": {
      "displayName": "김진환",
      "userId": "05184196515878785546"
     },
     "user_tz": -540
    },
    "id": "dFvvgtPVI1cP",
    "outputId": "17651c4e-00ce-4ac9-b974-2850742ef2eb"
   },
   "outputs": [
    {
     "name": "stdout",
     "output_type": "stream",
     "text": [
      "['i', 'to', 'python']\n"
     ]
    }
   ],
   "source": [
    "# 문제 9번. 다음과 같이 코드를 작성하였을때, 실행결과로 알맞은 것은?\n",
    "my_list = ['i','like','to','study','python']\n",
    "new_list = []\n",
    "\n",
    "i = len(my_list)\n",
    "if i == 5:\n",
    "  new_list.extend(my_list[::2])\n",
    "print(new_list)\n",
    "\n",
    "# 1. [['i','to','python']]\n",
    "# 2. [['like','study']]\n",
    "# 3. ['i','to','python']\n",
    "# 4. ['like','study']\n",
    "# 5. ['i','like']\n",
    "# 6. [['i', 'like']]\n",
    "# 7. None"
   ]
  },
  {
   "cell_type": "markdown",
   "metadata": {
    "id": "9KPobWZdL1nj"
   },
   "source": [
    "# 실습 문제 풀어보기"
   ]
  },
  {
   "cell_type": "markdown",
   "metadata": {
    "id": "crQcfdJXM3pJ"
   },
   "source": [
    "문제 1. 대학교 학점은 다음과 같이 되어있음\n",
    "\n",
    "* A - 90점 이상 \n",
    "* B - 80점 이상\n",
    "* C - 60점 이상\n",
    "* D - 40점 이상\n",
    "* F - 40점 이하 \n",
    "* 결석이 3번인 경우 무조건 F\n",
    "\n",
    "중첩 조건문 또는 연산자를 활용하여 if문을 작성해보세요"
   ]
  },
  {
   "cell_type": "code",
   "execution_count": null,
   "metadata": {
    "id": "2FxW-M6YJJEe"
   },
   "outputs": [],
   "source": [
    "# 1) 학점을 조건으로 어떻게 나눌까?\n",
    "# 2) else에는 어떤것을 할당할까?\n",
    "# 3) 값을 어떻게 받을까? \n",
    "\n",
    "# 결석 횟수\n",
    "dis = 3\n",
    "# 점수 \n",
    "score = 90\n",
    "\n",
    "if dis <= 2:\n",
    "  if a >= 90:\n",
    "    print(\"A\")\n",
    "\n",
    "  #결석을 2회 이하인 학생들만 점수를 부여한다.\n",
    "\n",
    "\n",
    "  else a < 40\n",
    "    print(\"F\")\n",
    "else:\n",
    "  print(\"F\")\n",
    "  #3회 이상인 경우에는 F를 준다."
   ]
  },
  {
   "cell_type": "markdown",
   "metadata": {
    "id": "tUb372PGOY1l"
   },
   "source": [
    "문제 2. 숫자를 입력했을때 짝수와 홀수를 구분하는 if문을 작성해주세요"
   ]
  },
  {
   "cell_type": "code",
   "execution_count": null,
   "metadata": {
    "colab": {
     "base_uri": "https://localhost:8080/"
    },
    "executionInfo": {
     "elapsed": 1890,
     "status": "ok",
     "timestamp": 1682994396109,
     "user": {
      "displayName": "김진환",
      "userId": "05184196515878785546"
     },
     "user_tz": -540
    },
    "id": "CzQ7WH-FOetW",
    "outputId": "2f5b05ba-e1d4-43e3-c0eb-91cb9b61135d"
   },
   "outputs": [
    {
     "name": "stdout",
     "output_type": "stream",
     "text": [
      "정수 입력22\n",
      "짝수입니다.\n"
     ]
    }
   ],
   "source": [
    "# 1) 짝수와 홀수를 어떻게 구분할것인가?\n",
    "# 2) 숫자로 input을 받아야한다.\n",
    "# 3) 출력은 어떻게 할것인가?\n",
    "\n",
    "# 문자열\n",
    "number = input('정수 입력')\n",
    "\n",
    "# 문자열에서 뒤에서 1개를 가져와서\n",
    "last_character = number[-1]\n",
    "\n",
    "# 정수화 시킨다.\n",
    "last_number = int(last_character)\n",
    "\n",
    "# 0 ~ 9 숫자만이 last_number\n",
    "\n",
    "# 짝수 확인\n",
    "if last_number == 0 or last_number == 2 or last_number == 4 or last_number == 6 or last_number == 8:\n",
    "  print(\"짝수입니다.\")\n",
    "\n",
    "if last_number == 1 or last_number == 3 or last_number == 5 or last_number == 7 or last_number == 9:\n",
    "  print(\"홀수입니다.\")"
   ]
  },
  {
   "cell_type": "code",
   "execution_count": null,
   "metadata": {
    "id": "EX-HwJScSF3U"
   },
   "outputs": [],
   "source": [
    "number = input(\"정수 입력 > \")\n",
    "last_character = number[-1]\n",
    "\n",
    "# 짝수 조건\n",
    "if last_character in \"02468\":\n",
    "    print(\"짝수입니다\")\n",
    "    \n",
    "# 홀수 조건\n",
    "if last_character in \"13579\":\n",
    "    print(\"홀수입니다.\")"
   ]
  },
  {
   "cell_type": "code",
   "execution_count": null,
   "metadata": {
    "id": "9AIFKxruSXuV"
   },
   "outputs": [],
   "source": [
    "number = input(\"정수 입력 > \")\n",
    "number = int(number)\n",
    "\n",
    "# 짝수 조건\n",
    "if number % 2 == 0 :\n",
    "    print(\"짝수입니다\")\n",
    "    \n",
    "# 홀수 조건\n",
    "if number % 2 == 1 :\n",
    "    print(\"홀수입니다\")"
   ]
  },
  {
   "cell_type": "markdown",
   "metadata": {
    "id": "pOanbWdZSnpu"
   },
   "source": [
    "# 문제 3.\n",
    "\n",
    "* money에는 현재 돈이 얼마 있는지 input으로 받고\n",
    "* 커피는 600원 1000원 1500원 세가지가 있습니다.\n",
    "* 돈이 있어서 커피를 샀으면 거스름돈을 계산하고 만약에 돈이 부족하면 메세지를 띄워주세요"
   ]
  },
  {
   "cell_type": "code",
   "execution_count": null,
   "metadata": {
    "colab": {
     "base_uri": "https://localhost:8080/"
    },
    "executionInfo": {
     "elapsed": 4661,
     "status": "ok",
     "timestamp": 1682995300958,
     "user": {
      "displayName": "김진환",
      "userId": "05184196515878785546"
     },
     "user_tz": -540
    },
    "id": "-R55SUo6SpHO",
    "outputId": "672f0b65-0d29-4519-f960-66135b78c958"
   },
   "outputs": [
    {
     "name": "stdout",
     "output_type": "stream",
     "text": [
      "My coffee에 오신것을 환영합니다.\n",
      "현재 지갑에는 얼마가 있니?1000\n",
      "커피를 고르세요\n",
      "[1] 에스프레스 600원, [2] 아메리카노 1000원, [3] 라떼 1500원2\n",
      "거스름돈은 0 입니다.\n"
     ]
    }
   ],
   "source": [
    "print(\"My coffee에 오신것을 환영합니다.\")\n",
    "\n",
    "money = int(input(\"현재 지갑에는 얼마가 있니?\"))\n",
    "\n",
    "print(\"커피를 고르세요\")\n",
    "\n",
    "choice = int(input('[1] 에스프레스 600원, [2] 아메리카노 1000원, [3] 라떼 1500원'))\n",
    "\n",
    "if choice == 1:\n",
    "  price = 600\n",
    "elif choice == 2:\n",
    "  price = 1000\n",
    "elif choice == 3:\n",
    "  price = 1500\n",
    "else:\n",
    "  price = 0\n",
    "\n",
    "if money >= price:\n",
    "  print(f\"거스름돈은 {money - price} 입니다.\")\n",
    "else:\n",
    "  print('돈이 부족합니다.')"
   ]
  },
  {
   "cell_type": "code",
   "execution_count": null,
   "metadata": {
    "id": "Kb-vBEKUVd9t"
   },
   "outputs": [],
   "source": [
    "#교통카드 시스템 만들기\n",
    "\n",
    "if 7 <= age <= 12:\n",
    "  print('학생입니다.')\n",
    "  balance -= 650\n",
    "  if balance < 0:\n",
    "    balance += 650\n",
    "    print('잔액이 부족합니다.')\n",
    "\n",
    "else:\n",
    "  print(\"미성년자는 무료탑승입니다.\")"
   ]
  },
  {
   "cell_type": "markdown",
   "metadata": {
    "id": "4rkTUXHwWGqA"
   },
   "source": [
    "문제 4. 태어난 연도를 입력받아 생애주기 받기\n",
    "2023년 6월 28일 부터 만나이로 변경이 되면서 나이에 혼선이 생기고 있는 가운데\n",
    "정부 연령기준에 맞춰 자신이 어떤 나이대 인지 찾아보자\n",
    "\n",
    "https://www.gosims.go.kr/hh/hh001/retrieveLfcySearch.do\n",
    "\n",
    "* 정부기준으로 영유아는 0~5 / 아동은 6~12 / 청소년 13~18 / 청년 19~29 / 중년 30~49 / 장년 50~64 / 노년 65세 이상 / 연령대 무관으로 나눈다.\n",
    "* 태어난 연도를 입력 받는다.\n",
    "* 만나이 적용 날짜를 산출한다.\n",
    "* if문을 통해 어떤 종류의 생애주기 인지를 출력한다.\n",
    "* 만나이를 계산하고, 만나이 기준 생애주기를 출력하세요"
   ]
  },
  {
   "cell_type": "code",
   "execution_count": null,
   "metadata": {
    "colab": {
     "base_uri": "https://localhost:8080/"
    },
    "executionInfo": {
     "elapsed": 6173,
     "status": "ok",
     "timestamp": 1683000958430,
     "user": {
      "displayName": "김진환",
      "userId": "05184196515878785546"
     },
     "user_tz": -540
    },
    "id": "9rgAVtbdWVb_",
    "outputId": "560046fa-67cf-4e5d-8e69-950b14d4d0dd"
   },
   "outputs": [
    {
     "name": "stdout",
     "output_type": "stream",
     "text": [
      "태어난 연도를 입력하세요2020\n",
      "태어난 월을 입력하세요9\n",
      "태어난 일을 입력하세요29\n",
      "당신의 만 나이는 2 살입니다.\n",
      "2023년 6월 28일 기준 만 나이는 2 살 이므로 영유아 입니다.\n"
     ]
    }
   ],
   "source": [
    "import datetime\n",
    "from datetime import timedelta, timezone\n",
    "\n",
    "year = int(input(\"태어난 연도를 입력하세요\"))\n",
    "month = int(input(\"태어난 월을 입력하세요\"))\n",
    "day = int(input(\"태어난 일을 입력하세요\"))\n",
    "\n",
    "birthday = datetime.date(year, month, day)\n",
    "\n",
    "# 현재 날짜\n",
    "# today = datetime.date.today()\n",
    "\n",
    "# 만 나이 적용일자\n",
    "#datetime.date(2023, 6, 28)\n",
    "d_day = datetime.date(2023, 6, 28)\n",
    "\n",
    "# 만나이 계산\n",
    "\n",
    "age = d_day.year - birthday.year -((d_day.month, d_day.day) < (birthday.month, birthday.day))\n",
    "\n",
    "# 결과 출력\n",
    "print(\"당신의 만 나이는\", age, \"살입니다.\")\n",
    "\n",
    "if age >= 0 and age <= 5:\n",
    "  print(f\"2023년 6월 28일 기준 만 나이는 {age} 살 이므로 영유아 입니다.\")\n",
    "elif age >= 6 and age <= 12:\n",
    "  print(f\"2023년 6월 28일 기준 만 나이는 {age} 살 이므로 아동 입니다.\")\n",
    "elif age >= 13 and age <= 18:\n",
    "  print(f\"2023년 6월 28일 기준 만 나이는 {age} 살 이므로 청소년 입니다.\")\n",
    "elif age >= 19 and age <= 29:\n",
    "  print(f\"2023년 6월 28일 기준 만 나이는 {age} 살 이므로 청년 입니다.\")\n",
    "elif age >= 30 and age <= 49:\n",
    "  print(f\"2023년 6월 28일 기준 만 나이는 {age} 살 이므로 중년 입니다.\")\n",
    "elif age >= 50 and age <= 64:\n",
    "  print(f\"2023년 6월 28일 기준 만 나이는 {age} 살 이므로 장년 입니다.\")\n",
    "elif age >= 65:\n",
    "  print(f\"2023년 6월 28일 기준 만 나이는 {age} 살 이므로 노년 입니다.\")  \n",
    "else:\n",
    "  print(f\"연령대가 제대로 입력이 되지 않아 연령대 무관으로 분류됩니다.\")  \n"
   ]
  },
  {
   "cell_type": "code",
   "execution_count": null,
   "metadata": {
    "colab": {
     "base_uri": "https://localhost:8080/"
    },
    "executionInfo": {
     "elapsed": 301,
     "status": "ok",
     "timestamp": 1683000787538,
     "user": {
      "displayName": "김진환",
      "userId": "05184196515878785546"
     },
     "user_tz": -540
    },
    "id": "H4hJcvpsqPBB",
    "outputId": "cabade9d-4250-4f93-89b8-8760486ca89b"
   },
   "outputs": [
    {
     "name": "stdout",
     "output_type": "stream",
     "text": [
      "2023-05-02\n"
     ]
    }
   ],
   "source": [
    "# 현재 날짜\n",
    "today = datetime.date.today()\n",
    "print(today)"
   ]
  },
  {
   "cell_type": "markdown",
   "metadata": {
    "id": "Z5f1p8yUr2td"
   },
   "source": [
    "# 반복문\n",
    "\n"
   ]
  },
  {
   "cell_type": "markdown",
   "metadata": {
    "id": "qvXrkWRisUhf"
   },
   "source": [
    "* 반복문을 사용하는 이유 -> 업무의 최소화, 빠른 퇴근, 나의 체력 안배\n",
    "\n",
    "특히 데이터 분석에서는 \n",
    "* 월별/분기별/연도별 산출할 게 있을 경우\n",
    "* 컬럼별 데이터 검사 및 특이값 이상치 발견\n",
    "* Rule Base 최적 상품 추천\n",
    "* ML/DL모델을 파라미터를 바꿔서 반복 시행할때\n",
    "* 기타 3번 이상 반복 작업 해야하는 반복되는 일들\n",
    "\n",
    "에서 사용되게 됩니다.\n"
   ]
  },
  {
   "cell_type": "code",
   "execution_count": null,
   "metadata": {
    "colab": {
     "base_uri": "https://localhost:8080/"
    },
    "executionInfo": {
     "elapsed": 6,
     "status": "ok",
     "timestamp": 1683001611716,
     "user": {
      "displayName": "김진환",
      "userId": "05184196515878785546"
     },
     "user_tz": -540
    },
    "id": "z_BcNth7sPVy",
    "outputId": "b69a2175-7b84-47c0-ad78-f0c315e5a7c1"
   },
   "outputs": [
    {
     "name": "stdout",
     "output_type": "stream",
     "text": [
      "1번째 입니다.\n",
      "2번째 입니다.\n",
      "3번째 입니다.\n",
      "4번째 입니다.\n",
      "5번째 입니다.\n"
     ]
    }
   ],
   "source": [
    "# For 반복문 기초 1\n",
    "\n",
    "for x in (1,2,3,4,5):\n",
    "\tprint(f'{x}번째 입니다.')"
   ]
  },
  {
   "cell_type": "code",
   "execution_count": null,
   "metadata": {
    "id": "IvvwiFfytm6J"
   },
   "outputs": [],
   "source": [
    "#for 문의 구조\n",
    "for (변수명) in (순회 가능한 객체) :\n",
    "    수행할 문장1\n",
    "\t\t수행할 문장2"
   ]
  },
  {
   "cell_type": "code",
   "execution_count": null,
   "metadata": {
    "colab": {
     "base_uri": "https://localhost:8080/"
    },
    "executionInfo": {
     "elapsed": 487,
     "status": "ok",
     "timestamp": 1683001763919,
     "user": {
      "displayName": "김진환",
      "userId": "05184196515878785546"
     },
     "user_tz": -540
    },
    "id": "Y0cSLh_WuB5e",
    "outputId": "8b3c50e8-6677-4483-b62e-9dc001b0dc2a"
   },
   "outputs": [
    {
     "name": "stdout",
     "output_type": "stream",
     "text": [
      "h\n",
      "e\n",
      "l\n",
      "l\n",
      "o\n",
      " \n",
      "w\n",
      "o\n",
      "r\n",
      "l\n",
      "d\n"
     ]
    }
   ],
   "source": [
    "# For 반복문 기초 2\n",
    "문자열 = 'hello world'\n",
    "for a in 문자열:\n",
    "  print(a)\n"
   ]
  },
  {
   "cell_type": "code",
   "execution_count": null,
   "metadata": {
    "colab": {
     "base_uri": "https://localhost:8080/"
    },
    "executionInfo": {
     "elapsed": 2,
     "status": "ok",
     "timestamp": 1683001828989,
     "user": {
      "displayName": "김진환",
      "userId": "05184196515878785546"
     },
     "user_tz": -540
    },
    "id": "GYD8vIpxuONw",
    "outputId": "6f5bbf16-55c1-4b78-e73e-07194045f4d5"
   },
   "outputs": [
    {
     "name": "stdout",
     "output_type": "stream",
     "text": [
      "하나\n",
      "둘\n",
      "셋\n",
      "넷\n",
      "다섯\n"
     ]
    }
   ],
   "source": [
    "# 리스트를 범위로 지정한 예시\n",
    "\n",
    "list_a = ['하나','둘','셋','넷','다섯']\n",
    "\n",
    "for a in list_a:\n",
    "  print(a)"
   ]
  },
  {
   "cell_type": "code",
   "execution_count": null,
   "metadata": {
    "id": "8NtN2dREueDr"
   },
   "outputs": [],
   "source": [
    "dic_a = {\n",
    "    '하나': 'one',\n",
    "    '둘' : 'two',\n",
    "    '셋' : 'three'\n",
    "}"
   ]
  },
  {
   "cell_type": "code",
   "execution_count": null,
   "metadata": {
    "colab": {
     "base_uri": "https://localhost:8080/"
    },
    "executionInfo": {
     "elapsed": 2,
     "status": "ok",
     "timestamp": 1683001996244,
     "user": {
      "displayName": "김진환",
      "userId": "05184196515878785546"
     },
     "user_tz": -540
    },
    "id": "fEpM76Chu1iz",
    "outputId": "2ccdf410-1ead-4384-c317-a4bf50cef225"
   },
   "outputs": [
    {
     "name": "stdout",
     "output_type": "stream",
     "text": [
      "하나\n",
      "둘\n",
      "셋\n"
     ]
    }
   ],
   "source": [
    "for a in dic_a:\n",
    "  print(a)\n"
   ]
  },
  {
   "cell_type": "code",
   "execution_count": null,
   "metadata": {
    "colab": {
     "base_uri": "https://localhost:8080/"
    },
    "executionInfo": {
     "elapsed": 2,
     "status": "ok",
     "timestamp": 1683002037754,
     "user": {
      "displayName": "김진환",
      "userId": "05184196515878785546"
     },
     "user_tz": -540
    },
    "id": "NxxxoYnXu-1E",
    "outputId": "a9f1d5ab-eb5d-49db-84e8-c96374dde7bc"
   },
   "outputs": [
    {
     "name": "stdout",
     "output_type": "stream",
     "text": [
      "('하나', 'one')\n",
      "('둘', 'two')\n",
      "('셋', 'three')\n"
     ]
    }
   ],
   "source": [
    "for a in dic_a.items():\n",
    "  print(a)"
   ]
  },
  {
   "cell_type": "code",
   "execution_count": null,
   "metadata": {
    "colab": {
     "base_uri": "https://localhost:8080/"
    },
    "executionInfo": {
     "elapsed": 2,
     "status": "ok",
     "timestamp": 1683002045482,
     "user": {
      "displayName": "김진환",
      "userId": "05184196515878785546"
     },
     "user_tz": -540
    },
    "id": "8smuVLhevQtj",
    "outputId": "96720d7a-2abb-4e09-ede6-9c9ac57efd19"
   },
   "outputs": [
    {
     "name": "stdout",
     "output_type": "stream",
     "text": [
      "one\n",
      "two\n",
      "three\n"
     ]
    }
   ],
   "source": [
    "for a in dic_a.values():\n",
    "  print(a)"
   ]
  },
  {
   "cell_type": "code",
   "execution_count": null,
   "metadata": {
    "colab": {
     "base_uri": "https://localhost:8080/"
    },
    "executionInfo": {
     "elapsed": 4,
     "status": "ok",
     "timestamp": 1683002090815,
     "user": {
      "displayName": "김진환",
      "userId": "05184196515878785546"
     },
     "user_tz": -540
    },
    "id": "o_DfiKC8vS8W",
    "outputId": "05352285-fcda-4f30-ff5b-963bd41533d4"
   },
   "outputs": [
    {
     "name": "stdout",
     "output_type": "stream",
     "text": [
      "0\n",
      "1\n",
      "2\n",
      "3\n",
      "4\n"
     ]
    }
   ],
   "source": [
    "# range 1번 예제\n",
    "\n",
    "for a in range(0, 5, 1):\n",
    "  print(a)"
   ]
  },
  {
   "cell_type": "code",
   "execution_count": null,
   "metadata": {
    "colab": {
     "base_uri": "https://localhost:8080/"
    },
    "executionInfo": {
     "elapsed": 2,
     "status": "ok",
     "timestamp": 1683002115976,
     "user": {
      "displayName": "김진환",
      "userId": "05184196515878785546"
     },
     "user_tz": -540
    },
    "id": "W-q07yWtveHa",
    "outputId": "d8344fb9-18e1-4008-9b2b-a7b5813f53ed"
   },
   "outputs": [
    {
     "name": "stdout",
     "output_type": "stream",
     "text": [
      "0\n",
      "2\n",
      "4\n",
      "6\n",
      "8\n"
     ]
    }
   ],
   "source": [
    "# range 2번 예제\n",
    "\n",
    "for a in range(0, 10, 2):\n",
    "  print(a)"
   ]
  },
  {
   "cell_type": "code",
   "execution_count": null,
   "metadata": {
    "colab": {
     "base_uri": "https://localhost:8080/"
    },
    "executionInfo": {
     "elapsed": 463,
     "status": "ok",
     "timestamp": 1683002164730,
     "user": {
      "displayName": "김진환",
      "userId": "05184196515878785546"
     },
     "user_tz": -540
    },
    "id": "aa352d4HvkF4",
    "outputId": "4b72f0db-c560-4142-da5f-6bc693d5a5ac"
   },
   "outputs": [
    {
     "name": "stdout",
     "output_type": "stream",
     "text": [
      "10\n",
      "9\n",
      "8\n",
      "7\n",
      "6\n",
      "5\n",
      "4\n",
      "3\n",
      "2\n",
      "1\n"
     ]
    }
   ],
   "source": [
    "# range 2번 예제\n",
    "\n",
    "for a in range(10, 0, -1):\n",
    "  print(a)"
   ]
  },
  {
   "cell_type": "code",
   "execution_count": null,
   "metadata": {
    "colab": {
     "base_uri": "https://localhost:8080/"
    },
    "executionInfo": {
     "elapsed": 5,
     "status": "ok",
     "timestamp": 1683002208817,
     "user": {
      "displayName": "김진환",
      "userId": "05184196515878785546"
     },
     "user_tz": -540
    },
    "id": "DdTB8i4ovr39",
    "outputId": "f8c684d2-d6eb-48a4-9eda-40026b7643fa"
   },
   "outputs": [
    {
     "name": "stdout",
     "output_type": "stream",
     "text": [
      "홀수를 출력합니다.\n",
      "홀수를 출력합니다.\n",
      "홀수를 출력합니다.\n",
      "홀수를 출력합니다.\n",
      "홀수를 출력합니다.\n"
     ]
    }
   ],
   "source": [
    "# 반복문 기초 1\n",
    "for i in [1,3,5,7,9]:\n",
    "  print(\"홀수를 출력합니다.\")"
   ]
  },
  {
   "cell_type": "code",
   "execution_count": null,
   "metadata": {
    "colab": {
     "base_uri": "https://localhost:8080/"
    },
    "executionInfo": {
     "elapsed": 2,
     "status": "ok",
     "timestamp": 1683002234462,
     "user": {
      "displayName": "김진환",
      "userId": "05184196515878785546"
     },
     "user_tz": -540
    },
    "id": "CQo947IDv60G",
    "outputId": "5badb9c9-b841-450a-9241-4aec48b0a079"
   },
   "outputs": [
    {
     "name": "stdout",
     "output_type": "stream",
     "text": [
      "홀수를 출력합니다. 1\n",
      "홀수를 출력합니다. 3\n",
      "홀수를 출력합니다. 5\n",
      "홀수를 출력합니다. 7\n",
      "홀수를 출력합니다. 9\n"
     ]
    }
   ],
   "source": [
    "# 반복문 기초 2\n",
    "for i in [1,3,5,7,9]:\n",
    "  print(\"홀수를 출력합니다. {}\".format(i))"
   ]
  },
  {
   "cell_type": "code",
   "execution_count": null,
   "metadata": {
    "colab": {
     "base_uri": "https://localhost:8080/"
    },
    "executionInfo": {
     "elapsed": 3,
     "status": "ok",
     "timestamp": 1683002347326,
     "user": {
      "displayName": "김진환",
      "userId": "05184196515878785546"
     },
     "user_tz": -540
    },
    "id": "xRppYg8UwBEr",
    "outputId": "e8c9f22d-bca1-4a57-e577-176126144004"
   },
   "outputs": [
    {
     "name": "stdout",
     "output_type": "stream",
     "text": [
      "숫자를 출력합니다. 1\n",
      "숫자를 출력합니다. 2\n",
      "숫자를 출력합니다. 3\n",
      "숫자를 출력합니다. 4\n",
      "숫자를 출력합니다. 5\n",
      "숫자를 출력합니다. 6\n",
      "숫자를 출력합니다. 7\n",
      "숫자를 출력합니다. 8\n",
      "숫자를 출력합니다. 9\n",
      "숫자를 출력합니다. 10\n",
      "숫자를 출력합니다. 11\n",
      "숫자를 출력합니다. 12\n",
      "숫자를 출력합니다. 13\n",
      "숫자를 출력합니다. 14\n",
      "숫자를 출력합니다. 15\n",
      "숫자를 출력합니다. 16\n",
      "숫자를 출력합니다. 17\n",
      "숫자를 출력합니다. 18\n",
      "숫자를 출력합니다. 19\n",
      "숫자를 출력합니다. 20\n",
      "숫자를 출력합니다. 21\n",
      "숫자를 출력합니다. 22\n",
      "숫자를 출력합니다. 23\n",
      "숫자를 출력합니다. 24\n",
      "숫자를 출력합니다. 25\n",
      "숫자를 출력합니다. 26\n",
      "숫자를 출력합니다. 27\n",
      "숫자를 출력합니다. 28\n",
      "숫자를 출력합니다. 29\n",
      "숫자를 출력합니다. 30\n",
      "숫자를 출력합니다. 31\n",
      "숫자를 출력합니다. 32\n",
      "숫자를 출력합니다. 33\n",
      "숫자를 출력합니다. 34\n",
      "숫자를 출력합니다. 35\n",
      "숫자를 출력합니다. 36\n",
      "숫자를 출력합니다. 37\n",
      "숫자를 출력합니다. 38\n",
      "숫자를 출력합니다. 39\n",
      "숫자를 출력합니다. 40\n",
      "숫자를 출력합니다. 41\n",
      "숫자를 출력합니다. 42\n",
      "숫자를 출력합니다. 43\n",
      "숫자를 출력합니다. 44\n",
      "숫자를 출력합니다. 45\n",
      "숫자를 출력합니다. 46\n",
      "숫자를 출력합니다. 47\n",
      "숫자를 출력합니다. 48\n",
      "숫자를 출력합니다. 49\n",
      "숫자를 출력합니다. 50\n",
      "숫자를 출력합니다. 51\n",
      "숫자를 출력합니다. 52\n",
      "숫자를 출력합니다. 53\n",
      "숫자를 출력합니다. 54\n",
      "숫자를 출력합니다. 55\n",
      "숫자를 출력합니다. 56\n",
      "숫자를 출력합니다. 57\n",
      "숫자를 출력합니다. 58\n",
      "숫자를 출력합니다. 59\n",
      "숫자를 출력합니다. 60\n",
      "숫자를 출력합니다. 61\n",
      "숫자를 출력합니다. 62\n",
      "숫자를 출력합니다. 63\n",
      "숫자를 출력합니다. 64\n",
      "숫자를 출력합니다. 65\n",
      "숫자를 출력합니다. 66\n",
      "숫자를 출력합니다. 67\n",
      "숫자를 출력합니다. 68\n",
      "숫자를 출력합니다. 69\n",
      "숫자를 출력합니다. 70\n",
      "숫자를 출력합니다. 71\n",
      "숫자를 출력합니다. 72\n",
      "숫자를 출력합니다. 73\n",
      "숫자를 출력합니다. 74\n",
      "숫자를 출력합니다. 75\n",
      "숫자를 출력합니다. 76\n",
      "숫자를 출력합니다. 77\n",
      "숫자를 출력합니다. 78\n",
      "숫자를 출력합니다. 79\n",
      "숫자를 출력합니다. 80\n",
      "숫자를 출력합니다. 81\n",
      "숫자를 출력합니다. 82\n",
      "숫자를 출력합니다. 83\n",
      "숫자를 출력합니다. 84\n",
      "숫자를 출력합니다. 85\n",
      "숫자를 출력합니다. 86\n",
      "숫자를 출력합니다. 87\n",
      "숫자를 출력합니다. 88\n",
      "숫자를 출력합니다. 89\n",
      "숫자를 출력합니다. 90\n",
      "숫자를 출력합니다. 91\n",
      "숫자를 출력합니다. 92\n",
      "숫자를 출력합니다. 93\n",
      "숫자를 출력합니다. 94\n",
      "숫자를 출력합니다. 95\n",
      "숫자를 출력합니다. 96\n",
      "숫자를 출력합니다. 97\n",
      "숫자를 출력합니다. 98\n",
      "숫자를 출력합니다. 99\n",
      "숫자를 출력합니다. 100\n",
      "숫자를 출력합니다. 101\n",
      "숫자를 출력합니다. 102\n",
      "숫자를 출력합니다. 103\n",
      "숫자를 출력합니다. 104\n",
      "숫자를 출력합니다. 105\n",
      "숫자를 출력합니다. 106\n",
      "숫자를 출력합니다. 107\n",
      "숫자를 출력합니다. 108\n",
      "숫자를 출력합니다. 109\n",
      "숫자를 출력합니다. 110\n",
      "숫자를 출력합니다. 111\n",
      "숫자를 출력합니다. 112\n",
      "숫자를 출력합니다. 113\n",
      "숫자를 출력합니다. 114\n",
      "숫자를 출력합니다. 115\n",
      "숫자를 출력합니다. 116\n",
      "숫자를 출력합니다. 117\n",
      "숫자를 출력합니다. 118\n",
      "숫자를 출력합니다. 119\n",
      "숫자를 출력합니다. 120\n",
      "숫자를 출력합니다. 121\n",
      "숫자를 출력합니다. 122\n",
      "숫자를 출력합니다. 123\n",
      "숫자를 출력합니다. 124\n",
      "숫자를 출력합니다. 125\n",
      "숫자를 출력합니다. 126\n",
      "숫자를 출력합니다. 127\n",
      "숫자를 출력합니다. 128\n",
      "숫자를 출력합니다. 129\n",
      "숫자를 출력합니다. 130\n",
      "숫자를 출력합니다. 131\n",
      "숫자를 출력합니다. 132\n",
      "숫자를 출력합니다. 133\n",
      "숫자를 출력합니다. 134\n",
      "숫자를 출력합니다. 135\n",
      "숫자를 출력합니다. 136\n",
      "숫자를 출력합니다. 137\n",
      "숫자를 출력합니다. 138\n",
      "숫자를 출력합니다. 139\n",
      "숫자를 출력합니다. 140\n",
      "숫자를 출력합니다. 141\n",
      "숫자를 출력합니다. 142\n",
      "숫자를 출력합니다. 143\n",
      "숫자를 출력합니다. 144\n",
      "숫자를 출력합니다. 145\n",
      "숫자를 출력합니다. 146\n",
      "숫자를 출력합니다. 147\n",
      "숫자를 출력합니다. 148\n",
      "숫자를 출력합니다. 149\n",
      "숫자를 출력합니다. 150\n",
      "숫자를 출력합니다. 151\n",
      "숫자를 출력합니다. 152\n",
      "숫자를 출력합니다. 153\n",
      "숫자를 출력합니다. 154\n",
      "숫자를 출력합니다. 155\n",
      "숫자를 출력합니다. 156\n",
      "숫자를 출력합니다. 157\n",
      "숫자를 출력합니다. 158\n",
      "숫자를 출력합니다. 159\n",
      "숫자를 출력합니다. 160\n",
      "숫자를 출력합니다. 161\n",
      "숫자를 출력합니다. 162\n",
      "숫자를 출력합니다. 163\n",
      "숫자를 출력합니다. 164\n",
      "숫자를 출력합니다. 165\n",
      "숫자를 출력합니다. 166\n",
      "숫자를 출력합니다. 167\n",
      "숫자를 출력합니다. 168\n",
      "숫자를 출력합니다. 169\n",
      "숫자를 출력합니다. 170\n",
      "숫자를 출력합니다. 171\n",
      "숫자를 출력합니다. 172\n",
      "숫자를 출력합니다. 173\n",
      "숫자를 출력합니다. 174\n",
      "숫자를 출력합니다. 175\n",
      "숫자를 출력합니다. 176\n",
      "숫자를 출력합니다. 177\n",
      "숫자를 출력합니다. 178\n",
      "숫자를 출력합니다. 179\n",
      "숫자를 출력합니다. 180\n",
      "숫자를 출력합니다. 181\n",
      "숫자를 출력합니다. 182\n",
      "숫자를 출력합니다. 183\n",
      "숫자를 출력합니다. 184\n",
      "숫자를 출력합니다. 185\n",
      "숫자를 출력합니다. 186\n",
      "숫자를 출력합니다. 187\n",
      "숫자를 출력합니다. 188\n",
      "숫자를 출력합니다. 189\n",
      "숫자를 출력합니다. 190\n",
      "숫자를 출력합니다. 191\n",
      "숫자를 출력합니다. 192\n",
      "숫자를 출력합니다. 193\n",
      "숫자를 출력합니다. 194\n",
      "숫자를 출력합니다. 195\n",
      "숫자를 출력합니다. 196\n",
      "숫자를 출력합니다. 197\n",
      "숫자를 출력합니다. 198\n",
      "숫자를 출력합니다. 199\n",
      "숫자를 출력합니다. 200\n",
      "숫자를 출력합니다. 201\n",
      "숫자를 출력합니다. 202\n",
      "숫자를 출력합니다. 203\n",
      "숫자를 출력합니다. 204\n",
      "숫자를 출력합니다. 205\n",
      "숫자를 출력합니다. 206\n",
      "숫자를 출력합니다. 207\n",
      "숫자를 출력합니다. 208\n",
      "숫자를 출력합니다. 209\n",
      "숫자를 출력합니다. 210\n",
      "숫자를 출력합니다. 211\n",
      "숫자를 출력합니다. 212\n",
      "숫자를 출력합니다. 213\n",
      "숫자를 출력합니다. 214\n",
      "숫자를 출력합니다. 215\n",
      "숫자를 출력합니다. 216\n",
      "숫자를 출력합니다. 217\n",
      "숫자를 출력합니다. 218\n",
      "숫자를 출력합니다. 219\n",
      "숫자를 출력합니다. 220\n",
      "숫자를 출력합니다. 221\n",
      "숫자를 출력합니다. 222\n",
      "숫자를 출력합니다. 223\n",
      "숫자를 출력합니다. 224\n",
      "숫자를 출력합니다. 225\n",
      "숫자를 출력합니다. 226\n",
      "숫자를 출력합니다. 227\n",
      "숫자를 출력합니다. 228\n",
      "숫자를 출력합니다. 229\n",
      "숫자를 출력합니다. 230\n",
      "숫자를 출력합니다. 231\n",
      "숫자를 출력합니다. 232\n",
      "숫자를 출력합니다. 233\n",
      "숫자를 출력합니다. 234\n",
      "숫자를 출력합니다. 235\n",
      "숫자를 출력합니다. 236\n",
      "숫자를 출력합니다. 237\n",
      "숫자를 출력합니다. 238\n",
      "숫자를 출력합니다. 239\n",
      "숫자를 출력합니다. 240\n",
      "숫자를 출력합니다. 241\n",
      "숫자를 출력합니다. 242\n",
      "숫자를 출력합니다. 243\n",
      "숫자를 출력합니다. 244\n",
      "숫자를 출력합니다. 245\n",
      "숫자를 출력합니다. 246\n",
      "숫자를 출력합니다. 247\n",
      "숫자를 출력합니다. 248\n",
      "숫자를 출력합니다. 249\n",
      "숫자를 출력합니다. 250\n",
      "숫자를 출력합니다. 251\n",
      "숫자를 출력합니다. 252\n",
      "숫자를 출력합니다. 253\n",
      "숫자를 출력합니다. 254\n",
      "숫자를 출력합니다. 255\n",
      "숫자를 출력합니다. 256\n",
      "숫자를 출력합니다. 257\n",
      "숫자를 출력합니다. 258\n",
      "숫자를 출력합니다. 259\n",
      "숫자를 출력합니다. 260\n",
      "숫자를 출력합니다. 261\n",
      "숫자를 출력합니다. 262\n",
      "숫자를 출력합니다. 263\n",
      "숫자를 출력합니다. 264\n",
      "숫자를 출력합니다. 265\n",
      "숫자를 출력합니다. 266\n",
      "숫자를 출력합니다. 267\n",
      "숫자를 출력합니다. 268\n",
      "숫자를 출력합니다. 269\n",
      "숫자를 출력합니다. 270\n",
      "숫자를 출력합니다. 271\n",
      "숫자를 출력합니다. 272\n",
      "숫자를 출력합니다. 273\n",
      "숫자를 출력합니다. 274\n",
      "숫자를 출력합니다. 275\n",
      "숫자를 출력합니다. 276\n",
      "숫자를 출력합니다. 277\n",
      "숫자를 출력합니다. 278\n",
      "숫자를 출력합니다. 279\n",
      "숫자를 출력합니다. 280\n",
      "숫자를 출력합니다. 281\n",
      "숫자를 출력합니다. 282\n",
      "숫자를 출력합니다. 283\n",
      "숫자를 출력합니다. 284\n",
      "숫자를 출력합니다. 285\n",
      "숫자를 출력합니다. 286\n",
      "숫자를 출력합니다. 287\n",
      "숫자를 출력합니다. 288\n",
      "숫자를 출력합니다. 289\n",
      "숫자를 출력합니다. 290\n",
      "숫자를 출력합니다. 291\n",
      "숫자를 출력합니다. 292\n",
      "숫자를 출력합니다. 293\n",
      "숫자를 출력합니다. 294\n",
      "숫자를 출력합니다. 295\n",
      "숫자를 출력합니다. 296\n",
      "숫자를 출력합니다. 297\n",
      "숫자를 출력합니다. 298\n",
      "숫자를 출력합니다. 299\n",
      "숫자를 출력합니다. 300\n",
      "숫자를 출력합니다. 301\n",
      "숫자를 출력합니다. 302\n",
      "숫자를 출력합니다. 303\n",
      "숫자를 출력합니다. 304\n",
      "숫자를 출력합니다. 305\n",
      "숫자를 출력합니다. 306\n",
      "숫자를 출력합니다. 307\n",
      "숫자를 출력합니다. 308\n",
      "숫자를 출력합니다. 309\n",
      "숫자를 출력합니다. 310\n",
      "숫자를 출력합니다. 311\n",
      "숫자를 출력합니다. 312\n",
      "숫자를 출력합니다. 313\n",
      "숫자를 출력합니다. 314\n",
      "숫자를 출력합니다. 315\n",
      "숫자를 출력합니다. 316\n",
      "숫자를 출력합니다. 317\n",
      "숫자를 출력합니다. 318\n",
      "숫자를 출력합니다. 319\n",
      "숫자를 출력합니다. 320\n",
      "숫자를 출력합니다. 321\n",
      "숫자를 출력합니다. 322\n",
      "숫자를 출력합니다. 323\n",
      "숫자를 출력합니다. 324\n",
      "숫자를 출력합니다. 325\n",
      "숫자를 출력합니다. 326\n",
      "숫자를 출력합니다. 327\n",
      "숫자를 출력합니다. 328\n",
      "숫자를 출력합니다. 329\n",
      "숫자를 출력합니다. 330\n",
      "숫자를 출력합니다. 331\n",
      "숫자를 출력합니다. 332\n",
      "숫자를 출력합니다. 333\n",
      "숫자를 출력합니다. 334\n",
      "숫자를 출력합니다. 335\n",
      "숫자를 출력합니다. 336\n",
      "숫자를 출력합니다. 337\n",
      "숫자를 출력합니다. 338\n",
      "숫자를 출력합니다. 339\n",
      "숫자를 출력합니다. 340\n",
      "숫자를 출력합니다. 341\n",
      "숫자를 출력합니다. 342\n",
      "숫자를 출력합니다. 343\n",
      "숫자를 출력합니다. 344\n",
      "숫자를 출력합니다. 345\n",
      "숫자를 출력합니다. 346\n",
      "숫자를 출력합니다. 347\n",
      "숫자를 출력합니다. 348\n",
      "숫자를 출력합니다. 349\n",
      "숫자를 출력합니다. 350\n",
      "숫자를 출력합니다. 351\n",
      "숫자를 출력합니다. 352\n",
      "숫자를 출력합니다. 353\n",
      "숫자를 출력합니다. 354\n",
      "숫자를 출력합니다. 355\n",
      "숫자를 출력합니다. 356\n",
      "숫자를 출력합니다. 357\n",
      "숫자를 출력합니다. 358\n",
      "숫자를 출력합니다. 359\n",
      "숫자를 출력합니다. 360\n",
      "숫자를 출력합니다. 361\n",
      "숫자를 출력합니다. 362\n",
      "숫자를 출력합니다. 363\n",
      "숫자를 출력합니다. 364\n",
      "숫자를 출력합니다. 365\n",
      "숫자를 출력합니다. 366\n",
      "숫자를 출력합니다. 367\n",
      "숫자를 출력합니다. 368\n",
      "숫자를 출력합니다. 369\n",
      "숫자를 출력합니다. 370\n",
      "숫자를 출력합니다. 371\n",
      "숫자를 출력합니다. 372\n",
      "숫자를 출력합니다. 373\n",
      "숫자를 출력합니다. 374\n",
      "숫자를 출력합니다. 375\n",
      "숫자를 출력합니다. 376\n",
      "숫자를 출력합니다. 377\n",
      "숫자를 출력합니다. 378\n",
      "숫자를 출력합니다. 379\n",
      "숫자를 출력합니다. 380\n",
      "숫자를 출력합니다. 381\n",
      "숫자를 출력합니다. 382\n",
      "숫자를 출력합니다. 383\n",
      "숫자를 출력합니다. 384\n",
      "숫자를 출력합니다. 385\n",
      "숫자를 출력합니다. 386\n",
      "숫자를 출력합니다. 387\n",
      "숫자를 출력합니다. 388\n",
      "숫자를 출력합니다. 389\n",
      "숫자를 출력합니다. 390\n",
      "숫자를 출력합니다. 391\n",
      "숫자를 출력합니다. 392\n",
      "숫자를 출력합니다. 393\n",
      "숫자를 출력합니다. 394\n",
      "숫자를 출력합니다. 395\n",
      "숫자를 출력합니다. 396\n",
      "숫자를 출력합니다. 397\n",
      "숫자를 출력합니다. 398\n",
      "숫자를 출력합니다. 399\n",
      "숫자를 출력합니다. 400\n",
      "숫자를 출력합니다. 401\n",
      "숫자를 출력합니다. 402\n",
      "숫자를 출력합니다. 403\n",
      "숫자를 출력합니다. 404\n",
      "숫자를 출력합니다. 405\n",
      "숫자를 출력합니다. 406\n",
      "숫자를 출력합니다. 407\n",
      "숫자를 출력합니다. 408\n",
      "숫자를 출력합니다. 409\n",
      "숫자를 출력합니다. 410\n",
      "숫자를 출력합니다. 411\n",
      "숫자를 출력합니다. 412\n",
      "숫자를 출력합니다. 413\n",
      "숫자를 출력합니다. 414\n",
      "숫자를 출력합니다. 415\n",
      "숫자를 출력합니다. 416\n",
      "숫자를 출력합니다. 417\n",
      "숫자를 출력합니다. 418\n",
      "숫자를 출력합니다. 419\n",
      "숫자를 출력합니다. 420\n",
      "숫자를 출력합니다. 421\n",
      "숫자를 출력합니다. 422\n",
      "숫자를 출력합니다. 423\n",
      "숫자를 출력합니다. 424\n",
      "숫자를 출력합니다. 425\n",
      "숫자를 출력합니다. 426\n",
      "숫자를 출력합니다. 427\n",
      "숫자를 출력합니다. 428\n",
      "숫자를 출력합니다. 429\n",
      "숫자를 출력합니다. 430\n",
      "숫자를 출력합니다. 431\n",
      "숫자를 출력합니다. 432\n",
      "숫자를 출력합니다. 433\n",
      "숫자를 출력합니다. 434\n",
      "숫자를 출력합니다. 435\n",
      "숫자를 출력합니다. 436\n",
      "숫자를 출력합니다. 437\n",
      "숫자를 출력합니다. 438\n",
      "숫자를 출력합니다. 439\n",
      "숫자를 출력합니다. 440\n",
      "숫자를 출력합니다. 441\n",
      "숫자를 출력합니다. 442\n",
      "숫자를 출력합니다. 443\n",
      "숫자를 출력합니다. 444\n",
      "숫자를 출력합니다. 445\n",
      "숫자를 출력합니다. 446\n",
      "숫자를 출력합니다. 447\n",
      "숫자를 출력합니다. 448\n",
      "숫자를 출력합니다. 449\n",
      "숫자를 출력합니다. 450\n",
      "숫자를 출력합니다. 451\n",
      "숫자를 출력합니다. 452\n",
      "숫자를 출력합니다. 453\n",
      "숫자를 출력합니다. 454\n",
      "숫자를 출력합니다. 455\n",
      "숫자를 출력합니다. 456\n",
      "숫자를 출력합니다. 457\n",
      "숫자를 출력합니다. 458\n",
      "숫자를 출력합니다. 459\n",
      "숫자를 출력합니다. 460\n",
      "숫자를 출력합니다. 461\n",
      "숫자를 출력합니다. 462\n",
      "숫자를 출력합니다. 463\n",
      "숫자를 출력합니다. 464\n",
      "숫자를 출력합니다. 465\n",
      "숫자를 출력합니다. 466\n",
      "숫자를 출력합니다. 467\n",
      "숫자를 출력합니다. 468\n",
      "숫자를 출력합니다. 469\n",
      "숫자를 출력합니다. 470\n",
      "숫자를 출력합니다. 471\n",
      "숫자를 출력합니다. 472\n",
      "숫자를 출력합니다. 473\n",
      "숫자를 출력합니다. 474\n",
      "숫자를 출력합니다. 475\n",
      "숫자를 출력합니다. 476\n",
      "숫자를 출력합니다. 477\n",
      "숫자를 출력합니다. 478\n",
      "숫자를 출력합니다. 479\n",
      "숫자를 출력합니다. 480\n",
      "숫자를 출력합니다. 481\n",
      "숫자를 출력합니다. 482\n",
      "숫자를 출력합니다. 483\n",
      "숫자를 출력합니다. 484\n",
      "숫자를 출력합니다. 485\n",
      "숫자를 출력합니다. 486\n",
      "숫자를 출력합니다. 487\n",
      "숫자를 출력합니다. 488\n",
      "숫자를 출력합니다. 489\n",
      "숫자를 출력합니다. 490\n",
      "숫자를 출력합니다. 491\n",
      "숫자를 출력합니다. 492\n",
      "숫자를 출력합니다. 493\n",
      "숫자를 출력합니다. 494\n",
      "숫자를 출력합니다. 495\n",
      "숫자를 출력합니다. 496\n",
      "숫자를 출력합니다. 497\n",
      "숫자를 출력합니다. 498\n",
      "숫자를 출력합니다. 499\n",
      "숫자를 출력합니다. 500\n",
      "숫자를 출력합니다. 501\n",
      "숫자를 출력합니다. 502\n",
      "숫자를 출력합니다. 503\n",
      "숫자를 출력합니다. 504\n",
      "숫자를 출력합니다. 505\n",
      "숫자를 출력합니다. 506\n",
      "숫자를 출력합니다. 507\n",
      "숫자를 출력합니다. 508\n",
      "숫자를 출력합니다. 509\n",
      "숫자를 출력합니다. 510\n",
      "숫자를 출력합니다. 511\n",
      "숫자를 출력합니다. 512\n",
      "숫자를 출력합니다. 513\n",
      "숫자를 출력합니다. 514\n",
      "숫자를 출력합니다. 515\n",
      "숫자를 출력합니다. 516\n",
      "숫자를 출력합니다. 517\n",
      "숫자를 출력합니다. 518\n",
      "숫자를 출력합니다. 519\n",
      "숫자를 출력합니다. 520\n",
      "숫자를 출력합니다. 521\n",
      "숫자를 출력합니다. 522\n",
      "숫자를 출력합니다. 523\n",
      "숫자를 출력합니다. 524\n",
      "숫자를 출력합니다. 525\n",
      "숫자를 출력합니다. 526\n",
      "숫자를 출력합니다. 527\n",
      "숫자를 출력합니다. 528\n",
      "숫자를 출력합니다. 529\n",
      "숫자를 출력합니다. 530\n",
      "숫자를 출력합니다. 531\n",
      "숫자를 출력합니다. 532\n",
      "숫자를 출력합니다. 533\n",
      "숫자를 출력합니다. 534\n",
      "숫자를 출력합니다. 535\n",
      "숫자를 출력합니다. 536\n",
      "숫자를 출력합니다. 537\n",
      "숫자를 출력합니다. 538\n",
      "숫자를 출력합니다. 539\n",
      "숫자를 출력합니다. 540\n",
      "숫자를 출력합니다. 541\n",
      "숫자를 출력합니다. 542\n",
      "숫자를 출력합니다. 543\n",
      "숫자를 출력합니다. 544\n",
      "숫자를 출력합니다. 545\n",
      "숫자를 출력합니다. 546\n",
      "숫자를 출력합니다. 547\n",
      "숫자를 출력합니다. 548\n",
      "숫자를 출력합니다. 549\n",
      "숫자를 출력합니다. 550\n",
      "숫자를 출력합니다. 551\n",
      "숫자를 출력합니다. 552\n",
      "숫자를 출력합니다. 553\n",
      "숫자를 출력합니다. 554\n",
      "숫자를 출력합니다. 555\n",
      "숫자를 출력합니다. 556\n",
      "숫자를 출력합니다. 557\n",
      "숫자를 출력합니다. 558\n",
      "숫자를 출력합니다. 559\n",
      "숫자를 출력합니다. 560\n",
      "숫자를 출력합니다. 561\n",
      "숫자를 출력합니다. 562\n",
      "숫자를 출력합니다. 563\n",
      "숫자를 출력합니다. 564\n",
      "숫자를 출력합니다. 565\n",
      "숫자를 출력합니다. 566\n",
      "숫자를 출력합니다. 567\n",
      "숫자를 출력합니다. 568\n",
      "숫자를 출력합니다. 569\n",
      "숫자를 출력합니다. 570\n",
      "숫자를 출력합니다. 571\n",
      "숫자를 출력합니다. 572\n",
      "숫자를 출력합니다. 573\n",
      "숫자를 출력합니다. 574\n",
      "숫자를 출력합니다. 575\n",
      "숫자를 출력합니다. 576\n",
      "숫자를 출력합니다. 577\n",
      "숫자를 출력합니다. 578\n",
      "숫자를 출력합니다. 579\n",
      "숫자를 출력합니다. 580\n",
      "숫자를 출력합니다. 581\n",
      "숫자를 출력합니다. 582\n",
      "숫자를 출력합니다. 583\n",
      "숫자를 출력합니다. 584\n",
      "숫자를 출력합니다. 585\n",
      "숫자를 출력합니다. 586\n",
      "숫자를 출력합니다. 587\n",
      "숫자를 출력합니다. 588\n",
      "숫자를 출력합니다. 589\n",
      "숫자를 출력합니다. 590\n",
      "숫자를 출력합니다. 591\n",
      "숫자를 출력합니다. 592\n",
      "숫자를 출력합니다. 593\n",
      "숫자를 출력합니다. 594\n",
      "숫자를 출력합니다. 595\n",
      "숫자를 출력합니다. 596\n",
      "숫자를 출력합니다. 597\n",
      "숫자를 출력합니다. 598\n",
      "숫자를 출력합니다. 599\n",
      "숫자를 출력합니다. 600\n",
      "숫자를 출력합니다. 601\n",
      "숫자를 출력합니다. 602\n",
      "숫자를 출력합니다. 603\n",
      "숫자를 출력합니다. 604\n",
      "숫자를 출력합니다. 605\n",
      "숫자를 출력합니다. 606\n",
      "숫자를 출력합니다. 607\n",
      "숫자를 출력합니다. 608\n",
      "숫자를 출력합니다. 609\n",
      "숫자를 출력합니다. 610\n",
      "숫자를 출력합니다. 611\n",
      "숫자를 출력합니다. 612\n",
      "숫자를 출력합니다. 613\n",
      "숫자를 출력합니다. 614\n",
      "숫자를 출력합니다. 615\n",
      "숫자를 출력합니다. 616\n",
      "숫자를 출력합니다. 617\n",
      "숫자를 출력합니다. 618\n",
      "숫자를 출력합니다. 619\n",
      "숫자를 출력합니다. 620\n",
      "숫자를 출력합니다. 621\n",
      "숫자를 출력합니다. 622\n",
      "숫자를 출력합니다. 623\n",
      "숫자를 출력합니다. 624\n",
      "숫자를 출력합니다. 625\n",
      "숫자를 출력합니다. 626\n",
      "숫자를 출력합니다. 627\n",
      "숫자를 출력합니다. 628\n",
      "숫자를 출력합니다. 629\n",
      "숫자를 출력합니다. 630\n",
      "숫자를 출력합니다. 631\n",
      "숫자를 출력합니다. 632\n",
      "숫자를 출력합니다. 633\n",
      "숫자를 출력합니다. 634\n",
      "숫자를 출력합니다. 635\n",
      "숫자를 출력합니다. 636\n",
      "숫자를 출력합니다. 637\n",
      "숫자를 출력합니다. 638\n",
      "숫자를 출력합니다. 639\n",
      "숫자를 출력합니다. 640\n",
      "숫자를 출력합니다. 641\n",
      "숫자를 출력합니다. 642\n",
      "숫자를 출력합니다. 643\n",
      "숫자를 출력합니다. 644\n",
      "숫자를 출력합니다. 645\n",
      "숫자를 출력합니다. 646\n",
      "숫자를 출력합니다. 647\n",
      "숫자를 출력합니다. 648\n",
      "숫자를 출력합니다. 649\n",
      "숫자를 출력합니다. 650\n",
      "숫자를 출력합니다. 651\n",
      "숫자를 출력합니다. 652\n",
      "숫자를 출력합니다. 653\n",
      "숫자를 출력합니다. 654\n",
      "숫자를 출력합니다. 655\n",
      "숫자를 출력합니다. 656\n",
      "숫자를 출력합니다. 657\n",
      "숫자를 출력합니다. 658\n",
      "숫자를 출력합니다. 659\n",
      "숫자를 출력합니다. 660\n",
      "숫자를 출력합니다. 661\n",
      "숫자를 출력합니다. 662\n",
      "숫자를 출력합니다. 663\n",
      "숫자를 출력합니다. 664\n",
      "숫자를 출력합니다. 665\n",
      "숫자를 출력합니다. 666\n",
      "숫자를 출력합니다. 667\n",
      "숫자를 출력합니다. 668\n",
      "숫자를 출력합니다. 669\n",
      "숫자를 출력합니다. 670\n",
      "숫자를 출력합니다. 671\n",
      "숫자를 출력합니다. 672\n",
      "숫자를 출력합니다. 673\n",
      "숫자를 출력합니다. 674\n",
      "숫자를 출력합니다. 675\n",
      "숫자를 출력합니다. 676\n",
      "숫자를 출력합니다. 677\n",
      "숫자를 출력합니다. 678\n",
      "숫자를 출력합니다. 679\n",
      "숫자를 출력합니다. 680\n",
      "숫자를 출력합니다. 681\n",
      "숫자를 출력합니다. 682\n",
      "숫자를 출력합니다. 683\n",
      "숫자를 출력합니다. 684\n",
      "숫자를 출력합니다. 685\n",
      "숫자를 출력합니다. 686\n",
      "숫자를 출력합니다. 687\n",
      "숫자를 출력합니다. 688\n",
      "숫자를 출력합니다. 689\n",
      "숫자를 출력합니다. 690\n",
      "숫자를 출력합니다. 691\n",
      "숫자를 출력합니다. 692\n",
      "숫자를 출력합니다. 693\n",
      "숫자를 출력합니다. 694\n",
      "숫자를 출력합니다. 695\n",
      "숫자를 출력합니다. 696\n",
      "숫자를 출력합니다. 697\n",
      "숫자를 출력합니다. 698\n",
      "숫자를 출력합니다. 699\n",
      "숫자를 출력합니다. 700\n",
      "숫자를 출력합니다. 701\n",
      "숫자를 출력합니다. 702\n",
      "숫자를 출력합니다. 703\n",
      "숫자를 출력합니다. 704\n",
      "숫자를 출력합니다. 705\n",
      "숫자를 출력합니다. 706\n",
      "숫자를 출력합니다. 707\n",
      "숫자를 출력합니다. 708\n",
      "숫자를 출력합니다. 709\n",
      "숫자를 출력합니다. 710\n",
      "숫자를 출력합니다. 711\n",
      "숫자를 출력합니다. 712\n",
      "숫자를 출력합니다. 713\n",
      "숫자를 출력합니다. 714\n",
      "숫자를 출력합니다. 715\n",
      "숫자를 출력합니다. 716\n",
      "숫자를 출력합니다. 717\n",
      "숫자를 출력합니다. 718\n",
      "숫자를 출력합니다. 719\n",
      "숫자를 출력합니다. 720\n",
      "숫자를 출력합니다. 721\n",
      "숫자를 출력합니다. 722\n",
      "숫자를 출력합니다. 723\n",
      "숫자를 출력합니다. 724\n",
      "숫자를 출력합니다. 725\n",
      "숫자를 출력합니다. 726\n",
      "숫자를 출력합니다. 727\n",
      "숫자를 출력합니다. 728\n",
      "숫자를 출력합니다. 729\n",
      "숫자를 출력합니다. 730\n",
      "숫자를 출력합니다. 731\n",
      "숫자를 출력합니다. 732\n",
      "숫자를 출력합니다. 733\n",
      "숫자를 출력합니다. 734\n",
      "숫자를 출력합니다. 735\n",
      "숫자를 출력합니다. 736\n",
      "숫자를 출력합니다. 737\n",
      "숫자를 출력합니다. 738\n",
      "숫자를 출력합니다. 739\n",
      "숫자를 출력합니다. 740\n",
      "숫자를 출력합니다. 741\n",
      "숫자를 출력합니다. 742\n",
      "숫자를 출력합니다. 743\n",
      "숫자를 출력합니다. 744\n",
      "숫자를 출력합니다. 745\n",
      "숫자를 출력합니다. 746\n",
      "숫자를 출력합니다. 747\n",
      "숫자를 출력합니다. 748\n",
      "숫자를 출력합니다. 749\n",
      "숫자를 출력합니다. 750\n",
      "숫자를 출력합니다. 751\n",
      "숫자를 출력합니다. 752\n",
      "숫자를 출력합니다. 753\n",
      "숫자를 출력합니다. 754\n",
      "숫자를 출력합니다. 755\n",
      "숫자를 출력합니다. 756\n",
      "숫자를 출력합니다. 757\n",
      "숫자를 출력합니다. 758\n",
      "숫자를 출력합니다. 759\n",
      "숫자를 출력합니다. 760\n",
      "숫자를 출력합니다. 761\n",
      "숫자를 출력합니다. 762\n",
      "숫자를 출력합니다. 763\n",
      "숫자를 출력합니다. 764\n",
      "숫자를 출력합니다. 765\n",
      "숫자를 출력합니다. 766\n",
      "숫자를 출력합니다. 767\n",
      "숫자를 출력합니다. 768\n",
      "숫자를 출력합니다. 769\n",
      "숫자를 출력합니다. 770\n",
      "숫자를 출력합니다. 771\n",
      "숫자를 출력합니다. 772\n",
      "숫자를 출력합니다. 773\n",
      "숫자를 출력합니다. 774\n",
      "숫자를 출력합니다. 775\n",
      "숫자를 출력합니다. 776\n",
      "숫자를 출력합니다. 777\n",
      "숫자를 출력합니다. 778\n",
      "숫자를 출력합니다. 779\n",
      "숫자를 출력합니다. 780\n",
      "숫자를 출력합니다. 781\n",
      "숫자를 출력합니다. 782\n",
      "숫자를 출력합니다. 783\n",
      "숫자를 출력합니다. 784\n",
      "숫자를 출력합니다. 785\n",
      "숫자를 출력합니다. 786\n",
      "숫자를 출력합니다. 787\n",
      "숫자를 출력합니다. 788\n",
      "숫자를 출력합니다. 789\n",
      "숫자를 출력합니다. 790\n",
      "숫자를 출력합니다. 791\n",
      "숫자를 출력합니다. 792\n",
      "숫자를 출력합니다. 793\n",
      "숫자를 출력합니다. 794\n",
      "숫자를 출력합니다. 795\n",
      "숫자를 출력합니다. 796\n",
      "숫자를 출력합니다. 797\n",
      "숫자를 출력합니다. 798\n",
      "숫자를 출력합니다. 799\n",
      "숫자를 출력합니다. 800\n",
      "숫자를 출력합니다. 801\n",
      "숫자를 출력합니다. 802\n",
      "숫자를 출력합니다. 803\n",
      "숫자를 출력합니다. 804\n",
      "숫자를 출력합니다. 805\n",
      "숫자를 출력합니다. 806\n",
      "숫자를 출력합니다. 807\n",
      "숫자를 출력합니다. 808\n",
      "숫자를 출력합니다. 809\n",
      "숫자를 출력합니다. 810\n",
      "숫자를 출력합니다. 811\n",
      "숫자를 출력합니다. 812\n",
      "숫자를 출력합니다. 813\n",
      "숫자를 출력합니다. 814\n",
      "숫자를 출력합니다. 815\n",
      "숫자를 출력합니다. 816\n",
      "숫자를 출력합니다. 817\n",
      "숫자를 출력합니다. 818\n",
      "숫자를 출력합니다. 819\n",
      "숫자를 출력합니다. 820\n",
      "숫자를 출력합니다. 821\n",
      "숫자를 출력합니다. 822\n",
      "숫자를 출력합니다. 823\n",
      "숫자를 출력합니다. 824\n",
      "숫자를 출력합니다. 825\n",
      "숫자를 출력합니다. 826\n",
      "숫자를 출력합니다. 827\n",
      "숫자를 출력합니다. 828\n",
      "숫자를 출력합니다. 829\n",
      "숫자를 출력합니다. 830\n",
      "숫자를 출력합니다. 831\n",
      "숫자를 출력합니다. 832\n",
      "숫자를 출력합니다. 833\n",
      "숫자를 출력합니다. 834\n",
      "숫자를 출력합니다. 835\n",
      "숫자를 출력합니다. 836\n",
      "숫자를 출력합니다. 837\n",
      "숫자를 출력합니다. 838\n",
      "숫자를 출력합니다. 839\n",
      "숫자를 출력합니다. 840\n",
      "숫자를 출력합니다. 841\n",
      "숫자를 출력합니다. 842\n",
      "숫자를 출력합니다. 843\n",
      "숫자를 출력합니다. 844\n",
      "숫자를 출력합니다. 845\n",
      "숫자를 출력합니다. 846\n",
      "숫자를 출력합니다. 847\n",
      "숫자를 출력합니다. 848\n",
      "숫자를 출력합니다. 849\n",
      "숫자를 출력합니다. 850\n",
      "숫자를 출력합니다. 851\n",
      "숫자를 출력합니다. 852\n",
      "숫자를 출력합니다. 853\n",
      "숫자를 출력합니다. 854\n",
      "숫자를 출력합니다. 855\n",
      "숫자를 출력합니다. 856\n",
      "숫자를 출력합니다. 857\n",
      "숫자를 출력합니다. 858\n",
      "숫자를 출력합니다. 859\n",
      "숫자를 출력합니다. 860\n",
      "숫자를 출력합니다. 861\n",
      "숫자를 출력합니다. 862\n",
      "숫자를 출력합니다. 863\n",
      "숫자를 출력합니다. 864\n",
      "숫자를 출력합니다. 865\n",
      "숫자를 출력합니다. 866\n",
      "숫자를 출력합니다. 867\n",
      "숫자를 출력합니다. 868\n",
      "숫자를 출력합니다. 869\n",
      "숫자를 출력합니다. 870\n",
      "숫자를 출력합니다. 871\n",
      "숫자를 출력합니다. 872\n",
      "숫자를 출력합니다. 873\n",
      "숫자를 출력합니다. 874\n",
      "숫자를 출력합니다. 875\n",
      "숫자를 출력합니다. 876\n",
      "숫자를 출력합니다. 877\n",
      "숫자를 출력합니다. 878\n",
      "숫자를 출력합니다. 879\n",
      "숫자를 출력합니다. 880\n",
      "숫자를 출력합니다. 881\n",
      "숫자를 출력합니다. 882\n",
      "숫자를 출력합니다. 883\n",
      "숫자를 출력합니다. 884\n",
      "숫자를 출력합니다. 885\n",
      "숫자를 출력합니다. 886\n",
      "숫자를 출력합니다. 887\n",
      "숫자를 출력합니다. 888\n",
      "숫자를 출력합니다. 889\n",
      "숫자를 출력합니다. 890\n",
      "숫자를 출력합니다. 891\n",
      "숫자를 출력합니다. 892\n",
      "숫자를 출력합니다. 893\n",
      "숫자를 출력합니다. 894\n",
      "숫자를 출력합니다. 895\n",
      "숫자를 출력합니다. 896\n",
      "숫자를 출력합니다. 897\n",
      "숫자를 출력합니다. 898\n",
      "숫자를 출력합니다. 899\n",
      "숫자를 출력합니다. 900\n",
      "숫자를 출력합니다. 901\n",
      "숫자를 출력합니다. 902\n",
      "숫자를 출력합니다. 903\n",
      "숫자를 출력합니다. 904\n",
      "숫자를 출력합니다. 905\n",
      "숫자를 출력합니다. 906\n",
      "숫자를 출력합니다. 907\n",
      "숫자를 출력합니다. 908\n",
      "숫자를 출력합니다. 909\n",
      "숫자를 출력합니다. 910\n",
      "숫자를 출력합니다. 911\n",
      "숫자를 출력합니다. 912\n",
      "숫자를 출력합니다. 913\n",
      "숫자를 출력합니다. 914\n",
      "숫자를 출력합니다. 915\n",
      "숫자를 출력합니다. 916\n",
      "숫자를 출력합니다. 917\n",
      "숫자를 출력합니다. 918\n",
      "숫자를 출력합니다. 919\n",
      "숫자를 출력합니다. 920\n",
      "숫자를 출력합니다. 921\n",
      "숫자를 출력합니다. 922\n",
      "숫자를 출력합니다. 923\n",
      "숫자를 출력합니다. 924\n",
      "숫자를 출력합니다. 925\n",
      "숫자를 출력합니다. 926\n",
      "숫자를 출력합니다. 927\n",
      "숫자를 출력합니다. 928\n",
      "숫자를 출력합니다. 929\n",
      "숫자를 출력합니다. 930\n",
      "숫자를 출력합니다. 931\n",
      "숫자를 출력합니다. 932\n",
      "숫자를 출력합니다. 933\n",
      "숫자를 출력합니다. 934\n",
      "숫자를 출력합니다. 935\n",
      "숫자를 출력합니다. 936\n",
      "숫자를 출력합니다. 937\n",
      "숫자를 출력합니다. 938\n",
      "숫자를 출력합니다. 939\n",
      "숫자를 출력합니다. 940\n",
      "숫자를 출력합니다. 941\n",
      "숫자를 출력합니다. 942\n",
      "숫자를 출력합니다. 943\n",
      "숫자를 출력합니다. 944\n",
      "숫자를 출력합니다. 945\n",
      "숫자를 출력합니다. 946\n",
      "숫자를 출력합니다. 947\n",
      "숫자를 출력합니다. 948\n",
      "숫자를 출력합니다. 949\n",
      "숫자를 출력합니다. 950\n",
      "숫자를 출력합니다. 951\n",
      "숫자를 출력합니다. 952\n",
      "숫자를 출력합니다. 953\n",
      "숫자를 출력합니다. 954\n",
      "숫자를 출력합니다. 955\n",
      "숫자를 출력합니다. 956\n",
      "숫자를 출력합니다. 957\n",
      "숫자를 출력합니다. 958\n",
      "숫자를 출력합니다. 959\n",
      "숫자를 출력합니다. 960\n",
      "숫자를 출력합니다. 961\n",
      "숫자를 출력합니다. 962\n",
      "숫자를 출력합니다. 963\n",
      "숫자를 출력합니다. 964\n",
      "숫자를 출력합니다. 965\n",
      "숫자를 출력합니다. 966\n",
      "숫자를 출력합니다. 967\n",
      "숫자를 출력합니다. 968\n",
      "숫자를 출력합니다. 969\n",
      "숫자를 출력합니다. 970\n",
      "숫자를 출력합니다. 971\n",
      "숫자를 출력합니다. 972\n",
      "숫자를 출력합니다. 973\n",
      "숫자를 출력합니다. 974\n",
      "숫자를 출력합니다. 975\n",
      "숫자를 출력합니다. 976\n",
      "숫자를 출력합니다. 977\n",
      "숫자를 출력합니다. 978\n",
      "숫자를 출력합니다. 979\n",
      "숫자를 출력합니다. 980\n",
      "숫자를 출력합니다. 981\n",
      "숫자를 출력합니다. 982\n",
      "숫자를 출력합니다. 983\n",
      "숫자를 출력합니다. 984\n",
      "숫자를 출력합니다. 985\n",
      "숫자를 출력합니다. 986\n",
      "숫자를 출력합니다. 987\n",
      "숫자를 출력합니다. 988\n",
      "숫자를 출력합니다. 989\n",
      "숫자를 출력합니다. 990\n",
      "숫자를 출력합니다. 991\n",
      "숫자를 출력합니다. 992\n",
      "숫자를 출력합니다. 993\n",
      "숫자를 출력합니다. 994\n",
      "숫자를 출력합니다. 995\n",
      "숫자를 출력합니다. 996\n",
      "숫자를 출력합니다. 997\n",
      "숫자를 출력합니다. 998\n",
      "숫자를 출력합니다. 999\n",
      "프로그램을 수행하는데 0.30655735300000053초가 걸렸습니다.\n"
     ]
    }
   ],
   "source": [
    "# 반복문 기초 3\n",
    "from time import process_time\n",
    "\n",
    "start = process_time()\n",
    "\n",
    "# 1,000,000 ~ 하루 / 이틀 / 일주일\n",
    "for i in range(1, 10000):\n",
    "  print(f'숫자를 출력합니다. {i}')\n",
    "\n",
    "end = process_time()\n",
    "print(f'프로그램을 수행하는데 {end - start}초가 걸렸습니다.')"
   ]
  },
  {
   "cell_type": "code",
   "execution_count": null,
   "metadata": {
    "colab": {
     "base_uri": "https://localhost:8080/"
    },
    "executionInfo": {
     "elapsed": 1,
     "status": "ok",
     "timestamp": 1683002564256,
     "user": {
      "displayName": "김진환",
      "userId": "05184196515878785546"
     },
     "user_tz": -540
    },
    "id": "w3U4JH1hxB47",
    "outputId": "2ab98ffd-ac22-4a6c-fdd0-95174c362836"
   },
   "outputs": [
    {
     "name": "stdout",
     "output_type": "stream",
     "text": [
      "p\n",
      "y\n",
      "t\n",
      "h\n",
      "o\n",
      "n\n"
     ]
    }
   ],
   "source": [
    "# 반복문 기초 - 문자열\n",
    "\n",
    "for i in 'python':\n",
    "  print(i)"
   ]
  },
  {
   "cell_type": "code",
   "execution_count": null,
   "metadata": {
    "colab": {
     "base_uri": "https://localhost:8080/"
    },
    "executionInfo": {
     "elapsed": 2,
     "status": "ok",
     "timestamp": 1683002583506,
     "user": {
      "displayName": "김진환",
      "userId": "05184196515878785546"
     },
     "user_tz": -540
    },
    "id": "34jnN1XQwaAw",
    "outputId": "8e8b4e12-a30c-4427-a84c-33f84a66dd9a"
   },
   "outputs": [
    {
     "name": "stdout",
     "output_type": "stream",
     "text": [
      "python\n",
      "numpy\n",
      "pandas\n"
     ]
    }
   ],
   "source": [
    "for i in ['python','numpy','pandas']:\n",
    "  print(i)"
   ]
  },
  {
   "cell_type": "code",
   "execution_count": null,
   "metadata": {
    "colab": {
     "base_uri": "https://localhost:8080/"
    },
    "executionInfo": {
     "elapsed": 521,
     "status": "ok",
     "timestamp": 1683002603972,
     "user": {
      "displayName": "김진환",
      "userId": "05184196515878785546"
     },
     "user_tz": -540
    },
    "id": "VPGk-9m_xBVD",
    "outputId": "c7f0c549-3cc3-416b-bd50-7a5e510e41d5"
   },
   "outputs": [
    {
     "name": "stdout",
     "output_type": "stream",
     "text": [
      "출력된 문자는 key1 입니다.\n",
      "출력된 문자는 key2 입니다.\n",
      "출력된 문자는 key3 입니다.\n",
      "\n",
      "출력된 문자는 1000 입니다.\n",
      "출력된 문자는 2000 입니다.\n",
      "출력된 문자는 3000 입니다.\n",
      "\n",
      "출력된 문자는 ('key1', 1000) 입니다.\n",
      "출력된 문자는 ('key2', 2000) 입니다.\n",
      "출력된 문자는 ('key3', 3000) 입니다.\n"
     ]
    }
   ],
   "source": [
    "# 반복문 기초 7 - 딕셔너리\n",
    "\n",
    "d = {\"key1\" : 1000 , \"key2\" : 2000, \"key3\" : 3000}\n",
    "for i in d.keys():\n",
    "  print(\"출력된 문자는\", i, \"입니다.\")\n",
    "\n",
    "print()\n",
    "\n",
    "# 반복문 기초 7 - 딕셔너리\n",
    "\n",
    "d = {\"key1\" : 1000 , \"key2\" : 2000, \"key3\" : 3000}\n",
    "for i in d.values():\n",
    "  print(\"출력된 문자는\", i, \"입니다.\")\n",
    "\n",
    "print()\n",
    "# 반복문 기초 7 - 딕셔너리\n",
    "\n",
    "d = {\"key1\" : 1000 , \"key2\" : 2000, \"key3\" : 3000}\n",
    "for i in d.items():\n",
    "  print(\"출력된 문자는\", i, \"입니다.\")"
   ]
  },
  {
   "cell_type": "code",
   "execution_count": null,
   "metadata": {
    "colab": {
     "base_uri": "https://localhost:8080/"
    },
    "executionInfo": {
     "elapsed": 2,
     "status": "ok",
     "timestamp": 1683002800630,
     "user": {
      "displayName": "김진환",
      "userId": "05184196515878785546"
     },
     "user_tz": -540
    },
    "id": "F89lyqqMxbJK",
    "outputId": "57b91880-ed48-4524-c86d-a0f0a15e2b4d"
   },
   "outputs": [
    {
     "name": "stdout",
     "output_type": "stream",
     "text": [
      "0 물고기를 잡았습니다.\n",
      "1 물고기를 잡았습니다.\n",
      "2 물고기를 잡았습니다.\n",
      "3 물고기를 잡았습니다.\n",
      "4 물고기를 잡았습니다.\n",
      "5 물고기를 잡았습니다.\n",
      "만선입니다. 물고기를 다 잡았습니다.\n",
      "수고하셨습니다.\n"
     ]
    }
   ],
   "source": [
    "# for, else 예제\n",
    "# 5마리를 잡으면 배가 꽉 차는 상황\n",
    "\n",
    "for i in range(100):\n",
    "  print(f'{i} 물고기를 잡았습니다.')\n",
    "  if i == 5:\n",
    "    print('만선입니다. 물고기를 다 잡았습니다.')\n",
    "    break # 더이상 문장을 실행하지 않고, 종료\n",
    "else:\n",
    "  print('아직 여유가 있어... 만족하고 돌아갑시다.')\n",
    "print('수고하셨습니다.')"
   ]
  },
  {
   "cell_type": "code",
   "execution_count": null,
   "metadata": {
    "colab": {
     "base_uri": "https://localhost:8080/"
    },
    "executionInfo": {
     "elapsed": 2,
     "status": "ok",
     "timestamp": 1683002843914,
     "user": {
      "displayName": "김진환",
      "userId": "05184196515878785546"
     },
     "user_tz": -540
    },
    "id": "WfQzh6spyLaP",
    "outputId": "4768be1c-3d92-4936-e781-e5ff9e9988eb"
   },
   "outputs": [
    {
     "name": "stdout",
     "output_type": "stream",
     "text": [
      "0 물고기를 잡았습니다.\n",
      "1 물고기를 잡았습니다.\n",
      "2 물고기를 잡았습니다.\n",
      "3 물고기를 잡았습니다.\n",
      "4 물고기를 잡았습니다.\n",
      "아직 여유가 좀 있지만, 물고기가 더 없는 것 같으니 이정도로 만족하고 돌아갑시다.\n",
      "수고하셨습니다.\n"
     ]
    }
   ],
   "source": [
    "for i in range(5):\n",
    "    print(f'{i} 물고기를 잡았습니다.')\n",
    "    if i == 5:\n",
    "        print('만선입니다. 물고기를 다 잡았습니다.')\n",
    "        break\n",
    "else:\n",
    "    print('아직 여유가 좀 있지만, 물고기가 더 없는 것 같으니 이정도로 만족하고 돌아갑시다.')\n",
    "print('수고하셨습니다.')"
   ]
  },
  {
   "cell_type": "code",
   "execution_count": null,
   "metadata": {
    "colab": {
     "base_uri": "https://localhost:8080/"
    },
    "executionInfo": {
     "elapsed": 5,
     "status": "ok",
     "timestamp": 1683002976942,
     "user": {
      "displayName": "김진환",
      "userId": "05184196515878785546"
     },
     "user_tz": -540
    },
    "id": "5_W6qTrSyV2s",
    "outputId": "92fc25ca-b6d8-4b03-be18-4b5c99e408e1"
   },
   "outputs": [
    {
     "name": "stdout",
     "output_type": "stream",
     "text": [
      "음수가 발견되었습니다. 프로그램을 종료합니다.\n"
     ]
    }
   ],
   "source": [
    "l = [0, 3, -1, 10]\n",
    "\n",
    "for x in l:\n",
    "  if x < 0:\n",
    "    print(\"음수가 발견되었습니다. 프로그램을 종료합니다.\")\n",
    "    break\n",
    "else:\n",
    "  print('음수를 발견하지 못했습니다.')\n"
   ]
  },
  {
   "cell_type": "code",
   "execution_count": null,
   "metadata": {
    "colab": {
     "base_uri": "https://localhost:8080/"
    },
    "executionInfo": {
     "elapsed": 2,
     "status": "ok",
     "timestamp": 1683004422801,
     "user": {
      "displayName": "김진환",
      "userId": "05184196515878785546"
     },
     "user_tz": -540
    },
    "id": "4QJV5Sg6y1XN",
    "outputId": "5a2f65b1-6558-44d4-cdf7-445031bf4377"
   },
   "outputs": [
    {
     "name": "stdout",
     "output_type": "stream",
     "text": [
      "3\n"
     ]
    }
   ],
   "source": [
    "# 반복문 기초 break - coutinue\n",
    "\n",
    "# 반복 출력\n",
    "\n",
    "for i in range(10):\n",
    "\n",
    "  if i == 3:\n",
    "    break \n",
    "\n",
    "  if i == 1:\n",
    "    continue\n",
    "  \n",
    "print(i) #3"
   ]
  },
  {
   "cell_type": "code",
   "execution_count": null,
   "metadata": {
    "colab": {
     "base_uri": "https://localhost:8080/"
    },
    "executionInfo": {
     "elapsed": 5,
     "status": "ok",
     "timestamp": 1683004703124,
     "user": {
      "displayName": "김진환",
      "userId": "05184196515878785546"
     },
     "user_tz": -540
    },
    "id": "UVCKq0qf4XU1",
    "outputId": "1c9b5539-43aa-4ce5-acb3-8ba693b0042c"
   },
   "outputs": [
    {
     "name": "stdout",
     "output_type": "stream",
     "text": [
      "0\n",
      "2\n"
     ]
    }
   ],
   "source": [
    "# 0 \n",
    "# 1\n",
    "# 2\n",
    "# 3\n",
    "# 4\n",
    "\n",
    "for i in range(10): #[0,2,3,4,5,6,7,8,9]\n",
    "\n",
    "  if i == 3:\n",
    "    break \n",
    "\n",
    "  if i == 1: \n",
    "    continue\n",
    "  \n",
    "  print(i) #0,2 "
   ]
  },
  {
   "cell_type": "code",
   "execution_count": null,
   "metadata": {
    "colab": {
     "base_uri": "https://localhost:8080/"
    },
    "executionInfo": {
     "elapsed": 2,
     "status": "ok",
     "timestamp": 1683004860982,
     "user": {
      "displayName": "김진환",
      "userId": "05184196515878785546"
     },
     "user_tz": -540
    },
    "id": "lKuNdFfa5b5l",
    "outputId": "e889a34f-2a3e-4723-b5f3-6cc9a41b03f3"
   },
   "outputs": [
    {
     "name": "stdout",
     "output_type": "stream",
     "text": [
      "1 1 1\n",
      "1 2 2\n",
      "1 3 3\n",
      "1 4 4\n",
      "1 5 5\n",
      "1 6 6\n",
      "1 7 7\n",
      "1 8 8\n",
      "1 9 9\n",
      "2 1 2\n",
      "2 2 4\n",
      "2 3 6\n",
      "2 4 8\n",
      "2 5 10\n",
      "2 6 12\n",
      "2 7 14\n",
      "2 8 16\n",
      "2 9 18\n",
      "3 1 3\n",
      "3 2 6\n",
      "3 3 9\n",
      "3 4 12\n",
      "3 5 15\n",
      "3 6 18\n",
      "3 7 21\n",
      "3 8 24\n",
      "3 9 27\n",
      "4 1 4\n",
      "4 2 8\n",
      "4 3 12\n",
      "4 4 16\n",
      "4 5 20\n",
      "4 6 24\n",
      "4 7 28\n",
      "4 8 32\n",
      "4 9 36\n",
      "5 1 5\n",
      "5 2 10\n",
      "5 3 15\n",
      "5 4 20\n",
      "5 5 25\n",
      "5 6 30\n",
      "5 7 35\n",
      "5 8 40\n",
      "5 9 45\n",
      "6 1 6\n",
      "6 2 12\n",
      "6 3 18\n",
      "6 4 24\n",
      "6 5 30\n",
      "6 6 36\n",
      "6 7 42\n",
      "6 8 48\n",
      "6 9 54\n",
      "7 1 7\n",
      "7 2 14\n",
      "7 3 21\n",
      "7 4 28\n",
      "7 5 35\n",
      "7 6 42\n",
      "7 7 49\n",
      "7 8 56\n",
      "7 9 63\n",
      "8 1 8\n",
      "8 2 16\n",
      "8 3 24\n",
      "8 4 32\n",
      "8 5 40\n",
      "8 6 48\n",
      "8 7 56\n",
      "8 8 64\n",
      "8 9 72\n",
      "9 1 9\n",
      "9 2 18\n",
      "9 3 27\n",
      "9 4 36\n",
      "9 5 45\n",
      "9 6 54\n",
      "9 7 63\n",
      "9 8 72\n",
      "9 9 81\n"
     ]
    }
   ],
   "source": [
    "# 이중 반복문\n",
    "\n",
    "# 구구단 만들기\n",
    "\n",
    "for i in range(1, 10): #[1,2,3,4,5,6,7,8,9]\n",
    "  for j in range(1, 10): #[1,2,3,4,5,6,7,8,9]\n",
    "    print(i, j, i * j)"
   ]
  },
  {
   "cell_type": "code",
   "execution_count": null,
   "metadata": {
    "colab": {
     "base_uri": "https://localhost:8080/"
    },
    "executionInfo": {
     "elapsed": 2,
     "status": "ok",
     "timestamp": 1683005175062,
     "user": {
      "displayName": "김진환",
      "userId": "05184196515878785546"
     },
     "user_tz": -540
    },
    "id": "pJQua-oU6CQd",
    "outputId": "c05ad760-33ac-495b-b0d2-8428036d5372"
   },
   "outputs": [
    {
     "name": "stdout",
     "output_type": "stream",
     "text": [
      "[1, 2, 3, 4, 5, 6, 7, 8, 9]\n"
     ]
    }
   ],
   "source": [
    "# 리스트 컴프리핸션\n",
    "\n",
    "# 예제1)\n",
    "\n",
    "#list_i = []\n",
    "#for i in range(1,10):\n",
    "#  list_i.append(i)\n",
    "\n",
    "#print(list_i)\n",
    "\n",
    "x = [i for i in range(1,10)]\n",
    "print(x)"
   ]
  },
  {
   "cell_type": "code",
   "execution_count": null,
   "metadata": {
    "colab": {
     "base_uri": "https://localhost:8080/"
    },
    "executionInfo": {
     "elapsed": 3,
     "status": "ok",
     "timestamp": 1683005286480,
     "user": {
      "displayName": "김진환",
      "userId": "05184196515878785546"
     },
     "user_tz": -540
    },
    "id": "YpOjKgau60Xy",
    "outputId": "125e8bc2-d583-4127-dbed-5ef76fddd0b6"
   },
   "outputs": [
    {
     "name": "stdout",
     "output_type": "stream",
     "text": [
      "['2 * 1 = 2', '2 * 2 = 4', '2 * 3 = 6', '2 * 4 = 8', '2 * 5 = 10', '2 * 6 = 12', '2 * 7 = 14', '2 * 8 = 16', '2 * 9 = 18', '3 * 1 = 3', '3 * 2 = 6', '3 * 3 = 9', '3 * 4 = 12', '3 * 5 = 15', '3 * 6 = 18', '3 * 7 = 21', '3 * 8 = 24', '3 * 9 = 27', '4 * 1 = 4', '4 * 2 = 8', '4 * 3 = 12', '4 * 4 = 16', '4 * 5 = 20', '4 * 6 = 24', '4 * 7 = 28', '4 * 8 = 32', '4 * 9 = 36', '5 * 1 = 5', '5 * 2 = 10', '5 * 3 = 15', '5 * 4 = 20', '5 * 5 = 25', '5 * 6 = 30', '5 * 7 = 35', '5 * 8 = 40', '5 * 9 = 45', '6 * 1 = 6', '6 * 2 = 12', '6 * 3 = 18', '6 * 4 = 24', '6 * 5 = 30', '6 * 6 = 36', '6 * 7 = 42', '6 * 8 = 48', '6 * 9 = 54', '7 * 1 = 7', '7 * 2 = 14', '7 * 3 = 21', '7 * 4 = 28', '7 * 5 = 35', '7 * 6 = 42', '7 * 7 = 49', '7 * 8 = 56', '7 * 9 = 63', '8 * 1 = 8', '8 * 2 = 16', '8 * 3 = 24', '8 * 4 = 32', '8 * 5 = 40', '8 * 6 = 48', '8 * 7 = 56', '8 * 8 = 64', '8 * 9 = 72', '9 * 1 = 9', '9 * 2 = 18', '9 * 3 = 27', '9 * 4 = 36', '9 * 5 = 45', '9 * 6 = 54', '9 * 7 = 63', '9 * 8 = 72', '9 * 9 = 81']\n"
     ]
    }
   ],
   "source": [
    "# 반복문 예제 2\n",
    "\n",
    "y = [f'{i} * {j} = {i*j}' for i in range(2,10) for j in range(1,10)] \n",
    "print(y)"
   ]
  },
  {
   "cell_type": "code",
   "execution_count": null,
   "metadata": {
    "id": "ZhLCbMLs602d"
   },
   "outputs": [],
   "source": [
    "# 반복문 예제 3\n",
    "\n",
    "def sumthingFuncthing(i):\n",
    "  if i % 100 == 0:\n",
    "    return i\n",
    "  else:\n",
    "    return 0\n"
   ]
  },
  {
   "cell_type": "code",
   "execution_count": null,
   "metadata": {
    "colab": {
     "base_uri": "https://localhost:8080/"
    },
    "executionInfo": {
     "elapsed": 2,
     "status": "ok",
     "timestamp": 1683005632035,
     "user": {
      "displayName": "김진환",
      "userId": "05184196515878785546"
     },
     "user_tz": -540
    },
    "id": "cI_3Phk_6671",
    "outputId": "84f3aaaf-b20b-4f97-91ed-2e3e81d4bc72"
   },
   "outputs": [
    {
     "name": "stdout",
     "output_type": "stream",
     "text": [
      "600\n"
     ]
    }
   ],
   "source": [
    "old_list = [100,200,300,101,202,303]\n",
    "new_list = [sumthingFuncthing(i) for i in old_list]\n",
    "print(sum(new_list))"
   ]
  },
  {
   "cell_type": "code",
   "execution_count": null,
   "metadata": {
    "colab": {
     "base_uri": "https://localhost:8080/"
    },
    "executionInfo": {
     "elapsed": 4,
     "status": "ok",
     "timestamp": 1683005765342,
     "user": {
      "displayName": "김진환",
      "userId": "05184196515878785546"
     },
     "user_tz": -540
    },
    "id": "pCk6RjrV876k",
    "outputId": "b3e237a3-2411-496b-9f01-6d847285553f"
   },
   "outputs": [
    {
     "name": "stdout",
     "output_type": "stream",
     "text": [
      "고기잡이 100 300\n",
      "고기팔기 120 400\n",
      "낚시 5 500\n",
      "통발 5 600\n",
      "큰그물 5 700\n"
     ]
    }
   ],
   "source": [
    "# 다중인자 리스트 순회\n",
    "\n",
    "#다중 리스트 for문\n",
    "skill = [\n",
    "        ('고기잡이', 100, 300),\n",
    "        ('고기팔기', 120, 400),\n",
    "        ('낚시', 5, 500),\n",
    "        ('통발', 5, 600),\n",
    "        ('큰그물', 5, 700)\n",
    "]\n",
    "\n",
    "for i,j,z in skill:\n",
    "    print(i,j,z)"
   ]
  },
  {
   "cell_type": "code",
   "execution_count": null,
   "metadata": {
    "colab": {
     "base_uri": "https://localhost:8080/"
    },
    "executionInfo": {
     "elapsed": 563,
     "status": "ok",
     "timestamp": 1683005832668,
     "user": {
      "displayName": "김진환",
      "userId": "05184196515878785546"
     },
     "user_tz": -540
    },
    "id": "cJCFm67m9UrO",
    "outputId": "a9d2cd71-acbc-4559-c7eb-96c4a4bf3a4d"
   },
   "outputs": [
    {
     "name": "stdout",
     "output_type": "stream",
     "text": [
      "0 고기잡이 100 SS\n",
      "1 고기팔기 120 SSS\n",
      "2 낚시 5 C\n",
      "3 통발 5 C\n",
      "4 큰그물 5 C\n"
     ]
    }
   ],
   "source": [
    "#[In]\n",
    "\n",
    "# enumerate\n",
    "\n",
    "skill = [\n",
    "        ('고기잡이', 100, 'SS'),\n",
    "        ('고기팔기', 120, 'SSS'),\n",
    "        ('낚시', 5, 'C'),\n",
    "        ('통발', 5, 'C'),\n",
    "        ('큰그물', 5, 'C')\n",
    "]\n",
    "\n",
    "for i, (skillName, skillLevel, skillGrade) in enumerate(skill):\n",
    "    print(i, skillName, skillLevel, skillGrade)"
   ]
  },
  {
   "cell_type": "code",
   "execution_count": null,
   "metadata": {
    "colab": {
     "base_uri": "https://localhost:8080/"
    },
    "executionInfo": {
     "elapsed": 2,
     "status": "ok",
     "timestamp": 1683005864441,
     "user": {
      "displayName": "김진환",
      "userId": "05184196515878785546"
     },
     "user_tz": -540
    },
    "id": "jiBxNhOm9vkD",
    "outputId": "8ce69686-63cb-48ac-db1b-bd0edf36c598"
   },
   "outputs": [
    {
     "name": "stdout",
     "output_type": "stream",
     "text": [
      "100 ('고기잡이', 100, 'SS')\n",
      "101 ('고기팔기', 120, 'SSS')\n",
      "102 ('낚시', 5, 'C')\n",
      "103 ('통발', 5, 'C')\n",
      "104 ('큰그물', 5, 'C')\n"
     ]
    }
   ],
   "source": [
    "for i, j in enumerate(skill, 100):\n",
    "  print(i, j)"
   ]
  },
  {
   "cell_type": "code",
   "execution_count": null,
   "metadata": {
    "colab": {
     "base_uri": "https://localhost:8080/"
    },
    "executionInfo": {
     "elapsed": 2,
     "status": "ok",
     "timestamp": 1683006069505,
     "user": {
      "displayName": "김진환",
      "userId": "05184196515878785546"
     },
     "user_tz": -540
    },
    "id": "1WxstALy93Pe",
    "outputId": "04b84109-152b-447f-f110-c23cf8a4d22c"
   },
   "outputs": [
    {
     "name": "stdout",
     "output_type": "stream",
     "text": [
      "8\n"
     ]
    }
   ],
   "source": [
    "# 반복문 연습문제 1\n",
    "\n",
    "for a in range(8):\n",
    "  a += 1\n",
    "  a = a + 1\n",
    "print(a)\n",
    "\n",
    "# 1. 6\n",
    "# 2. 7\n",
    "# 3. 8\n",
    "# 4. 9\n",
    "# 5. None"
   ]
  },
  {
   "cell_type": "code",
   "execution_count": null,
   "metadata": {
    "id": "2knzqDIM-pV_"
   },
   "outputs": [],
   "source": [
    "for a in range(8):\n",
    "  a *= (a-1)\n",
    "print(a)\n",
    "\n",
    "# 1. 5040\n",
    "# 2. 0\n",
    "# 3. 42\n",
    "# 4. 1024\n",
    "# 5. None"
   ]
  },
  {
   "cell_type": "code",
   "execution_count": null,
   "metadata": {
    "colab": {
     "base_uri": "https://localhost:8080/"
    },
    "executionInfo": {
     "elapsed": 2,
     "status": "ok",
     "timestamp": 1683006413213,
     "user": {
      "displayName": "김진환",
      "userId": "05184196515878785546"
     },
     "user_tz": -540
    },
    "id": "IHQIQ9UK_sJs",
    "outputId": "a7da4277-ee0f-4abc-d1a5-94a52f615c01"
   },
   "outputs": [
    {
     "name": "stdout",
     "output_type": "stream",
     "text": [
      "14\n"
     ]
    }
   ],
   "source": [
    "for a in range(8):\n",
    "  a += a # a = a + a\n",
    "print(a)\n",
    "\n",
    "# 1. 6\n",
    "# 2. 7\n",
    "# 3. 8\n",
    "# 4. 9\n",
    "# 5. 답없음"
   ]
  },
  {
   "cell_type": "code",
   "execution_count": null,
   "metadata": {
    "colab": {
     "base_uri": "https://localhost:8080/"
    },
    "executionInfo": {
     "elapsed": 2,
     "status": "ok",
     "timestamp": 1683006488185,
     "user": {
      "displayName": "김진환",
      "userId": "05184196515878785546"
     },
     "user_tz": -540
    },
    "id": "wPUCuWAz_9Ox",
    "outputId": "cba513c3-bd07-44ab-d1f3-12f1b710ef8c"
   },
   "outputs": [
    {
     "name": "stdout",
     "output_type": "stream",
     "text": [
      "7\n"
     ]
    }
   ],
   "source": [
    "for a in range(8):\n",
    "  a *= 1\n",
    "print(a)\n",
    "\n",
    "# 1. 5040\n",
    "# 2. 0\n",
    "# 3. 42\n",
    "# 4. 1024\n",
    "# 5. 7"
   ]
  },
  {
   "cell_type": "code",
   "execution_count": null,
   "metadata": {
    "id": "GWEC8H9TAPl5"
   },
   "outputs": [],
   "source": [
    "# 반복문 문제 5\n",
    "# 변수 age의 자료형이 정수형일때 숫자 문자형일때 문자가 출력되는 코드\n",
    "\n",
    "ages = ['one', 8, 'twenty', 40]\n",
    "\n",
    "for age in ages:\n",
    "  if type(age) == int:\n",
    "    print(age, '숫자')\n",
    "  else:\n",
    "    print(age, '문자')\n",
    "\n",
    "# 1. type(age) == 'int'\n",
    "# 2. type(age) ==  int \n",
    "# 3. type(age) == 'str'\n",
    "# 4. type(age) == int\n",
    "# 5. type(age) == str"
   ]
  },
  {
   "cell_type": "code",
   "execution_count": null,
   "metadata": {
    "id": "t0bz14cRDVvK"
   },
   "outputs": [],
   "source": [
    "#1부터 10까지 짝수를 뽑으려면 어떤 코드를 작성해야할까요?\n",
    "\n",
    "a = 1\n",
    "\n",
    "while ():\n",
    "  if a % 2 == 0:\n",
    "    print(a)\n",
    "    a += 1\n",
    "  else:\n",
    "    a += 1\n",
    "  \n",
    "  if a == 0:\n",
    "    break\n",
    "\n",
    "#1. a == 10\n",
    "#2. a != 10\n",
    "#3. a < 10\n",
    "#4. a >= 10\n",
    "#5. a < 11"
   ]
  },
  {
   "cell_type": "code",
   "execution_count": null,
   "metadata": {
    "colab": {
     "base_uri": "https://localhost:8080/"
    },
    "executionInfo": {
     "elapsed": 3,
     "status": "ok",
     "timestamp": 1683007474489,
     "user": {
      "displayName": "김진환",
      "userId": "05184196515878785546"
     },
     "user_tz": -540
    },
    "id": "U9O4yW87Dwrh",
    "outputId": "2c893002-f379-481e-bdc7-17998aa3d7ca"
   },
   "outputs": [
    {
     "name": "stdout",
     "output_type": "stream",
     "text": [
      "1\n",
      "2\n",
      "3\n",
      "4\n",
      "5\n",
      "6\n",
      "7\n",
      "8\n",
      "9\n"
     ]
    }
   ],
   "source": [
    "a = 1\n",
    "while 1 < 10 :\n",
    "\tprint(a)\n",
    "\ta += 1"
   ]
  },
  {
   "cell_type": "code",
   "execution_count": null,
   "metadata": {
    "colab": {
     "base_uri": "https://localhost:8080/"
    },
    "executionInfo": {
     "elapsed": 2,
     "status": "ok",
     "timestamp": 1683007749186,
     "user": {
      "displayName": "김진환",
      "userId": "05184196515878785546"
     },
     "user_tz": -540
    },
    "id": "Fl_CyuklDxlv",
    "outputId": "3fbccada-cfbd-49ca-f1d7-71528a3bbc01"
   },
   "outputs": [
    {
     "name": "stdout",
     "output_type": "stream",
     "text": [
      "현재 숫자는  0 입니다.\n",
      "현재 숫자는  1 입니다.\n",
      "현재 숫자는  2 입니다.\n",
      "현재 숫자는  3 입니다.\n",
      "현재 숫자는  4 입니다.\n",
      "현재 숫자는  5 입니다.\n",
      "반복문을 종료합니다.\n"
     ]
    }
   ],
   "source": [
    "# while문 예제 2\n",
    "숫자 = 0\n",
    "while True:\n",
    "\tprint(\"현재 숫자는 \", 숫자, \"입니다.\")\n",
    "\t숫자 += 1\n",
    "\tif 숫자 > 5:\n",
    "\t\tprint(\"반복문을 종료합니다.\")\n",
    "\t\tbreak"
   ]
  },
  {
   "cell_type": "code",
   "execution_count": null,
   "metadata": {
    "colab": {
     "base_uri": "https://localhost:8080/"
    },
    "executionInfo": {
     "elapsed": 2,
     "status": "ok",
     "timestamp": 1683007813089,
     "user": {
      "displayName": "김진환",
      "userId": "05184196515878785546"
     },
     "user_tz": -540
    },
    "id": "WTXhgd8BFDXK",
    "outputId": "1100d978-d537-4435-bc7f-53f6e26b390a"
   },
   "outputs": [
    {
     "name": "stdout",
     "output_type": "stream",
     "text": [
      "현재 숫자는  0 입니다.\n",
      "현재 숫자는  1 입니다.\n",
      "현재 숫자는  2 입니다.\n",
      "현재 숫자는  3 입니다.\n",
      "현재 숫자는  4 입니다.\n",
      "반복문을 종료합니다.\n"
     ]
    }
   ],
   "source": [
    "# while else\n",
    "\n",
    "숫자 = 0\n",
    "while 숫자 < 5:\n",
    "  print(\"현재 숫자는 \", 숫자, \"입니다.\")\n",
    "  숫자 += 1\n",
    "else:\n",
    "  print(\"반복문을 종료합니다.\")"
   ]
  },
  {
   "cell_type": "code",
   "execution_count": null,
   "metadata": {
    "colab": {
     "base_uri": "https://localhost:8080/"
    },
    "executionInfo": {
     "elapsed": 3151,
     "status": "ok",
     "timestamp": 1683008230736,
     "user": {
      "displayName": "김진환",
      "userId": "05184196515878785546"
     },
     "user_tz": -540
    },
    "id": "b2_KWI0zFS46",
    "outputId": "2365128a-13f5-4eeb-ef80-3f386f265b9e"
   },
   "outputs": [
    {
     "name": "stdout",
     "output_type": "stream",
     "text": [
      "시를 입력해주세요10\n",
      "1시간이 지나 11시가 되었습니다.\n",
      "2시간이 지나 12시가 되었습니다.\n",
      "3시간이 지나 13시가 되었습니다.\n",
      "4시간이 지나 14시가 되었습니다.\n",
      "5시간이 지나 15시가 되었습니다.\n",
      "6시간이 지나 16시가 되었습니다.\n",
      "7시간이 지나 17시가 되었습니다.\n",
      "8시간이 지나 18시가 되었습니다.\n",
      "수업 종료시간이 되었기 때문에 Q&A시간을 가지겠습니다.\n"
     ]
    }
   ],
   "source": [
    "시간 = 0\n",
    "현재시간 = int(input(\"시를 입력해주세요\"))\n",
    "종료시간 = 18\n",
    "if 현재시간 > 종료시간:\n",
    "  print('수업이 끝났기 때문에 Q&A시간을 가지겠습니다.')\n",
    "else:\n",
    "  while True:\n",
    "    시간 += 1\n",
    "    현재시간 += 1\n",
    "    print(f'{시간}시간이 지나 {현재시간}시가 되었습니다.')\n",
    "    if 현재시간 == 종료시간:\n",
    "      print('수업 종료시간이 되었기 때문에 Q&A시간을 가지겠습니다.')\n",
    "      break"
   ]
  },
  {
   "cell_type": "code",
   "execution_count": null,
   "metadata": {
    "colab": {
     "base_uri": "https://localhost:8080/"
    },
    "executionInfo": {
     "elapsed": 4,
     "status": "ok",
     "timestamp": 1683008384695,
     "user": {
      "displayName": "김진환",
      "userId": "05184196515878785546"
     },
     "user_tz": -540
    },
    "id": "8nxMva_RGr-K",
    "outputId": "c10ba571-9cf2-48d1-ad04-6b8b03babc9b"
   },
   "outputs": [
    {
     "name": "stdout",
     "output_type": "stream",
     "text": [
      "2 * 1 = 2\n",
      "2 * 2 = 4\n",
      "2 * 3 = 6\n",
      "2 * 4 = 8\n",
      "2 * 5 = 10\n",
      "3 * 1 = 3\n",
      "3 * 2 = 6\n",
      "3 * 3 = 9\n",
      "3 * 4 = 12\n",
      "3 * 5 = 15\n",
      "4 * 1 = 4\n",
      "4 * 2 = 8\n",
      "4 * 3 = 12\n",
      "4 * 4 = 16\n",
      "4 * 5 = 20\n",
      "5 * 1 = 5\n",
      "5 * 2 = 10\n",
      "5 * 3 = 15\n",
      "5 * 4 = 20\n",
      "5 * 5 = 25\n",
      "6 * 1 = 6\n",
      "6 * 2 = 12\n",
      "6 * 3 = 18\n",
      "6 * 4 = 24\n",
      "6 * 5 = 30\n",
      "7 * 1 = 7\n",
      "7 * 2 = 14\n",
      "7 * 3 = 21\n",
      "7 * 4 = 28\n",
      "7 * 5 = 35\n",
      "8 * 1 = 8\n",
      "8 * 2 = 16\n",
      "8 * 3 = 24\n",
      "8 * 4 = 32\n",
      "8 * 5 = 40\n",
      "9 * 1 = 9\n",
      "9 * 2 = 18\n",
      "9 * 3 = 27\n",
      "9 * 4 = 36\n",
      "9 * 5 = 45\n"
     ]
    }
   ],
   "source": [
    "# 구구단 5단까지 출력하기\n",
    "\n",
    "for i in range(2, 10):\n",
    "  for j in range(1, 10):\n",
    "    if j > 5:\n",
    "      break\n",
    "    print(f'{i} * {j} = {i*j}')"
   ]
  },
  {
   "cell_type": "code",
   "execution_count": null,
   "metadata": {
    "colab": {
     "base_uri": "https://localhost:8080/"
    },
    "executionInfo": {
     "elapsed": 4,
     "status": "ok",
     "timestamp": 1683008636165,
     "user": {
      "displayName": "김진환",
      "userId": "05184196515878785546"
     },
     "user_tz": -540
    },
    "id": "Cf7--FqsHenl",
    "outputId": "d2e1d45c-ab28-4407-fccf-47032a3d820d"
   },
   "outputs": [
    {
     "name": "stdout",
     "output_type": "stream",
     "text": [
      "구매개수는 3, 구매가격은 15000\n",
      "구매개수는 5, 구매가격은 25000\n",
      "구매개수는 1, 구매가격은 5000\n",
      "구매개수는 8, 구매가격은 40000\n",
      "구매개수는 2, 구매가격은 10000\n"
     ]
    }
   ],
   "source": [
    "# continue\n",
    "\n",
    "count_amount= [\n",
    "    (3, 15000),\n",
    "    (5, 25000),\n",
    "    (1, 5000),\n",
    "    (8, 40000),\n",
    "    (0, 0),\n",
    "    (2, 10000)\n",
    "]\n",
    "\n",
    "for count, amount in count_amount:\n",
    "  if count < 1:\n",
    "    continue\n",
    "  print(f'구매개수는 {count}, 구매가격은 {amount}')"
   ]
  },
  {
   "cell_type": "code",
   "execution_count": null,
   "metadata": {
    "colab": {
     "base_uri": "https://localhost:8080/"
    },
    "executionInfo": {
     "elapsed": 2,
     "status": "ok",
     "timestamp": 1683008679544,
     "user": {
      "displayName": "김진환",
      "userId": "05184196515878785546"
     },
     "user_tz": -540
    },
    "id": "ufFK3SZgIYUR",
    "outputId": "6b75946e-6fe7-404f-9759-773c3e960099"
   },
   "outputs": [
    {
     "name": "stdout",
     "output_type": "stream",
     "text": [
      "구매개수는 3개이며 15000원입니다.\n",
      "구매개수는 5개이며 25000원입니다.\n",
      "구매개수는 1개이며 5000원입니다.\n",
      "구매개수는 8개이며 40000원입니다.\n",
      "구매개수는 0개이며 0원입니다.\n",
      "구매개수는 2개이며 10000원입니다.\n"
     ]
    }
   ],
   "source": [
    "#pass\n",
    "구매개수_총가격= [\n",
    "    (3, 15000),\n",
    "    (5, 25000),\n",
    "    (1, 5000),\n",
    "    (8, 40000),\n",
    "    (0, 0),\n",
    "    (2, 10000)\n",
    "    ]\n",
    "for 구매개수, 총가격 in 구매개수_총가격:\n",
    "    if 구매개수 < 1:\n",
    "        pass\n",
    "    print('구매개수는 {}개이며 {}원입니다.'.format(구매개수, 총가격))"
   ]
  },
  {
   "cell_type": "code",
   "execution_count": null,
   "metadata": {
    "colab": {
     "base_uri": "https://localhost:8080/"
    },
    "executionInfo": {
     "elapsed": 1021,
     "status": "ok",
     "timestamp": 1683008976828,
     "user": {
      "displayName": "김진환",
      "userId": "05184196515878785546"
     },
     "user_tz": -540
    },
    "id": "ZODvPwRDImiU",
    "outputId": "0269e7f6-5169-4865-8960-ed4e43966aa5"
   },
   "outputs": [
    {
     "name": "stdout",
     "output_type": "stream",
     "text": [
      "2  *  1  =  2\n",
      "2  *  2  =  4\n",
      "2  *  3  =  6\n",
      "2  *  4  =  8\n",
      "2  *  5  =  10\n",
      "2  *  6  =  12\n",
      "2  *  7  =  14\n",
      "2  *  8  =  16\n",
      "2  *  9  =  18\n",
      "3  *  1  =  3\n",
      "3  *  2  =  6\n",
      "3  *  3  =  9\n",
      "3  *  4  =  12\n",
      "3  *  5  =  15\n",
      "3  *  6  =  18\n",
      "3  *  7  =  21\n",
      "3  *  8  =  24\n",
      "3  *  9  =  27\n",
      "4  *  1  =  4\n",
      "4  *  2  =  8\n",
      "4  *  3  =  12\n",
      "4  *  4  =  16\n",
      "4  *  5  =  20\n",
      "4  *  6  =  24\n",
      "4  *  7  =  28\n",
      "4  *  8  =  32\n",
      "4  *  9  =  36\n",
      "5  *  1  =  5\n",
      "5  *  2  =  10\n",
      "5  *  3  =  15\n",
      "5  *  4  =  20\n",
      "5  *  5  =  25\n",
      "5  *  6  =  30\n",
      "5  *  7  =  35\n",
      "5  *  8  =  40\n",
      "5  *  9  =  45\n",
      "6  *  1  =  6\n",
      "6  *  2  =  12\n",
      "6  *  3  =  18\n",
      "6  *  4  =  24\n",
      "6  *  5  =  30\n",
      "6  *  6  =  36\n",
      "6  *  7  =  42\n",
      "6  *  8  =  48\n",
      "6  *  9  =  54\n",
      "7  *  1  =  7\n",
      "7  *  2  =  14\n",
      "7  *  3  =  21\n",
      "7  *  4  =  28\n",
      "7  *  5  =  35\n",
      "7  *  6  =  42\n",
      "7  *  7  =  49\n",
      "7  *  8  =  56\n",
      "7  *  9  =  63\n",
      "8  *  1  =  8\n",
      "8  *  2  =  16\n",
      "8  *  3  =  24\n",
      "8  *  4  =  32\n",
      "8  *  5  =  40\n",
      "8  *  6  =  48\n",
      "8  *  7  =  56\n",
      "8  *  8  =  64\n",
      "8  *  9  =  72\n",
      "9  *  1  =  9\n",
      "9  *  2  =  18\n",
      "9  *  3  =  27\n",
      "9  *  4  =  36\n",
      "9  *  5  =  45\n",
      "9  *  6  =  54\n",
      "9  *  7  =  63\n",
      "9  *  8  =  72\n",
      "9  *  9  =  81\n"
     ]
    }
   ],
   "source": [
    "# while문으로 구구단 만들기\n",
    "\n",
    "i = 2\n",
    "while i < 10 :\n",
    "    k = 1\n",
    "    while k < 10:\n",
    "        print(i, \" * \", k, \" = \", i * k)\n",
    "        k += 1\n",
    "    i += 1"
   ]
  },
  {
   "cell_type": "code",
   "execution_count": null,
   "metadata": {
    "id": "509dJxTvJu_g"
   },
   "outputs": [],
   "source": [
    "#조건문 문제\n",
    "#1부터 10까지 짝수를 뽑으려면 어떤 코드를 작성해야할까요?\n",
    "\n",
    "a = 1\n",
    "\n",
    "while a < 11:\n",
    "  if a % 2 == 0:\n",
    "    print(a)\n",
    "    a += 1\n",
    "  else:\n",
    "    a += 1\n",
    "  \n",
    "  if a == 0:\n",
    "    break\n",
    "\n",
    "#1. a == 10\n",
    "#2. a != 10\n",
    "#3. a < 10\n",
    "#4. a >= 10\n",
    "#5. a < 11"
   ]
  },
  {
   "cell_type": "code",
   "execution_count": null,
   "metadata": {
    "colab": {
     "base_uri": "https://localhost:8080/"
    },
    "executionInfo": {
     "elapsed": 2,
     "status": "ok",
     "timestamp": 1683009482367,
     "user": {
      "displayName": "김진환",
      "userId": "05184196515878785546"
     },
     "user_tz": -540
    },
    "id": "YhsYOzauKvxh",
    "outputId": "fc6046da-2bbd-499f-dffd-0ddf455f4347"
   },
   "outputs": [
    {
     "name": "stdout",
     "output_type": "stream",
     "text": [
      "0\n"
     ]
    }
   ],
   "source": [
    "# 조건문 문제\n",
    "# 실행결과가 0인 코드를 작성하고 싶을때 어떻게 작성해야하는가?\n",
    "\n",
    "money = 2000\n",
    "snack = 500\n",
    "water = 1000\n",
    "while money !=0:\n",
    "  if money > 1000:\n",
    "    money -= water\n",
    "  elif 0 < money <= 1000:\n",
    "    money -= snack * 2\n",
    "print(money)\n",
    "  \n",
    "# 6. 답 없음\n"
   ]
  },
  {
   "cell_type": "code",
   "execution_count": null,
   "metadata": {
    "id": "mxX4W1xhLoOc"
   },
   "outputs": [],
   "source": [
    "#While문 예제 1\n",
    "\n",
    "i = 0 #초기식\n",
    "\n",
    "while i < 100: # 조건식\n",
    "\n",
    "  print(i,'번째 출력') # 반복할 코드\n",
    "  \n",
    "  i += 1 #i 를 1씩 증가"
   ]
  },
  {
   "cell_type": "code",
   "execution_count": null,
   "metadata": {
    "colab": {
     "base_uri": "https://localhost:8080/"
    },
    "executionInfo": {
     "elapsed": 2377,
     "status": "ok",
     "timestamp": 1683009569377,
     "user": {
      "displayName": "김진환",
      "userId": "05184196515878785546"
     },
     "user_tz": -540
    },
    "id": "wEW8Td1TL8tc",
    "outputId": "49de1fc8-8cac-4b4e-f36a-720010d8ab54"
   },
   "outputs": [
    {
     "name": "stdout",
     "output_type": "stream",
     "text": [
      "반복할 횟수를 입력하세요: 100\n",
      "0 번째 출력\n",
      "1 번째 출력\n",
      "2 번째 출력\n",
      "3 번째 출력\n",
      "4 번째 출력\n",
      "5 번째 출력\n",
      "6 번째 출력\n",
      "7 번째 출력\n",
      "8 번째 출력\n",
      "9 번째 출력\n",
      "10 번째 출력\n",
      "11 번째 출력\n",
      "12 번째 출력\n",
      "13 번째 출력\n",
      "14 번째 출력\n",
      "15 번째 출력\n",
      "16 번째 출력\n",
      "17 번째 출력\n",
      "18 번째 출력\n",
      "19 번째 출력\n",
      "20 번째 출력\n",
      "21 번째 출력\n",
      "22 번째 출력\n",
      "23 번째 출력\n",
      "24 번째 출력\n",
      "25 번째 출력\n",
      "26 번째 출력\n",
      "27 번째 출력\n",
      "28 번째 출력\n",
      "29 번째 출력\n",
      "30 번째 출력\n",
      "31 번째 출력\n",
      "32 번째 출력\n",
      "33 번째 출력\n",
      "34 번째 출력\n",
      "35 번째 출력\n",
      "36 번째 출력\n",
      "37 번째 출력\n",
      "38 번째 출력\n",
      "39 번째 출력\n",
      "40 번째 출력\n",
      "41 번째 출력\n",
      "42 번째 출력\n",
      "43 번째 출력\n",
      "44 번째 출력\n",
      "45 번째 출력\n",
      "46 번째 출력\n",
      "47 번째 출력\n",
      "48 번째 출력\n",
      "49 번째 출력\n",
      "50 번째 출력\n",
      "51 번째 출력\n",
      "52 번째 출력\n",
      "53 번째 출력\n",
      "54 번째 출력\n",
      "55 번째 출력\n",
      "56 번째 출력\n",
      "57 번째 출력\n",
      "58 번째 출력\n",
      "59 번째 출력\n",
      "60 번째 출력\n",
      "61 번째 출력\n",
      "62 번째 출력\n",
      "63 번째 출력\n",
      "64 번째 출력\n",
      "65 번째 출력\n",
      "66 번째 출력\n",
      "67 번째 출력\n",
      "68 번째 출력\n",
      "69 번째 출력\n",
      "70 번째 출력\n",
      "71 번째 출력\n",
      "72 번째 출력\n",
      "73 번째 출력\n",
      "74 번째 출력\n",
      "75 번째 출력\n",
      "76 번째 출력\n",
      "77 번째 출력\n",
      "78 번째 출력\n",
      "79 번째 출력\n",
      "80 번째 출력\n",
      "81 번째 출력\n",
      "82 번째 출력\n",
      "83 번째 출력\n",
      "84 번째 출력\n",
      "85 번째 출력\n",
      "86 번째 출력\n",
      "87 번째 출력\n",
      "88 번째 출력\n",
      "89 번째 출력\n",
      "90 번째 출력\n",
      "91 번째 출력\n",
      "92 번째 출력\n",
      "93 번째 출력\n",
      "94 번째 출력\n",
      "95 번째 출력\n",
      "96 번째 출력\n",
      "97 번째 출력\n",
      "98 번째 출력\n",
      "99 번째 출력\n"
     ]
    }
   ],
   "source": [
    "#While문 예제 2 - 입력하는 값 만큼 반복\n",
    "count = int(input('반복할 횟수를 입력하세요: '))\n",
    " \n",
    "i = 0\n",
    "while i < 100:     # i가 count보다 작을 때 반복\n",
    "    print(i, '번째 출력')\n",
    "    i += 1\n",
    "    # 감소는 i -= 1\n",
    "  "
   ]
  },
  {
   "cell_type": "code",
   "execution_count": null,
   "metadata": {
    "colab": {
     "base_uri": "https://localhost:8080/"
    },
    "executionInfo": {
     "elapsed": 7,
     "status": "ok",
     "timestamp": 1683009635614,
     "user": {
      "displayName": "김진환",
      "userId": "05184196515878785546"
     },
     "user_tz": -540
    },
    "id": "V_CwJD4uL_Dv",
    "outputId": "277f9b11-c37d-4c0c-d654-d9bafca8be53"
   },
   "outputs": [
    {
     "name": "stdout",
     "output_type": "stream",
     "text": [
      "1\n",
      "5\n",
      "2\n",
      "4\n",
      "2\n",
      "1\n",
      "5\n",
      "1\n",
      "6\n",
      "5\n",
      "4\n",
      "3\n"
     ]
    }
   ],
   "source": [
    "#while문 예제 3 - 맞을 때까지 반복\n",
    "\n",
    "import random    # random 모듈을 가져옴\n",
    " \n",
    "i = 0\n",
    "while i != 3:    # 주사위 숫자가 3이 아닐 때 계속 반복\n",
    "    i = random.randint(1, 6)    # randint를 사용하여 가상 주사위를 만듬\n",
    "    print(i)"
   ]
  },
  {
   "cell_type": "code",
   "execution_count": null,
   "metadata": {
    "colab": {
     "base_uri": "https://localhost:8080/"
    },
    "executionInfo": {
     "elapsed": 5,
     "status": "ok",
     "timestamp": 1683009768661,
     "user": {
      "displayName": "김진환",
      "userId": "05184196515878785546"
     },
     "user_tz": -540
    },
    "id": "TCSe63drMO1N",
    "outputId": "32bf20ad-7a7b-4340-d771-b472ea08c9d1"
   },
   "outputs": [
    {
     "name": "stdout",
     "output_type": "stream",
     "text": [
      "[1, 2, 1, 2]\n",
      "[2, 2]\n"
     ]
    }
   ],
   "source": [
    "#while문 예제 4 - 특정 데이터 제거\n",
    "\n",
    "cust_all = [1,2,1,2] \n",
    "value = 1\n",
    "\n",
    "print(cust_all)\n",
    "\n",
    "while value in cust_all:\n",
    "  cust_all.remove(value)\n",
    "\n",
    "print(cust_all)"
   ]
  },
  {
   "cell_type": "code",
   "execution_count": null,
   "metadata": {
    "colab": {
     "base_uri": "https://localhost:8080/"
    },
    "id": "OBwaMPSOMpFP",
    "outputId": "15242764-df85-4e43-b5b3-9811e34ec0f0"
   },
   "outputs": [
    {
     "name": "stdout",
     "output_type": "stream",
     "text": [
      "숫자를 입력해서 값을 맞춰보세요50\n",
      "숫자가 큽니다.\n"
     ]
    }
   ],
   "source": [
    "# 실습1. 1~100사이의 숫자를 맞출때까지 반복하는 while문을 작성해주시면 됩니다.\n",
    "# 내가 입력한 숫자가 컴퓨터 숫자보다 작으면 \"값이 작다\"\n",
    "# 내가 입력한 숫자가 컴퓨터 숫자보다 크면 \"값이 크다\"\n",
    "# 답이 맞으면 맞았습니다. \n",
    "\n",
    "import random\n",
    "guess_number = random.randint(1,100)\n",
    "user_input = int(input(\"숫자를 입력해서 값을 맞춰보세요\"))\n",
    "\n",
    "while (user_input != guess_number):\n",
    "  if user_input > guess_number:\n",
    "    print(\"숫자가 큽니다.\")\n",
    "  else:\n",
    "    print(\"숫자가 작습니다.\")\n",
    "  user_input = int(input(\"숫자를 입력해서 값을 다시 맞춰보세요\"))\n",
    "else:\n",
    "  print(\"정답입니다.\")"
   ]
  }
 ],
 "metadata": {
  "colab": {
   "provenance": [
    {
     "file_id": "1QVjS87ZYovyJ1IG2Tz_iVkDYW0aHkhX0",
     "timestamp": 1683001423246
    }
   ],
   "toc_visible": true
  },
  "kernelspec": {
   "display_name": "Python 3",
   "name": "python3"
  },
  "language_info": {
   "name": "python"
  }
 },
 "nbformat": 4,
 "nbformat_minor": 0
}
