{
  "nbformat": 4,
  "nbformat_minor": 0,
  "metadata": {
    "colab": {
      "provenance": []
    },
    "kernelspec": {
      "name": "python3",
      "display_name": "Python 3"
    },
    "language_info": {
      "name": "python"
    }
  },
  "cells": [
    {
      "cell_type": "markdown",
      "source": [
        "# 1. Numpy\n",
        "\n",
        "- 파이썬 라이브러리 중 하나 -> 과학 연산\n",
        "- 배열 -> 행렬 (선형대수)\n",
        "- 선형대수, 푸리에 변환 -> 수학 함수"
      ],
      "metadata": {
        "id": "1B2FTLot0Jef"
      }
    },
    {
      "cell_type": "code",
      "execution_count": null,
      "metadata": {
        "id": "i3tF9zmlxHM6"
      },
      "outputs": [],
      "source": [
        "import numpy as np"
      ]
    },
    {
      "cell_type": "code",
      "source": [
        "a = np.array([1, 2, 3, 4]) # 1차원 배열 생성\n",
        "print(a)"
      ],
      "metadata": {
        "colab": {
          "base_uri": "https://localhost:8080/"
        },
        "id": "sYnNlaA3157Z",
        "outputId": "c008cbf4-7ec1-47a9-cedf-7eeb9a84e6ee"
      },
      "execution_count": null,
      "outputs": [
        {
          "output_type": "stream",
          "name": "stdout",
          "text": [
            "[1 2 3 4]\n"
          ]
        }
      ]
    },
    {
      "cell_type": "code",
      "source": [
        "l = [1, 2, 3, 4]\n",
        "print(l)"
      ],
      "metadata": {
        "colab": {
          "base_uri": "https://localhost:8080/"
        },
        "id": "RBL653P_2cHO",
        "outputId": "694e3522-73d1-4cd4-e346-0c7d6bd1f360"
      },
      "execution_count": null,
      "outputs": [
        {
          "output_type": "stream",
          "name": "stdout",
          "text": [
            "[1, 2, 3, 4]\n"
          ]
        }
      ]
    },
    {
      "cell_type": "code",
      "source": [
        "print(a.shape) # 배열 축의 크기"
      ],
      "metadata": {
        "colab": {
          "base_uri": "https://localhost:8080/"
        },
        "id": "InKja2BI2nEz",
        "outputId": "bb8a98d3-bb80-4276-8dba-834d5ae325d4"
      },
      "execution_count": null,
      "outputs": [
        {
          "output_type": "stream",
          "name": "stdout",
          "text": [
            "(4,)\n"
          ]
        }
      ]
    },
    {
      "cell_type": "code",
      "source": [
        "print(a.ndim) # 배열의 차원"
      ],
      "metadata": {
        "colab": {
          "base_uri": "https://localhost:8080/"
        },
        "id": "goWP7RIc2_ex",
        "outputId": "6ecffb62-b63c-49c2-ebc9-5604e562a508"
      },
      "execution_count": null,
      "outputs": [
        {
          "output_type": "stream",
          "name": "stdout",
          "text": [
            "1\n"
          ]
        }
      ]
    },
    {
      "cell_type": "code",
      "source": [
        "print(a.dtype) # 배열의 데이터 타입"
      ],
      "metadata": {
        "colab": {
          "base_uri": "https://localhost:8080/"
        },
        "id": "vYgpFmP43Dt0",
        "outputId": "7580dc7e-a37f-4c9a-970c-b8511df4a258"
      },
      "execution_count": null,
      "outputs": [
        {
          "output_type": "stream",
          "name": "stdout",
          "text": [
            "int64\n"
          ]
        }
      ]
    },
    {
      "cell_type": "code",
      "source": [
        "print(a.itemsize) # 각 요소의 바이트 단위 크기"
      ],
      "metadata": {
        "colab": {
          "base_uri": "https://localhost:8080/"
        },
        "id": "nW09A5vI3NiY",
        "outputId": "44e72007-e3ff-44ee-9264-6d6fe82816fd"
      },
      "execution_count": null,
      "outputs": [
        {
          "output_type": "stream",
          "name": "stdout",
          "text": [
            "8\n"
          ]
        }
      ]
    },
    {
      "cell_type": "code",
      "source": [
        "b = np.array([[1, 2], [3, 4]])\n",
        "print(b)"
      ],
      "metadata": {
        "colab": {
          "base_uri": "https://localhost:8080/"
        },
        "id": "TlAJGxjr3UH-",
        "outputId": "67273792-98d3-4461-c3e8-8577f39e8997"
      },
      "execution_count": null,
      "outputs": [
        {
          "output_type": "stream",
          "name": "stdout",
          "text": [
            "[[1 2]\n",
            " [3 4]]\n"
          ]
        }
      ]
    },
    {
      "cell_type": "code",
      "source": [
        "print(b)\n",
        "print(b.ndim)\n",
        "print(b.dtype)\n",
        "print(b.itemsize)\n",
        "print(b.nbytes)"
      ],
      "metadata": {
        "colab": {
          "base_uri": "https://localhost:8080/"
        },
        "id": "Amf_y3xM3r1v",
        "outputId": "a25f5560-00d0-4d5a-f83c-e6a84a1cd3a5"
      },
      "execution_count": null,
      "outputs": [
        {
          "output_type": "stream",
          "name": "stdout",
          "text": [
            "[[1 2]\n",
            " [3 4]]\n",
            "2\n",
            "int64\n",
            "8\n",
            "32\n"
          ]
        }
      ]
    },
    {
      "cell_type": "code",
      "source": [
        "# 3차원\n",
        "\n",
        "c = np.array([[[1, 2], [3, 4]], [[5, 6], [7, 8]]])\n",
        "\n",
        "print(c)\n",
        "print(c.ndim)\n",
        "print(c.dtype)\n",
        "print(c.itemsize)\n",
        "print(c.nbytes)"
      ],
      "metadata": {
        "colab": {
          "base_uri": "https://localhost:8080/"
        },
        "id": "y8tRqR734JaN",
        "outputId": "7861fcf3-f4bf-4052-c837-438aa4ab1d51"
      },
      "execution_count": null,
      "outputs": [
        {
          "output_type": "stream",
          "name": "stdout",
          "text": [
            "[[[1 2]\n",
            "  [3 4]]\n",
            "\n",
            " [[5 6]\n",
            "  [7 8]]]\n",
            "3\n",
            "int64\n",
            "8\n",
            "64\n"
          ]
        }
      ]
    },
    {
      "cell_type": "code",
      "source": [
        "# 하나의 숫자값 : 스칼라\n",
        "\n",
        "s = np.array(1)\n",
        "print(s)"
      ],
      "metadata": {
        "colab": {
          "base_uri": "https://localhost:8080/"
        },
        "id": "j1yDDemp5Lie",
        "outputId": "64568ce6-c09e-4856-c0df-e6c0abd05c91"
      },
      "execution_count": null,
      "outputs": [
        {
          "output_type": "stream",
          "name": "stdout",
          "text": [
            "1\n"
          ]
        }
      ]
    },
    {
      "cell_type": "code",
      "source": [
        "# 1차원 : 벡터\n",
        "\n",
        "v = np.array([1, 2, 3])\n",
        "print(v)"
      ],
      "metadata": {
        "colab": {
          "base_uri": "https://localhost:8080/"
        },
        "id": "e91H3lgB5WXp",
        "outputId": "6a2c58e5-933d-48ce-c618-358d8ca638e5"
      },
      "execution_count": null,
      "outputs": [
        {
          "output_type": "stream",
          "name": "stdout",
          "text": [
            "[1 2 3]\n"
          ]
        }
      ]
    },
    {
      "cell_type": "code",
      "source": [
        "# 2차원 : 행령(Matrix)\n",
        "\n",
        "m = np.array([[1, 2, 3], [1, 2, 3]])\n",
        "print(m)"
      ],
      "metadata": {
        "colab": {
          "base_uri": "https://localhost:8080/"
        },
        "id": "eojwZNk-5fyR",
        "outputId": "47e8b1f2-f2f2-47ad-d03f-b670e95b8785"
      },
      "execution_count": null,
      "outputs": [
        {
          "output_type": "stream",
          "name": "stdout",
          "text": [
            "[[1 2 3]\n",
            " [1 2 3]]\n"
          ]
        }
      ]
    },
    {
      "cell_type": "code",
      "source": [
        "# 3차원 : 텐서(Tensor)\n",
        "\n",
        "t = np.array([[[1, 2], [1, 2]], [[1, 2], [1, 2]]])\n",
        "print(t)"
      ],
      "metadata": {
        "colab": {
          "base_uri": "https://localhost:8080/"
        },
        "id": "rR34QO0_5sBJ",
        "outputId": "77f4ed87-1886-4a87-ca88-7c94a7d3041c"
      },
      "execution_count": null,
      "outputs": [
        {
          "output_type": "stream",
          "name": "stdout",
          "text": [
            "[[[1 2]\n",
            "  [1 2]]\n",
            "\n",
            " [[1 2]\n",
            "  [1 2]]]\n"
          ]
        }
      ]
    },
    {
      "cell_type": "code",
      "source": [
        "# for문을 이용해서 배열 생성\n",
        "\n",
        "f = np.array([i for i in range(0, 10, 2)])\n",
        "print(f)"
      ],
      "metadata": {
        "colab": {
          "base_uri": "https://localhost:8080/"
        },
        "id": "Oh8wfnLg6LAf",
        "outputId": "5dd213a6-294d-4bba-ebdc-ec907c72c2b1"
      },
      "execution_count": null,
      "outputs": [
        {
          "output_type": "stream",
          "name": "stdout",
          "text": [
            "[0 2 4 6 8]\n"
          ]
        }
      ]
    },
    {
      "cell_type": "code",
      "source": [
        "print(f)\n",
        "print(f.ndim)\n",
        "print(f.dtype)\n",
        "print(f.itemsize)\n",
        "print(f.nbytes)"
      ],
      "metadata": {
        "colab": {
          "base_uri": "https://localhost:8080/"
        },
        "id": "izBQgPG86c_E",
        "outputId": "50d9ba67-add7-4e75-934b-76d7154f2adb"
      },
      "execution_count": null,
      "outputs": [
        {
          "output_type": "stream",
          "name": "stdout",
          "text": [
            "[0 2 4 6 8]\n",
            "1\n",
            "int64\n",
            "8\n",
            "40\n"
          ]
        }
      ]
    },
    {
      "cell_type": "markdown",
      "source": [
        "## 데이터 타입\n",
        "\n",
        "### 1. 숫자형\n",
        "### 2. 문자형\n",
        "### 3. 논리형"
      ],
      "metadata": {
        "id": "xOANDKs37nXK"
      }
    },
    {
      "cell_type": "markdown",
      "source": [
        "### 숫자형\n",
        "\n",
        "- 부호가 있는 정수(Signed integer)\n",
        "- 부호가 없는 정수(Unsigned integer)\n",
        "- 실수(floating point)\n",
        "- 복소수(complex)"
      ],
      "metadata": {
        "id": "h5pz66Fo-keE"
      }
    },
    {
      "cell_type": "code",
      "source": [
        "# int (8bit, 16bit, 32bit, 64bit)\n",
        "\n",
        "data = [1.1, 2, 3]\n",
        "\n",
        "i = np.array(data, dtype=np.int32)\n",
        "print(i)"
      ],
      "metadata": {
        "colab": {
          "base_uri": "https://localhost:8080/"
        },
        "id": "jNtSPO6-67N5",
        "outputId": "25d91096-50f3-4ec9-85cc-64387452023c"
      },
      "execution_count": null,
      "outputs": [
        {
          "output_type": "stream",
          "name": "stdout",
          "text": [
            "[1 2 3]\n"
          ]
        }
      ]
    },
    {
      "cell_type": "code",
      "source": [
        "print(i.dtype)"
      ],
      "metadata": {
        "colab": {
          "base_uri": "https://localhost:8080/"
        },
        "id": "uUZ4eVVB_h7g",
        "outputId": "c18e7e64-ee37-44ae-b376-768c32047953"
      },
      "execution_count": null,
      "outputs": [
        {
          "output_type": "stream",
          "name": "stdout",
          "text": [
            "int32\n"
          ]
        }
      ]
    },
    {
      "cell_type": "code",
      "source": [
        "data2 = [-1, 2, 3]\n",
        "\n",
        "ui = np.array(data2, dtype=np.uint32) # uint 8, 16, 32(0 ~ 4,294,967,295), 64\n",
        "print(ui)"
      ],
      "metadata": {
        "colab": {
          "base_uri": "https://localhost:8080/"
        },
        "id": "g0rgGg4-_pJh",
        "outputId": "b34f4011-6b52-4e1d-8afc-67bea9edcab6"
      },
      "execution_count": null,
      "outputs": [
        {
          "output_type": "stream",
          "name": "stdout",
          "text": [
            "[4294967295          2          3]\n"
          ]
        }
      ]
    },
    {
      "cell_type": "code",
      "source": [
        "f = np.array(data, dtype=np.float64)\n",
        "print(f)"
      ],
      "metadata": {
        "colab": {
          "base_uri": "https://localhost:8080/"
        },
        "id": "VDEMbYmPAv4k",
        "outputId": "713c9a21-c220-41cc-ba81-da0f27b2c6fd"
      },
      "execution_count": null,
      "outputs": [
        {
          "output_type": "stream",
          "name": "stdout",
          "text": [
            "[1.1 2.  3. ]\n"
          ]
        }
      ]
    },
    {
      "cell_type": "code",
      "source": [
        "c = np.array([1 + 2j, 3 + 4j, 5 + 6j], dtype=np.complex64)\n",
        "print(c.real) # 실수\n",
        "print(c.imag) # 허수"
      ],
      "metadata": {
        "colab": {
          "base_uri": "https://localhost:8080/"
        },
        "id": "jwcnJKu5BQVM",
        "outputId": "78a9e77c-3675-4f3f-8965-6a5777a47ec7"
      },
      "execution_count": null,
      "outputs": [
        {
          "output_type": "stream",
          "name": "stdout",
          "text": [
            "[1. 3. 5.]\n",
            "[2. 4. 6.]\n"
          ]
        }
      ]
    },
    {
      "cell_type": "markdown",
      "source": [
        "### 문자형\n",
        "- string_\n",
        "- unicod_"
      ],
      "metadata": {
        "id": "D9YNHxMpCNRg"
      }
    },
    {
      "cell_type": "code",
      "source": [
        "data = [1, 2, 3]\n",
        "\n",
        "s = np.string_(data)\n",
        "print(s)"
      ],
      "metadata": {
        "colab": {
          "base_uri": "https://localhost:8080/"
        },
        "id": "0iwfp5xvB_Re",
        "outputId": "636fd20a-5315-4d66-b024-8267c1853567"
      },
      "execution_count": null,
      "outputs": [
        {
          "output_type": "stream",
          "name": "stdout",
          "text": [
            "b'\\x01\\x02\\x03'\n"
          ]
        }
      ]
    },
    {
      "cell_type": "code",
      "source": [
        "print(s.dtype) # S3 : string 3개"
      ],
      "metadata": {
        "colab": {
          "base_uri": "https://localhost:8080/"
        },
        "id": "ARsJ2RanCkb0",
        "outputId": "b3709677-4c46-467f-a64e-2b29571f0522"
      },
      "execution_count": null,
      "outputs": [
        {
          "output_type": "stream",
          "name": "stdout",
          "text": [
            "|S3\n"
          ]
        }
      ]
    },
    {
      "cell_type": "code",
      "source": [
        "data3 = [1, 2, 3, 4, 5]\n",
        "\n",
        "s2 = np.string_(data3) # s2_ = np.array(data3, dtype='s')\n",
        "print(s2)\n",
        "print(s2.dtype)"
      ],
      "metadata": {
        "colab": {
          "base_uri": "https://localhost:8080/"
        },
        "id": "_eInwbsSCqiG",
        "outputId": "ba261b16-3408-411f-afb4-149a59a0458e"
      },
      "execution_count": null,
      "outputs": [
        {
          "output_type": "stream",
          "name": "stdout",
          "text": [
            "b'\\x01\\x02\\x03\\x04\\x05'\n",
            "|S5\n"
          ]
        }
      ]
    },
    {
      "cell_type": "code",
      "source": [
        "u = np.array(data3, dtype='U') # unicode\n",
        "\n",
        "print(u)\n",
        "print(u.dtype)"
      ],
      "metadata": {
        "colab": {
          "base_uri": "https://localhost:8080/"
        },
        "id": "iJVnAtnWDi-Z",
        "outputId": "96455fa1-479d-4232-a240-29fb1f05d1a9"
      },
      "execution_count": null,
      "outputs": [
        {
          "output_type": "stream",
          "name": "stdout",
          "text": [
            "['1' '2' '3' '4' '5']\n",
            "<U1\n"
          ]
        }
      ]
    },
    {
      "cell_type": "code",
      "source": [
        "data4 = [11, 22, 33, 44, 55]\n",
        "\n",
        "u2 = np.array(data4, dtype='U')\n",
        "\n",
        "print(u2)\n",
        "print(u2.dtype)"
      ],
      "metadata": {
        "colab": {
          "base_uri": "https://localhost:8080/"
        },
        "id": "9dslZ54QDtDJ",
        "outputId": "a85a22be-6979-44a5-ac73-e7ac39fbd6d1"
      },
      "execution_count": null,
      "outputs": [
        {
          "output_type": "stream",
          "name": "stdout",
          "text": [
            "['11' '22' '33' '44' '55']\n",
            "<U2\n"
          ]
        }
      ]
    },
    {
      "cell_type": "markdown",
      "source": [
        "### 논리형 (boolean)\n",
        "\n",
        "- True(1), False(0)\n",
        "- 비트 연산 사용 : & ans, | or, ^ xor, ~ not"
      ],
      "metadata": {
        "id": "FjjOXFfgEC9B"
      }
    },
    {
      "cell_type": "code",
      "source": [
        "l1 = np.array([True, False, True])\n",
        "l2 = np.array([False, True, False])\n",
        "\n",
        "print(l1)\n",
        "print(l2)\n",
        "\n",
        "print(l1.dtype)\n",
        "print(l2.dtype)"
      ],
      "metadata": {
        "colab": {
          "base_uri": "https://localhost:8080/"
        },
        "id": "XY_GhjqEEBLH",
        "outputId": "d929b079-a50a-4e40-c74b-0b2dc0213dda"
      },
      "execution_count": null,
      "outputs": [
        {
          "output_type": "stream",
          "name": "stdout",
          "text": [
            "[ True False  True]\n",
            "[False  True False]\n",
            "bool\n",
            "bool\n"
          ]
        }
      ]
    },
    {
      "cell_type": "code",
      "source": [
        "and_ = np.logical_and(l1, l2)\n",
        "print(and_)"
      ],
      "metadata": {
        "colab": {
          "base_uri": "https://localhost:8080/"
        },
        "id": "uLTNpIZFEnlS",
        "outputId": "f0c4b878-7993-4c8f-ad7d-8782a74e2279"
      },
      "execution_count": null,
      "outputs": [
        {
          "output_type": "stream",
          "name": "stdout",
          "text": [
            "[False False False]\n"
          ]
        }
      ]
    },
    {
      "cell_type": "markdown",
      "source": [
        "## 데이터 형 변환 (Cast, Casting)\n",
        "- 데이터들끼리 형태를 맞춰줌\n",
        "- 예시) 이미지 데이터 -> uint형으로 불러옴 -> float"
      ],
      "metadata": {
        "id": "2XusvZ4-HWOc"
      }
    },
    {
      "cell_type": "code",
      "source": [
        "data = [1.1, 2, 3]\n",
        "\n",
        "a = np.float64(data) # np.데이터타입\n",
        "\n",
        "print(a)\n",
        "print(a.dtype)"
      ],
      "metadata": {
        "colab": {
          "base_uri": "https://localhost:8080/"
        },
        "id": "Y-enTM7SFDZD",
        "outputId": "1e39c4af-bf4b-449c-8644-729ee34de959"
      },
      "execution_count": null,
      "outputs": [
        {
          "output_type": "stream",
          "name": "stdout",
          "text": [
            "[1.1 2.  3. ]\n",
            "float64\n"
          ]
        }
      ]
    },
    {
      "cell_type": "code",
      "source": [
        "a = a.astype(np.int64)\n",
        "\n",
        "print(a)\n",
        "print(a.dtype)"
      ],
      "metadata": {
        "colab": {
          "base_uri": "https://localhost:8080/"
        },
        "id": "5hWiWo0EN_HS",
        "outputId": "298c637f-57d1-480a-a439-f7bba96feef5"
      },
      "execution_count": null,
      "outputs": [
        {
          "output_type": "stream",
          "name": "stdout",
          "text": [
            "[1 2 3]\n",
            "int64\n"
          ]
        }
      ]
    },
    {
      "cell_type": "code",
      "source": [
        "b = np.uint16(0)\n",
        "\n",
        "print(b)\n",
        "print(b.dtype)"
      ],
      "metadata": {
        "colab": {
          "base_uri": "https://localhost:8080/"
        },
        "id": "_SG3bknhOZP6",
        "outputId": "9401fcc0-6a6f-4193-fbb7-95e465e63896"
      },
      "execution_count": null,
      "outputs": [
        {
          "output_type": "stream",
          "name": "stdout",
          "text": [
            "0\n",
            "uint16\n"
          ]
        }
      ]
    },
    {
      "cell_type": "code",
      "source": [
        "b = b - 1\n",
        "\n",
        "print(b)\n",
        "print(b.dtype)"
      ],
      "metadata": {
        "colab": {
          "base_uri": "https://localhost:8080/"
        },
        "id": "_JfkdKqCOmOn",
        "outputId": "61c73a6b-bcc0-471b-e1e6-2a68ef840e73"
      },
      "execution_count": null,
      "outputs": [
        {
          "output_type": "stream",
          "name": "stdout",
          "text": [
            "-1\n",
            "int64\n"
          ]
        }
      ]
    },
    {
      "cell_type": "code",
      "source": [
        "c = np.uint16(-1) # uint16 (0 ~ 65,535)\n",
        "print(c)"
      ],
      "metadata": {
        "colab": {
          "base_uri": "https://localhost:8080/"
        },
        "id": "maLIgMVgPWLf",
        "outputId": "d2b27eb5-54c8-4165-f6d0-1ae89a5f1104"
      },
      "execution_count": null,
      "outputs": [
        {
          "output_type": "stream",
          "name": "stdout",
          "text": [
            "65535\n"
          ]
        }
      ]
    },
    {
      "cell_type": "markdown",
      "source": [
        "## 산술연산"
      ],
      "metadata": {
        "id": "nnadDTHOQcKz"
      }
    },
    {
      "cell_type": "code",
      "source": [
        "data = [[1, 2, 3], [4, 5, 6]]\n",
        "data2 = [[1, 1, 1], [2, 2, 2]]\n",
        "\n",
        "sum = 0\n",
        "\n",
        "for i in range(len(data)): # 0 1\n",
        "    for j in range(len(data[0])): # 0 1 2\n",
        "        sum += data[i][j]\n",
        "\n",
        "print(sum)"
      ],
      "metadata": {
        "colab": {
          "base_uri": "https://localhost:8080/"
        },
        "id": "wx48iuyZP7bg",
        "outputId": "b47fefda-007d-4daf-9c7e-571248a17e8b"
      },
      "execution_count": null,
      "outputs": [
        {
          "output_type": "stream",
          "name": "stdout",
          "text": [
            "21\n"
          ]
        }
      ]
    },
    {
      "cell_type": "code",
      "source": [
        "print(len(data))\n",
        "print(len(data2))\n",
        "print(len(data[0]))"
      ],
      "metadata": {
        "colab": {
          "base_uri": "https://localhost:8080/"
        },
        "id": "6etzbfZMRkZl",
        "outputId": "7fa18cea-37fa-4b60-fb4f-561249d53a6d"
      },
      "execution_count": null,
      "outputs": [
        {
          "output_type": "stream",
          "name": "stdout",
          "text": [
            "2\n",
            "2\n",
            "3\n"
          ]
        }
      ]
    },
    {
      "cell_type": "code",
      "source": [
        "a = np.array([1, 2, 3])\n",
        "b = np.array([4, 5, 6])\n",
        "\n",
        "# 덧셈\n",
        "sum = a + b\n",
        "min = a - b\n",
        "mul = a * b\n",
        "div = a / b\n",
        "\n",
        "print(sum)\n",
        "print(min)\n",
        "print(mul)\n",
        "print(div)"
      ],
      "metadata": {
        "colab": {
          "base_uri": "https://localhost:8080/"
        },
        "id": "fik7AIAEUYLR",
        "outputId": "94bdd3d3-8c48-4a63-a30b-58a82d1fe746"
      },
      "execution_count": null,
      "outputs": [
        {
          "output_type": "stream",
          "name": "stdout",
          "text": [
            "[5 7 9]\n",
            "[-3 -3 -3]\n",
            "[ 4 10 18]\n",
            "[0.25 0.4  0.5 ]\n"
          ]
        }
      ]
    },
    {
      "cell_type": "code",
      "source": [
        "a = np.array([1, 2, 3])\n",
        "b = np.array([4, 5, 6])\n",
        "\n",
        "aa = np.exp(a)  # 지수함수\n",
        "print(aa)"
      ],
      "metadata": {
        "colab": {
          "base_uri": "https://localhost:8080/"
        },
        "id": "SNX_FZrwU-QC",
        "outputId": "eaca981c-a14a-4ade-9eea-d890b7d814c4"
      },
      "execution_count": null,
      "outputs": [
        {
          "output_type": "stream",
          "name": "stdout",
          "text": [
            "[ 2.71828183  7.3890561  20.08553692]\n"
          ]
        }
      ]
    },
    {
      "cell_type": "code",
      "source": [
        "bb = np.log(b)  # 자연로그\n",
        "print(bb)"
      ],
      "metadata": {
        "colab": {
          "base_uri": "https://localhost:8080/"
        },
        "id": "vBPjF-gTVnzd",
        "outputId": "406dca37-72bc-440d-c406-e6ed906bc90a"
      },
      "execution_count": null,
      "outputs": [
        {
          "output_type": "stream",
          "name": "stdout",
          "text": [
            "[1.38629436 1.60943791 1.79175947]\n"
          ]
        }
      ]
    },
    {
      "cell_type": "code",
      "source": [
        "cc = np.log2(b)  # 밑이 2인 로그\n",
        "print(cc)"
      ],
      "metadata": {
        "colab": {
          "base_uri": "https://localhost:8080/"
        },
        "id": "L1VUP-P2V1Yv",
        "outputId": "bac9e48d-99fa-4065-fb9b-db11807cb2ae"
      },
      "execution_count": null,
      "outputs": [
        {
          "output_type": "stream",
          "name": "stdout",
          "text": [
            "[2.         2.32192809 2.5849625 ]\n"
          ]
        }
      ]
    },
    {
      "cell_type": "code",
      "source": [
        "d = np.array([0, np.pi/2, np.pi])\n",
        "\n",
        "sin_ = np.sin(d)\n",
        "cos_ = np.cos(d)\n",
        "tan_ = np.tan(d)\n",
        "\n",
        "print(sin_)\n",
        "print(cos_)\n",
        "print(tan_)"
      ],
      "metadata": {
        "colab": {
          "base_uri": "https://localhost:8080/"
        },
        "id": "tkCvDPs5V_HY",
        "outputId": "98c1b071-63dc-4815-b911-b7ae622d0ec5"
      },
      "execution_count": null,
      "outputs": [
        {
          "output_type": "stream",
          "name": "stdout",
          "text": [
            "[0.0000000e+00 1.0000000e+00 1.2246468e-16]\n",
            "[ 1.000000e+00  6.123234e-17 -1.000000e+00]\n",
            "[ 0.00000000e+00  1.63312394e+16 -1.22464680e-16]\n"
          ]
        }
      ]
    },
    {
      "cell_type": "markdown",
      "source": [
        "## 배열의 연결과 분할\n"
      ],
      "metadata": {
        "id": "GjbDTo4mqA5m"
      }
    },
    {
      "cell_type": "code",
      "source": [
        "print('a' + 'b')"
      ],
      "metadata": {
        "colab": {
          "base_uri": "https://localhost:8080/"
        },
        "id": "fAoFXgRQpdmQ",
        "outputId": "0a1a2171-0dda-4937-d1b9-984dea588a41"
      },
      "execution_count": null,
      "outputs": [
        {
          "output_type": "stream",
          "name": "stdout",
          "text": [
            "ab\n"
          ]
        }
      ]
    },
    {
      "cell_type": "code",
      "source": [
        "x = [1, 2, 3]\n",
        "y = [4, 5, 6]"
      ],
      "metadata": {
        "id": "KrQ8pLodqcVi"
      },
      "execution_count": null,
      "outputs": []
    },
    {
      "cell_type": "code",
      "source": [
        "concat = np.concatenate([x, y])\n",
        "print(concat)"
      ],
      "metadata": {
        "colab": {
          "base_uri": "https://localhost:8080/"
        },
        "id": "YayHXnxVqfnU",
        "outputId": "5f4d4364-175c-486a-ee64-b1c4018ee803"
      },
      "execution_count": null,
      "outputs": [
        {
          "output_type": "stream",
          "name": "stdout",
          "text": [
            "[1 2 3 4 5 6]\n"
          ]
        }
      ]
    },
    {
      "cell_type": "code",
      "source": [
        "x2 = [[1, 2], [3, 4]]  # 2x2\n",
        "y2 = [[4, 5], [6, 7]]\n",
        "\n",
        "concat2 = np.concatenate([x2, y2], axis=1)  # 열 병합\n",
        "concat3 = np.concatenate([x2, y2], axis=0)  # 행 병합\n",
        "print(concat2)\n",
        "print(concat3)"
      ],
      "metadata": {
        "colab": {
          "base_uri": "https://localhost:8080/"
        },
        "id": "8gnjFfdLqyQR",
        "outputId": "56230c36-e009-458d-945b-0c9f65b6a68f"
      },
      "execution_count": null,
      "outputs": [
        {
          "output_type": "stream",
          "name": "stdout",
          "text": [
            "[[1 2 4 5]\n",
            " [3 4 6 7]]\n",
            "[[1 2]\n",
            " [3 4]\n",
            " [4 5]\n",
            " [6 7]]\n"
          ]
        }
      ]
    },
    {
      "cell_type": "code",
      "source": [
        "print(x2)"
      ],
      "metadata": {
        "colab": {
          "base_uri": "https://localhost:8080/"
        },
        "id": "QQQ0W8FErQVr",
        "outputId": "d52352dd-6a6b-426c-d333-ded0040c20bd"
      },
      "execution_count": null,
      "outputs": [
        {
          "output_type": "stream",
          "name": "stdout",
          "text": [
            "[[1, 2], [3, 4]]\n"
          ]
        }
      ]
    },
    {
      "cell_type": "code",
      "source": [
        "arr = np.arange(10)  # 0 ~ n-1\n",
        "print(arr)"
      ],
      "metadata": {
        "colab": {
          "base_uri": "https://localhost:8080/"
        },
        "id": "M8tos7U4shlc",
        "outputId": "12f38157-cc1f-4b02-d314-24241f38ce5e"
      },
      "execution_count": null,
      "outputs": [
        {
          "output_type": "stream",
          "name": "stdout",
          "text": [
            "[0 1 2 3 4 5 6 7 8 9]\n"
          ]
        }
      ]
    },
    {
      "cell_type": "code",
      "source": [
        "arr.reshape(2, 5)"
      ],
      "metadata": {
        "colab": {
          "base_uri": "https://localhost:8080/"
        },
        "id": "3XVfnVvWsr-s",
        "outputId": "9c4d0c7e-5f1a-49a0-8349-72d519469688"
      },
      "execution_count": null,
      "outputs": [
        {
          "output_type": "execute_result",
          "data": {
            "text/plain": [
              "array([[0, 1, 2, 3, 4],\n",
              "       [5, 6, 7, 8, 9]])"
            ]
          },
          "metadata": {},
          "execution_count": 78
        }
      ]
    },
    {
      "cell_type": "code",
      "source": [
        "arr.reshape(5, 2)"
      ],
      "metadata": {
        "colab": {
          "base_uri": "https://localhost:8080/"
        },
        "id": "wWFYNtCbs4ej",
        "outputId": "73bc71e7-7878-42d6-e818-2b9d9bad1dea"
      },
      "execution_count": null,
      "outputs": [
        {
          "output_type": "execute_result",
          "data": {
            "text/plain": [
              "array([[0, 1],\n",
              "       [2, 3],\n",
              "       [4, 5],\n",
              "       [6, 7],\n",
              "       [8, 9]])"
            ]
          },
          "metadata": {},
          "execution_count": 79
        }
      ]
    },
    {
      "cell_type": "code",
      "source": [
        "\n",
        "y2 = [[4, 5], [6, 7]]\n",
        "\n",
        "# hstack horizontal : 수평\n",
        "h = np.hstack([x2, y2])\n",
        "print(h)"
      ],
      "metadata": {
        "colab": {
          "base_uri": "https://localhost:8080/"
        },
        "id": "chFEhEcpuH0c",
        "outputId": "9e209826-3b62-4c34-ada9-58a654a3303b"
      },
      "execution_count": null,
      "outputs": [
        {
          "output_type": "stream",
          "name": "stdout",
          "text": [
            "[[1 2 4 5]\n",
            " [3 4 6 7]]\n"
          ]
        }
      ]
    },
    {
      "cell_type": "code",
      "source": [
        "# vstack vertical : 수직\n",
        "v = np.vstack([x2, y2])\n",
        "print(v)"
      ],
      "metadata": {
        "colab": {
          "base_uri": "https://localhost:8080/"
        },
        "id": "ppnMyl2YuRe_",
        "outputId": "cebda990-09a3-4083-f12c-7a3a298d1c54"
      },
      "execution_count": null,
      "outputs": [
        {
          "output_type": "stream",
          "name": "stdout",
          "text": [
            "[[1 2]\n",
            " [3 4]\n",
            " [4 5]\n",
            " [6 7]]\n"
          ]
        }
      ]
    },
    {
      "cell_type": "code",
      "source": [
        "x2 = np.array([[1, 2], [3, 4], [5, 6]])\n",
        "\n",
        "# hsplit\n",
        "\n",
        "h2 = np.hsplit(x2, 2)\n",
        "print(h2)\n",
        "\n",
        "# array([[1], [3], [5]]), array([[2], [4], [6]])"
      ],
      "metadata": {
        "colab": {
          "base_uri": "https://localhost:8080/"
        },
        "id": "m1I3cY-Qv1Sc",
        "outputId": "69573cba-4101-4fe8-a306-46d9748592dd"
      },
      "execution_count": null,
      "outputs": [
        {
          "output_type": "stream",
          "name": "stdout",
          "text": [
            "[array([[1],\n",
            "       [3],\n",
            "       [5]]), array([[2],\n",
            "       [4],\n",
            "       [6]])]\n"
          ]
        }
      ]
    },
    {
      "cell_type": "code",
      "source": [
        "# vsplit\n",
        "\n",
        "v2 = np.vsplit(x2, 3)\n",
        "print(v2)"
      ],
      "metadata": {
        "colab": {
          "base_uri": "https://localhost:8080/"
        },
        "id": "_MEW87Dsu3a1",
        "outputId": "5ffa422d-c95c-44e8-9f90-ce4c5c42c408"
      },
      "execution_count": null,
      "outputs": [
        {
          "output_type": "stream",
          "name": "stdout",
          "text": [
            "[array([[1, 2]]), array([[3, 4]]), array([[5, 6]])]\n"
          ]
        }
      ]
    },
    {
      "cell_type": "markdown",
      "source": [
        "## 다양한 배열 만들기"
      ],
      "metadata": {
        "id": "uy_W1xd82WDj"
      }
    },
    {
      "cell_type": "code",
      "source": [
        "zero = np.zeros([3, 4])\n",
        "print(zero)"
      ],
      "metadata": {
        "colab": {
          "base_uri": "https://localhost:8080/"
        },
        "id": "mhNs0KH51tuy",
        "outputId": "f1432ce4-4c52-4e36-fd1d-d1f53d673aea"
      },
      "execution_count": null,
      "outputs": [
        {
          "output_type": "stream",
          "name": "stdout",
          "text": [
            "[[0. 0. 0. 0.]\n",
            " [0. 0. 0. 0.]\n",
            " [0. 0. 0. 0.]]\n"
          ]
        }
      ]
    },
    {
      "cell_type": "code",
      "source": [
        "one = np.ones([3, 4])\n",
        "print(one)"
      ],
      "metadata": {
        "colab": {
          "base_uri": "https://localhost:8080/"
        },
        "id": "AL-X__3o2vOh",
        "outputId": "37a172df-a3c8-4cfb-f50d-5e861feab3d8"
      },
      "execution_count": null,
      "outputs": [
        {
          "output_type": "stream",
          "name": "stdout",
          "text": [
            "[[1. 1. 1. 1.]\n",
            " [1. 1. 1. 1.]\n",
            " [1. 1. 1. 1.]]\n"
          ]
        }
      ]
    },
    {
      "cell_type": "code",
      "source": [
        "eye = np.eye(3)\n",
        "print(eye)"
      ],
      "metadata": {
        "colab": {
          "base_uri": "https://localhost:8080/"
        },
        "id": "xIerU0ZD3De8",
        "outputId": "dae931e5-437a-4d94-f941-ed9c22f6348e"
      },
      "execution_count": null,
      "outputs": [
        {
          "output_type": "stream",
          "name": "stdout",
          "text": [
            "[[1. 0. 0.]\n",
            " [0. 1. 0.]\n",
            " [0. 0. 1.]]\n"
          ]
        }
      ]
    },
    {
      "cell_type": "markdown",
      "source": [
        "# Numpy 제공 함수"
      ],
      "metadata": {
        "id": "7Pgiovoo4RTX"
      }
    },
    {
      "cell_type": "markdown",
      "source": [
        "### 범용함수"
      ],
      "metadata": {
        "id": "hakdhCO-5oHL"
      }
    },
    {
      "cell_type": "code",
      "source": [
        "# 절대값\n",
        "arr1 = np.array([-1, -2, -3, -4])\n",
        "abs_arr = np.abs(arr1)\n",
        "\n",
        "print(abs_arr)"
      ],
      "metadata": {
        "colab": {
          "base_uri": "https://localhost:8080/"
        },
        "id": "aoT3gE2D3Vwz",
        "outputId": "20506b02-d9cb-4ffe-c452-a9dbc482b799"
      },
      "execution_count": null,
      "outputs": [
        {
          "output_type": "stream",
          "name": "stdout",
          "text": [
            "[1 2 3 4]\n"
          ]
        }
      ]
    },
    {
      "cell_type": "code",
      "source": [
        "# 제곱근\n",
        "arr2 = np.array([1, 4, 9, 16])\n",
        "sqrt_arr = np.sqrt(arr2)\n",
        "\n",
        "print(sqrt_arr)"
      ],
      "metadata": {
        "colab": {
          "base_uri": "https://localhost:8080/"
        },
        "id": "Q6giwEM55F1F",
        "outputId": "34ea5418-b622-4446-ea44-a8ef60bccad9"
      },
      "execution_count": null,
      "outputs": [
        {
          "output_type": "stream",
          "name": "stdout",
          "text": [
            "[1. 2. 3. 4.]\n"
          ]
        }
      ]
    },
    {
      "cell_type": "markdown",
      "source": [
        "### 집계함수"
      ],
      "metadata": {
        "id": "ESKiNzSM5plf"
      }
    },
    {
      "cell_type": "code",
      "source": [
        "# 평균\n",
        "a = np.array([1, 2, 3, 4, 5])\n",
        "a_mean = np.mean(a)\n",
        "\n",
        "print(a_mean)"
      ],
      "metadata": {
        "colab": {
          "base_uri": "https://localhost:8080/"
        },
        "id": "2yojRY2b5quk",
        "outputId": "b1b564bc-bbe1-4ee6-ea77-6c80ea554863"
      },
      "execution_count": null,
      "outputs": [
        {
          "output_type": "stream",
          "name": "stdout",
          "text": [
            "3.0\n"
          ]
        }
      ]
    },
    {
      "cell_type": "code",
      "source": [
        "# 중앙값\n",
        "b = np.array([1, 3, 5, 7, 9])\n",
        "b_median = np.median(b)\n",
        "\n",
        "print(b_median)"
      ],
      "metadata": {
        "colab": {
          "base_uri": "https://localhost:8080/"
        },
        "id": "H4jm8bUO52iW",
        "outputId": "8f21cdbb-d981-4ff4-83e7-7cb6cd22a37c"
      },
      "execution_count": null,
      "outputs": [
        {
          "output_type": "stream",
          "name": "stdout",
          "text": [
            "5.0\n"
          ]
        }
      ]
    },
    {
      "cell_type": "code",
      "source": [
        "# 표준편차\n",
        "c = np.array([1, 2, 3, 4, 5])\n",
        "c_std = np.std(c)\n",
        "\n",
        "print(c_std)"
      ],
      "metadata": {
        "colab": {
          "base_uri": "https://localhost:8080/"
        },
        "id": "OGoHYwHi6XbU",
        "outputId": "22e93c9d-6397-4394-ae5c-e27b6fe70b64"
      },
      "execution_count": null,
      "outputs": [
        {
          "output_type": "stream",
          "name": "stdout",
          "text": [
            "1.4142135623730951\n"
          ]
        }
      ]
    },
    {
      "cell_type": "code",
      "source": [
        "# 분산\n",
        "d = np.array([1, 2, 3, 4, 5])\n",
        "d_var = np.var(d)\n",
        "\n",
        "print(d_var)"
      ],
      "metadata": {
        "colab": {
          "base_uri": "https://localhost:8080/"
        },
        "id": "jJZjUJHI6n52",
        "outputId": "276f4fb6-0f19-4ff2-ce59-403c03c58718"
      },
      "execution_count": null,
      "outputs": [
        {
          "output_type": "stream",
          "name": "stdout",
          "text": [
            "2.0\n"
          ]
        }
      ]
    },
    {
      "cell_type": "code",
      "source": [
        "# 합산\n",
        "d = np.array([1, 2, 3, 4, 5])\n",
        "d_sum = np.sum(d)\n",
        "\n",
        "print(d_sum)"
      ],
      "metadata": {
        "colab": {
          "base_uri": "https://localhost:8080/"
        },
        "id": "E7U6bjjK66aZ",
        "outputId": "59d41aef-22b0-4735-e746-37251638dea0"
      },
      "execution_count": null,
      "outputs": [
        {
          "output_type": "stream",
          "name": "stdout",
          "text": [
            "15\n"
          ]
        }
      ]
    },
    {
      "cell_type": "code",
      "source": [
        "# 누적합계\n",
        "d_cumsum = np.cumsum(d)\n",
        "print(d_cumsum)"
      ],
      "metadata": {
        "colab": {
          "base_uri": "https://localhost:8080/"
        },
        "id": "mrYhEkBp7Few",
        "outputId": "d806dd29-931c-41b3-f480-fa436f9d5d6a"
      },
      "execution_count": null,
      "outputs": [
        {
          "output_type": "stream",
          "name": "stdout",
          "text": [
            "[ 1  3  6 10 15]\n"
          ]
        }
      ]
    },
    {
      "cell_type": "code",
      "source": [
        "# 최소값 인덱스\n",
        "min = np.argmin(d)\n",
        "print(min)"
      ],
      "metadata": {
        "colab": {
          "base_uri": "https://localhost:8080/"
        },
        "id": "tGuRUf6B7eob",
        "outputId": "c9c485cb-c277-47c0-b5df-3204bac3d8ab"
      },
      "execution_count": null,
      "outputs": [
        {
          "output_type": "stream",
          "name": "stdout",
          "text": [
            "0\n"
          ]
        }
      ]
    },
    {
      "cell_type": "code",
      "source": [
        "# 최대값 인덱스\n",
        "max = np.argmax(d)\n",
        "print(max)"
      ],
      "metadata": {
        "colab": {
          "base_uri": "https://localhost:8080/"
        },
        "id": "caXqzpw-8koU",
        "outputId": "1622cffa-5f8e-47f1-f6cc-4c1ed1373713"
      },
      "execution_count": null,
      "outputs": [
        {
          "output_type": "stream",
          "name": "stdout",
          "text": [
            "4\n"
          ]
        }
      ]
    },
    {
      "cell_type": "code",
      "source": [
        "a = np.array([0, 0, 0, 1])  # 배열 안에 하나라도 True가 있는지\n",
        "\n",
        "a_true = np.any(a)\n",
        "print(a_true)"
      ],
      "metadata": {
        "colab": {
          "base_uri": "https://localhost:8080/"
        },
        "id": "1-jyYTL28reG",
        "outputId": "527e4015-b573-4f1e-a6f7-689d96918c70"
      },
      "execution_count": null,
      "outputs": [
        {
          "output_type": "stream",
          "name": "stdout",
          "text": [
            "True\n"
          ]
        }
      ]
    },
    {
      "cell_type": "code",
      "source": [
        "a_all = np.all(a)  # 배열 안에 모든 값이 True면 True\n",
        "print(a_all)"
      ],
      "metadata": {
        "colab": {
          "base_uri": "https://localhost:8080/"
        },
        "id": "S0yJ9ghy87G1",
        "outputId": "cd94f12e-7cb6-43a4-b3fa-32abf5c7a6a7"
      },
      "execution_count": null,
      "outputs": [
        {
          "output_type": "stream",
          "name": "stdout",
          "text": [
            "False\n"
          ]
        }
      ]
    },
    {
      "cell_type": "code",
      "source": [
        "# NaN\n",
        "\n",
        "a = np.array([1, 2, np.nan, 4])\n",
        "a_nsum = np.nansum(a)\n",
        "\n",
        "print(a_nsum)"
      ],
      "metadata": {
        "colab": {
          "base_uri": "https://localhost:8080/"
        },
        "id": "f6TBySnz9l8-",
        "outputId": "f6c3510a-e4e3-4778-9f41-adbaced2dee5"
      },
      "execution_count": null,
      "outputs": [
        {
          "output_type": "stream",
          "name": "stdout",
          "text": [
            "7.0\n"
          ]
        }
      ]
    },
    {
      "cell_type": "code",
      "source": [
        "a = np.array([1, 2, np.nan, 4])\n",
        "a_nsum = np.sum(a)\n",
        "\n",
        "print(a_nsum)"
      ],
      "metadata": {
        "colab": {
          "base_uri": "https://localhost:8080/"
        },
        "id": "qzjLXzUS-iXd",
        "outputId": "43fe077d-6221-488f-bb52-c273d13fb15f"
      },
      "execution_count": null,
      "outputs": [
        {
          "output_type": "stream",
          "name": "stdout",
          "text": [
            "nan\n"
          ]
        }
      ]
    },
    {
      "cell_type": "code",
      "source": [
        "# 조건에 맞는 인덱스값\n",
        "d = np.array([1, 2, 3, 4, 5])\n",
        "\n",
        "condition = np.where(d < 3)\n",
        "print(condition)"
      ],
      "metadata": {
        "colab": {
          "base_uri": "https://localhost:8080/"
        },
        "id": "S0QCRhDh_lnp",
        "outputId": "c2f350cc-eb6a-47ac-83f6-feeed81fdf22"
      },
      "execution_count": null,
      "outputs": [
        {
          "output_type": "stream",
          "name": "stdout",
          "text": [
            "(array([0, 1]),)\n"
          ]
        }
      ]
    },
    {
      "cell_type": "code",
      "source": [
        "# 조건에 맞는건 d 에 넣고 나머지는 0 넣기\n",
        "d = np.array([1, 2, 3, 4, 5])\n",
        "\n",
        "condition = np.where(d < 3, d, 0)\n",
        "print(condition)"
      ],
      "metadata": {
        "colab": {
          "base_uri": "https://localhost:8080/"
        },
        "id": "8xBw5O4-AJWe",
        "outputId": "761e97e5-cb96-4dfb-e7aa-36269dcd6165"
      },
      "execution_count": null,
      "outputs": [
        {
          "output_type": "stream",
          "name": "stdout",
          "text": [
            "[1 2 0 0 0]\n"
          ]
        }
      ]
    },
    {
      "cell_type": "markdown",
      "source": [
        "### Boolean Indexing\n",
        "- 조건에 따른 요소들을 판별해서 새로운 배열을 만든다."
      ],
      "metadata": {
        "id": "gbD9RmENFSJW"
      }
    },
    {
      "cell_type": "code",
      "source": [
        "a = np.array([1, 2, 3, 4, 5, 6, 7, 8, 9, 10])  # 원본데이터는 건들지 않는다.\n",
        "\n",
        "even_a = a[a % 2 == 0]\n",
        "print(even_a)\n",
        "print(a)"
      ],
      "metadata": {
        "colab": {
          "base_uri": "https://localhost:8080/"
        },
        "id": "jCZ4F6zFE_Nv",
        "outputId": "df45180e-85d7-4b24-8f6e-ebaf1f9613c4"
      },
      "execution_count": null,
      "outputs": [
        {
          "output_type": "stream",
          "name": "stdout",
          "text": [
            "[ 2  4  6  8 10]\n",
            "[ 1  2  3  4  5  6  7  8  9 10]\n"
          ]
        }
      ]
    },
    {
      "cell_type": "markdown",
      "source": [
        "### Broadcast(브로드캐스트)\n",
        "- 크기가 다른 배열 간의 연산도 가능하게 해줌\n",
        "- ex) 1차원, 2차원\n",
        "- 두 배열의 차원 수가 다를 경우, 더 작은 차원의 배열에 큰 차원의 배열이 맞을 때까지 1을 추가한다.\n",
        "- 두 배열의 차원 수가 같을 경우에도, 크기가 1인 차원이 있다면 다른 배열의 크기와 일치하도록 복제된다.\n",
        "- 두 배열의 차원 수가 같은 경우에도, 모든 차원의 크기가 같거나 크기가 1이라면 모양이 같은 두 배열의 요소간 연산을 한다."
      ],
      "metadata": {
        "id": "zkUyr34NICpT"
      }
    },
    {
      "cell_type": "code",
      "source": [
        "a = np.array([1, 2, 3])\n",
        "b = np.array([4, 5, 6])\n",
        "\n",
        "c = a + b\n",
        "print(c)"
      ],
      "metadata": {
        "colab": {
          "base_uri": "https://localhost:8080/"
        },
        "id": "GN4ZxiYNHTB0",
        "outputId": "b995ebe4-f5a3-4e45-c67d-ec12d9bebd69"
      },
      "execution_count": null,
      "outputs": [
        {
          "output_type": "stream",
          "name": "stdout",
          "text": [
            "[5 7 9]\n"
          ]
        }
      ]
    },
    {
      "cell_type": "code",
      "source": [
        "d = np.array([[1], [2], [3]])\n",
        "e = np.array([4, 5, 6])\n",
        "\n",
        "f = d + e\n",
        "print(f)"
      ],
      "metadata": {
        "colab": {
          "base_uri": "https://localhost:8080/"
        },
        "id": "urc1ENHAIl_n",
        "outputId": "3e5ede2c-7ee4-499e-9461-c427b6b0a44d"
      },
      "execution_count": null,
      "outputs": [
        {
          "output_type": "stream",
          "name": "stdout",
          "text": [
            "[[5 6 7]\n",
            " [6 7 8]\n",
            " [7 8 9]]\n"
          ]
        }
      ]
    }
  ]
}