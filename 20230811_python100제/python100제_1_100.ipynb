{
  "nbformat": 4,
  "nbformat_minor": 0,
  "metadata": {
    "colab": {
      "provenance": []
    },
    "kernelspec": {
      "name": "python3",
      "display_name": "Python 3"
    },
    "language_info": {
      "name": "python"
    }
  },
  "cells": [
    {
      "cell_type": "markdown",
      "source": [
        "## 1번"
      ],
      "metadata": {
        "id": "Nrm7pPX-g69F"
      }
    },
    {
      "cell_type": "code",
      "execution_count": null,
      "metadata": {
        "id": "cTP-EGz2gnma"
      },
      "outputs": [],
      "source": [
        "nums = [100, 200, 300, 400, 500]"
      ]
    },
    {
      "cell_type": "code",
      "source": [
        "# 정답1\n",
        "nums.pop()\n",
        "nums.pop()"
      ],
      "metadata": {
        "id": "kSFUkji6g2kf"
      },
      "execution_count": null,
      "outputs": []
    },
    {
      "cell_type": "code",
      "source": [
        "# 정답2\n",
        "nums[:3]"
      ],
      "metadata": {
        "id": "iCZTMg8Ag6GZ"
      },
      "execution_count": null,
      "outputs": []
    },
    {
      "cell_type": "code",
      "source": [
        "nums = [100, 200, 300, 400, 500]\n",
        "nums[:-2]"
      ],
      "metadata": {
        "colab": {
          "base_uri": "https://localhost:8080/"
        },
        "id": "QcLSyPcthCzO",
        "outputId": "c4848a2f-5788-451d-82a4-a530788bb58a"
      },
      "execution_count": null,
      "outputs": [
        {
          "output_type": "execute_result",
          "data": {
            "text/plain": [
              "[100, 200, 300]"
            ]
          },
          "metadata": {},
          "execution_count": 8
        }
      ]
    },
    {
      "cell_type": "markdown",
      "source": [
        "## 2번"
      ],
      "metadata": {
        "id": "rmfeXsYKhPTY"
      }
    },
    {
      "cell_type": "code",
      "source": [
        "l = [200, 100, 300]\n",
        "l.insert(2, 10000)\n",
        "print(l)"
      ],
      "metadata": {
        "colab": {
          "base_uri": "https://localhost:8080/"
        },
        "id": "FofoG_bKhCxL",
        "outputId": "d29ea3fb-ef14-4c58-8387-26533480dd9f"
      },
      "execution_count": null,
      "outputs": [
        {
          "output_type": "stream",
          "name": "stdout",
          "text": [
            "[200, 100, 10000, 300]\n"
          ]
        }
      ]
    },
    {
      "cell_type": "code",
      "source": [
        "l[:2] + [10000] + l[-1]  # error -1은 슬라이싱이 아님"
      ],
      "metadata": {
        "id": "h1RCK90DhnRc"
      },
      "execution_count": null,
      "outputs": []
    },
    {
      "cell_type": "code",
      "source": [
        "l[:2] + [10000] + [l[-1]]"
      ],
      "metadata": {
        "colab": {
          "base_uri": "https://localhost:8080/"
        },
        "id": "qFeCiiUAhb3t",
        "outputId": "ae315a32-8056-4ef2-d35b-af9642225f19"
      },
      "execution_count": null,
      "outputs": [
        {
          "output_type": "execute_result",
          "data": {
            "text/plain": [
              "[200, 100, 10000, 300]"
            ]
          },
          "metadata": {},
          "execution_count": 11
        }
      ]
    },
    {
      "cell_type": "markdown",
      "source": [
        "## 5번"
      ],
      "metadata": {
        "id": "i2K1T8Uohrkt"
      }
    },
    {
      "cell_type": "code",
      "source": [
        "a = 10\n",
        "b = 2\n",
        "for i in range(1, 5, 2):\n",
        "    a += i\n",
        "\n",
        "print(a + b)"
      ],
      "metadata": {
        "colab": {
          "base_uri": "https://localhost:8080/"
        },
        "id": "pVkxIPnjhjuN",
        "outputId": "1dbb28a4-594e-4773-acf1-d8465e15e6f6"
      },
      "execution_count": null,
      "outputs": [
        {
          "output_type": "stream",
          "name": "stdout",
          "text": [
            "16\n"
          ]
        }
      ]
    },
    {
      "cell_type": "markdown",
      "source": [
        "## 6번"
      ],
      "metadata": {
        "id": "sbHXTkkqiMdD"
      }
    },
    {
      "cell_type": "code",
      "source": [
        "# 다음 중 True인 것은? 2번\n",
        "\n",
        "# 1)  None\n",
        "# 2)  1\n",
        "# 3)  \"\"\n",
        "# 4)  0\n",
        "# 5)  bool(0)"
      ],
      "metadata": {
        "id": "jmgFESgohjlx"
      },
      "execution_count": null,
      "outputs": []
    },
    {
      "cell_type": "code",
      "source": [
        "bool([])  # false\n",
        "bool([1, 2, 3])  # True"
      ],
      "metadata": {
        "id": "QzQM1rXuhjj6"
      },
      "execution_count": null,
      "outputs": []
    },
    {
      "cell_type": "code",
      "source": [
        "# ㅣ의 값이 변한 적이 있다? 없다. 그런데 왜 bool값은 변했을까?\n",
        "\n",
        "l = []\n",
        "print(id(l))\n",
        "print(bool(l))"
      ],
      "metadata": {
        "colab": {
          "base_uri": "https://localhost:8080/"
        },
        "id": "nRvyNfzAhjh3",
        "outputId": "2a67a9cf-0d40-4b72-f71b-8c74be9f5efe"
      },
      "execution_count": null,
      "outputs": [
        {
          "output_type": "stream",
          "name": "stdout",
          "text": [
            "136889563115904\n",
            "False\n"
          ]
        }
      ]
    },
    {
      "cell_type": "code",
      "source": [
        "l.append(10)\n",
        "print(id(l))\n",
        "print(bool(l))"
      ],
      "metadata": {
        "colab": {
          "base_uri": "https://localhost:8080/"
        },
        "id": "4iqIiVEGhjf3",
        "outputId": "009b02fe-8665-41a6-84d0-bd865924895f"
      },
      "execution_count": null,
      "outputs": [
        {
          "output_type": "stream",
          "name": "stdout",
          "text": [
            "136889563115904\n",
            "True\n"
          ]
        }
      ]
    },
    {
      "cell_type": "code",
      "source": [
        "# Python은 지극히 인간의 입장에서 출력을 고려한 것입니다."
      ],
      "metadata": {
        "id": "w77Iwxk5iqkd"
      },
      "execution_count": null,
      "outputs": []
    },
    {
      "cell_type": "code",
      "source": [
        "l = ''  # immutable\n",
        "print(id(l))\n",
        "print(bool(l))"
      ],
      "metadata": {
        "id": "l19oB__giqgx"
      },
      "execution_count": null,
      "outputs": []
    },
    {
      "cell_type": "code",
      "source": [
        "l = 'a'\n",
        "print(id(l))\n",
        "print(bool(l))"
      ],
      "metadata": {
        "id": "FEi9tgF8iqei"
      },
      "execution_count": null,
      "outputs": []
    },
    {
      "cell_type": "markdown",
      "source": [
        "## 7번"
      ],
      "metadata": {
        "id": "9kcH0rmAjtMI"
      }
    },
    {
      "cell_type": "code",
      "source": [
        "# 언더바 변수에 대하여\n",
        "# 반복문 등에서 사용하지 않는 변수에 _를 넣습니다.\n",
        "\n",
        "for _ in range(5):\n",
        "    print('hello world')\n",
        "\n",
        "# 프라이빗한 변수에서 _를 사용합니다.\n",
        "class Human():\n",
        "    _age = 0"
      ],
      "metadata": {
        "colab": {
          "base_uri": "https://localhost:8080/"
        },
        "id": "uFttYPJKjZAH",
        "outputId": "8c324057-5266-4df2-ecf9-b4958a30d0cc"
      },
      "execution_count": null,
      "outputs": [
        {
          "output_type": "stream",
          "name": "stdout",
          "text": [
            "hello world\n",
            "hello world\n",
            "hello world\n",
            "hello world\n",
            "hello world\n"
          ]
        }
      ]
    },
    {
      "cell_type": "markdown",
      "source": [
        "## 8번"
      ],
      "metadata": {
        "id": "r_ySBTnpkjo8"
      }
    },
    {
      "cell_type": "code",
      "source": [
        "d = {'height':180,\n",
        "     'weight':78,\n",
        "     'weight':84,\n",
        "     'temparture':36,\n",
        "     'eyesight':1}\n",
        "print(d['weight'])"
      ],
      "metadata": {
        "colab": {
          "base_uri": "https://localhost:8080/"
        },
        "id": "gyikBiRikkLT",
        "outputId": "0e97a58d-733c-42af-fafa-44068c685f0d"
      },
      "execution_count": null,
      "outputs": [
        {
          "output_type": "stream",
          "name": "stdout",
          "text": [
            "84\n"
          ]
        }
      ]
    },
    {
      "cell_type": "markdown",
      "source": [
        "## 9번"
      ],
      "metadata": {
        "id": "YQc4BDailDSu"
      }
    },
    {
      "cell_type": "code",
      "source": [
        "year = '2019'\n",
        "month = '04'\n",
        "day = '26'\n",
        "hour = '11'\n",
        "minute = '34'\n",
        "second = '27'\n",
        "\n",
        "print(f'{year}/{month}/{day} {hour}:{minute}:{second}')"
      ],
      "metadata": {
        "colab": {
          "base_uri": "https://localhost:8080/"
        },
        "id": "O-J-5RZTkkJq",
        "outputId": "b12cf841-0de7-488b-a8d7-b1753516085f"
      },
      "execution_count": null,
      "outputs": [
        {
          "output_type": "stream",
          "name": "stdout",
          "text": [
            "2019/04/26 11:34:27\n"
          ]
        }
      ]
    },
    {
      "cell_type": "code",
      "source": [
        "year = '2019'\n",
        "month = '04'\n",
        "day = '26'\n",
        "hour = '11'\n",
        "minute = '34'\n",
        "second = '27'\n",
        "\n",
        "print(year, month, day, sep='/', end=' ')\n",
        "print(hour, minute, second, sep=':')"
      ],
      "metadata": {
        "colab": {
          "base_uri": "https://localhost:8080/"
        },
        "id": "ibYfpAn6kkHf",
        "outputId": "15c30dfe-988c-4416-c929-f32e704c18e1"
      },
      "execution_count": null,
      "outputs": [
        {
          "output_type": "stream",
          "name": "stdout",
          "text": [
            "2019/04/26 11:34:27\n"
          ]
        }
      ]
    },
    {
      "cell_type": "markdown",
      "source": [
        "## 10번"
      ],
      "metadata": {
        "id": "3r-LntAmlwp0"
      }
    },
    {
      "cell_type": "code",
      "source": [
        "#     *\n",
        "#    ***\n",
        "#   *****\n",
        "#  *******\n",
        "# *********"
      ],
      "metadata": {
        "id": "4L0B1ND4mDQR"
      },
      "execution_count": null,
      "outputs": []
    },
    {
      "cell_type": "code",
      "source": [
        "n = 5\n",
        "\n",
        "for i in range(1, n+1):\n",
        "    print(((n - i) * ' ') + '*' * ((2 * i) - 1))"
      ],
      "metadata": {
        "colab": {
          "base_uri": "https://localhost:8080/"
        },
        "id": "RVpSFwIFkj1y",
        "outputId": "b57ceb02-2113-43eb-fd99-61e7166b1bf1"
      },
      "execution_count": null,
      "outputs": [
        {
          "output_type": "stream",
          "name": "stdout",
          "text": [
            "    *\n",
            "   ***\n",
            "  *****\n",
            " *******\n",
            "*********\n"
          ]
        }
      ]
    },
    {
      "cell_type": "markdown",
      "source": [
        "## 11번"
      ],
      "metadata": {
        "id": "wVSEG9bnn-Zg"
      }
    },
    {
      "cell_type": "code",
      "source": [
        "s = 0\n",
        "\n",
        "for i in range(1, 101):\n",
        "    s += i\n",
        "\n",
        "print(s)"
      ],
      "metadata": {
        "colab": {
          "base_uri": "https://localhost:8080/"
        },
        "id": "Uh3ok_SCjY9n",
        "outputId": "c86ce3cd-980b-4dd9-ce69-bba3529777f6"
      },
      "execution_count": null,
      "outputs": [
        {
          "output_type": "stream",
          "name": "stdout",
          "text": [
            "5050\n"
          ]
        }
      ]
    },
    {
      "cell_type": "code",
      "source": [
        "# n(n+1) / 2\n",
        "\n",
        "100 * 101 / 2"
      ],
      "metadata": {
        "colab": {
          "base_uri": "https://localhost:8080/"
        },
        "id": "qaFQmKBTjY7f",
        "outputId": "3da197cb-01d1-4d55-b561-d260b509f73d"
      },
      "execution_count": null,
      "outputs": [
        {
          "output_type": "execute_result",
          "data": {
            "text/plain": [
              "5050.0"
            ]
          },
          "metadata": {},
          "execution_count": 31
        }
      ]
    },
    {
      "cell_type": "markdown",
      "source": [
        "## 12번"
      ],
      "metadata": {
        "id": "0yks0RCHqm_s"
      }
    },
    {
      "cell_type": "code",
      "source": [
        "class Wizard:\n",
        "    def __init__(self, health, mana, armor):\n",
        "        '''\n",
        "        self는 인스턴스, 인스턴스의 메모리 영역\n",
        "        '''\n",
        "        self.health = health\n",
        "        self.mana = mana\n",
        "        self.armor = armor\n",
        "\n",
        "\n",
        "    def attack(self):\n",
        "        print('파이어볼')\n",
        "\n",
        "\n",
        "jik = Wizard(health = 545, mana = 210, armor = 10)\n",
        "print(jik.health, jik.mana, jik.armor)\n",
        "jik.attack()"
      ],
      "metadata": {
        "colab": {
          "base_uri": "https://localhost:8080/"
        },
        "id": "b1PNG6ZYjY5K",
        "outputId": "d9eecbdb-ff05-4d6e-8941-6e462f4231a3"
      },
      "execution_count": null,
      "outputs": [
        {
          "output_type": "stream",
          "name": "stdout",
          "text": [
            "545 210 10\n",
            "파이어볼\n"
          ]
        }
      ]
    },
    {
      "cell_type": "markdown",
      "source": [
        "## 14번\n",
        "문제가 너무 쉬워 아래 문제로 풀도록 하겠습니다."
      ],
      "metadata": {
        "id": "lllfdJIYtNzT"
      }
    },
    {
      "cell_type": "markdown",
      "source": [
        "https://school.programmers.co.kr/learn/courses/30/lessons/120871"
      ],
      "metadata": {
        "id": "UjcupOaJt4WO"
      }
    },
    {
      "cell_type": "code",
      "source": [
        "def solution(n):\n",
        "    return [i for i in range(100) if i % 3 != 0 and '3' not in str(i)][n-1]"
      ],
      "metadata": {
        "id": "cLZbvyhaqnuf"
      },
      "execution_count": null,
      "outputs": []
    },
    {
      "cell_type": "code",
      "source": [
        "def solution(n):\n",
        "    return  list(filter(lambda x: '3' not in str(x), (filter(lambda x:x % 3 != 0, range(1000)))))[n-1]"
      ],
      "metadata": {
        "id": "Z7ORQTxMqntC"
      },
      "execution_count": null,
      "outputs": []
    },
    {
      "cell_type": "markdown",
      "source": [
        "## 16번"
      ],
      "metadata": {
        "id": "g207B1Ftv7X6"
      }
    },
    {
      "cell_type": "code",
      "source": [
        "'안녕하세요'[::-1]"
      ],
      "metadata": {
        "colab": {
          "base_uri": "https://localhost:8080/",
          "height": 35
        },
        "id": "jPfRoSTQqnrC",
        "outputId": "34fb8e25-a419-4743-ed20-e0ed7e944e29"
      },
      "execution_count": null,
      "outputs": [
        {
          "output_type": "execute_result",
          "data": {
            "text/plain": [
              "'요세하녕안'"
            ],
            "application/vnd.google.colaboratory.intrinsic+json": {
              "type": "string"
            }
          },
          "metadata": {},
          "execution_count": 34
        }
      ]
    },
    {
      "cell_type": "code",
      "source": [
        "''.join(list(reversed(list('안녕하세요'))))"
      ],
      "metadata": {
        "colab": {
          "base_uri": "https://localhost:8080/",
          "height": 35
        },
        "id": "Iw0QoagGqnpN",
        "outputId": "c383c47b-ad6d-4626-e8f0-0307dbe3a102"
      },
      "execution_count": null,
      "outputs": [
        {
          "output_type": "execute_result",
          "data": {
            "text/plain": [
              "'요세하녕안'"
            ],
            "application/vnd.google.colaboratory.intrinsic+json": {
              "type": "string"
            }
          },
          "metadata": {},
          "execution_count": 37
        }
      ]
    },
    {
      "cell_type": "code",
      "source": [
        "s = '안녕하세요'\n",
        "ss = list(s)\n",
        "ss.reverse()\n",
        "''.join(ss)"
      ],
      "metadata": {
        "colab": {
          "base_uri": "https://localhost:8080/",
          "height": 35
        },
        "id": "sj7S0eqqqnne",
        "outputId": "c404d8e6-ca6b-4ef5-9fbb-6e072cbd75b6"
      },
      "execution_count": null,
      "outputs": [
        {
          "output_type": "execute_result",
          "data": {
            "text/plain": [
              "'요세하녕안'"
            ],
            "application/vnd.google.colaboratory.intrinsic+json": {
              "type": "string"
            }
          },
          "metadata": {},
          "execution_count": 38
        }
      ]
    },
    {
      "cell_type": "code",
      "source": [
        "s = '안녕하세요'\n",
        "result = ''\n",
        "for i in s:\n",
        "    result = i + result\n",
        "result"
      ],
      "metadata": {
        "colab": {
          "base_uri": "https://localhost:8080/",
          "height": 35
        },
        "id": "ZLhlG5FOw0NX",
        "outputId": "8060482f-3b71-4934-e6d4-07f81e0e31c3"
      },
      "execution_count": null,
      "outputs": [
        {
          "output_type": "execute_result",
          "data": {
            "text/plain": [
              "'요세하녕안'"
            ],
            "application/vnd.google.colaboratory.intrinsic+json": {
              "type": "string"
            }
          },
          "metadata": {},
          "execution_count": 41
        }
      ]
    },
    {
      "cell_type": "code",
      "source": [
        "def reverse(s):\n",
        "    if len(s) == 1:\n",
        "        return s\n",
        "    else:\n",
        "        return reverse(s[1:]) + s[0]\n",
        "\n",
        "reverse('안녕하세요')"
      ],
      "metadata": {
        "colab": {
          "base_uri": "https://localhost:8080/",
          "height": 35
        },
        "id": "4QRrAJL2qnlC",
        "outputId": "aabdec27-da22-4275-ff04-45d62c91dbb1"
      },
      "execution_count": null,
      "outputs": [
        {
          "output_type": "execute_result",
          "data": {
            "text/plain": [
              "'요세하녕안'"
            ],
            "application/vnd.google.colaboratory.intrinsic+json": {
              "type": "string"
            }
          },
          "metadata": {},
          "execution_count": 42
        }
      ]
    },
    {
      "cell_type": "markdown",
      "source": [
        "## 17번"
      ],
      "metadata": {
        "id": "tODwmJtNxTVa"
      }
    },
    {
      "cell_type": "code",
      "source": [
        "height = 149\n",
        "\n",
        "# print('NO') if height >= 150: print('YES')  # Error\n",
        "\n",
        "print('YES') if height >= 150 else print('NO')"
      ],
      "metadata": {
        "colab": {
          "base_uri": "https://localhost:8080/"
        },
        "id": "RtAgQVfOqnjN",
        "outputId": "643139f4-2580-4c80-e9ce-5eccd4c14ecc"
      },
      "execution_count": null,
      "outputs": [
        {
          "output_type": "stream",
          "name": "stdout",
          "text": [
            "NO\n"
          ]
        }
      ]
    },
    {
      "cell_type": "code",
      "source": [
        "def solution(height):\n",
        "    return 'YES' if height >= 150 else 'NO'\n",
        "\n",
        "solution(150)"
      ],
      "metadata": {
        "colab": {
          "base_uri": "https://localhost:8080/",
          "height": 35
        },
        "id": "kOBtIkooxTNI",
        "outputId": "286ed54e-3181-494a-ba56-3195a0b662fd"
      },
      "execution_count": null,
      "outputs": [
        {
          "output_type": "execute_result",
          "data": {
            "text/plain": [
              "'YES'"
            ],
            "application/vnd.google.colaboratory.intrinsic+json": {
              "type": "string"
            }
          },
          "metadata": {},
          "execution_count": 45
        }
      ]
    },
    {
      "cell_type": "markdown",
      "source": [
        "## 18번"
      ],
      "metadata": {
        "id": "qTdV1JB_y9V_"
      }
    },
    {
      "cell_type": "code",
      "source": [
        "list(map(int, '20 30 40'.split(' ')))"
      ],
      "metadata": {
        "colab": {
          "base_uri": "https://localhost:8080/"
        },
        "id": "J2aRAh35xTLU",
        "outputId": "9d402d2a-7531-468f-e091-0c2c06293ed8"
      },
      "execution_count": null,
      "outputs": [
        {
          "output_type": "execute_result",
          "data": {
            "text/plain": [
              "[20, 30, 40]"
            ]
          },
          "metadata": {},
          "execution_count": 50
        }
      ]
    },
    {
      "cell_type": "code",
      "source": [
        "sum(map(int, '20 30 40'.split(' '))) / 3"
      ],
      "metadata": {
        "colab": {
          "base_uri": "https://localhost:8080/"
        },
        "id": "AuRAnLOexTJY",
        "outputId": "a8326227-3bd0-4c80-a3bc-19f8e1ff7c69"
      },
      "execution_count": null,
      "outputs": [
        {
          "output_type": "execute_result",
          "data": {
            "text/plain": [
              "30.0"
            ]
          },
          "metadata": {},
          "execution_count": 51
        }
      ]
    },
    {
      "cell_type": "markdown",
      "source": [
        "## 21번"
      ],
      "metadata": {
        "id": "oFfBHJ5uzgsC"
      }
    },
    {
      "cell_type": "code",
      "source": [
        "# 1)  x = {1, 2, 3, 5, 6, 7}\n",
        "# 2)  x = {}  # dict\n",
        "# 3)  x = set('python')\n",
        "# 4)  x = set(range(5))\n",
        "# 5)  x = set()"
      ],
      "metadata": {
        "colab": {
          "base_uri": "https://localhost:8080/"
        },
        "id": "v90eYWY8xTHY",
        "outputId": "a4e58a03-5b3c-44da-9f63-ad83e8dff4ee"
      },
      "execution_count": null,
      "outputs": [
        {
          "output_type": "execute_result",
          "data": {
            "text/plain": [
              "dict"
            ]
          },
          "metadata": {},
          "execution_count": 52
        }
      ]
    },
    {
      "cell_type": "code",
      "source": [
        "t = 1\n",
        "t = (1)  # tuple 아님!\n",
        "t = (1,)  # tuple\n",
        "t\n",
        "\n",
        "# 어떤 라이브러리나 프레임워크에서 마지막 콤마가 꼭 있는 이유(3~4개 있습니다.)\n",
        "# 버전관리하는 곳에서 콤마를 버전의 업이라고 인식하는 경우가 있습니다.\n",
        "# 튜플인 경우 상수, 문자가 들어갔을 때 int, str로 변환되는 것을 막기 위해\n",
        "\n",
        "옵션 = [\n",
        "    'a',\n",
        "    'b',\n",
        "]"
      ],
      "metadata": {
        "colab": {
          "base_uri": "https://localhost:8080/"
        },
        "id": "n_pouG-8xTFA",
        "outputId": "c2d1bc25-d9ec-4f93-ed12-6553629dc0bb"
      },
      "execution_count": null,
      "outputs": [
        {
          "output_type": "execute_result",
          "data": {
            "text/plain": [
              "(1,)"
            ]
          },
          "metadata": {},
          "execution_count": 53
        }
      ]
    },
    {
      "cell_type": "code",
      "source": [
        "t = ('hello') # tuple 아님!\n",
        "t"
      ],
      "metadata": {
        "colab": {
          "base_uri": "https://localhost:8080/",
          "height": 35
        },
        "id": "FUau3RNXxTDM",
        "outputId": "ed400bba-b518-4ddc-f921-e0e8efa9e6bf"
      },
      "execution_count": null,
      "outputs": [
        {
          "output_type": "execute_result",
          "data": {
            "text/plain": [
              "'hello'"
            ],
            "application/vnd.google.colaboratory.intrinsic+json": {
              "type": "string"
            }
          },
          "metadata": {},
          "execution_count": 54
        }
      ]
    },
    {
      "cell_type": "markdown",
      "source": [
        "## 24번"
      ],
      "metadata": {
        "id": "fMrPJUnB08Xo"
      }
    },
    {
      "cell_type": "code",
      "source": [
        "'mary'.upper()"
      ],
      "metadata": {
        "colab": {
          "base_uri": "https://localhost:8080/",
          "height": 35
        },
        "id": "WJ3JNXnX08Jv",
        "outputId": "c85c1ee8-6354-41c1-9eb8-1a3f702915b6"
      },
      "execution_count": null,
      "outputs": [
        {
          "output_type": "execute_result",
          "data": {
            "text/plain": [
              "'MARY'"
            ],
            "application/vnd.google.colaboratory.intrinsic+json": {
              "type": "string"
            }
          },
          "metadata": {},
          "execution_count": 55
        }
      ]
    },
    {
      "cell_type": "code",
      "source": [
        "ord('a')"
      ],
      "metadata": {
        "colab": {
          "base_uri": "https://localhost:8080/"
        },
        "id": "8Cn_QqZr08Hf",
        "outputId": "73f154c4-5810-46d0-ce99-160066730c87"
      },
      "execution_count": null,
      "outputs": [
        {
          "output_type": "execute_result",
          "data": {
            "text/plain": [
              "97"
            ]
          },
          "metadata": {},
          "execution_count": 56
        }
      ]
    },
    {
      "cell_type": "code",
      "source": [
        "ord('A')"
      ],
      "metadata": {
        "colab": {
          "base_uri": "https://localhost:8080/"
        },
        "id": "yr3kRX-9zfBv",
        "outputId": "e4cdada3-71b6-4a8a-acd5-5c702e80baf6"
      },
      "execution_count": null,
      "outputs": [
        {
          "output_type": "execute_result",
          "data": {
            "text/plain": [
              "65"
            ]
          },
          "metadata": {},
          "execution_count": 57
        }
      ]
    },
    {
      "cell_type": "code",
      "source": [
        "ord('a') - ord('A')"
      ],
      "metadata": {
        "colab": {
          "base_uri": "https://localhost:8080/"
        },
        "id": "RTmn1zavze_s",
        "outputId": "c5f299a4-9fbb-4afa-8a9e-b68fad9473f3"
      },
      "execution_count": null,
      "outputs": [
        {
          "output_type": "execute_result",
          "data": {
            "text/plain": [
              "32"
            ]
          },
          "metadata": {},
          "execution_count": 58
        }
      ]
    },
    {
      "cell_type": "code",
      "source": [
        "chr(ord('a') - 32)"
      ],
      "metadata": {
        "colab": {
          "base_uri": "https://localhost:8080/",
          "height": 35
        },
        "id": "tQ_5t8h7ze9u",
        "outputId": "6448bb40-814c-48a0-82af-b8ba4e6ea1f6"
      },
      "execution_count": null,
      "outputs": [
        {
          "output_type": "execute_result",
          "data": {
            "text/plain": [
              "'A'"
            ],
            "application/vnd.google.colaboratory.intrinsic+json": {
              "type": "string"
            }
          },
          "metadata": {},
          "execution_count": 61
        }
      ]
    },
    {
      "cell_type": "code",
      "source": [
        "for i in 'mary':\n",
        "    print(chr(ord(i) - 32), end='')"
      ],
      "metadata": {
        "colab": {
          "base_uri": "https://localhost:8080/"
        },
        "id": "2njt9tYy1VhD",
        "outputId": "0fab84df-8807-4bee-9d8b-0c445c82770f"
      },
      "execution_count": null,
      "outputs": [
        {
          "output_type": "stream",
          "name": "stdout",
          "text": [
            "MARY"
          ]
        }
      ]
    },
    {
      "cell_type": "code",
      "source": [
        "# 도대체 이런 지식은 어디에 쓸모가 있을까요? 인코딩쪽에서 어떤 인코딩인지 확인하는 용도로 사용하기도 합니다.\n",
        "# 알고리즘은 얼마나 쓸모가 있나요? 코드를 읽는 속도와 이해하는 속도에 도움을 줍니다.\n",
        "# 코드는 AI가 더 잘 짭니다. 잘 짠 것을 확인해주는 작업은 내가 해야 합니다."
      ],
      "metadata": {
        "id": "hby5NgRi1Veq"
      },
      "execution_count": null,
      "outputs": []
    },
    {
      "cell_type": "markdown",
      "source": [
        "## 26번"
      ],
      "metadata": {
        "id": "5X9BenXk4e8A"
      }
    },
    {
      "cell_type": "code",
      "source": [
        "key = '수성, 금성, 지구, 화성, 목성, 토성, 천왕성, 해왕성'.split(', ')\n",
        "value = 'Mercury, Venus, Earth, Mars, Jupiter, Saturn, Uranus, Neptune'.split(', ')"
      ],
      "metadata": {
        "id": "Zzxh9aR64elw"
      },
      "execution_count": null,
      "outputs": []
    },
    {
      "cell_type": "code",
      "source": [
        "dict(zip(key, value))"
      ],
      "metadata": {
        "colab": {
          "base_uri": "https://localhost:8080/"
        },
        "id": "ekF_mDah1jVH",
        "outputId": "483181f1-4ad2-41e3-bb93-418e32161da5"
      },
      "execution_count": null,
      "outputs": [
        {
          "output_type": "execute_result",
          "data": {
            "text/plain": [
              "{'수성': 'Mercury',\n",
              " '금성': 'Venus',\n",
              " '지구': 'Earth',\n",
              " '화성': 'Mars',\n",
              " '목성': 'Jupiter',\n",
              " '토성': 'Saturn',\n",
              " '천왕성': 'Uranus',\n",
              " '해왕성': 'Neptune'}"
            ]
          },
          "metadata": {},
          "execution_count": 67
        }
      ]
    },
    {
      "cell_type": "markdown",
      "source": [
        "## 28번"
      ],
      "metadata": {
        "id": "qDDt-Dk85xlz"
      }
    },
    {
      "cell_type": "code",
      "source": [
        "s = 'Python'\n",
        "\n",
        "for i in range(len(s) - 1):\n",
        "    print(s[i:i+2])"
      ],
      "metadata": {
        "colab": {
          "base_uri": "https://localhost:8080/"
        },
        "id": "DDnGiySD1jNh",
        "outputId": "a81b5d09-9035-4738-dee1-f13158bf911d"
      },
      "execution_count": null,
      "outputs": [
        {
          "output_type": "stream",
          "name": "stdout",
          "text": [
            "Py\n",
            "yt\n",
            "th\n",
            "ho\n",
            "on\n"
          ]
        }
      ]
    },
    {
      "cell_type": "code",
      "source": [
        "s = 'Python'\n",
        "list(zip(s, s[1:]))  # 짝이 안 맞으면 어차피 생성하지 않습니다."
      ],
      "metadata": {
        "colab": {
          "base_uri": "https://localhost:8080/"
        },
        "id": "MHcUEdKB1jLp",
        "outputId": "fedceb1b-33e9-4eb5-f0ba-0877c537bf72"
      },
      "execution_count": null,
      "outputs": [
        {
          "output_type": "execute_result",
          "data": {
            "text/plain": [
              "[('P', 'y'), ('y', 't'), ('t', 'h'), ('h', 'o'), ('o', 'n')]"
            ]
          },
          "metadata": {},
          "execution_count": 75
        }
      ]
    },
    {
      "cell_type": "code",
      "source": [
        "s = 'Python'\n",
        "for i in zip(s, s[1:]):\n",
        "    print(''.join(i))"
      ],
      "metadata": {
        "colab": {
          "base_uri": "https://localhost:8080/"
        },
        "id": "q-XWO0IL1jJQ",
        "outputId": "986e766c-2d43-4a82-beac-cebf2861e9b4"
      },
      "execution_count": null,
      "outputs": [
        {
          "output_type": "stream",
          "name": "stdout",
          "text": [
            "Py\n",
            "yt\n",
            "th\n",
            "ho\n",
            "on\n"
          ]
        }
      ]
    },
    {
      "cell_type": "code",
      "source": [
        "s = 'life is short, you need Python'\n",
        "for i in zip(s, s[1:]):\n",
        "    print(''.join(i))"
      ],
      "metadata": {
        "colab": {
          "base_uri": "https://localhost:8080/"
        },
        "id": "hkR-uxn06102",
        "outputId": "3a60dcbb-3b32-4daf-ba8c-4057bfd45a33"
      },
      "execution_count": null,
      "outputs": [
        {
          "output_type": "stream",
          "name": "stdout",
          "text": [
            "li\n",
            "if\n",
            "fe\n",
            "e \n",
            " i\n",
            "is\n",
            "s \n",
            " s\n",
            "sh\n",
            "ho\n",
            "or\n",
            "rt\n",
            "t,\n",
            ", \n",
            " y\n",
            "yo\n",
            "ou\n",
            "u \n",
            " n\n",
            "ne\n",
            "ee\n",
            "ed\n",
            "d \n",
            " P\n",
            "Py\n",
            "yt\n",
            "th\n",
            "ho\n",
            "on\n"
          ]
        }
      ]
    },
    {
      "cell_type": "code",
      "source": [
        "p = [1, 3, 5, 7, 11, 14, 19, 21, 22]\n",
        "list(zip(p, p[1:]))\n",
        "list(map(lambda x:x[1] - x[0], zip(p, p[1:])))"
      ],
      "metadata": {
        "colab": {
          "base_uri": "https://localhost:8080/"
        },
        "id": "iYq3MGNz61yq",
        "outputId": "1f721dcc-fd83-46d8-8d31-89dd4bcc5a0d"
      },
      "execution_count": null,
      "outputs": [
        {
          "output_type": "execute_result",
          "data": {
            "text/plain": [
              "[2, 2, 2, 4, 3, 5, 2, 1]"
            ]
          },
          "metadata": {},
          "execution_count": 87
        }
      ]
    },
    {
      "cell_type": "markdown",
      "source": [
        "## 29번\n",
        "문제 변경 : 대문자만 지나가도록 코딩해주세요. 'HellO WoRld' -> HOWR"
      ],
      "metadata": {
        "id": "OmoOCaIZ78py"
      }
    },
    {
      "cell_type": "code",
      "source": [
        "for s in 'HellO WoRld':\n",
        "    if s != s.lower():\n",
        "        print(s)"
      ],
      "metadata": {
        "colab": {
          "base_uri": "https://localhost:8080/"
        },
        "id": "ujjqjnMM8nOf",
        "outputId": "ca67965d-c23a-498e-fcec-bc34f43c2db7"
      },
      "execution_count": null,
      "outputs": [
        {
          "output_type": "stream",
          "name": "stdout",
          "text": [
            "H\n",
            "O\n",
            "W\n",
            "R\n"
          ]
        }
      ]
    },
    {
      "cell_type": "code",
      "source": [
        "for s in 'HellO WoRld':\n",
        "    if 'A' <= s <= 'Z':\n",
        "        print(s)"
      ],
      "metadata": {
        "colab": {
          "base_uri": "https://localhost:8080/"
        },
        "id": "LYttcl4A8fTC",
        "outputId": "9ee8e9c4-3a9d-4780-faf8-5810944306b4"
      },
      "execution_count": null,
      "outputs": [
        {
          "output_type": "stream",
          "name": "stdout",
          "text": [
            "H\n",
            "O\n",
            "W\n",
            "R\n"
          ]
        }
      ]
    },
    {
      "cell_type": "code",
      "source": [
        "for s in 'HellO WoRld':\n",
        "    if s.isupper():\n",
        "        print(s)"
      ],
      "metadata": {
        "colab": {
          "base_uri": "https://localhost:8080/"
        },
        "id": "-H4JgxO67cT9",
        "outputId": "fb1980aa-d312-4fe0-8450-2a1eb87ec13e"
      },
      "execution_count": null,
      "outputs": [
        {
          "output_type": "stream",
          "name": "stdout",
          "text": [
            "H\n",
            "O\n",
            "W\n",
            "R\n"
          ]
        }
      ]
    },
    {
      "cell_type": "markdown",
      "source": [
        "## 30번"
      ],
      "metadata": {
        "id": "Vv6jEnPd80pl"
      }
    },
    {
      "cell_type": "code",
      "source": [
        "'pineapple is yummy apple'.find('apple') # 없는 것을 찾을 때 -1\n",
        "'pineapple is yummy apple'.index('apple')  # 없는 것을 찾을 때 error <- error가 나면 서비스가 멈춤\n",
        "# 예를 들어 주기적으로 크롤링하는 코드가 있다면 find를 쓰셔서 error가 안 나고 다음 코드로 넘어가게 코딩하시는 것을 권장합니다.\n",
        "# 예외처리를 하는 것이 가장 좋습니다.\n",
        "# 목적에 맞게 사용"
      ],
      "metadata": {
        "id": "Gj7oareB7cSC"
      },
      "execution_count": null,
      "outputs": []
    },
    {
      "cell_type": "code",
      "source": [
        "'pineapple is yummy apple'.rfind('apple')\n",
        "'pineapple is yummy apple'.rindex('apple')"
      ],
      "metadata": {
        "colab": {
          "base_uri": "https://localhost:8080/"
        },
        "id": "DRdryTkl7cPp",
        "outputId": "fbc93c19-145a-4ec3-dbca-703fae7244c7"
      },
      "execution_count": null,
      "outputs": [
        {
          "output_type": "execute_result",
          "data": {
            "text/plain": [
              "19"
            ]
          },
          "metadata": {},
          "execution_count": 96
        }
      ]
    },
    {
      "cell_type": "code",
      "source": [
        "'pineapple is yummy apple'.find('apple', 10)\n",
        "'pineapple is yummy apple'.index('apple', 10)"
      ],
      "metadata": {
        "colab": {
          "base_uri": "https://localhost:8080/"
        },
        "id": "Bw27GMYq80ds",
        "outputId": "be78c850-6950-4825-b7e0-f7edf80f9a3e"
      },
      "execution_count": null,
      "outputs": [
        {
          "output_type": "execute_result",
          "data": {
            "text/plain": [
              "19"
            ]
          },
          "metadata": {},
          "execution_count": 98
        }
      ]
    },
    {
      "cell_type": "markdown",
      "source": [
        "## 31번\n",
        "https://wayhome25.github.io/python/2017/06/14/time-complexity/"
      ],
      "metadata": {
        "id": "Nl8C6uVD_Bq8"
      }
    },
    {
      "cell_type": "code",
      "source": [
        "# 1)  l[i]\n",
        "# 2)  l.append(5)\n",
        "# 3)  l[a:b]  # 정답\n",
        "# 4)  l.pop()\n",
        "# 5)  l.clear()"
      ],
      "metadata": {
        "id": "BNStWm4980br"
      },
      "execution_count": null,
      "outputs": []
    },
    {
      "cell_type": "code",
      "source": [
        "# 그럼에도 불구하고 슬라이싱을 사용해야 할 경우\n",
        "# error를 발생시키지 않기 때문에\n",
        "\n",
        "l = [1, 2, 3, 4, 5]\n",
        "\n",
        "l[10]  # out of range\n",
        "l[10:11]  # out of range error가 안 남! 그런데 기능은 같음"
      ],
      "metadata": {
        "id": "ah5-7Vmf80Zw"
      },
      "execution_count": null,
      "outputs": []
    },
    {
      "cell_type": "markdown",
      "source": [
        "## 35번"
      ],
      "metadata": {
        "id": "NO1f5Z_lAT7f"
      }
    },
    {
      "cell_type": "code",
      "source": [
        "# 매우매우 중요한 내용\n",
        "\n",
        "def one(n):\n",
        "    def two(value):\n",
        "        return value ** n\n",
        "    return two\n",
        "\n",
        "a = one(2)\n",
        "b = one(3)\n",
        "c = one(4)\n",
        "print(a(10))\n",
        "print(b(10))\n",
        "print(c(10))"
      ],
      "metadata": {
        "colab": {
          "base_uri": "https://localhost:8080/"
        },
        "id": "pf-NlV_Z80XU",
        "outputId": "95e06f56-9177-4e9e-d71a-4f4f61b4672d"
      },
      "execution_count": null,
      "outputs": [
        {
          "output_type": "stream",
          "name": "stdout",
          "text": [
            "100\n",
            "1000\n",
            "10000\n"
          ]
        }
      ]
    },
    {
      "cell_type": "code",
      "source": [
        "# 객체지향 프로그래밍 예제\n",
        "class Book:\n",
        "    def __init__(self, title, content, author, pub_date):\n",
        "        self.title = title\n",
        "        self.content = content\n",
        "        self.author = author\n",
        "        self.pub_date = pub_date\n",
        "\n",
        "    def calculate_date(self):\n",
        "         self.pub_date - self.current_date"
      ],
      "metadata": {
        "id": "BljeEIefAJ3A"
      },
      "execution_count": null,
      "outputs": []
    },
    {
      "cell_type": "code",
      "source": [
        "# 1. 함수를 변수에 할당할 수 있습니다.\n",
        "# 2. 함수를 데이터 구조에 저장할 수 있습니다.\n",
        "# 3. 함수를 인자로 다른 함수에 전달할 수 있습니다.\n",
        "# 4. 함수를 결과로서 반환할 수 있습니다."
      ],
      "metadata": {
        "id": "ye0Lvkf5AJ0x"
      },
      "execution_count": null,
      "outputs": []
    },
    {
      "cell_type": "code",
      "source": [
        "def add(x, y):\n",
        "    return x + y\n",
        "\n",
        "x = add\n",
        "x(10, 20)"
      ],
      "metadata": {
        "colab": {
          "base_uri": "https://localhost:8080/"
        },
        "id": "TxaH1h5Ay2GJ",
        "outputId": "a3ec83cd-be10-40d0-e8f8-2909d1d75b9e"
      },
      "execution_count": null,
      "outputs": [
        {
          "output_type": "execute_result",
          "data": {
            "text/plain": [
              "30"
            ]
          },
          "metadata": {},
          "execution_count": 4
        }
      ]
    },
    {
      "cell_type": "code",
      "source": [
        "id(x), id(add)"
      ],
      "metadata": {
        "colab": {
          "base_uri": "https://localhost:8080/"
        },
        "id": "ChLaC1h9y7q4",
        "outputId": "625cebd1-48f6-4c17-ad27-19284fb78325"
      },
      "execution_count": null,
      "outputs": [
        {
          "output_type": "execute_result",
          "data": {
            "text/plain": [
              "(134162633025152, 134162633025152)"
            ]
          },
          "metadata": {},
          "execution_count": 5
        }
      ]
    },
    {
      "cell_type": "code",
      "source": [
        "test = [x, add]\n",
        "\n",
        "test[0](10, 20)"
      ],
      "metadata": {
        "colab": {
          "base_uri": "https://localhost:8080/"
        },
        "id": "mHRxohzMy9ut",
        "outputId": "a6e2a3df-a19e-4993-8be7-610d6d305234"
      },
      "execution_count": null,
      "outputs": [
        {
          "output_type": "execute_result",
          "data": {
            "text/plain": [
              "30"
            ]
          },
          "metadata": {},
          "execution_count": 6
        }
      ]
    },
    {
      "cell_type": "code",
      "source": [
        "# book클로링데이터 = [인스턴스1, 인스턴스2, 인스턴스3]\n",
        "# json으로 변환, csv로 변환"
      ],
      "metadata": {
        "id": "82a0vVKhzB6y"
      },
      "execution_count": null,
      "outputs": []
    },
    {
      "cell_type": "code",
      "source": [
        "def add():\n",
        "    return lambda x:x**2\n",
        "\n",
        "x = add()\n",
        "x(10)"
      ],
      "metadata": {
        "colab": {
          "base_uri": "https://localhost:8080/"
        },
        "id": "mrqiYGiLzMrs",
        "outputId": "cf47e081-5f8d-4271-ba69-3caa211fffd3"
      },
      "execution_count": null,
      "outputs": [
        {
          "output_type": "execute_result",
          "data": {
            "text/plain": [
              "100"
            ]
          },
          "metadata": {},
          "execution_count": 9
        }
      ]
    },
    {
      "cell_type": "code",
      "source": [
        "def sub(x, y):\n",
        "    return x - y\n",
        "\n",
        "def add(x, y, f):\n",
        "    def test(x):\n",
        "        return x * 2\n",
        "    test(x)\n",
        "    return 'hello'\n",
        "\n",
        "add(10, 20, sub) # 콜백함수\n",
        "\n",
        "map(int, ['1', '2'])  # int를 콜백함수라고도 부름"
      ],
      "metadata": {
        "colab": {
          "base_uri": "https://localhost:8080/",
          "height": 35
        },
        "id": "zIjkWhDlz09A",
        "outputId": "ee23b3ba-cb08-47ac-c5ed-465bd9b408b4"
      },
      "execution_count": null,
      "outputs": [
        {
          "output_type": "execute_result",
          "data": {
            "text/plain": [
              "'hello'"
            ],
            "application/vnd.google.colaboratory.intrinsic+json": {
              "type": "string"
            }
          },
          "metadata": {},
          "execution_count": 12
        }
      ]
    },
    {
      "cell_type": "code",
      "source": [
        "def simple_decorator(function):\n",
        "    def wrapper():\n",
        "        print(\"Before the function call\")\n",
        "        function()\n",
        "        print(\"After the function call\")\n",
        "    return wrapper\n",
        "\n",
        "@simple_decorator\n",
        "def hello():\n",
        "    print(\"Hello, World!\")\n",
        "\n",
        "hello() # 데코레이터가 없는 상태에서는 simple_decorator(hello)() 와 같습니다."
      ],
      "metadata": {
        "id": "UfD1D85K11pw"
      },
      "execution_count": null,
      "outputs": []
    },
    {
      "cell_type": "code",
      "source": [
        "def simple_decorator(function):\n",
        "    def wrapper(l):\n",
        "        print(\"Before the function call\")\n",
        "        print(function(map(int, l)))\n",
        "        print(\"After the function call\")\n",
        "    return wrapper\n",
        "\n",
        "@simple_decorator\n",
        "def 합(l):\n",
        "    return sum(l)\n",
        "\n",
        "합([1, 2, 3, '4'])"
      ],
      "metadata": {
        "id": "ua74NHao1_1s"
      },
      "execution_count": null,
      "outputs": []
    },
    {
      "cell_type": "code",
      "source": [
        "def debug(function):\n",
        "    def new_function(*args):\n",
        "        print(f'{function.__name__} 함수 시작')\n",
        "        print(*args)\n",
        "        result = function(*args)\n",
        "        print(f'{function.__name__} 함수 끝')\n",
        "        # return result # return 값이 있는 데코레이터는 바로 뒤에서 진행합니다.\n",
        "\n",
        "    return new_function\n",
        "\n",
        "\n",
        "@debug\n",
        "def sum_1_to_n(n):\n",
        "    return n * (n + 1) / 2\n",
        "\n",
        "\n",
        "result = sum_1_to_n(30)\n",
        "\n",
        "print(result)"
      ],
      "metadata": {
        "id": "3MiP47ub2TRg"
      },
      "execution_count": null,
      "outputs": []
    },
    {
      "cell_type": "code",
      "source": [
        "def test(*args):\n",
        "    for i in args:\n",
        "        print(i)\n",
        "\n",
        "test(1, 2, 3, 4, 5, 'hello world')"
      ],
      "metadata": {
        "colab": {
          "base_uri": "https://localhost:8080/"
        },
        "id": "7Thbdt922qv2",
        "outputId": "7fdc8ffd-43a1-4857-d317-cfb314ec6dee"
      },
      "execution_count": null,
      "outputs": [
        {
          "output_type": "stream",
          "name": "stdout",
          "text": [
            "1\n",
            "2\n",
            "3\n",
            "4\n",
            "5\n",
            "hello world\n"
          ]
        }
      ]
    },
    {
      "cell_type": "code",
      "source": [
        "def test(**kargs):\n",
        "    print(kargs)\n",
        "    for i in kargs:\n",
        "        print(i)\n",
        "\n",
        "test(one=1, two=2)"
      ],
      "metadata": {
        "colab": {
          "base_uri": "https://localhost:8080/"
        },
        "id": "J6hu3Qhc3L_O",
        "outputId": "cbdebeea-e907-4be4-d8c9-c6b7861c14d2"
      },
      "execution_count": null,
      "outputs": [
        {
          "output_type": "stream",
          "name": "stdout",
          "text": [
            "{'one': 1, 'two': 2}\n",
            "one\n",
            "two\n"
          ]
        }
      ]
    },
    {
      "cell_type": "code",
      "source": [
        "def decorator1(function):\n",
        "    def new_function(*args, **kwargs):\n",
        "        print('첫번째 데코레이터 시작')\n",
        "        result = function(*args, **kwargs)\n",
        "        print('첫번째 데코레이터 끝')\n",
        "        return result\n",
        "\n",
        "    return new_function\n",
        "\n",
        "\n",
        "def decorator2(function):\n",
        "    def new_function(*args, **kwargs):\n",
        "        print('두번째 데코레이터 시작')\n",
        "        result = function(*args, **kwargs)\n",
        "        print('두번째 데코레이터 끝')\n",
        "        return result\n",
        "\n",
        "    return new_function\n",
        "\n",
        "\n",
        "def decorator3(function):\n",
        "    def new_function(*args, **kwargs):\n",
        "        print('세번째 데코레이터 시작')\n",
        "        result = function(*args, **kwargs)\n",
        "        print('세번째 데코레이터 끝')\n",
        "        return result\n",
        "\n",
        "    return new_function\n",
        "\n",
        "@decorator1\n",
        "@decorator2\n",
        "@decorator3\n",
        "def sum_1_to_n(n):\n",
        "    return n * (n + 1) / 2\n",
        "\n",
        "result = sum_1_to_n(30)\n",
        "\n",
        "print(f'result: {result}')"
      ],
      "metadata": {
        "id": "2lEcccle31Xr"
      },
      "execution_count": null,
      "outputs": []
    },
    {
      "cell_type": "code",
      "source": [
        "def add(n):\n",
        "    def decorator(function):\n",
        "        def new_function(*args, **kwargs):\n",
        "            result = function(*args, **kwargs)\n",
        "            return result + n\n",
        "        return new_function\n",
        "    return decorator\n",
        "\n",
        "@add(10)\n",
        "def plus(a, b):\n",
        "    return a + b\n",
        "\n",
        "result = plus(10, 20)\n",
        "print(f'result : {result}')"
      ],
      "metadata": {
        "id": "NpJFwm6-45b1"
      },
      "execution_count": null,
      "outputs": []
    },
    {
      "cell_type": "markdown",
      "source": [
        "## 37번\n",
        "문제 변경"
      ],
      "metadata": {
        "id": "R0f__Fk_yR8c"
      }
    },
    {
      "cell_type": "code",
      "source": [
        "# 1부터 10000까지 8이라는 숫자를 count하라!\n",
        "# count를 할 수 있는 자료형으로 만드는 것이 핵심\n",
        "\n",
        "str(list(range(10000))).count('8')"
      ],
      "metadata": {
        "id": "21NOLt1rAJzA",
        "colab": {
          "base_uri": "https://localhost:8080/"
        },
        "outputId": "d2f321b2-cb7e-492b-b2f4-33e207853a77"
      },
      "execution_count": null,
      "outputs": [
        {
          "output_type": "execute_result",
          "data": {
            "text/plain": [
              "4000"
            ]
          },
          "metadata": {},
          "execution_count": 15
        }
      ]
    },
    {
      "cell_type": "markdown",
      "source": [
        "## 38번"
      ],
      "metadata": {
        "id": "Bp6AR5u554Rz"
      }
    },
    {
      "cell_type": "code",
      "source": [
        "점수입력 = '97 86 75 66 55 97 85 97 97 95'\n",
        "\n",
        "def candy(점수):\n",
        "    점수 = 점수.split()\n",
        "    사탕 = 0\n",
        "    for score in sorted(list(set(점수)))[-3:]:\n",
        "        사탕 += 점수.count(score)\n",
        "    return 사탕\n",
        "\n",
        "candy(점수입력)"
      ],
      "metadata": {
        "id": "vZ_GRH32AJw-",
        "colab": {
          "base_uri": "https://localhost:8080/"
        },
        "outputId": "0b88e345-da89-45f5-d0f4-afcf2ed7624d"
      },
      "execution_count": null,
      "outputs": [
        {
          "output_type": "execute_result",
          "data": {
            "text/plain": [
              "6"
            ]
          },
          "metadata": {},
          "execution_count": 37
        }
      ]
    },
    {
      "cell_type": "code",
      "source": [
        "# map으로 된 데이터가 왜 한 번만 순회가 되었는지\n",
        "# https://www.notion.so/paullabworkspace/python-zip-b7a1992be7884891a5f1d0a5c0c2df9c?pvs=4\n",
        "# error / map은 1번 사용되고 사라짐\n",
        "\n",
        "def solution(s):\n",
        "    answer = 0\n",
        "    splitdata = map(int, s.split(' '))\n",
        "    for i in list(reversed(sorted(set(splitdata))))[:3]:\n",
        "        print(list(splitdata))\n",
        "        for j in list(splitdata):\n",
        "            if i == j:\n",
        "                answer += 1\n",
        "    return answer\n",
        "\n",
        "solution('97 86 75 66 55 97 85 97 97 95')"
      ],
      "metadata": {
        "id": "kEnB6v7UDBXw"
      },
      "execution_count": null,
      "outputs": []
    },
    {
      "cell_type": "code",
      "source": [
        "def solution(s):\n",
        "    answer = 0\n",
        "    splitdata = list(map(int, s.split(' ')))\n",
        "    for i in list(reversed(sorted(set(splitdata))))[:3]:\n",
        "        for j in list(splitdata):\n",
        "            if i == j:\n",
        "                answer += 1\n",
        "    return answer\n",
        "\n",
        "solution('97 86 75 66 55 97 85 97 97 95')"
      ],
      "metadata": {
        "id": "U4-v8u-hBgfL"
      },
      "execution_count": null,
      "outputs": []
    },
    {
      "cell_type": "code",
      "source": [
        "import collections\n",
        "\n",
        "collections.Counter('97 86 75 66 55 97 85 97 97 95'.split(' '))"
      ],
      "metadata": {
        "colab": {
          "base_uri": "https://localhost:8080/"
        },
        "id": "l0kL7nsgDT0V",
        "outputId": "ce4741ee-344d-4b1c-9bb9-029ad03d7437"
      },
      "execution_count": null,
      "outputs": [
        {
          "output_type": "execute_result",
          "data": {
            "text/plain": [
              "Counter({'97': 4, '86': 1, '75': 1, '66': 1, '55': 1, '85': 1, '95': 1})"
            ]
          },
          "metadata": {},
          "execution_count": 46
        }
      ]
    },
    {
      "cell_type": "markdown",
      "source": [
        "## 39번"
      ],
      "metadata": {
        "id": "k0WHG52KDwod"
      }
    },
    {
      "cell_type": "code",
      "source": [
        "import re\n",
        "\n",
        "t = 'querty'\n",
        "\n",
        "t = re.sub(r'q', 'e', t)\n",
        "t = re.sub(r'b', 'n', t)\n",
        "\n",
        "print(t)"
      ],
      "metadata": {
        "colab": {
          "base_uri": "https://localhost:8080/"
        },
        "id": "j6eGdoRqDxql",
        "outputId": "c011d4c5-fbe7-4609-eb3f-ea9cf99a92c8"
      },
      "execution_count": null,
      "outputs": [
        {
          "output_type": "stream",
          "name": "stdout",
          "text": [
            "euerty\n"
          ]
        }
      ]
    },
    {
      "cell_type": "code",
      "source": [
        "t = 'hqllo my bamq is hyqwob'\n",
        "\n",
        "t = re.sub(r'q', 'e', t)\n",
        "t = re.sub(r'b', 'n', t)\n",
        "\n",
        "print(t)"
      ],
      "metadata": {
        "colab": {
          "base_uri": "https://localhost:8080/"
        },
        "id": "PsaIBWdsFKLb",
        "outputId": "0a4b7db4-0c85-4269-cc1a-9e7e1fe14378"
      },
      "execution_count": null,
      "outputs": [
        {
          "output_type": "stream",
          "name": "stdout",
          "text": [
            "hello my name is hyewon\n"
          ]
        }
      ]
    },
    {
      "cell_type": "markdown",
      "source": [
        "## 41번"
      ],
      "metadata": {
        "id": "IC_peOURH7ZT"
      }
    },
    {
      "cell_type": "code",
      "source": [
        "def prime_list(n):\n",
        "    # 에라토스테네스의 체 초기화: n개 요소에 True 설정(소수로 간주)\n",
        "    sieve = [True] * n\n",
        "\n",
        "    # n의 최대 약수가 sqrt(n) 이하이므로 i=sqrt(n)까지 검사\n",
        "    m = int(n ** 0.5)\n",
        "    for i in range(2, m + 1):\n",
        "        if sieve[i] == True:           # i가 소수인 경우\n",
        "            for j in range(i+i, n, i): # i이후 i의 배수들을 False 판정\n",
        "                sieve[j] = False\n",
        "\n",
        "    # 소수 목록 산출\n",
        "    return [i for i in range(2, n) if sieve[i] == True]"
      ],
      "metadata": {
        "id": "7nEB30BNIAe6"
      },
      "execution_count": null,
      "outputs": []
    },
    {
      "cell_type": "markdown",
      "source": [
        "## 42번"
      ],
      "metadata": {
        "id": "txj4sD11M4Rh"
      }
    },
    {
      "cell_type": "code",
      "source": [
        "import datetime\n",
        "\n",
        "date = datetime.datetime.today()\n",
        "date"
      ],
      "metadata": {
        "colab": {
          "base_uri": "https://localhost:8080/"
        },
        "id": "TFJ6_gWaIAqb",
        "outputId": "a72dcc29-d66c-4c96-d4ff-2f1ace13d979"
      },
      "execution_count": null,
      "outputs": [
        {
          "output_type": "execute_result",
          "data": {
            "text/plain": [
              "datetime.datetime(2023, 8, 10, 2, 8, 49, 864727)"
            ]
          },
          "metadata": {},
          "execution_count": 64
        }
      ]
    },
    {
      "cell_type": "code",
      "source": [
        "date.year"
      ],
      "metadata": {
        "colab": {
          "base_uri": "https://localhost:8080/"
        },
        "id": "detm8LSBIAoS",
        "outputId": "9ea43f3f-c608-49d8-f6bb-355a2a092617"
      },
      "execution_count": null,
      "outputs": [
        {
          "output_type": "execute_result",
          "data": {
            "text/plain": [
              "2023"
            ]
          },
          "metadata": {},
          "execution_count": 65
        }
      ]
    },
    {
      "cell_type": "code",
      "source": [
        "date.year, date.month, date.day"
      ],
      "metadata": {
        "colab": {
          "base_uri": "https://localhost:8080/"
        },
        "id": "SUkJpl8WIAlO",
        "outputId": "78b3b7c7-0fe2-4415-fb7d-79e3e07555b3"
      },
      "execution_count": null,
      "outputs": [
        {
          "output_type": "execute_result",
          "data": {
            "text/plain": [
              "(2023, 8, 10)"
            ]
          },
          "metadata": {},
          "execution_count": 66
        }
      ]
    },
    {
      "cell_type": "code",
      "source": [
        "datetime.date(2023, 8, 10)\n",
        "datetime.date(2023, 8, 10).weekday()"
      ],
      "metadata": {
        "colab": {
          "base_uri": "https://localhost:8080/"
        },
        "id": "qlJjMKCkIAjY",
        "outputId": "3a9bb36d-ad89-4c09-8320-6ac36a52189c"
      },
      "execution_count": null,
      "outputs": [
        {
          "output_type": "execute_result",
          "data": {
            "text/plain": [
              "3"
            ]
          },
          "metadata": {},
          "execution_count": 67
        }
      ]
    },
    {
      "cell_type": "markdown",
      "source": [
        "## 43번"
      ],
      "metadata": {
        "id": "NRbyfYffNwB-"
      }
    },
    {
      "cell_type": "code",
      "source": [
        "bin(11)[2:]"
      ],
      "metadata": {
        "colab": {
          "base_uri": "https://localhost:8080/",
          "height": 35
        },
        "id": "HECYul8dM4jz",
        "outputId": "18685866-51da-48ae-9818-02f215729406"
      },
      "execution_count": null,
      "outputs": [
        {
          "output_type": "execute_result",
          "data": {
            "text/plain": [
              "'1011'"
            ],
            "application/vnd.google.colaboratory.intrinsic+json": {
              "type": "string"
            }
          },
          "metadata": {},
          "execution_count": 68
        }
      ]
    },
    {
      "cell_type": "code",
      "source": [
        "-5 // 2"
      ],
      "metadata": {
        "colab": {
          "base_uri": "https://localhost:8080/"
        },
        "id": "JO1nZ6k7Oqsi",
        "outputId": "056f8516-8d06-4a3d-92fb-278da16fe951"
      },
      "execution_count": null,
      "outputs": [
        {
          "output_type": "execute_result",
          "data": {
            "text/plain": [
              "-3"
            ]
          },
          "metadata": {},
          "execution_count": 69
        }
      ]
    },
    {
      "cell_type": "code",
      "source": [
        "# 음수 변환까지 하려면 좀 더 고려를 해야 합니다.\n",
        "\n",
        "x = 11\n",
        "s = ''\n",
        "\n",
        "while x:\n",
        "    print(x)\n",
        "    s += str(x % 2)\n",
        "    x //= 2\n",
        "\n",
        "s[::-1]\n",
        "\n",
        "# 2 | 11 ... 1\n",
        "#    --------\n",
        "# 2 | 5  ... 1\n",
        "#    --------\n",
        "# 2 | 2  ... 0\n",
        "#    --------\n",
        "# 2 | 1"
      ],
      "metadata": {
        "colab": {
          "base_uri": "https://localhost:8080/",
          "height": 109
        },
        "id": "ZOQw7bZTNvxx",
        "outputId": "bf7a55d6-f37c-42e6-8eb4-276583208f0e"
      },
      "execution_count": null,
      "outputs": [
        {
          "output_type": "stream",
          "name": "stdout",
          "text": [
            "11\n",
            "5\n",
            "2\n",
            "1\n"
          ]
        },
        {
          "output_type": "execute_result",
          "data": {
            "text/plain": [
              "'1011'"
            ],
            "application/vnd.google.colaboratory.intrinsic+json": {
              "type": "string"
            }
          },
          "metadata": {},
          "execution_count": 75
        }
      ]
    },
    {
      "cell_type": "markdown",
      "source": [
        "## 44번"
      ],
      "metadata": {
        "id": "5UHpWGnqPnFP"
      }
    },
    {
      "cell_type": "code",
      "source": [
        "n = 1234\n",
        "answer = 0\n",
        "for i in str(n):\n",
        "    answer += int(i)\n",
        "\n",
        "answer"
      ],
      "metadata": {
        "colab": {
          "base_uri": "https://localhost:8080/"
        },
        "id": "S79lhTLFNvvx",
        "outputId": "24fc92be-dddb-463a-954a-280e28b3f832"
      },
      "execution_count": null,
      "outputs": [
        {
          "output_type": "execute_result",
          "data": {
            "text/plain": [
              "10"
            ]
          },
          "metadata": {},
          "execution_count": 77
        }
      ]
    },
    {
      "cell_type": "code",
      "source": [
        "n = 1234\n",
        "sum(map(int, list(str(n))))"
      ],
      "metadata": {
        "colab": {
          "base_uri": "https://localhost:8080/"
        },
        "id": "Utp-2-n2Nvtc",
        "outputId": "8097b228-e416-4394-d671-d618f44b0b2c"
      },
      "execution_count": null,
      "outputs": [
        {
          "output_type": "execute_result",
          "data": {
            "text/plain": [
              "10"
            ]
          },
          "metadata": {},
          "execution_count": 80
        }
      ]
    },
    {
      "cell_type": "markdown",
      "source": [
        "## 48번"
      ],
      "metadata": {
        "id": "k__zpugmQVtj"
      }
    },
    {
      "cell_type": "code",
      "source": [
        "입력 = 'AAABBBcccddd'\n",
        "\n",
        "def lowupper(x):\n",
        "    result = ''\n",
        "    for i in x:\n",
        "        if i.islower():\n",
        "            result += i.upper()\n",
        "        else:\n",
        "            result += i.lower()\n",
        "\n",
        "    return result\n",
        "\n",
        "lowupper(입력)"
      ],
      "metadata": {
        "colab": {
          "base_uri": "https://localhost:8080/",
          "height": 35
        },
        "id": "NNBG17ThPO5j",
        "outputId": "91631ce9-9c63-46ea-9cd1-f88189317d59"
      },
      "execution_count": null,
      "outputs": [
        {
          "output_type": "execute_result",
          "data": {
            "text/plain": [
              "'aaabbbCCCDDD'"
            ],
            "application/vnd.google.colaboratory.intrinsic+json": {
              "type": "string"
            }
          },
          "metadata": {},
          "execution_count": 86
        }
      ]
    },
    {
      "cell_type": "markdown",
      "source": [
        "## 53번"
      ],
      "metadata": {
        "id": "Wru2JuULRbmj"
      }
    },
    {
      "cell_type": "code",
      "source": [
        "def solution(x):\n",
        "    result = 0\n",
        "\n",
        "    for i in x:\n",
        "        if i == '(':\n",
        "            result += 1\n",
        "        else:\n",
        "            result -= 1\n",
        "            if result < 0:\n",
        "                return 'NO'\n",
        "\n",
        "    if result == 0:\n",
        "        return 'YES'\n",
        "    else:\n",
        "        return 'NO'"
      ],
      "metadata": {
        "colab": {
          "base_uri": "https://localhost:8080/",
          "height": 35
        },
        "id": "f5_d3zzNPPZa",
        "outputId": "80bb7a5f-5c23-4cba-f4ad-b03cc42360e7"
      },
      "execution_count": null,
      "outputs": [
        {
          "output_type": "execute_result",
          "data": {
            "text/plain": [
              "'NO'"
            ],
            "application/vnd.google.colaboratory.intrinsic+json": {
              "type": "string"
            }
          },
          "metadata": {},
          "execution_count": 88
        }
      ]
    },
    {
      "cell_type": "code",
      "source": [
        "s = '()())'\n",
        "brackets = []\n",
        "if s.count('(') != s.count(')'):\n",
        "    print(False)\n",
        "else:\n",
        "    print(brackets)\n",
        "    for i in s:\n",
        "        if i == '(':\n",
        "            brackets.append(i)\n",
        "        elif i == ')':\n",
        "            if len(brackets) == 0:\n",
        "                print(False)\n",
        "            brackets.pop(i)\n",
        "    print(True)\n",
        "\n",
        "# 닫기가 나왔을 때의 pop하는 사례를 생각해보면\n",
        "# (( )) -> 잘 맞아 떨어집니다.\n",
        "# ()() -> 잘 맞아 떨어집니다.\n",
        "# ((()())) -> 잘 맞아 떨어집니다."
      ],
      "metadata": {
        "colab": {
          "base_uri": "https://localhost:8080/"
        },
        "id": "MUFRLAo-PPXg",
        "outputId": "aa4c7238-09d7-4ead-f0c7-bb678499b576"
      },
      "execution_count": null,
      "outputs": [
        {
          "output_type": "stream",
          "name": "stdout",
          "text": [
            "False\n"
          ]
        }
      ]
    },
    {
      "cell_type": "markdown",
      "source": [
        "## 54번"
      ],
      "metadata": {
        "id": "W-xk2s7hnde9"
      }
    },
    {
      "cell_type": "code",
      "source": [
        "def solution(num):\n",
        "    num = num.split(' ')\n",
        "    num = list(map(int, sorted(num)))\n",
        "    for i in list(zip(num, num[1:])):\n",
        "        if i[1] - i[0] != 1:\n",
        "            return 'NO'\n",
        "    return 'YES'\n",
        "\n",
        "solution('1 4 2 6 3')"
      ],
      "metadata": {
        "colab": {
          "base_uri": "https://localhost:8080/",
          "height": 35
        },
        "id": "490ZNTIUntfj",
        "outputId": "82d5a070-d9ed-401e-c491-bc4d586fc8eb"
      },
      "execution_count": null,
      "outputs": [
        {
          "output_type": "execute_result",
          "data": {
            "text/plain": [
              "'NO'"
            ],
            "application/vnd.google.colaboratory.intrinsic+json": {
              "type": "string"
            }
          },
          "metadata": {},
          "execution_count": 118
        }
      ]
    },
    {
      "cell_type": "code",
      "source": [
        "list(range(min(value), min(value) + len(value))) == sorted(value)"
      ],
      "metadata": {
        "id": "uA6ZglfURc-J"
      },
      "execution_count": null,
      "outputs": []
    },
    {
      "cell_type": "markdown",
      "source": [
        "## 55번"
      ],
      "metadata": {
        "id": "MlTckPKfrNOw"
      }
    },
    {
      "cell_type": "code",
      "source": [
        "# 1. 재귀로 풉니다.\n",
        "# 2. 한쪽 기둥에서 다른 마지막 기둥으로 모두 옮기는 것이 중요합니다."
      ],
      "metadata": {
        "id": "uh9vnEw-r7tK"
      },
      "execution_count": null,
      "outputs": []
    },
    {
      "cell_type": "code",
      "source": [
        "# [[A, C], [A, B], [C, B], [A, C], [B, A], [B, C], [A, C]]\n",
        "원판의이동경로 = []\n",
        "\n",
        "def 하노이(원반의수, 시작기둥, 목표기둥, 보조기둥):\n",
        "    #원판이 한개일 때에는 옮기면 됩니다.\n",
        "    if 원반의수 == 1:\n",
        "        원판의이동경로.append([시작기둥, 목표기둥])\n",
        "        return None\n",
        "    #원반의 n-1개를 경유기둥으로 옮기고\n",
        "    하노이(원반의수-1, 시작기둥, 보조기둥, 목표기둥)\n",
        "    #가장 큰 원반은 목표기둥으로\n",
        "    원판의이동경로.append([시작기둥, 목표기둥])\n",
        "    #경유기둥과 시작기둥을 바꿉니다!\n",
        "    하노이(원반의수-1, 보조기둥, 목표기둥, 시작기둥)\n",
        "\n",
        "user_input = int(input())\n",
        "하노이(user_input,'A','C','B')\n",
        "\n",
        "print(len(원판의이동경로))\n",
        "원판의이동경로"
      ],
      "metadata": {
        "colab": {
          "base_uri": "https://localhost:8080/"
        },
        "id": "vqzb_JXDr7ra",
        "outputId": "1ab09504-7a81-45ad-cf5d-d05e32dac513"
      },
      "execution_count": null,
      "outputs": [
        {
          "output_type": "stream",
          "name": "stdout",
          "text": [
            "3\n",
            "7\n"
          ]
        },
        {
          "output_type": "execute_result",
          "data": {
            "text/plain": [
              "[['A', 'C'],\n",
              " ['A', 'B'],\n",
              " ['C', 'B'],\n",
              " ['A', 'C'],\n",
              " ['B', 'A'],\n",
              " ['B', 'C'],\n",
              " ['A', 'C']]"
            ]
          },
          "metadata": {},
          "execution_count": 122
        }
      ]
    },
    {
      "cell_type": "markdown",
      "source": [
        "## 56번"
      ],
      "metadata": {
        "id": "xRivApMx5G3L"
      }
    },
    {
      "cell_type": "code",
      "source": [
        "nationWidth = {\n",
        "    'korea': 220877,\n",
        "    'Rusia': 17098242,\n",
        "    'China': 9596961,\n",
        "    'France': 543965,\n",
        "    'Japan': 377915,\n",
        "    'England' : 242900\n",
        "}\n",
        "\n",
        "nationWidth['korea']"
      ],
      "metadata": {
        "colab": {
          "base_uri": "https://localhost:8080/"
        },
        "id": "uTlW9qZNr7pE",
        "outputId": "6112394a-087e-475b-f047-ae39668306cf"
      },
      "execution_count": null,
      "outputs": [
        {
          "output_type": "execute_result",
          "data": {
            "text/plain": [
              "220877"
            ]
          },
          "metadata": {},
          "execution_count": 123
        }
      ]
    },
    {
      "cell_type": "code",
      "source": [
        "nationWidth.pop('korea')\n",
        "\n",
        "mini = float('inf')\n",
        "result_key = ''\n",
        "\n",
        "for key in nationWidth:\n",
        "    value = nationWidth[key] - 220877\n",
        "    if value < mini:\n",
        "        mini = value\n",
        "        result_key = key\n",
        "\n",
        "result_key"
      ],
      "metadata": {
        "colab": {
          "base_uri": "https://localhost:8080/",
          "height": 35
        },
        "id": "5mriHkFlRc8G",
        "outputId": "c22c396d-38c5-4817-c854-961896877f1a"
      },
      "execution_count": null,
      "outputs": [
        {
          "output_type": "execute_result",
          "data": {
            "text/plain": [
              "'England'"
            ],
            "application/vnd.google.colaboratory.intrinsic+json": {
              "type": "string"
            }
          },
          "metadata": {},
          "execution_count": 126
        }
      ]
    },
    {
      "cell_type": "code",
      "source": [
        "nationWidth = {\n",
        "    'korea': 220877,\n",
        "    'Rusia': 17098242,\n",
        "    'China': 9596961,\n",
        "    'France': 543965,\n",
        "    'Japan': 377915,\n",
        "    'England' : 242900\n",
        "}\n",
        "\n",
        "nationWidth.pop('korea')\n",
        "\n",
        "def f(key):\n",
        "    return nationWidth[key] - 220877\n",
        "\n",
        "min(map(f, nationWidth))"
      ],
      "metadata": {
        "colab": {
          "base_uri": "https://localhost:8080/"
        },
        "id": "pN-YirEXr65W",
        "outputId": "e39b982f-ebec-4fb8-89f5-4e8fc611b849"
      },
      "execution_count": null,
      "outputs": [
        {
          "output_type": "execute_result",
          "data": {
            "text/plain": [
              "22023"
            ]
          },
          "metadata": {},
          "execution_count": 138
        }
      ]
    },
    {
      "cell_type": "code",
      "source": [
        "nationWidth = {\n",
        "    'korea': 220877,\n",
        "    'Rusia': 17098242,\n",
        "    'China': 9596961,\n",
        "    'France': 543965,\n",
        "    'Japan': 377915,\n",
        "    'England' : 242900\n",
        "}\n",
        "\n",
        "nationWidth.pop('korea')\n",
        "\n",
        "def f(key):\n",
        "    return [nationWidth[key] - 220877, key]\n",
        "\n",
        "min(map(f, nationWidth))"
      ],
      "metadata": {
        "colab": {
          "base_uri": "https://localhost:8080/"
        },
        "id": "6UOiUNHgRc5w",
        "outputId": "d591abfc-2c17-48a1-def7-84325c1af804"
      },
      "execution_count": null,
      "outputs": [
        {
          "output_type": "execute_result",
          "data": {
            "text/plain": [
              "[22023, 'England']"
            ]
          },
          "metadata": {},
          "execution_count": 139
        }
      ]
    },
    {
      "cell_type": "code",
      "source": [
        "nationWidth = {\n",
        "    'korea': 220877,\n",
        "    'Rusia': 17098242,\n",
        "    'China': 9596961,\n",
        "    'France': 543965,\n",
        "    'Japan': 377915,\n",
        "    'England' : 242900\n",
        "}\n",
        "\n",
        "nationWidth.pop('korea')\n",
        "\n",
        "min(map(lambda key: [nationWidth[key] - 220877, key], nationWidth))[1]"
      ],
      "metadata": {
        "colab": {
          "base_uri": "https://localhost:8080/",
          "height": 35
        },
        "id": "2m2RH8hFzWYH",
        "outputId": "23eb1bab-a621-4fd5-d66f-1e161741eb80"
      },
      "execution_count": null,
      "outputs": [
        {
          "output_type": "execute_result",
          "data": {
            "text/plain": [
              "'England'"
            ],
            "application/vnd.google.colaboratory.intrinsic+json": {
              "type": "string"
            }
          },
          "metadata": {},
          "execution_count": 142
        }
      ]
    },
    {
      "cell_type": "markdown",
      "source": [
        "## 59번"
      ],
      "metadata": {
        "id": "97kYeoL88xrx"
      }
    },
    {
      "cell_type": "code",
      "source": [
        "# 입력\n",
        "# hi\n",
        "\n",
        "# 출력\n",
        "# ========================hi========================"
      ],
      "metadata": {
        "id": "uxg4l3MXzWV7"
      },
      "execution_count": null,
      "outputs": []
    },
    {
      "cell_type": "code",
      "source": [
        "userInput = 'hi'\n",
        "print('{0:=^50}'.format(userInput))\n",
        "print(f'{userInput:=^50}')"
      ],
      "metadata": {
        "colab": {
          "base_uri": "https://localhost:8080/"
        },
        "id": "p5WZ6jDezWTr",
        "outputId": "162c6954-f88c-4d28-d98b-cb57deec3519"
      },
      "execution_count": null,
      "outputs": [
        {
          "output_type": "stream",
          "name": "stdout",
          "text": [
            "========================hi========================\n",
            "========================hi========================\n"
          ]
        }
      ]
    },
    {
      "cell_type": "code",
      "source": [
        "userInput = 'hi'\n",
        "print(f'{userInput:!^50}')"
      ],
      "metadata": {
        "colab": {
          "base_uri": "https://localhost:8080/"
        },
        "id": "RB-M7Bbg9tmN",
        "outputId": "4dcf77bd-461b-4069-c89d-9de6b434b73c"
      },
      "execution_count": null,
      "outputs": [
        {
          "output_type": "stream",
          "name": "stdout",
          "text": [
            "!!!!!!!!!!!!!!!!!!!!!!!!hi!!!!!!!!!!!!!!!!!!!!!!!!\n"
          ]
        }
      ]
    },
    {
      "cell_type": "code",
      "source": [
        "print(f'{userInput:!<50}')"
      ],
      "metadata": {
        "colab": {
          "base_uri": "https://localhost:8080/"
        },
        "id": "Ll5qiTB29tki",
        "outputId": "28490a0d-f720-4ee2-cceb-acc79d80c505"
      },
      "execution_count": null,
      "outputs": [
        {
          "output_type": "stream",
          "name": "stdout",
          "text": [
            "hi!!!!!!!!!!!!!!!!!!!!!!!!!!!!!!!!!!!!!!!!!!!!!!!!\n"
          ]
        }
      ]
    },
    {
      "cell_type": "code",
      "source": [
        "print(f'{userInput:!>50}')"
      ],
      "metadata": {
        "colab": {
          "base_uri": "https://localhost:8080/"
        },
        "id": "vXtC6rlZ9tiQ",
        "outputId": "8e3d23af-5354-4494-a1fc-2ba42a45324d"
      },
      "execution_count": null,
      "outputs": [
        {
          "output_type": "stream",
          "name": "stdout",
          "text": [
            "!!!!!!!!!!!!!!!!!!!!!!!!!!!!!!!!!!!!!!!!!!!!!!!!hi\n"
          ]
        }
      ]
    },
    {
      "cell_type": "code",
      "source": [
        "n = 50\n",
        "userInput = 'hello world'\n",
        "('=' * (50//2)) + userInput + ('=' * (50//2))\n",
        "('=' * ((50//2) - len(userInput)//2)) + userInput + ('=' * ((50//2) - len(userInput)//2))"
      ],
      "metadata": {
        "colab": {
          "base_uri": "https://localhost:8080/",
          "height": 35
        },
        "id": "MUe0dUpA9tgN",
        "outputId": "11aa45e4-31ab-4f40-ccc7-20e0101ca7f4"
      },
      "execution_count": null,
      "outputs": [
        {
          "output_type": "execute_result",
          "data": {
            "text/plain": [
              "'====================hello world===================='"
            ],
            "application/vnd.google.colaboratory.intrinsic+json": {
              "type": "string"
            }
          },
          "metadata": {},
          "execution_count": 150
        }
      ]
    },
    {
      "cell_type": "markdown",
      "source": [
        "## 60번"
      ],
      "metadata": {
        "id": "EvJzt2zB_Rfo"
      }
    },
    {
      "cell_type": "code",
      "source": [
        "student = ['강은지','김유정','박현서','최성훈','홍유진','박지호','권윤일','김채리','한지호','김진이','김민호','강채연']\n",
        "\n",
        "for num, name in enumerate(student, 1):\n",
        "    print(num, name)"
      ],
      "metadata": {
        "colab": {
          "base_uri": "https://localhost:8080/"
        },
        "id": "X6FCnMCP9teT",
        "outputId": "182650bb-5163-48c5-f090-63d7c1c5ac01"
      },
      "execution_count": null,
      "outputs": [
        {
          "output_type": "stream",
          "name": "stdout",
          "text": [
            "1 강은지\n",
            "2 김유정\n",
            "3 박현서\n",
            "4 최성훈\n",
            "5 홍유진\n",
            "6 박지호\n",
            "7 권윤일\n",
            "8 김채리\n",
            "9 한지호\n",
            "10 김진이\n",
            "11 김민호\n",
            "12 강채연\n"
          ]
        }
      ]
    },
    {
      "cell_type": "markdown",
      "source": [
        "## 61번"
      ],
      "metadata": {
        "id": "qR_mTkeECNRb"
      }
    },
    {
      "cell_type": "code",
      "source": [
        "# 입력\n",
        "# aaabbbcddddaaabbbcdddd\n",
        "\n",
        "# 출력\n",
        "# a3b4c1d4a3b4c1d4\n",
        "\n",
        "\n",
        "s = 'aaabbbcddddaaabbbcdddd'\n",
        "count = 0\n",
        "pre = s[0]\n",
        "answer = ''\n",
        "\n",
        "for i in s:\n",
        "    if pre == i:\n",
        "        count += 1\n",
        "    else:\n",
        "        answer += pre + str(count)\n",
        "        pre = i\n",
        "        count = 1\n",
        "\n",
        "answer += pre + str(count)\n",
        "\n",
        "answer"
      ],
      "metadata": {
        "colab": {
          "base_uri": "https://localhost:8080/",
          "height": 35
        },
        "id": "FbAy8NkfDUEE",
        "outputId": "a41fcd50-6dd9-4e81-91a6-c7534fb5ba50"
      },
      "execution_count": null,
      "outputs": [
        {
          "output_type": "execute_result",
          "data": {
            "text/plain": [
              "'a3b3c1d4a3b3c1d4'"
            ],
            "application/vnd.google.colaboratory.intrinsic+json": {
              "type": "string"
            }
          },
          "metadata": {},
          "execution_count": 174
        }
      ]
    },
    {
      "cell_type": "code",
      "source": [
        "import re\n",
        "\n",
        "s = 'aaabbbcddddaaabbbcdddd'\n",
        "s_answer = ''\n",
        "\n",
        "for i in re.findall('(\\\\w)(\\\\1*)', s):\n",
        "    s_answer += i[0] + str(len(i[1]) + 1)\n",
        "\n",
        "s_answer"
      ],
      "metadata": {
        "colab": {
          "base_uri": "https://localhost:8080/",
          "height": 35
        },
        "id": "ZUybq88uE8nt",
        "outputId": "72d7e953-44c0-42cc-bf7d-ed95edfff9f7"
      },
      "execution_count": null,
      "outputs": [
        {
          "output_type": "execute_result",
          "data": {
            "text/plain": [
              "'a3b3c1d4a3b3c1d4'"
            ],
            "application/vnd.google.colaboratory.intrinsic+json": {
              "type": "string"
            }
          },
          "metadata": {},
          "execution_count": 183
        }
      ]
    },
    {
      "cell_type": "markdown",
      "source": [
        "## 62번"
      ],
      "metadata": {
        "id": "1t8HsrErIFgF"
      }
    },
    {
      "cell_type": "code",
      "source": [
        "string='aacddddddddd'\n",
        "a=string.count('a') #2\n",
        "b=string.count('b') #0\n",
        "c=string.count('c') #1\n",
        "d=string.count('d') #9\n",
        "print(int(str(a)+str(b)+str(c)+str(d)+str(b)+str(d)+str(a)+str(a+1)))"
      ],
      "metadata": {
        "colab": {
          "base_uri": "https://localhost:8080/"
        },
        "id": "fVmDMl9-E8l1",
        "outputId": "e1ed1275-b48d-45a5-9180-f8e16a13f7dd"
      },
      "execution_count": null,
      "outputs": [
        {
          "output_type": "stream",
          "name": "stdout",
          "text": [
            "20190923\n"
          ]
        }
      ]
    },
    {
      "cell_type": "markdown",
      "source": [
        "## 65번"
      ],
      "metadata": {
        "id": "ewmAzkFuIXDL"
      }
    },
    {
      "cell_type": "code",
      "source": [
        "a = [1, 2, 3, 4]\n",
        "b = ['a' ,'b' ,'c' ,'d']\n",
        "\n",
        "result = []\n",
        "\n",
        "for i in range(len(a)):\n",
        "    if i % 2 == 0:\n",
        "        result.append([a[i], b[i]])\n",
        "    else:\n",
        "        result.append([b[i], a[i]])\n",
        "\n",
        "result"
      ],
      "metadata": {
        "colab": {
          "base_uri": "https://localhost:8080/"
        },
        "id": "vvTljJAUE8jx",
        "outputId": "a8dbcb27-5a83-457a-8914-d4062dee3564"
      },
      "execution_count": null,
      "outputs": [
        {
          "output_type": "execute_result",
          "data": {
            "text/plain": [
              "[[1, 'a'], ['b', 2], [3, 'c'], ['d', 4]]"
            ]
          },
          "metadata": {},
          "execution_count": 194
        }
      ]
    },
    {
      "cell_type": "code",
      "source": [
        "x = list(zip(a, b))\n",
        "y = list(zip(b, a))\n",
        "\n",
        "result = []\n",
        "\n",
        "for i in range(len(a)):\n",
        "    if i % 2 == 0:\n",
        "        result.append(x[i])\n",
        "    else:\n",
        "        result.append(y[i])\n",
        "\n",
        "result"
      ],
      "metadata": {
        "colab": {
          "base_uri": "https://localhost:8080/"
        },
        "id": "OFOvroWbE8fe",
        "outputId": "f9d794cb-b572-4eea-b061-cca465caeef5"
      },
      "execution_count": null,
      "outputs": [
        {
          "output_type": "execute_result",
          "data": {
            "text/plain": [
              "[(1, 'a'), ('b', 2), (3, 'c'), ('d', 4)]"
            ]
          },
          "metadata": {},
          "execution_count": 198
        }
      ]
    },
    {
      "cell_type": "code",
      "source": [
        "a = [1, 2, 3, 4]\n",
        "b = ['a' ,'b' ,'c' ,'d']\n",
        "\n",
        "x = list(zip(a, b))\n",
        "y = list(zip(b, a))\n",
        "\n",
        "answer = []\n",
        "\n",
        "list(map(lambda num: x[num] if num % 2 == 0 else y[num], range(len(a))))"
      ],
      "metadata": {
        "colab": {
          "base_uri": "https://localhost:8080/"
        },
        "id": "gN9-z2JmLcid",
        "outputId": "47395ae7-4780-4147-e481-96975523482f"
      },
      "execution_count": null,
      "outputs": [
        {
          "output_type": "execute_result",
          "data": {
            "text/plain": [
              "[(1, 'a'), ('b', 2), (3, 'c'), ('d', 4)]"
            ]
          },
          "metadata": {},
          "execution_count": 204
        }
      ]
    },
    {
      "cell_type": "code",
      "source": [
        "print(list(map(lambda x: list(x[::-1]) if x[0]%2==0 else list(x), list(zip(a, b)))))"
      ],
      "metadata": {
        "colab": {
          "base_uri": "https://localhost:8080/"
        },
        "id": "9M1BC7HGLcgS",
        "outputId": "2e15f92d-82d9-413f-85b5-fcf6630367f6"
      },
      "execution_count": null,
      "outputs": [
        {
          "output_type": "stream",
          "name": "stdout",
          "text": [
            "[[1, 'a'], ['b', 2], [3, 'c'], ['d', 4]]\n"
          ]
        }
      ]
    },
    {
      "cell_type": "markdown",
      "source": [
        "## 66번"
      ],
      "metadata": {
        "id": "kjLX7Wbr6Ao6"
      }
    },
    {
      "cell_type": "code",
      "source": [
        "탑 = [\"ABCDEF\", \"BCAD\", \"ADEFQRX\", \"BEDFG\"]\n",
        "규칙 = \"ABD\"\n",
        "\n",
        "answer = []\n",
        "\n",
        "for t in 탑:\n",
        "    규칙인덱스 = [t.index(rule) for rule in 규칙 if rule in t]\n",
        "    if 규칙인덱스 == sorted(규칙인덱스):\n",
        "        answer.append('가능')\n",
        "    else:\n",
        "        answer.append('불가능')\n",
        "\n",
        "print(answer)"
      ],
      "metadata": {
        "id": "UpipcPxHLccF"
      },
      "execution_count": null,
      "outputs": []
    },
    {
      "cell_type": "markdown",
      "source": [
        "## 67번"
      ],
      "metadata": {
        "id": "gtJWpZVhJQxH"
      }
    },
    {
      "cell_type": "code",
      "source": [
        "from itertools import combinations\n",
        "\n",
        "n = 11\n",
        "nums = range(n)\n",
        "combi = list(combinations(nums, 2))\n",
        "59 - len(combi)"
      ],
      "metadata": {
        "id": "AfPZNEyMLcZi",
        "colab": {
          "base_uri": "https://localhost:8080/"
        },
        "outputId": "4cdbcade-9ecc-42af-caeb-d2151d1ade73"
      },
      "execution_count": null,
      "outputs": [
        {
          "output_type": "execute_result",
          "data": {
            "text/plain": [
              "4"
            ]
          },
          "metadata": {},
          "execution_count": 30
        }
      ]
    },
    {
      "cell_type": "markdown",
      "source": [
        "## 71번"
      ],
      "metadata": {
        "id": "ZEhnF03cLQlL"
      }
    },
    {
      "cell_type": "code",
      "source": [
        "# graph = {'E': set(['D', 'A']),\n",
        "#          'F': set(['D']),\n",
        "#          'A': set(['E', 'C', 'B']),\n",
        "#          'B': set(['A']),\n",
        "#          'C': set(['A']),\n",
        "#          'D': set(['E','F'])}\n",
        "\n",
        "graph = {\n",
        "        'A': set(['B', 'C', 'E']),\n",
        "        'B': set(['A']),\n",
        "        'C': set(['A']),\n",
        "        'D': set(['E', 'F']),\n",
        "        'E': set(['A', 'D']),\n",
        "        'F': set(['D'])\n",
        "}\n",
        "\n",
        "def dfs(graph, start):\n",
        "    visited = []\n",
        "    stack = [start]\n",
        "\n",
        "    while stack:\n",
        "        n = stack.pop()\n",
        "        if n not in visited:\n",
        "            visited.append(n)\n",
        "            stack += graph[n] - set(visited)\n",
        "    return visited\n",
        "\n",
        "print(dfs(graph, 'E'))"
      ],
      "metadata": {
        "colab": {
          "base_uri": "https://localhost:8080/"
        },
        "id": "XJYZ4zK85Z9a",
        "outputId": "a224890b-d638-48c6-86fa-04813ab2506a"
      },
      "execution_count": null,
      "outputs": [
        {
          "output_type": "stream",
          "name": "stdout",
          "text": [
            "['E', 'A', 'C', 'B', 'D', 'F']\n"
          ]
        }
      ]
    },
    {
      "cell_type": "markdown",
      "source": [
        "## 76번"
      ],
      "metadata": {
        "id": "auGIfzGHWJIs"
      }
    },
    {
      "cell_type": "code",
      "source": [
        "import pandas as pd\n",
        "import numpy as np\n",
        "\n",
        "\n",
        "탐색가능지역 = 3\n",
        "\n",
        "지뢰밭 = [[1, 0, 0, 1, 0],\n",
        "          [0, 1, 0, 0, 1],\n",
        "          [0, 0, 0, 1, 0],\n",
        "          [0, 0, 0, 0, 0],\n",
        "          [0, 0, 1, 0, 0]]\n",
        "\n",
        "arr = np.array(지뢰밭)\n",
        "arr[0:3, 0:3]"
      ],
      "metadata": {
        "colab": {
          "base_uri": "https://localhost:8080/"
        },
        "id": "jX6FEBvm5Z7d",
        "outputId": "9ba8a907-5637-4bed-90f0-ac8d2f5ae925"
      },
      "execution_count": null,
      "outputs": [
        {
          "output_type": "execute_result",
          "data": {
            "text/plain": [
              "array([[1, 0, 0],\n",
              "       [0, 1, 0],\n",
              "       [0, 0, 0]])"
            ]
          },
          "metadata": {},
          "execution_count": 39
        }
      ]
    },
    {
      "cell_type": "code",
      "source": [
        "arr[0:3, 0:3].sum()"
      ],
      "metadata": {
        "colab": {
          "base_uri": "https://localhost:8080/"
        },
        "id": "TNvXQZtF5Z5o",
        "outputId": "f90fbc33-ec65-4dba-885b-efc5bdafbc50"
      },
      "execution_count": null,
      "outputs": [
        {
          "output_type": "execute_result",
          "data": {
            "text/plain": [
              "2"
            ]
          },
          "metadata": {},
          "execution_count": 40
        }
      ]
    },
    {
      "cell_type": "code",
      "source": [
        "arr[0:3, 0:3]\n",
        "arr[0:3, 1:4]\n",
        "arr[0:3, 2:5]\n",
        "\n",
        "max_arr = 0\n",
        "\n",
        "for i in range((len(arr) - 탐색가능지역 + 1)):\n",
        "    for j in range((len(arr) - 탐색가능지역 + 1)):\n",
        "        if max_arr < arr[i:i+탐색가능지역, j:j+탐색가능지역].sum():\n",
        "            max_arr = arr[i:i+탐색가능지역, j:j+탐색가능지역].sum()\n",
        "\n",
        "max_arr"
      ],
      "metadata": {
        "colab": {
          "base_uri": "https://localhost:8080/"
        },
        "id": "LezqpegAPREm",
        "outputId": "56637672-db20-4da4-e28f-40626960b8b5"
      },
      "execution_count": null,
      "outputs": [
        {
          "output_type": "execute_result",
          "data": {
            "text/plain": [
              "3"
            ]
          },
          "metadata": {},
          "execution_count": 43
        }
      ]
    },
    {
      "cell_type": "code",
      "source": [
        "answer = [[1, 0, 0],\n",
        "          [0, 1, 0],\n",
        "          [0, 0, 0]]\n",
        "\n",
        "sum(sum(answer, []))"
      ],
      "metadata": {
        "colab": {
          "base_uri": "https://localhost:8080/"
        },
        "id": "EQT0RXz9PRCd",
        "outputId": "16b3d201-08b2-4324-db88-39f24ed5b01d"
      },
      "execution_count": null,
      "outputs": [
        {
          "output_type": "execute_result",
          "data": {
            "text/plain": [
              "2"
            ]
          },
          "metadata": {},
          "execution_count": 45
        }
      ]
    },
    {
      "cell_type": "markdown",
      "source": [
        "## 78번"
      ],
      "metadata": {
        "id": "jH4BbHZyYY4X"
      }
    },
    {
      "cell_type": "code",
      "source": [
        "from collections import deque\n",
        "\n",
        "n = 6\n",
        "f = 2\n",
        "\n",
        "food = list(range(1, 6 + 1))\n",
        "food"
      ],
      "metadata": {
        "colab": {
          "base_uri": "https://localhost:8080/"
        },
        "id": "buyAMIk_PRAW",
        "outputId": "2a29f36c-c178-469a-a201-a2b8f50bc246"
      },
      "execution_count": null,
      "outputs": [
        {
          "output_type": "execute_result",
          "data": {
            "text/plain": [
              "[1, 2, 3, 4, 5, 6]"
            ]
          },
          "metadata": {},
          "execution_count": 81
        }
      ]
    },
    {
      "cell_type": "code",
      "source": [
        "food_r = deque(food)\n",
        "food_r.popleft()\n",
        "food_r.rotate(-2)\n",
        "food_r.popleft()\n",
        "food_r.rotate(-2)\n",
        "food_r.popleft()\n",
        "food_r.rotate(-2)\n",
        "food_r.popleft()\n",
        "food_r"
      ],
      "metadata": {
        "colab": {
          "base_uri": "https://localhost:8080/"
        },
        "id": "QwZGnim5WrJa",
        "outputId": "68f98fe4-e35d-4240-a1b5-a50615b06c54"
      },
      "execution_count": null,
      "outputs": [
        {
          "output_type": "execute_result",
          "data": {
            "text/plain": [
              "deque([3, 5])"
            ]
          },
          "metadata": {},
          "execution_count": 96
        }
      ]
    },
    {
      "cell_type": "code",
      "source": [
        "from collections import deque\n",
        "\n",
        "def solution(n, k):\n",
        "    food = range(1, n+1)\n",
        "    food_r = deque(food)\n",
        "    while len(food_r) > 2:\n",
        "        food_r.popleft()\n",
        "        food_r.rotate(-(k-1))\n",
        "\n",
        "    return food_r\n",
        "\n",
        "solution(6, 3)"
      ],
      "metadata": {
        "colab": {
          "base_uri": "https://localhost:8080/"
        },
        "id": "1ZAHRuVwWrHF",
        "outputId": "bd43dd9d-732e-4d09-adf8-3bdfb9eddc68"
      },
      "execution_count": null,
      "outputs": [
        {
          "output_type": "execute_result",
          "data": {
            "text/plain": [
              "deque([3, 5])"
            ]
          },
          "metadata": {},
          "execution_count": 98
        }
      ]
    },
    {
      "cell_type": "markdown",
      "source": [
        "## 81번"
      ],
      "metadata": {
        "id": "9PkVvRbtepBs"
      }
    },
    {
      "cell_type": "code",
      "source": [
        "matrix = [\n",
        "    [0, 1, 0, 0, 0],\n",
        "    [0, 0, 0, 0, 0],\n",
        "    [0, 0, 0, 1, 0],\n",
        "    [0, 0, 1, 0, 0],\n",
        "    [0, 0, 0, 0, 0]\n",
        "]"
      ],
      "metadata": {
        "id": "tfhrvRaqWrEx"
      },
      "execution_count": null,
      "outputs": []
    },
    {
      "cell_type": "code",
      "source": [
        "import numpy as np\n",
        "\n",
        "matrix_arr = np.array(matrix)\n",
        "matrix_arr = np.where(matrix_arr==1, 'f', matrix_arr)\n",
        "\n",
        "for v, h in zip(np.where(matrix_arr=='f')[0], np.where(matrix_arr=='f')[1]):\n",
        "\n",
        "    if v != 0:\n",
        "        matrix_arr[v-1, h] = '*'\n",
        "    if h != 0:\n",
        "        matrix_arr[v, h-1] = '*'\n",
        "    if v+1 <= matrix_arr.shape[0]:\n",
        "        matrix_arr[v+1, h] = '*'\n",
        "    if h+1 <= matrix_arr.shape[1]:\n",
        "        matrix_arr[v, h+1] = '*'\n",
        "\n",
        "print(matrix_arr)"
      ],
      "metadata": {
        "colab": {
          "base_uri": "https://localhost:8080/"
        },
        "id": "-zI1yxV1fa-Y",
        "outputId": "d5bf945d-ad89-48f6-d653-89b27a071f5a"
      },
      "execution_count": null,
      "outputs": [
        {
          "output_type": "stream",
          "name": "stdout",
          "text": [
            "[['*' 'f' '*' '0' '0']\n",
            " ['0' '*' '0' '*' '0']\n",
            " ['0' '0' '*' 'f' '*']\n",
            " ['0' '*' 'f' '*' '0']\n",
            " ['0' '0' '*' '0' '0']]\n"
          ]
        }
      ]
    },
    {
      "cell_type": "markdown",
      "source": [
        "## 84번"
      ],
      "metadata": {
        "id": "HYJ7yh41bNgv"
      }
    },
    {
      "cell_type": "code",
      "source": [
        "from itertools import permutations\n",
        "\n",
        "def solution(n, k):\n",
        "    lis_k = [i for i in str(k)]\n",
        "    return int(max(list(map(''.join, (list(permutations('1723', 2)))))))\n",
        "\n",
        "\n",
        "solution(1723, 2)"
      ],
      "metadata": {
        "colab": {
          "base_uri": "https://localhost:8080/"
        },
        "id": "pLRh4JLlZQ0W",
        "outputId": "975eb59a-e48c-49c4-df40-c36a2ff5bf7c"
      },
      "execution_count": null,
      "outputs": [
        {
          "output_type": "execute_result",
          "data": {
            "text/plain": [
              "73"
            ]
          },
          "metadata": {},
          "execution_count": 191
        }
      ]
    },
    {
      "cell_type": "code",
      "source": [],
      "metadata": {
        "id": "QUqtHJVZgC4T"
      },
      "execution_count": null,
      "outputs": []
    }
  ]
}